{
 "cells": [
  {
   "cell_type": "markdown",
   "id": "4eff23b2",
   "metadata": {},
   "source": [
    "### 4.2.2 Validation"
   ]
  },
  {
   "cell_type": "code",
   "execution_count": null,
   "id": "dcca91eb",
   "metadata": {},
   "outputs": [],
   "source": [
    "def sentiment_gold_dictionary(sentiment_df, name):\n",
    "    max_count = sentiment_df.shape[0]\n",
    "    global i\n",
    "    i = 0\n",
    "\n",
    "    button_0 = widgets.Button(description = \"Positive\")\n",
    "    button_1 = widgets.Button(description = \"Neutral\")\n",
    "    button_2 = widgets.Button(description = \"Negative\")\n",
    "    \n",
    "    chosen_elements = []\n",
    "\n",
    "    display(\"Sentiment Gold Standard\")\n",
    "\n",
    "    f = IntProgress(min=0, max=max_count)\n",
    "    display(f)\n",
    "    \n",
    "    display(sentiment_df.text[i])\n",
    "\n",
    "    display(button_0)\n",
    "    display(button_1)\n",
    "    display(button_2)\n",
    "\n",
    "\n",
    "    def btn_eventhandler(obj):\n",
    "        global i \n",
    "        i += 1\n",
    "        \n",
    "        clear_output(wait=True)\n",
    "        \n",
    "        display(\"Sentiment Gold Standard\")\n",
    "        display(f)\n",
    "        f.value += 1\n",
    "                \n",
    "        choosen_text = obj.description\n",
    "        chosen_elements.append(choosen_text)\n",
    "        \n",
    "        if i < max_count:\n",
    "            \n",
    "            display(sentiment_df.text[i])\n",
    "            \n",
    "            display(button_0)\n",
    "            display(button_1)\n",
    "            display(button_2)\n",
    "            \n",
    "            button_0.on_click(btn_eventhandler)\n",
    "            button_1.on_click(btn_eventhandler)\n",
    "            button_2.on_click(btn_eventhandler)\n",
    "            \n",
    "        else:\n",
    "            print (\"Thanks \" + name + \" you finished all the work!\")\n",
    "            sentiment_df[\"choosen_sentiment\"] = chosen_elements\n",
    "            sentiment_df.to_csv(\"../data/processed/sentiment_gold_standard_\" + name + \".csv\", index = False)\n",
    "\n",
    "    button_0.on_click(btn_eventhandler)\n",
    "    button_1.on_click(btn_eventhandler)\n",
    "    button_2.on_click(btn_eventhandler)\n",
    "    \n",
    "    return sentiment_df"
   ]
  },
  {
   "cell_type": "code",
   "execution_count": null,
   "id": "517b0c1d",
   "metadata": {},
   "outputs": [],
   "source": [
    "sentiment_dic = {\"text\": [\"Ich liebe dich\", \"Ich hasse dich\", \"Ich neutrale dich\"]}"
   ]
  },
  {
   "cell_type": "code",
   "execution_count": null,
   "id": "a7ae3343",
   "metadata": {},
   "outputs": [],
   "source": [
    "sentiment_df = pd.DataFrame(sentiment_dic)"
   ]
  },
  {
   "cell_type": "code",
   "execution_count": null,
   "id": "5bc18fb5",
   "metadata": {},
   "outputs": [],
   "source": [
    "sentiment_df = sentiment_gold_dictionary(sentiment_df, \"Jakob\")"
   ]
  }
 ],
 "metadata": {
  "kernelspec": {
   "display_name": "Python 3 (ipykernel)",
   "language": "python",
   "name": "python3"
  },
  "language_info": {
   "codemirror_mode": {
    "name": "ipython",
    "version": 3
   },
   "file_extension": ".py",
   "mimetype": "text/x-python",
   "name": "python",
   "nbconvert_exporter": "python",
   "pygments_lexer": "ipython3",
   "version": "3.8.12"
  }
 },
 "nbformat": 4,
 "nbformat_minor": 5
}
