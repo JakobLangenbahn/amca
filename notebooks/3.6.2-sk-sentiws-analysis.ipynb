{
 "cells": [
  {
   "cell_type": "code",
   "execution_count": 1,
   "metadata": {},
   "outputs": [],
   "source": [
    "import re\n",
    "import pickle\n",
    "import numpy as np\n",
    "import pandas as pd\n",
    "pd.options.mode.chained_assignment = None  # default='warn' based on false positives\n",
    "import spacy\n",
    "from spacy.language import Language\n",
    "from spacy_langdetect import LanguageDetector\n",
    "from spacy.tokens.doc import Doc\n",
    "from spacy.vocab import Vocab\n",
    "from tqdm.notebook import tqdm\n",
    "from spacy_sentiws import spaCySentiWS\n",
    "from spacy_sentiws import spaCySentiWS\n",
    "\n",
    "\n",
    "tqdm.pandas()"
   ]
  },
  {
   "cell_type": "code",
   "execution_count": 2,
   "metadata": {},
   "outputs": [],
   "source": [
    "@Language.component(\"Remove non alphabetic words\")\n",
    "def remove_non_alpha(doc):\n",
    "    return [token for token in doc if token.is_alpha]"
   ]
  },
  {
   "cell_type": "code",
   "execution_count": 3,
   "metadata": {},
   "outputs": [],
   "source": [
    "@Language.factory(\"Detect languages\")\n",
    "def create_language_detector(nlp, name):\n",
    "    return LanguageDetector(language_detection_function=None)"
   ]
  },
  {
   "cell_type": "code",
   "execution_count": 4,
   "metadata": {},
   "outputs": [],
   "source": [
    "@Language.factory(\"Sentiment Appplication\")\n",
    "def create_sentiment_dictionary(nlp, name):\n",
    "    return spaCySentiWS(sentiws_path = \"../data/raw/Sentiment/\")"
   ]
  },
  {
   "cell_type": "code",
   "execution_count": 5,
   "metadata": {},
   "outputs": [],
   "source": [
    "@Language.component(\"Keep only German documents\")\n",
    "def remove_non_german(doc):\n",
    "    res = [sent for sent in doc.sents if sent._.language[\"language\"] == \"de\"]\n",
    "    if res:\n",
    "        return [token for sent in res for token in sent]\n",
    "    else:\n",
    "        return Doc(Vocab([]), words=[], spaces=[])"
   ]
  },
  {
   "cell_type": "code",
   "execution_count": 6,
   "metadata": {},
   "outputs": [],
   "source": [
    "@Language.component(\"Remove stopwords\")\n",
    "def remove_stopwords(doc): \n",
    "    return [token for token in doc if not token.is_stop]"
   ]
  },
  {
   "cell_type": "code",
   "execution_count": 7,
   "metadata": {},
   "outputs": [],
   "source": [
    "@Language.component(\"Lemmatize text\")\n",
    "def lemmatize_text(doc):\n",
    "    return [token.lemma_ for token in doc]"
   ]
  },
  {
   "cell_type": "code",
   "execution_count": 8,
   "metadata": {},
   "outputs": [],
   "source": [
    "@Language.component(\"Lowercase Text\")\n",
    "def lowercase(doc):\n",
    "    return [token.lower() for token in doc]"
   ]
  },
  {
   "cell_type": "code",
   "execution_count": 9,
   "metadata": {},
   "outputs": [],
   "source": [
    "emoji_codes = re.compile(\"[\"\n",
    "                         u\"\\U0001F600-\\U0001F64F\"\n",
    "                         u\"\\U0001F300-\\U0001F5FF\"\n",
    "                         u\"\\U0001F680-\\U0001F6FF\"\n",
    "                         u\"\\U0001F1E0-\\U0001F1FF\"\n",
    "                         u\"\\U00002500-\\U00002BEF\"\n",
    "                         u\"\\U00002702-\\U000027B0\"\n",
    "                         u\"\\U00002702-\\U000027B0\"\n",
    "                         u\"\\U000024C2-\\U0001F251\"\n",
    "                         u\"\\U0001f926-\\U0001f937\"\n",
    "                         u\"\\U00010000-\\U0010ffff\"\n",
    "                         u\"\\u2640-\\u2642\"\n",
    "                         u\"\\u2600-\\u2B55\"\n",
    "                         u\"\\u200d\"\n",
    "                         u\"\\u23cf\"\n",
    "                         u\"\\u23e9\"\n",
    "                         u\"\\u231a\"\n",
    "                         u\"\\ufe0f\"\n",
    "                         u\"\\u3030\"\n",
    "                         \"]+\", re.UNICODE)\n",
    "\n",
    "@Language.component(\"Remove emojis\")\n",
    "def remove_emojis(doc):\n",
    "    doc = [token.text for token in doc if not re.match(emoji, token.text)]\n",
    "    doc = ' '.join(doc)\n",
    "    return nlp_twitter.make_doc(doc)"
   ]
  },
  {
   "cell_type": "code",
   "execution_count": 10,
   "metadata": {},
   "outputs": [],
   "source": [
    "@Language.component(\"Remove URLs\")\n",
    "def remove_urls(doc):\n",
    "    doc = [token.text for token in doc if not token.like_url]\n",
    "    doc = ' '.join(doc)\n",
    "    return nlp_twitter.make_doc(doc)"
   ]
  },
  {
   "cell_type": "code",
   "execution_count": 11,
   "metadata": {},
   "outputs": [],
   "source": [
    "@Language.component(\"Remove mentions\")\n",
    "def remove_mentions(doc):\n",
    "    doc = [token.text for token in doc if not re.match(\"@.*\", token.text)]\n",
    "    doc = ' '.join(doc)\n",
    "    return nlp_twitter.make_doc(doc)"
   ]
  },
  {
   "cell_type": "code",
   "execution_count": 12,
   "metadata": {},
   "outputs": [],
   "source": [
    "@Language.component(\"Remove stopwords and punctuation\")\n",
    "def remove_stopwords(doc):\n",
    "    doc = [token.text for token in doc if not token.is_stop and not token.is_punct]\n",
    "    return doc"
   ]
  },
  {
   "cell_type": "code",
   "execution_count": 13,
   "metadata": {},
   "outputs": [],
   "source": [
    "pipeline_exclude = ['tok2vec', 'tagger', 'parser', 'attribute_ruler', 'ner', 'morphologizer']"
   ]
  },
  {
   "cell_type": "code",
   "execution_count": 22,
   "metadata": {},
   "outputs": [],
   "source": [
    "tweets_explored = pd.read_csv(\"../data/raw/Bundestag_Tweets.csv\")\n",
    "tweets_explored_wow = pd.read_csv(\"../data/raw/tweets_explored.csv\")\n",
    "speeches_explored = pd.read_csv(\"../data/raw/speeches_explored.csv\")\n"
   ]
  },
  {
   "cell_type": "code",
   "execution_count": 15,
   "metadata": {},
   "outputs": [
    {
     "data": {
      "text/plain": [
       "<spacy_sentiws.spaCySentiWS at 0x125592250>"
      ]
     },
     "execution_count": 15,
     "metadata": {},
     "output_type": "execute_result"
    }
   ],
   "source": [
    "# Create spacy pipeline\n",
    "nlp_tweets = spacy.load('de_core_news_sm')\n",
    "nlp_tweets.Defaults.stop_words |= {\"amp\", \"rt\"}\n",
    "\n",
    "# The add_pipe function appends our functions to the default pipeline.\n",
    "nlp_tweets.add_pipe(\"sentencizer\", last=True)\n",
    "nlp_tweets.add_pipe(\"Detect languages\", name='Detect languages', last=True)\n",
    "nlp_tweets.add_pipe(\"Keep only German documents\", name='Keep only German documents', last=True)\n",
    "nlp_tweets.add_pipe(\"Remove non alphabetic words\", name=\"Remove non alphabetic words\", last=True)\n",
    "nlp_tweets.add_pipe(\"Remove stopwords\", name=\"Remove stopwords\", last=True)\n",
    "# nlp_tweets.add_pipe(\"Lemmatize text\", name=\"Lemmatize text\", last=True)\n",
    "# nlp_tweets.add_pipe(\"Lowercase Text\", name=\"Lowercase Text\", last=True)\n",
    "nlp_tweets.add_pipe(\"Sentiment Appplication\", name=\"Sentiment Appplication\", last=True)"
   ]
  },
  {
   "cell_type": "code",
   "execution_count": 16,
   "metadata": {},
   "outputs": [
    {
     "name": "stdout",
     "output_type": "stream",
     "text": [
      "Dummheit, -0.4877\n",
      "Unterwerfung, -0.3279\n",
      "blüht, 0.2028\n",
      "hübschen, 0.4629\n",
      "Farben, None\n"
     ]
    }
   ],
   "source": [
    "####test####\n",
    "doc = nlp_tweets('Die Dummheit der Unterwerfung blüht in hübschen Farben.')\n",
    "\n",
    "for token in doc:\n",
    "    print('{}, {}'.format(token.text, token._.sentiws))"
   ]
  },
  {
   "cell_type": "code",
   "execution_count": 17,
   "metadata": {},
   "outputs": [
    {
     "data": {
      "text/html": [
       "<div>\n",
       "<style scoped>\n",
       "    .dataframe tbody tr th:only-of-type {\n",
       "        vertical-align: middle;\n",
       "    }\n",
       "\n",
       "    .dataframe tbody tr th {\n",
       "        vertical-align: top;\n",
       "    }\n",
       "\n",
       "    .dataframe thead th {\n",
       "        text-align: right;\n",
       "    }\n",
       "</style>\n",
       "<table border=\"1\" class=\"dataframe\">\n",
       "  <thead>\n",
       "    <tr style=\"text-align: right;\">\n",
       "      <th></th>\n",
       "      <th>full_name</th>\n",
       "      <th>date</th>\n",
       "      <th>party</th>\n",
       "      <th>text_preprocessed</th>\n",
       "      <th>text_preprocessed_sentence</th>\n",
       "    </tr>\n",
       "  </thead>\n",
       "  <tbody>\n",
       "    <tr>\n",
       "      <th>0</th>\n",
       "      <td>Ralph Brinkhaus</td>\n",
       "      <td>2021-06-15</td>\n",
       "      <td>CDU</td>\n",
       "      <td>[fußballfans, freuen, spiel, nationalmannschaf...</td>\n",
       "      <td>fußballfans freuen spiel nationalmannschaft dr...</td>\n",
       "    </tr>\n",
       "    <tr>\n",
       "      <th>1</th>\n",
       "      <td>Ralph Brinkhaus</td>\n",
       "      <td>2021-06-11</td>\n",
       "      <td>CDU</td>\n",
       "      <td>[außenpolitik, wirtschaftlich, souveränität, d...</td>\n",
       "      <td>außenpolitik wirtschaftlich souveränität digit...</td>\n",
       "    </tr>\n",
       "    <tr>\n",
       "      <th>2</th>\n",
       "      <td>Ralph Brinkhaus</td>\n",
       "      <td>2021-06-11</td>\n",
       "      <td>CDU</td>\n",
       "      <td>[nachhaltig, klimawandel, kämpfen, brauchen, a...</td>\n",
       "      <td>nachhaltig klimawandel kämpfen brauchen akzept...</td>\n",
       "    </tr>\n",
       "    <tr>\n",
       "      <th>3</th>\n",
       "      <td>Ralph Brinkhaus</td>\n",
       "      <td>2021-06-11</td>\n",
       "      <td>CDU</td>\n",
       "      <td>[brauchen, pandemie, bezahlen, arbeitsplätze, ...</td>\n",
       "      <td>brauchen pandemie bezahlen arbeitsplätze digit...</td>\n",
       "    </tr>\n",
       "    <tr>\n",
       "      <th>4</th>\n",
       "      <td>Ralph Brinkhaus</td>\n",
       "      <td>2021-06-11</td>\n",
       "      <td>CDU</td>\n",
       "      <td>[wahldebatte, thema, zukunft, passieren, coron...</td>\n",
       "      <td>wahldebatte thema zukunft passieren corona sta...</td>\n",
       "    </tr>\n",
       "  </tbody>\n",
       "</table>\n",
       "</div>"
      ],
      "text/plain": [
       "         full_name        date party  \\\n",
       "0  Ralph Brinkhaus  2021-06-15   CDU   \n",
       "1  Ralph Brinkhaus  2021-06-11   CDU   \n",
       "2  Ralph Brinkhaus  2021-06-11   CDU   \n",
       "3  Ralph Brinkhaus  2021-06-11   CDU   \n",
       "4  Ralph Brinkhaus  2021-06-11   CDU   \n",
       "\n",
       "                                   text_preprocessed  \\\n",
       "0  [fußballfans, freuen, spiel, nationalmannschaf...   \n",
       "1  [außenpolitik, wirtschaftlich, souveränität, d...   \n",
       "2  [nachhaltig, klimawandel, kämpfen, brauchen, a...   \n",
       "3  [brauchen, pandemie, bezahlen, arbeitsplätze, ...   \n",
       "4  [wahldebatte, thema, zukunft, passieren, coron...   \n",
       "\n",
       "                          text_preprocessed_sentence  \n",
       "0  fußballfans freuen spiel nationalmannschaft dr...  \n",
       "1  außenpolitik wirtschaftlich souveränität digit...  \n",
       "2  nachhaltig klimawandel kämpfen brauchen akzept...  \n",
       "3  brauchen pandemie bezahlen arbeitsplätze digit...  \n",
       "4  wahldebatte thema zukunft passieren corona sta...  "
      ]
     },
     "execution_count": 17,
     "metadata": {},
     "output_type": "execute_result"
    }
   ],
   "source": [
    "#import packages\n",
    "\n",
    "import pandas as pd\n",
    "from textblob_de import TextBlobDE as TextBlob\n",
    "import numpy as np\n",
    "from tqdm.notebook import tqdm\n",
    "\n",
    "tqdm.pandas()\n",
    "\n",
    "#read in Twitter data\n",
    "#load in the preprocessed data\n",
    "import pickle\n",
    "\n",
    "pre_data_twitter= pickle.load(open('../data/processed/tweets_processed.p','rb'))\n",
    "pre_data_speeches= pickle.load(open('../data/processed/speeches_processed.p','rb'))\n",
    "pre_data_twitter.head()"
   ]
  },
  {
   "cell_type": "code",
   "execution_count": 48,
   "metadata": {},
   "outputs": [
    {
     "data": {
      "application/vnd.jupyter.widget-view+json": {
       "model_id": "30d33154bce346419b881aaee68fe4b5",
       "version_major": 2,
       "version_minor": 0
      },
      "text/plain": [
       "  0%|          | 0/42 [00:00<?, ?it/s]"
      ]
     },
     "metadata": {},
     "output_type": "display_data"
    },
    {
     "data": {
      "application/vnd.jupyter.widget-view+json": {
       "model_id": "85ad5abffe394dabaf706194e85f1675",
       "version_major": 2,
       "version_minor": 0
      },
      "text/plain": [
       "  0%|          | 0/361 [00:00<?, ?it/s]"
      ]
     },
     "metadata": {},
     "output_type": "display_data"
    },
    {
     "name": "stderr",
     "output_type": "stream",
     "text": [
      "/var/folders/xy/yfm2dhtj3jvfy85hqy16wmk00000gn/T/ipykernel_11622/1129335018.py:23: RuntimeWarning: Mean of empty slice\n",
      "  sentence_score=np.nanmean(sentence_sum)\n"
     ]
    },
    {
     "data": {
      "application/vnd.jupyter.widget-view+json": {
       "model_id": "8d2407d3036e44999131b4c7a58b9610",
       "version_major": 2,
       "version_minor": 0
      },
      "text/plain": [
       "  0%|          | 0/847 [00:00<?, ?it/s]"
      ]
     },
     "metadata": {},
     "output_type": "display_data"
    },
    {
     "data": {
      "application/vnd.jupyter.widget-view+json": {
       "model_id": "f308367127884da8b74739a975e65fd8",
       "version_major": 2,
       "version_minor": 0
      },
      "text/plain": [
       "  0%|          | 0/386 [00:00<?, ?it/s]"
      ]
     },
     "metadata": {},
     "output_type": "display_data"
    },
    {
     "data": {
      "application/vnd.jupyter.widget-view+json": {
       "model_id": "032f1b65ed3c4cccad9a44d8bb73464c",
       "version_major": 2,
       "version_minor": 0
      },
      "text/plain": [
       "  0%|          | 0/2760 [00:00<?, ?it/s]"
      ]
     },
     "metadata": {},
     "output_type": "display_data"
    },
    {
     "data": {
      "application/vnd.jupyter.widget-view+json": {
       "model_id": "9b3bc223703e443c94c73474f70355e1",
       "version_major": 2,
       "version_minor": 0
      },
      "text/plain": [
       "  0%|          | 0/1084 [00:00<?, ?it/s]"
      ]
     },
     "metadata": {},
     "output_type": "display_data"
    },
    {
     "data": {
      "application/vnd.jupyter.widget-view+json": {
       "model_id": "590bed6ac34546db8420cb070615fb47",
       "version_major": 2,
       "version_minor": 0
      },
      "text/plain": [
       "  0%|          | 0/1214 [00:00<?, ?it/s]"
      ]
     },
     "metadata": {},
     "output_type": "display_data"
    },
    {
     "data": {
      "application/vnd.jupyter.widget-view+json": {
       "model_id": "cb501aed16824ca28f2caefa9dc741fc",
       "version_major": 2,
       "version_minor": 0
      },
      "text/plain": [
       "  0%|          | 0/10035 [00:00<?, ?it/s]"
      ]
     },
     "metadata": {},
     "output_type": "display_data"
    },
    {
     "data": {
      "application/vnd.jupyter.widget-view+json": {
       "model_id": "aba33d0310cf4f338f53f52316ddde1b",
       "version_major": 2,
       "version_minor": 0
      },
      "text/plain": [
       "  0%|          | 0/4647 [00:00<?, ?it/s]"
      ]
     },
     "metadata": {},
     "output_type": "display_data"
    },
    {
     "data": {
      "application/vnd.jupyter.widget-view+json": {
       "model_id": "6f582b2219e042cebbef3e8bad96c258",
       "version_major": 2,
       "version_minor": 0
      },
      "text/plain": [
       "  0%|          | 0/14060 [00:00<?, ?it/s]"
      ]
     },
     "metadata": {},
     "output_type": "display_data"
    },
    {
     "data": {
      "application/vnd.jupyter.widget-view+json": {
       "model_id": "3418dfe8aeb94b628ba0f6c66f3bbe3d",
       "version_major": 2,
       "version_minor": 0
      },
      "text/plain": [
       "  0%|          | 0/2321 [00:00<?, ?it/s]"
      ]
     },
     "metadata": {},
     "output_type": "display_data"
    },
    {
     "data": {
      "application/vnd.jupyter.widget-view+json": {
       "model_id": "80bf282eb9a047568d8d170c23155281",
       "version_major": 2,
       "version_minor": 0
      },
      "text/plain": [
       "  0%|          | 0/3245 [00:00<?, ?it/s]"
      ]
     },
     "metadata": {},
     "output_type": "display_data"
    },
    {
     "data": {
      "application/vnd.jupyter.widget-view+json": {
       "model_id": "47848c9d1e384a5ca39b665cbfbb0880",
       "version_major": 2,
       "version_minor": 0
      },
      "text/plain": [
       "  0%|          | 0/7562 [00:00<?, ?it/s]"
      ]
     },
     "metadata": {},
     "output_type": "display_data"
    },
    {
     "data": {
      "application/vnd.jupyter.widget-view+json": {
       "model_id": "467be55d4b9f424682dd39819a071fd4",
       "version_major": 2,
       "version_minor": 0
      },
      "text/plain": [
       "  0%|          | 0/4764 [00:00<?, ?it/s]"
      ]
     },
     "metadata": {},
     "output_type": "display_data"
    },
    {
     "data": {
      "application/vnd.jupyter.widget-view+json": {
       "model_id": "762d35eee35941f897ddef1b862e48fe",
       "version_major": 2,
       "version_minor": 0
      },
      "text/plain": [
       "  0%|          | 0/5069 [00:00<?, ?it/s]"
      ]
     },
     "metadata": {},
     "output_type": "display_data"
    },
    {
     "data": {
      "application/vnd.jupyter.widget-view+json": {
       "model_id": "3c08511d1d17490385798eb2a8e082f8",
       "version_major": 2,
       "version_minor": 0
      },
      "text/plain": [
       "  0%|          | 0/2582 [00:00<?, ?it/s]"
      ]
     },
     "metadata": {},
     "output_type": "display_data"
    },
    {
     "data": {
      "application/vnd.jupyter.widget-view+json": {
       "model_id": "b5c5bfa30fa34d069f2765184c5ad40c",
       "version_major": 2,
       "version_minor": 0
      },
      "text/plain": [
       "  0%|          | 0/18706 [00:00<?, ?it/s]"
      ]
     },
     "metadata": {},
     "output_type": "display_data"
    },
    {
     "data": {
      "application/vnd.jupyter.widget-view+json": {
       "model_id": "e3a1227cceac410880ddb35e3b68c9eb",
       "version_major": 2,
       "version_minor": 0
      },
      "text/plain": [
       "  0%|          | 0/933 [00:00<?, ?it/s]"
      ]
     },
     "metadata": {},
     "output_type": "display_data"
    },
    {
     "data": {
      "application/vnd.jupyter.widget-view+json": {
       "model_id": "488c771288b6484c9c7089f2dc3480d5",
       "version_major": 2,
       "version_minor": 0
      },
      "text/plain": [
       "  0%|          | 0/2306 [00:00<?, ?it/s]"
      ]
     },
     "metadata": {},
     "output_type": "display_data"
    },
    {
     "data": {
      "application/vnd.jupyter.widget-view+json": {
       "model_id": "ccadd88d51994cebb19626ba00cd08e1",
       "version_major": 2,
       "version_minor": 0
      },
      "text/plain": [
       "  0%|          | 0/302 [00:00<?, ?it/s]"
      ]
     },
     "metadata": {},
     "output_type": "display_data"
    },
    {
     "data": {
      "application/vnd.jupyter.widget-view+json": {
       "model_id": "54cca56996bc401583896389a30323e3",
       "version_major": 2,
       "version_minor": 0
      },
      "text/plain": [
       "  0%|          | 0/609 [00:00<?, ?it/s]"
      ]
     },
     "metadata": {},
     "output_type": "display_data"
    },
    {
     "data": {
      "application/vnd.jupyter.widget-view+json": {
       "model_id": "701b491a3f01454a9ad1541c05d261d5",
       "version_major": 2,
       "version_minor": 0
      },
      "text/plain": [
       "  0%|          | 0/6893 [00:00<?, ?it/s]"
      ]
     },
     "metadata": {},
     "output_type": "display_data"
    },
    {
     "data": {
      "application/vnd.jupyter.widget-view+json": {
       "model_id": "88fb39f5cfcd4062a7c2cfb3e7488f8c",
       "version_major": 2,
       "version_minor": 0
      },
      "text/plain": [
       "  0%|          | 0/1041 [00:00<?, ?it/s]"
      ]
     },
     "metadata": {},
     "output_type": "display_data"
    },
    {
     "data": {
      "application/vnd.jupyter.widget-view+json": {
       "model_id": "b70c2b79c6d04ceaa89d1a89ab819cec",
       "version_major": 2,
       "version_minor": 0
      },
      "text/plain": [
       "  0%|          | 0/2823 [00:00<?, ?it/s]"
      ]
     },
     "metadata": {},
     "output_type": "display_data"
    },
    {
     "data": {
      "application/vnd.jupyter.widget-view+json": {
       "model_id": "2499d42224c741d4b5eed7c5767f0a90",
       "version_major": 2,
       "version_minor": 0
      },
      "text/plain": [
       "  0%|          | 0/3337 [00:00<?, ?it/s]"
      ]
     },
     "metadata": {},
     "output_type": "display_data"
    },
    {
     "data": {
      "application/vnd.jupyter.widget-view+json": {
       "model_id": "3f8621cbf24d4c02947d126cd94ce6ad",
       "version_major": 2,
       "version_minor": 0
      },
      "text/plain": [
       "  0%|          | 0/3624 [00:00<?, ?it/s]"
      ]
     },
     "metadata": {},
     "output_type": "display_data"
    },
    {
     "data": {
      "application/vnd.jupyter.widget-view+json": {
       "model_id": "f9a8dd3503c646ee8edb9eb70d8b24a0",
       "version_major": 2,
       "version_minor": 0
      },
      "text/plain": [
       "  0%|          | 0/3713 [00:00<?, ?it/s]"
      ]
     },
     "metadata": {},
     "output_type": "display_data"
    },
    {
     "data": {
      "application/vnd.jupyter.widget-view+json": {
       "model_id": "fb02c9276cfb4c8fbc8d6971ae7b4593",
       "version_major": 2,
       "version_minor": 0
      },
      "text/plain": [
       "  0%|          | 0/3638 [00:00<?, ?it/s]"
      ]
     },
     "metadata": {},
     "output_type": "display_data"
    },
    {
     "data": {
      "application/vnd.jupyter.widget-view+json": {
       "model_id": "1a239d8432454945b8acce60b5897c83",
       "version_major": 2,
       "version_minor": 0
      },
      "text/plain": [
       "  0%|          | 0/1138 [00:00<?, ?it/s]"
      ]
     },
     "metadata": {},
     "output_type": "display_data"
    },
    {
     "data": {
      "application/vnd.jupyter.widget-view+json": {
       "model_id": "653c50b637af48288e6093f985ed635d",
       "version_major": 2,
       "version_minor": 0
      },
      "text/plain": [
       "  0%|          | 0/890 [00:00<?, ?it/s]"
      ]
     },
     "metadata": {},
     "output_type": "display_data"
    },
    {
     "data": {
      "application/vnd.jupyter.widget-view+json": {
       "model_id": "741071746ce541128648ffdac37e40e6",
       "version_major": 2,
       "version_minor": 0
      },
      "text/plain": [
       "  0%|          | 0/2529 [00:00<?, ?it/s]"
      ]
     },
     "metadata": {},
     "output_type": "display_data"
    },
    {
     "data": {
      "application/vnd.jupyter.widget-view+json": {
       "model_id": "4a5524732eae426dbd7e214ac784827f",
       "version_major": 2,
       "version_minor": 0
      },
      "text/plain": [
       "  0%|          | 0/11694 [00:00<?, ?it/s]"
      ]
     },
     "metadata": {},
     "output_type": "display_data"
    },
    {
     "data": {
      "application/vnd.jupyter.widget-view+json": {
       "model_id": "c19b9a89009f4dc2bcaf975ce53d856d",
       "version_major": 2,
       "version_minor": 0
      },
      "text/plain": [
       "  0%|          | 0/1339 [00:00<?, ?it/s]"
      ]
     },
     "metadata": {},
     "output_type": "display_data"
    },
    {
     "data": {
      "application/vnd.jupyter.widget-view+json": {
       "model_id": "55894eef6eb7475aa2f900179b913954",
       "version_major": 2,
       "version_minor": 0
      },
      "text/plain": [
       "  0%|          | 0/3366 [00:00<?, ?it/s]"
      ]
     },
     "metadata": {},
     "output_type": "display_data"
    },
    {
     "data": {
      "application/vnd.jupyter.widget-view+json": {
       "model_id": "1c3f1c19b3b74ee3b9b057ab7ca6eae0",
       "version_major": 2,
       "version_minor": 0
      },
      "text/plain": [
       "  0%|          | 0/387 [00:00<?, ?it/s]"
      ]
     },
     "metadata": {},
     "output_type": "display_data"
    },
    {
     "data": {
      "application/vnd.jupyter.widget-view+json": {
       "model_id": "d52945ce14524da881473bee69a8f57f",
       "version_major": 2,
       "version_minor": 0
      },
      "text/plain": [
       "  0%|          | 0/1377 [00:00<?, ?it/s]"
      ]
     },
     "metadata": {},
     "output_type": "display_data"
    },
    {
     "data": {
      "application/vnd.jupyter.widget-view+json": {
       "model_id": "5abc2cd1767f4332b435a49e800e8124",
       "version_major": 2,
       "version_minor": 0
      },
      "text/plain": [
       "  0%|          | 0/1732 [00:00<?, ?it/s]"
      ]
     },
     "metadata": {},
     "output_type": "display_data"
    },
    {
     "data": {
      "application/vnd.jupyter.widget-view+json": {
       "model_id": "7ff8daa1a6f94df4bb926ac03fc4eed3",
       "version_major": 2,
       "version_minor": 0
      },
      "text/plain": [
       "  0%|          | 0/2794 [00:00<?, ?it/s]"
      ]
     },
     "metadata": {},
     "output_type": "display_data"
    },
    {
     "data": {
      "application/vnd.jupyter.widget-view+json": {
       "model_id": "80d0cfd1f97f456382ceaf2dc7806ac6",
       "version_major": 2,
       "version_minor": 0
      },
      "text/plain": [
       "  0%|          | 0/5663 [00:00<?, ?it/s]"
      ]
     },
     "metadata": {},
     "output_type": "display_data"
    },
    {
     "data": {
      "application/vnd.jupyter.widget-view+json": {
       "model_id": "19ebdec3e7a0469f875ed5cd9f0efe9b",
       "version_major": 2,
       "version_minor": 0
      },
      "text/plain": [
       "  0%|          | 0/14052 [00:00<?, ?it/s]"
      ]
     },
     "metadata": {},
     "output_type": "display_data"
    },
    {
     "data": {
      "application/vnd.jupyter.widget-view+json": {
       "model_id": "014da917cca44431b848aae10d9f6ba5",
       "version_major": 2,
       "version_minor": 0
      },
      "text/plain": [
       "  0%|          | 0/792 [00:00<?, ?it/s]"
      ]
     },
     "metadata": {},
     "output_type": "display_data"
    },
    {
     "data": {
      "application/vnd.jupyter.widget-view+json": {
       "model_id": "a5b5373a71d1452486b382f544096a2c",
       "version_major": 2,
       "version_minor": 0
      },
      "text/plain": [
       "  0%|          | 0/7265 [00:00<?, ?it/s]"
      ]
     },
     "metadata": {},
     "output_type": "display_data"
    },
    {
     "data": {
      "application/vnd.jupyter.widget-view+json": {
       "model_id": "8fc43e21ffe84f44adaeb52d0921c01b",
       "version_major": 2,
       "version_minor": 0
      },
      "text/plain": [
       "  0%|          | 0/580 [00:00<?, ?it/s]"
      ]
     },
     "metadata": {},
     "output_type": "display_data"
    }
   ],
   "source": [
    "#Apply the notebook to the Twitter accounts of the politicians\n",
    "data=[]\n",
    "for name in tqdm(['Ralph Brinkhaus','Hermann Gröhe', 'Nadine Schön' ,'Norbert Röttgen' , 'Peter Altmaier' , 'Jens Spahn' , 'Matthias Hauer',\n",
    "            'Christian Lindner' , 'Marco Buschmann' , 'Bettina Stark-Watzinger', 'Alexander Graf Lambsdorff' , 'Johannes Vogel' , 'Konstantin Kuhle' , 'Marie-Agnes Strack-Zimmermann',\n",
    "            'Lars Klingbeil' , 'Saskia Esken' , 'Hubertus Heil' , 'Heiko Maas' , 'Martin Schulz' , 'Karamba Diaby' , 'Karl Lauterbach',\n",
    "            'Steffi Lemke' , 'Cem Özdemir' , 'Katrin Göring-Eckardt' , 'Konstantin von Notz' , 'Britta Haßelmann' , 'Sven Lehmann' , 'Annalena Baerbock',\n",
    "            'Sahra Wagenknecht' , 'Bernd Riexinger' , 'Niema Movassat' , 'Jan Korte' , 'Dietmar Bartsch' , 'Gregor Gysi' , 'Sevim Dağdelen',\n",
    "            'Alice Weidel' , 'Beatrix von Storch' , 'Joana Cotar' , 'Stephan Brandner' , 'Tino Chrupalla' , 'Götz Frömming' , 'Leif-Erik Holm']):\n",
    "    #get tweets from the specific politician and from the desired period\n",
    "    tweets_analyzing = tweets_explored_wow.loc[tweets_explored_wow['full_name']==name]\n",
    "    tweets_analyzing1 = tweets_analyzing.text.progress_apply(nlp_tweets)\n",
    "    #get the sentiment of the tweets\n",
    "    politician_sum=[]\n",
    "    for sentence in tweets_analyzing1:\n",
    "        sentence_sum=[]\n",
    "        for token in sentence:\n",
    "            if token._.sentiws == None:\n",
    "                a=0\n",
    "            elif token._.sentiws == 'nan':\n",
    "                a=0\n",
    "            else:\n",
    "                sentence_sum.append(token._.sentiws)\n",
    "        sentence_score=np.nanmean(sentence_sum)\n",
    "        politician_sum.append(sentence_score)\n",
    "    politician_score=np.nanmean(politician_sum)\n",
    "    #get the number of positive, neutral and negative tweets\n",
    "    positive_p=0\n",
    "    neutral_p=0\n",
    "    negative_p=0\n",
    "    for item_p in politician_sum:\n",
    "        if item_p>0:\n",
    "            positive_p += 1\n",
    "        elif item_p<0:\n",
    "            negative_p += 1\n",
    "        elif item_p == 'nan':\n",
    "            neutral_p += 1\n",
    "        else:\n",
    "            neutral_p += 1\n",
    "    #set up list to secure the values generated\n",
    "    data.append([name,politician_score,positive_p,neutral_p,negative_p])\n",
    "        "
   ]
  },
  {
   "cell_type": "code",
   "execution_count": 49,
   "metadata": {},
   "outputs": [
    {
     "data": {
      "text/html": [
       "<div>\n",
       "<style scoped>\n",
       "    .dataframe tbody tr th:only-of-type {\n",
       "        vertical-align: middle;\n",
       "    }\n",
       "\n",
       "    .dataframe tbody tr th {\n",
       "        vertical-align: top;\n",
       "    }\n",
       "\n",
       "    .dataframe thead th {\n",
       "        text-align: right;\n",
       "    }\n",
       "</style>\n",
       "<table border=\"1\" class=\"dataframe\">\n",
       "  <thead>\n",
       "    <tr style=\"text-align: right;\">\n",
       "      <th></th>\n",
       "      <th>Name</th>\n",
       "      <th>Polarity_mean</th>\n",
       "      <th>Num_pos_tweets</th>\n",
       "      <th>Num_neutral_tweets</th>\n",
       "      <th>Num_neg_tweets</th>\n",
       "    </tr>\n",
       "  </thead>\n",
       "  <tbody>\n",
       "    <tr>\n",
       "      <th>0</th>\n",
       "      <td>Ralph Brinkhaus</td>\n",
       "      <td>0.026858</td>\n",
       "      <td>205</td>\n",
       "      <td>70</td>\n",
       "      <td>86</td>\n",
       "    </tr>\n",
       "    <tr>\n",
       "      <th>1</th>\n",
       "      <td>Hermann Gröhe</td>\n",
       "      <td>0.008751</td>\n",
       "      <td>350</td>\n",
       "      <td>350</td>\n",
       "      <td>147</td>\n",
       "    </tr>\n",
       "    <tr>\n",
       "      <th>2</th>\n",
       "      <td>Nadine Schön</td>\n",
       "      <td>0.080311</td>\n",
       "      <td>163</td>\n",
       "      <td>185</td>\n",
       "      <td>38</td>\n",
       "    </tr>\n",
       "    <tr>\n",
       "      <th>3</th>\n",
       "      <td>Norbert Röttgen</td>\n",
       "      <td>0.008242</td>\n",
       "      <td>1291</td>\n",
       "      <td>765</td>\n",
       "      <td>704</td>\n",
       "    </tr>\n",
       "    <tr>\n",
       "      <th>4</th>\n",
       "      <td>Peter Altmaier</td>\n",
       "      <td>0.022550</td>\n",
       "      <td>419</td>\n",
       "      <td>480</td>\n",
       "      <td>185</td>\n",
       "    </tr>\n",
       "    <tr>\n",
       "      <th>5</th>\n",
       "      <td>Jens Spahn</td>\n",
       "      <td>0.032790</td>\n",
       "      <td>727</td>\n",
       "      <td>236</td>\n",
       "      <td>251</td>\n",
       "    </tr>\n",
       "    <tr>\n",
       "      <th>6</th>\n",
       "      <td>Matthias Hauer</td>\n",
       "      <td>-0.046743</td>\n",
       "      <td>2584</td>\n",
       "      <td>5489</td>\n",
       "      <td>1962</td>\n",
       "    </tr>\n",
       "    <tr>\n",
       "      <th>7</th>\n",
       "      <td>Christian Lindner</td>\n",
       "      <td>-0.031693</td>\n",
       "      <td>1658</td>\n",
       "      <td>1808</td>\n",
       "      <td>1181</td>\n",
       "    </tr>\n",
       "    <tr>\n",
       "      <th>8</th>\n",
       "      <td>Marco Buschmann</td>\n",
       "      <td>-0.065289</td>\n",
       "      <td>3732</td>\n",
       "      <td>6838</td>\n",
       "      <td>3490</td>\n",
       "    </tr>\n",
       "    <tr>\n",
       "      <th>9</th>\n",
       "      <td>Bettina Stark-Watzinger</td>\n",
       "      <td>-0.023247</td>\n",
       "      <td>1044</td>\n",
       "      <td>516</td>\n",
       "      <td>761</td>\n",
       "    </tr>\n",
       "    <tr>\n",
       "      <th>10</th>\n",
       "      <td>Alexander Graf Lambsdorff</td>\n",
       "      <td>-0.040507</td>\n",
       "      <td>913</td>\n",
       "      <td>1524</td>\n",
       "      <td>808</td>\n",
       "    </tr>\n",
       "    <tr>\n",
       "      <th>11</th>\n",
       "      <td>Johannes Vogel</td>\n",
       "      <td>-0.025683</td>\n",
       "      <td>1867</td>\n",
       "      <td>4566</td>\n",
       "      <td>1129</td>\n",
       "    </tr>\n",
       "    <tr>\n",
       "      <th>12</th>\n",
       "      <td>Konstantin Kuhle</td>\n",
       "      <td>-0.041594</td>\n",
       "      <td>1191</td>\n",
       "      <td>2571</td>\n",
       "      <td>1002</td>\n",
       "    </tr>\n",
       "    <tr>\n",
       "      <th>13</th>\n",
       "      <td>Marie-Agnes Strack-Zimmermann</td>\n",
       "      <td>-0.026739</td>\n",
       "      <td>1655</td>\n",
       "      <td>2228</td>\n",
       "      <td>1186</td>\n",
       "    </tr>\n",
       "    <tr>\n",
       "      <th>14</th>\n",
       "      <td>Lars Klingbeil</td>\n",
       "      <td>0.014662</td>\n",
       "      <td>671</td>\n",
       "      <td>1565</td>\n",
       "      <td>346</td>\n",
       "    </tr>\n",
       "    <tr>\n",
       "      <th>15</th>\n",
       "      <td>Saskia Esken</td>\n",
       "      <td>-0.040188</td>\n",
       "      <td>5458</td>\n",
       "      <td>9278</td>\n",
       "      <td>3970</td>\n",
       "    </tr>\n",
       "    <tr>\n",
       "      <th>16</th>\n",
       "      <td>Hubertus Heil</td>\n",
       "      <td>0.039682</td>\n",
       "      <td>404</td>\n",
       "      <td>402</td>\n",
       "      <td>127</td>\n",
       "    </tr>\n",
       "    <tr>\n",
       "      <th>17</th>\n",
       "      <td>Heiko Maas</td>\n",
       "      <td>-0.025994</td>\n",
       "      <td>1179</td>\n",
       "      <td>247</td>\n",
       "      <td>880</td>\n",
       "    </tr>\n",
       "    <tr>\n",
       "      <th>18</th>\n",
       "      <td>Martin Schulz</td>\n",
       "      <td>-0.013782</td>\n",
       "      <td>153</td>\n",
       "      <td>50</td>\n",
       "      <td>99</td>\n",
       "    </tr>\n",
       "    <tr>\n",
       "      <th>19</th>\n",
       "      <td>Karamba Diaby</td>\n",
       "      <td>-0.025665</td>\n",
       "      <td>242</td>\n",
       "      <td>190</td>\n",
       "      <td>177</td>\n",
       "    </tr>\n",
       "    <tr>\n",
       "      <th>20</th>\n",
       "      <td>Karl Lauterbach</td>\n",
       "      <td>-0.085499</td>\n",
       "      <td>2404</td>\n",
       "      <td>890</td>\n",
       "      <td>3599</td>\n",
       "    </tr>\n",
       "    <tr>\n",
       "      <th>21</th>\n",
       "      <td>Steffi Lemke</td>\n",
       "      <td>-0.026746</td>\n",
       "      <td>327</td>\n",
       "      <td>466</td>\n",
       "      <td>248</td>\n",
       "    </tr>\n",
       "    <tr>\n",
       "      <th>22</th>\n",
       "      <td>Cem Özdemir</td>\n",
       "      <td>-0.017072</td>\n",
       "      <td>1184</td>\n",
       "      <td>744</td>\n",
       "      <td>895</td>\n",
       "    </tr>\n",
       "    <tr>\n",
       "      <th>23</th>\n",
       "      <td>Katrin Göring-Eckardt</td>\n",
       "      <td>-0.008062</td>\n",
       "      <td>1153</td>\n",
       "      <td>1430</td>\n",
       "      <td>754</td>\n",
       "    </tr>\n",
       "    <tr>\n",
       "      <th>24</th>\n",
       "      <td>Konstantin von Notz</td>\n",
       "      <td>-0.090515</td>\n",
       "      <td>852</td>\n",
       "      <td>1674</td>\n",
       "      <td>1098</td>\n",
       "    </tr>\n",
       "    <tr>\n",
       "      <th>25</th>\n",
       "      <td>Britta Haßelmann</td>\n",
       "      <td>-0.027183</td>\n",
       "      <td>1471</td>\n",
       "      <td>1242</td>\n",
       "      <td>1000</td>\n",
       "    </tr>\n",
       "    <tr>\n",
       "      <th>26</th>\n",
       "      <td>Sven Lehmann</td>\n",
       "      <td>-0.028876</td>\n",
       "      <td>1156</td>\n",
       "      <td>1484</td>\n",
       "      <td>998</td>\n",
       "    </tr>\n",
       "    <tr>\n",
       "      <th>27</th>\n",
       "      <td>Annalena Baerbock</td>\n",
       "      <td>0.000389</td>\n",
       "      <td>509</td>\n",
       "      <td>348</td>\n",
       "      <td>281</td>\n",
       "    </tr>\n",
       "    <tr>\n",
       "      <th>28</th>\n",
       "      <td>Sahra Wagenknecht</td>\n",
       "      <td>-0.083918</td>\n",
       "      <td>318</td>\n",
       "      <td>106</td>\n",
       "      <td>466</td>\n",
       "    </tr>\n",
       "    <tr>\n",
       "      <th>29</th>\n",
       "      <td>Bernd Riexinger</td>\n",
       "      <td>-0.058330</td>\n",
       "      <td>1004</td>\n",
       "      <td>439</td>\n",
       "      <td>1086</td>\n",
       "    </tr>\n",
       "    <tr>\n",
       "      <th>30</th>\n",
       "      <td>Niema Movassat</td>\n",
       "      <td>-0.099142</td>\n",
       "      <td>2746</td>\n",
       "      <td>5147</td>\n",
       "      <td>3801</td>\n",
       "    </tr>\n",
       "    <tr>\n",
       "      <th>31</th>\n",
       "      <td>Jan Korte</td>\n",
       "      <td>-0.050513</td>\n",
       "      <td>481</td>\n",
       "      <td>384</td>\n",
       "      <td>474</td>\n",
       "    </tr>\n",
       "    <tr>\n",
       "      <th>32</th>\n",
       "      <td>Dietmar Bartsch</td>\n",
       "      <td>-0.047765</td>\n",
       "      <td>995</td>\n",
       "      <td>1427</td>\n",
       "      <td>944</td>\n",
       "    </tr>\n",
       "    <tr>\n",
       "      <th>33</th>\n",
       "      <td>Gregor Gysi</td>\n",
       "      <td>-0.071585</td>\n",
       "      <td>148</td>\n",
       "      <td>51</td>\n",
       "      <td>188</td>\n",
       "    </tr>\n",
       "    <tr>\n",
       "      <th>34</th>\n",
       "      <td>Sevim Dağdelen</td>\n",
       "      <td>-0.090398</td>\n",
       "      <td>376</td>\n",
       "      <td>458</td>\n",
       "      <td>543</td>\n",
       "    </tr>\n",
       "    <tr>\n",
       "      <th>35</th>\n",
       "      <td>Alice Weidel</td>\n",
       "      <td>-0.072450</td>\n",
       "      <td>593</td>\n",
       "      <td>382</td>\n",
       "      <td>757</td>\n",
       "    </tr>\n",
       "    <tr>\n",
       "      <th>36</th>\n",
       "      <td>Beatrix von Storch</td>\n",
       "      <td>-0.094995</td>\n",
       "      <td>685</td>\n",
       "      <td>1087</td>\n",
       "      <td>1022</td>\n",
       "    </tr>\n",
       "    <tr>\n",
       "      <th>37</th>\n",
       "      <td>Joana Cotar</td>\n",
       "      <td>-0.071620</td>\n",
       "      <td>1476</td>\n",
       "      <td>2644</td>\n",
       "      <td>1543</td>\n",
       "    </tr>\n",
       "    <tr>\n",
       "      <th>38</th>\n",
       "      <td>Stephan Brandner</td>\n",
       "      <td>-0.044522</td>\n",
       "      <td>2395</td>\n",
       "      <td>9459</td>\n",
       "      <td>2198</td>\n",
       "    </tr>\n",
       "    <tr>\n",
       "      <th>39</th>\n",
       "      <td>Tino Chrupalla</td>\n",
       "      <td>-0.074961</td>\n",
       "      <td>256</td>\n",
       "      <td>236</td>\n",
       "      <td>300</td>\n",
       "    </tr>\n",
       "    <tr>\n",
       "      <th>40</th>\n",
       "      <td>Götz Frömming</td>\n",
       "      <td>-0.093898</td>\n",
       "      <td>1908</td>\n",
       "      <td>2920</td>\n",
       "      <td>2437</td>\n",
       "    </tr>\n",
       "    <tr>\n",
       "      <th>41</th>\n",
       "      <td>Leif-Erik Holm</td>\n",
       "      <td>-0.053247</td>\n",
       "      <td>207</td>\n",
       "      <td>129</td>\n",
       "      <td>244</td>\n",
       "    </tr>\n",
       "  </tbody>\n",
       "</table>\n",
       "</div>"
      ],
      "text/plain": [
       "                             Name  Polarity_mean  Num_pos_tweets  \\\n",
       "0                 Ralph Brinkhaus       0.026858             205   \n",
       "1                   Hermann Gröhe       0.008751             350   \n",
       "2                    Nadine Schön       0.080311             163   \n",
       "3                 Norbert Röttgen       0.008242            1291   \n",
       "4                  Peter Altmaier       0.022550             419   \n",
       "5                      Jens Spahn       0.032790             727   \n",
       "6                  Matthias Hauer      -0.046743            2584   \n",
       "7               Christian Lindner      -0.031693            1658   \n",
       "8                 Marco Buschmann      -0.065289            3732   \n",
       "9         Bettina Stark-Watzinger      -0.023247            1044   \n",
       "10      Alexander Graf Lambsdorff      -0.040507             913   \n",
       "11                 Johannes Vogel      -0.025683            1867   \n",
       "12               Konstantin Kuhle      -0.041594            1191   \n",
       "13  Marie-Agnes Strack-Zimmermann      -0.026739            1655   \n",
       "14                 Lars Klingbeil       0.014662             671   \n",
       "15                   Saskia Esken      -0.040188            5458   \n",
       "16                  Hubertus Heil       0.039682             404   \n",
       "17                     Heiko Maas      -0.025994            1179   \n",
       "18                  Martin Schulz      -0.013782             153   \n",
       "19                  Karamba Diaby      -0.025665             242   \n",
       "20                Karl Lauterbach      -0.085499            2404   \n",
       "21                   Steffi Lemke      -0.026746             327   \n",
       "22                    Cem Özdemir      -0.017072            1184   \n",
       "23          Katrin Göring-Eckardt      -0.008062            1153   \n",
       "24            Konstantin von Notz      -0.090515             852   \n",
       "25               Britta Haßelmann      -0.027183            1471   \n",
       "26                   Sven Lehmann      -0.028876            1156   \n",
       "27              Annalena Baerbock       0.000389             509   \n",
       "28              Sahra Wagenknecht      -0.083918             318   \n",
       "29                Bernd Riexinger      -0.058330            1004   \n",
       "30                 Niema Movassat      -0.099142            2746   \n",
       "31                      Jan Korte      -0.050513             481   \n",
       "32                Dietmar Bartsch      -0.047765             995   \n",
       "33                    Gregor Gysi      -0.071585             148   \n",
       "34                 Sevim Dağdelen      -0.090398             376   \n",
       "35                   Alice Weidel      -0.072450             593   \n",
       "36             Beatrix von Storch      -0.094995             685   \n",
       "37                    Joana Cotar      -0.071620            1476   \n",
       "38               Stephan Brandner      -0.044522            2395   \n",
       "39                 Tino Chrupalla      -0.074961             256   \n",
       "40                  Götz Frömming      -0.093898            1908   \n",
       "41                 Leif-Erik Holm      -0.053247             207   \n",
       "\n",
       "    Num_neutral_tweets  Num_neg_tweets  \n",
       "0                   70              86  \n",
       "1                  350             147  \n",
       "2                  185              38  \n",
       "3                  765             704  \n",
       "4                  480             185  \n",
       "5                  236             251  \n",
       "6                 5489            1962  \n",
       "7                 1808            1181  \n",
       "8                 6838            3490  \n",
       "9                  516             761  \n",
       "10                1524             808  \n",
       "11                4566            1129  \n",
       "12                2571            1002  \n",
       "13                2228            1186  \n",
       "14                1565             346  \n",
       "15                9278            3970  \n",
       "16                 402             127  \n",
       "17                 247             880  \n",
       "18                  50              99  \n",
       "19                 190             177  \n",
       "20                 890            3599  \n",
       "21                 466             248  \n",
       "22                 744             895  \n",
       "23                1430             754  \n",
       "24                1674            1098  \n",
       "25                1242            1000  \n",
       "26                1484             998  \n",
       "27                 348             281  \n",
       "28                 106             466  \n",
       "29                 439            1086  \n",
       "30                5147            3801  \n",
       "31                 384             474  \n",
       "32                1427             944  \n",
       "33                  51             188  \n",
       "34                 458             543  \n",
       "35                 382             757  \n",
       "36                1087            1022  \n",
       "37                2644            1543  \n",
       "38                9459            2198  \n",
       "39                 236             300  \n",
       "40                2920            2437  \n",
       "41                 129             244  "
      ]
     },
     "metadata": {},
     "output_type": "display_data"
    }
   ],
   "source": [
    "#set up dataframe with all values\n",
    "dataf = pd.DataFrame(data, columns=['Name','Polarity_mean','Num_pos_tweets','Num_neutral_tweets','Num_neg_tweets'])\n",
    "display(dataf)"
   ]
  },
  {
   "cell_type": "code",
   "execution_count": 44,
   "metadata": {},
   "outputs": [
    {
     "data": {
      "application/vnd.jupyter.widget-view+json": {
       "model_id": "484ee6e8c9aa47eca79732ac27df6b35",
       "version_major": 2,
       "version_minor": 0
      },
      "text/plain": [
       "  0%|          | 0/42 [00:00<?, ?it/s]"
      ]
     },
     "metadata": {},
     "output_type": "display_data"
    },
    {
     "data": {
      "application/vnd.jupyter.widget-view+json": {
       "model_id": "c1152198a8704b8ea721bdf2f109f28c",
       "version_major": 2,
       "version_minor": 0
      },
      "text/plain": [
       "  0%|          | 0/57 [00:00<?, ?it/s]"
      ]
     },
     "metadata": {},
     "output_type": "display_data"
    },
    {
     "name": "stderr",
     "output_type": "stream",
     "text": [
      "/var/folders/xy/yfm2dhtj3jvfy85hqy16wmk00000gn/T/ipykernel_11622/3458230031.py:23: RuntimeWarning: Mean of empty slice\n",
      "  sentence_score=np.nanmean(sentence_sum)\n"
     ]
    },
    {
     "data": {
      "application/vnd.jupyter.widget-view+json": {
       "model_id": "af930a3514d5496cad48de3fd965fd95",
       "version_major": 2,
       "version_minor": 0
      },
      "text/plain": [
       "  0%|          | 0/99 [00:00<?, ?it/s]"
      ]
     },
     "metadata": {},
     "output_type": "display_data"
    },
    {
     "data": {
      "application/vnd.jupyter.widget-view+json": {
       "model_id": "b976784617f84fde97151d85bf1b25a5",
       "version_major": 2,
       "version_minor": 0
      },
      "text/plain": [
       "  0%|          | 0/83 [00:00<?, ?it/s]"
      ]
     },
     "metadata": {},
     "output_type": "display_data"
    },
    {
     "data": {
      "application/vnd.jupyter.widget-view+json": {
       "model_id": "cdfd68678e524465a7b3c9a42d7f7289",
       "version_major": 2,
       "version_minor": 0
      },
      "text/plain": [
       "  0%|          | 0/33 [00:00<?, ?it/s]"
      ]
     },
     "metadata": {},
     "output_type": "display_data"
    },
    {
     "data": {
      "application/vnd.jupyter.widget-view+json": {
       "model_id": "e137aadb4ceb4bc7904a30339b52785d",
       "version_major": 2,
       "version_minor": 0
      },
      "text/plain": [
       "  0%|          | 0/182 [00:00<?, ?it/s]"
      ]
     },
     "metadata": {},
     "output_type": "display_data"
    },
    {
     "data": {
      "application/vnd.jupyter.widget-view+json": {
       "model_id": "03695b8be49440dcae99478ef99ebc7a",
       "version_major": 2,
       "version_minor": 0
      },
      "text/plain": [
       "  0%|          | 0/266 [00:00<?, ?it/s]"
      ]
     },
     "metadata": {},
     "output_type": "display_data"
    },
    {
     "data": {
      "application/vnd.jupyter.widget-view+json": {
       "model_id": "c6332adc103f47439dd4d05fa2c35f72",
       "version_major": 2,
       "version_minor": 0
      },
      "text/plain": [
       "  0%|          | 0/38 [00:00<?, ?it/s]"
      ]
     },
     "metadata": {},
     "output_type": "display_data"
    },
    {
     "data": {
      "application/vnd.jupyter.widget-view+json": {
       "model_id": "964dd14e190d45cbb726d0bd0ea5c115",
       "version_major": 2,
       "version_minor": 0
      },
      "text/plain": [
       "  0%|          | 0/50 [00:00<?, ?it/s]"
      ]
     },
     "metadata": {},
     "output_type": "display_data"
    },
    {
     "data": {
      "application/vnd.jupyter.widget-view+json": {
       "model_id": "1bd751777ed044979fe7af96af237dd0",
       "version_major": 2,
       "version_minor": 0
      },
      "text/plain": [
       "  0%|          | 0/48 [00:00<?, ?it/s]"
      ]
     },
     "metadata": {},
     "output_type": "display_data"
    },
    {
     "data": {
      "application/vnd.jupyter.widget-view+json": {
       "model_id": "7e8eb91d5e714d0a97f3cfed198a9bbe",
       "version_major": 2,
       "version_minor": 0
      },
      "text/plain": [
       "  0%|          | 0/28 [00:00<?, ?it/s]"
      ]
     },
     "metadata": {},
     "output_type": "display_data"
    },
    {
     "data": {
      "application/vnd.jupyter.widget-view+json": {
       "model_id": "12fa005ddac34ca786116cca633ad90b",
       "version_major": 2,
       "version_minor": 0
      },
      "text/plain": [
       "  0%|          | 0/117 [00:00<?, ?it/s]"
      ]
     },
     "metadata": {},
     "output_type": "display_data"
    },
    {
     "data": {
      "application/vnd.jupyter.widget-view+json": {
       "model_id": "0dc0cf164c384310a14b49bd1dbebd86",
       "version_major": 2,
       "version_minor": 0
      },
      "text/plain": [
       "  0%|          | 0/106 [00:00<?, ?it/s]"
      ]
     },
     "metadata": {},
     "output_type": "display_data"
    },
    {
     "data": {
      "application/vnd.jupyter.widget-view+json": {
       "model_id": "0de461bf270d4afd87e97aa0464dbb32",
       "version_major": 2,
       "version_minor": 0
      },
      "text/plain": [
       "  0%|          | 0/97 [00:00<?, ?it/s]"
      ]
     },
     "metadata": {},
     "output_type": "display_data"
    },
    {
     "data": {
      "application/vnd.jupyter.widget-view+json": {
       "model_id": "3c280cfc00244ff0a5ae7ac022b51817",
       "version_major": 2,
       "version_minor": 0
      },
      "text/plain": [
       "  0%|          | 0/72 [00:00<?, ?it/s]"
      ]
     },
     "metadata": {},
     "output_type": "display_data"
    },
    {
     "data": {
      "application/vnd.jupyter.widget-view+json": {
       "model_id": "0821e5bd49fb4b9dbcc8275708ed11fe",
       "version_major": 2,
       "version_minor": 0
      },
      "text/plain": [
       "  0%|          | 0/46 [00:00<?, ?it/s]"
      ]
     },
     "metadata": {},
     "output_type": "display_data"
    },
    {
     "data": {
      "application/vnd.jupyter.widget-view+json": {
       "model_id": "4a255993e28c4d8687e7bb2416b1ad69",
       "version_major": 2,
       "version_minor": 0
      },
      "text/plain": [
       "  0%|          | 0/62 [00:00<?, ?it/s]"
      ]
     },
     "metadata": {},
     "output_type": "display_data"
    },
    {
     "data": {
      "application/vnd.jupyter.widget-view+json": {
       "model_id": "2cc50a0003a24edf90afa32a1b3e0637",
       "version_major": 2,
       "version_minor": 0
      },
      "text/plain": [
       "  0%|          | 0/256 [00:00<?, ?it/s]"
      ]
     },
     "metadata": {},
     "output_type": "display_data"
    },
    {
     "data": {
      "application/vnd.jupyter.widget-view+json": {
       "model_id": "419e9419e4334472a7050419be57aad8",
       "version_major": 2,
       "version_minor": 0
      },
      "text/plain": [
       "  0%|          | 0/368 [00:00<?, ?it/s]"
      ]
     },
     "metadata": {},
     "output_type": "display_data"
    },
    {
     "data": {
      "application/vnd.jupyter.widget-view+json": {
       "model_id": "9dc0e07aba964458874d1dd5e107f88e",
       "version_major": 2,
       "version_minor": 0
      },
      "text/plain": [
       "  0%|          | 0/15 [00:00<?, ?it/s]"
      ]
     },
     "metadata": {},
     "output_type": "display_data"
    },
    {
     "data": {
      "application/vnd.jupyter.widget-view+json": {
       "model_id": "7a966cea05604b41ae8382a027695bd6",
       "version_major": 2,
       "version_minor": 0
      },
      "text/plain": [
       "  0%|          | 0/63 [00:00<?, ?it/s]"
      ]
     },
     "metadata": {},
     "output_type": "display_data"
    },
    {
     "data": {
      "application/vnd.jupyter.widget-view+json": {
       "model_id": "fc01c287e49e486ab3fd208f396b2072",
       "version_major": 2,
       "version_minor": 0
      },
      "text/plain": [
       "  0%|          | 0/82 [00:00<?, ?it/s]"
      ]
     },
     "metadata": {},
     "output_type": "display_data"
    },
    {
     "data": {
      "application/vnd.jupyter.widget-view+json": {
       "model_id": "51e26e82ba364ff09c584804c9bf5442",
       "version_major": 2,
       "version_minor": 0
      },
      "text/plain": [
       "  0%|          | 0/112 [00:00<?, ?it/s]"
      ]
     },
     "metadata": {},
     "output_type": "display_data"
    },
    {
     "data": {
      "application/vnd.jupyter.widget-view+json": {
       "model_id": "b49bb15f65114dce9466d3fb115e50d2",
       "version_major": 2,
       "version_minor": 0
      },
      "text/plain": [
       "  0%|          | 0/56 [00:00<?, ?it/s]"
      ]
     },
     "metadata": {},
     "output_type": "display_data"
    },
    {
     "data": {
      "application/vnd.jupyter.widget-view+json": {
       "model_id": "cdbc83c28e2c47e39a042a61f2352a22",
       "version_major": 2,
       "version_minor": 0
      },
      "text/plain": [
       "  0%|          | 0/125 [00:00<?, ?it/s]"
      ]
     },
     "metadata": {},
     "output_type": "display_data"
    },
    {
     "data": {
      "application/vnd.jupyter.widget-view+json": {
       "model_id": "e89a93415d1d49eeb4859aaa8b84790e",
       "version_major": 2,
       "version_minor": 0
      },
      "text/plain": [
       "  0%|          | 0/74 [00:00<?, ?it/s]"
      ]
     },
     "metadata": {},
     "output_type": "display_data"
    },
    {
     "data": {
      "application/vnd.jupyter.widget-view+json": {
       "model_id": "734d85d12bee419d879d1138055f13b2",
       "version_major": 2,
       "version_minor": 0
      },
      "text/plain": [
       "  0%|          | 0/333 [00:00<?, ?it/s]"
      ]
     },
     "metadata": {},
     "output_type": "display_data"
    },
    {
     "data": {
      "application/vnd.jupyter.widget-view+json": {
       "model_id": "cf94b1383133496abfe9bcbb51eb5d05",
       "version_major": 2,
       "version_minor": 0
      },
      "text/plain": [
       "  0%|          | 0/49 [00:00<?, ?it/s]"
      ]
     },
     "metadata": {},
     "output_type": "display_data"
    },
    {
     "data": {
      "application/vnd.jupyter.widget-view+json": {
       "model_id": "084245281c6841a9856b52aaf4e95c5e",
       "version_major": 2,
       "version_minor": 0
      },
      "text/plain": [
       "  0%|          | 0/140 [00:00<?, ?it/s]"
      ]
     },
     "metadata": {},
     "output_type": "display_data"
    },
    {
     "data": {
      "application/vnd.jupyter.widget-view+json": {
       "model_id": "c2948758f2c04f27a2d2f49c11fd0d4c",
       "version_major": 2,
       "version_minor": 0
      },
      "text/plain": [
       "  0%|          | 0/30 [00:00<?, ?it/s]"
      ]
     },
     "metadata": {},
     "output_type": "display_data"
    },
    {
     "data": {
      "application/vnd.jupyter.widget-view+json": {
       "model_id": "771fed184d434ad18669a3fd4064464e",
       "version_major": 2,
       "version_minor": 0
      },
      "text/plain": [
       "  0%|          | 0/15 [00:00<?, ?it/s]"
      ]
     },
     "metadata": {},
     "output_type": "display_data"
    },
    {
     "data": {
      "application/vnd.jupyter.widget-view+json": {
       "model_id": "a05f769d6aad4f6b977a5810ff0d281f",
       "version_major": 2,
       "version_minor": 0
      },
      "text/plain": [
       "  0%|          | 0/158 [00:00<?, ?it/s]"
      ]
     },
     "metadata": {},
     "output_type": "display_data"
    },
    {
     "data": {
      "application/vnd.jupyter.widget-view+json": {
       "model_id": "86d6135dad2940e0a958d96095e3b35e",
       "version_major": 2,
       "version_minor": 0
      },
      "text/plain": [
       "  0%|          | 0/88 [00:00<?, ?it/s]"
      ]
     },
     "metadata": {},
     "output_type": "display_data"
    },
    {
     "data": {
      "application/vnd.jupyter.widget-view+json": {
       "model_id": "24787542856344398dd5a66d03ecd056",
       "version_major": 2,
       "version_minor": 0
      },
      "text/plain": [
       "  0%|          | 0/80 [00:00<?, ?it/s]"
      ]
     },
     "metadata": {},
     "output_type": "display_data"
    },
    {
     "data": {
      "application/vnd.jupyter.widget-view+json": {
       "model_id": "03a3cdf1a43d453b846af0f8c6887d2e",
       "version_major": 2,
       "version_minor": 0
      },
      "text/plain": [
       "  0%|          | 0/77 [00:00<?, ?it/s]"
      ]
     },
     "metadata": {},
     "output_type": "display_data"
    },
    {
     "data": {
      "application/vnd.jupyter.widget-view+json": {
       "model_id": "4cc02aa9eaa24b3399c878c709c266aa",
       "version_major": 2,
       "version_minor": 0
      },
      "text/plain": [
       "  0%|          | 0/73 [00:00<?, ?it/s]"
      ]
     },
     "metadata": {},
     "output_type": "display_data"
    },
    {
     "data": {
      "application/vnd.jupyter.widget-view+json": {
       "model_id": "2ace85722d024bb0b651b36bc34ef9ab",
       "version_major": 2,
       "version_minor": 0
      },
      "text/plain": [
       "  0%|          | 0/30 [00:00<?, ?it/s]"
      ]
     },
     "metadata": {},
     "output_type": "display_data"
    },
    {
     "data": {
      "application/vnd.jupyter.widget-view+json": {
       "model_id": "95cef9dba87b4a0c8c66e8039d703738",
       "version_major": 2,
       "version_minor": 0
      },
      "text/plain": [
       "  0%|          | 0/95 [00:00<?, ?it/s]"
      ]
     },
     "metadata": {},
     "output_type": "display_data"
    },
    {
     "data": {
      "application/vnd.jupyter.widget-view+json": {
       "model_id": "71b82e373c4848bc9abd38f0d03e1548",
       "version_major": 2,
       "version_minor": 0
      },
      "text/plain": [
       "  0%|          | 0/35 [00:00<?, ?it/s]"
      ]
     },
     "metadata": {},
     "output_type": "display_data"
    },
    {
     "data": {
      "application/vnd.jupyter.widget-view+json": {
       "model_id": "7be623feff7143f887b24a1b174ef885",
       "version_major": 2,
       "version_minor": 0
      },
      "text/plain": [
       "  0%|          | 0/165 [00:00<?, ?it/s]"
      ]
     },
     "metadata": {},
     "output_type": "display_data"
    },
    {
     "data": {
      "application/vnd.jupyter.widget-view+json": {
       "model_id": "34b3e21981104821a89b720fe0f6893c",
       "version_major": 2,
       "version_minor": 0
      },
      "text/plain": [
       "  0%|          | 0/40 [00:00<?, ?it/s]"
      ]
     },
     "metadata": {},
     "output_type": "display_data"
    },
    {
     "data": {
      "application/vnd.jupyter.widget-view+json": {
       "model_id": "6af94470045948f288fe49ef62b5c91e",
       "version_major": 2,
       "version_minor": 0
      },
      "text/plain": [
       "  0%|          | 0/101 [00:00<?, ?it/s]"
      ]
     },
     "metadata": {},
     "output_type": "display_data"
    },
    {
     "data": {
      "application/vnd.jupyter.widget-view+json": {
       "model_id": "983f392085324573abc9758793219591",
       "version_major": 2,
       "version_minor": 0
      },
      "text/plain": [
       "  0%|          | 0/55 [00:00<?, ?it/s]"
      ]
     },
     "metadata": {},
     "output_type": "display_data"
    }
   ],
   "source": [
    "#Apply the dictionary to the speeches accounts of the politicians\n",
    "data=[]\n",
    "for name in tqdm(['Ralph Brinkhaus','Hermann Gröhe', 'Nadine Schön' ,'Norbert Röttgen' , 'Peter Altmaier' , 'Jens Spahn' , 'Matthias Hauer',\n",
    "            'Christian Lindner' , 'Marco Buschmann' , 'Bettina Stark-Watzinger', 'Alexander Graf Lambsdorff' , 'Johannes Vogel' , 'Konstantin Kuhle' , 'Marie-Agnes Strack-Zimmermann',\n",
    "            'Lars Klingbeil' , 'Saskia Esken' , 'Hubertus Heil' , 'Heiko Maas' , 'Martin Schulz' , 'Karamba Diaby' , 'Karl Lauterbach',\n",
    "            'Steffi Lemke' , 'Cem Özdemir' , 'Katrin Göring-Eckardt' , 'Konstantin von Notz' , 'Britta Haßelmann' , 'Sven Lehmann' , 'Annalena Baerbock',\n",
    "            'Sahra Wagenknecht' , 'Bernd Riexinger' , 'Niema Movassat' , 'Jan Korte' , 'Dietmar Bartsch' , 'Gregor Gysi' , 'Sevim Dağdelen',\n",
    "            'Alice Weidel' , 'Beatrix von Storch' , 'Joana Cotar' , 'Stephan Brandner' , 'Tino Chrupalla' , 'Götz Frömming' , 'Leif-Erik Holm']):\n",
    "    #get tweets from the specific politician and from the desired period\n",
    "    tweets_analyzing = speeches_explored.loc[speeches_explored['full_name']==name]\n",
    "    tweets_analyzing1 = tweets_analyzing.text.progress_apply(nlp_tweets)\n",
    "    #get the sentiment of the tweets\n",
    "    politician_sum=[]\n",
    "    for sentence in tweets_analyzing1:\n",
    "        sentence_sum=[]\n",
    "        for token in sentence:\n",
    "            if token._.sentiws == None:\n",
    "                a=0\n",
    "            elif token._.sentiws == 'nan':\n",
    "                a=0\n",
    "            else:\n",
    "                sentence_sum.append(token._.sentiws)\n",
    "        sentence_score=np.nanmean(sentence_sum)\n",
    "        politician_sum.append(sentence_score)\n",
    "    politician_score=np.nanmean(politician_sum)\n",
    "    #get the number of positive, neutral and negative tweets\n",
    "    positive_p=0\n",
    "    neutral_p=0\n",
    "    negative_p=0\n",
    "    for item_p in politician_sum:\n",
    "        if item_p>0:\n",
    "            positive_p += 1\n",
    "        elif item_p<0:\n",
    "            negative_p += 1\n",
    "        elif item_p == 'nan':\n",
    "            neutral_p += 1\n",
    "        else:\n",
    "            neutral_p += 1\n",
    "    #set up list to secure the values generated\n",
    "    data.append([name,politician_score,positive_p,neutral_p,negative_p])\n",
    "        "
   ]
  },
  {
   "cell_type": "code",
   "execution_count": 45,
   "metadata": {},
   "outputs": [
    {
     "data": {
      "text/html": [
       "<div>\n",
       "<style scoped>\n",
       "    .dataframe tbody tr th:only-of-type {\n",
       "        vertical-align: middle;\n",
       "    }\n",
       "\n",
       "    .dataframe tbody tr th {\n",
       "        vertical-align: top;\n",
       "    }\n",
       "\n",
       "    .dataframe thead th {\n",
       "        text-align: right;\n",
       "    }\n",
       "</style>\n",
       "<table border=\"1\" class=\"dataframe\">\n",
       "  <thead>\n",
       "    <tr style=\"text-align: right;\">\n",
       "      <th></th>\n",
       "      <th>Name</th>\n",
       "      <th>Polarity_mean</th>\n",
       "      <th>Num_pos_tweets</th>\n",
       "      <th>Num_neutral_tweets</th>\n",
       "      <th>Num_neg_tweets</th>\n",
       "    </tr>\n",
       "  </thead>\n",
       "  <tbody>\n",
       "    <tr>\n",
       "      <th>0</th>\n",
       "      <td>Ralph Brinkhaus</td>\n",
       "      <td>-0.022753</td>\n",
       "      <td>20</td>\n",
       "      <td>4</td>\n",
       "      <td>33</td>\n",
       "    </tr>\n",
       "    <tr>\n",
       "      <th>1</th>\n",
       "      <td>Hermann Gröhe</td>\n",
       "      <td>0.004228</td>\n",
       "      <td>60</td>\n",
       "      <td>4</td>\n",
       "      <td>35</td>\n",
       "    </tr>\n",
       "    <tr>\n",
       "      <th>2</th>\n",
       "      <td>Nadine Schön</td>\n",
       "      <td>0.015663</td>\n",
       "      <td>44</td>\n",
       "      <td>9</td>\n",
       "      <td>30</td>\n",
       "    </tr>\n",
       "    <tr>\n",
       "      <th>3</th>\n",
       "      <td>Norbert Röttgen</td>\n",
       "      <td>-0.061556</td>\n",
       "      <td>5</td>\n",
       "      <td>4</td>\n",
       "      <td>24</td>\n",
       "    </tr>\n",
       "    <tr>\n",
       "      <th>4</th>\n",
       "      <td>Peter Altmaier</td>\n",
       "      <td>0.004122</td>\n",
       "      <td>102</td>\n",
       "      <td>23</td>\n",
       "      <td>57</td>\n",
       "    </tr>\n",
       "    <tr>\n",
       "      <th>5</th>\n",
       "      <td>Jens Spahn</td>\n",
       "      <td>-0.000652</td>\n",
       "      <td>146</td>\n",
       "      <td>36</td>\n",
       "      <td>84</td>\n",
       "    </tr>\n",
       "    <tr>\n",
       "      <th>6</th>\n",
       "      <td>Matthias Hauer</td>\n",
       "      <td>-0.038118</td>\n",
       "      <td>11</td>\n",
       "      <td>2</td>\n",
       "      <td>25</td>\n",
       "    </tr>\n",
       "    <tr>\n",
       "      <th>7</th>\n",
       "      <td>Christian Lindner</td>\n",
       "      <td>-0.028265</td>\n",
       "      <td>11</td>\n",
       "      <td>1</td>\n",
       "      <td>38</td>\n",
       "    </tr>\n",
       "    <tr>\n",
       "      <th>8</th>\n",
       "      <td>Marco Buschmann</td>\n",
       "      <td>-0.043712</td>\n",
       "      <td>14</td>\n",
       "      <td>0</td>\n",
       "      <td>34</td>\n",
       "    </tr>\n",
       "    <tr>\n",
       "      <th>9</th>\n",
       "      <td>Bettina Stark-Watzinger</td>\n",
       "      <td>-0.070444</td>\n",
       "      <td>4</td>\n",
       "      <td>3</td>\n",
       "      <td>21</td>\n",
       "    </tr>\n",
       "    <tr>\n",
       "      <th>10</th>\n",
       "      <td>Alexander Graf Lambsdorff</td>\n",
       "      <td>-0.037877</td>\n",
       "      <td>46</td>\n",
       "      <td>8</td>\n",
       "      <td>63</td>\n",
       "    </tr>\n",
       "    <tr>\n",
       "      <th>11</th>\n",
       "      <td>Johannes Vogel</td>\n",
       "      <td>-0.003367</td>\n",
       "      <td>48</td>\n",
       "      <td>11</td>\n",
       "      <td>47</td>\n",
       "    </tr>\n",
       "    <tr>\n",
       "      <th>12</th>\n",
       "      <td>Konstantin Kuhle</td>\n",
       "      <td>-0.042240</td>\n",
       "      <td>32</td>\n",
       "      <td>5</td>\n",
       "      <td>60</td>\n",
       "    </tr>\n",
       "    <tr>\n",
       "      <th>13</th>\n",
       "      <td>Marie-Agnes Strack-Zimmermann</td>\n",
       "      <td>-0.019437</td>\n",
       "      <td>26</td>\n",
       "      <td>4</td>\n",
       "      <td>42</td>\n",
       "    </tr>\n",
       "    <tr>\n",
       "      <th>14</th>\n",
       "      <td>Lars Klingbeil</td>\n",
       "      <td>0.012085</td>\n",
       "      <td>16</td>\n",
       "      <td>10</td>\n",
       "      <td>20</td>\n",
       "    </tr>\n",
       "    <tr>\n",
       "      <th>15</th>\n",
       "      <td>Saskia Esken</td>\n",
       "      <td>-0.002209</td>\n",
       "      <td>38</td>\n",
       "      <td>5</td>\n",
       "      <td>19</td>\n",
       "    </tr>\n",
       "    <tr>\n",
       "      <th>16</th>\n",
       "      <td>Hubertus Heil</td>\n",
       "      <td>0.019165</td>\n",
       "      <td>146</td>\n",
       "      <td>40</td>\n",
       "      <td>70</td>\n",
       "    </tr>\n",
       "    <tr>\n",
       "      <th>17</th>\n",
       "      <td>Heiko Maas</td>\n",
       "      <td>-0.025070</td>\n",
       "      <td>149</td>\n",
       "      <td>43</td>\n",
       "      <td>176</td>\n",
       "    </tr>\n",
       "    <tr>\n",
       "      <th>18</th>\n",
       "      <td>Martin Schulz</td>\n",
       "      <td>-0.021750</td>\n",
       "      <td>5</td>\n",
       "      <td>2</td>\n",
       "      <td>8</td>\n",
       "    </tr>\n",
       "    <tr>\n",
       "      <th>19</th>\n",
       "      <td>Karamba Diaby</td>\n",
       "      <td>0.013570</td>\n",
       "      <td>38</td>\n",
       "      <td>3</td>\n",
       "      <td>22</td>\n",
       "    </tr>\n",
       "    <tr>\n",
       "      <th>20</th>\n",
       "      <td>Karl Lauterbach</td>\n",
       "      <td>-0.051354</td>\n",
       "      <td>21</td>\n",
       "      <td>11</td>\n",
       "      <td>50</td>\n",
       "    </tr>\n",
       "    <tr>\n",
       "      <th>21</th>\n",
       "      <td>Steffi Lemke</td>\n",
       "      <td>-0.060622</td>\n",
       "      <td>29</td>\n",
       "      <td>22</td>\n",
       "      <td>61</td>\n",
       "    </tr>\n",
       "    <tr>\n",
       "      <th>22</th>\n",
       "      <td>Cem Özdemir</td>\n",
       "      <td>-0.033899</td>\n",
       "      <td>16</td>\n",
       "      <td>8</td>\n",
       "      <td>32</td>\n",
       "    </tr>\n",
       "    <tr>\n",
       "      <th>23</th>\n",
       "      <td>Katrin Göring-Eckardt</td>\n",
       "      <td>-0.039240</td>\n",
       "      <td>31</td>\n",
       "      <td>8</td>\n",
       "      <td>86</td>\n",
       "    </tr>\n",
       "    <tr>\n",
       "      <th>24</th>\n",
       "      <td>Konstantin von Notz</td>\n",
       "      <td>-0.043474</td>\n",
       "      <td>20</td>\n",
       "      <td>5</td>\n",
       "      <td>49</td>\n",
       "    </tr>\n",
       "    <tr>\n",
       "      <th>25</th>\n",
       "      <td>Britta Haßelmann</td>\n",
       "      <td>-0.048897</td>\n",
       "      <td>118</td>\n",
       "      <td>51</td>\n",
       "      <td>164</td>\n",
       "    </tr>\n",
       "    <tr>\n",
       "      <th>26</th>\n",
       "      <td>Sven Lehmann</td>\n",
       "      <td>-0.060378</td>\n",
       "      <td>8</td>\n",
       "      <td>3</td>\n",
       "      <td>38</td>\n",
       "    </tr>\n",
       "    <tr>\n",
       "      <th>27</th>\n",
       "      <td>Annalena Baerbock</td>\n",
       "      <td>-0.040459</td>\n",
       "      <td>55</td>\n",
       "      <td>16</td>\n",
       "      <td>69</td>\n",
       "    </tr>\n",
       "    <tr>\n",
       "      <th>28</th>\n",
       "      <td>Sahra Wagenknecht</td>\n",
       "      <td>-0.076854</td>\n",
       "      <td>3</td>\n",
       "      <td>0</td>\n",
       "      <td>27</td>\n",
       "    </tr>\n",
       "    <tr>\n",
       "      <th>29</th>\n",
       "      <td>Bernd Riexinger</td>\n",
       "      <td>0.005743</td>\n",
       "      <td>3</td>\n",
       "      <td>1</td>\n",
       "      <td>11</td>\n",
       "    </tr>\n",
       "    <tr>\n",
       "      <th>30</th>\n",
       "      <td>Niema Movassat</td>\n",
       "      <td>-0.100751</td>\n",
       "      <td>26</td>\n",
       "      <td>7</td>\n",
       "      <td>125</td>\n",
       "    </tr>\n",
       "    <tr>\n",
       "      <th>31</th>\n",
       "      <td>Jan Korte</td>\n",
       "      <td>-0.043082</td>\n",
       "      <td>19</td>\n",
       "      <td>13</td>\n",
       "      <td>56</td>\n",
       "    </tr>\n",
       "    <tr>\n",
       "      <th>32</th>\n",
       "      <td>Dietmar Bartsch</td>\n",
       "      <td>-0.067860</td>\n",
       "      <td>9</td>\n",
       "      <td>6</td>\n",
       "      <td>65</td>\n",
       "    </tr>\n",
       "    <tr>\n",
       "      <th>33</th>\n",
       "      <td>Gregor Gysi</td>\n",
       "      <td>-0.093321</td>\n",
       "      <td>18</td>\n",
       "      <td>6</td>\n",
       "      <td>53</td>\n",
       "    </tr>\n",
       "    <tr>\n",
       "      <th>34</th>\n",
       "      <td>Sevim Dağdelen</td>\n",
       "      <td>-0.096937</td>\n",
       "      <td>9</td>\n",
       "      <td>9</td>\n",
       "      <td>55</td>\n",
       "    </tr>\n",
       "    <tr>\n",
       "      <th>35</th>\n",
       "      <td>Alice Weidel</td>\n",
       "      <td>-0.104186</td>\n",
       "      <td>0</td>\n",
       "      <td>3</td>\n",
       "      <td>27</td>\n",
       "    </tr>\n",
       "    <tr>\n",
       "      <th>36</th>\n",
       "      <td>Beatrix von Storch</td>\n",
       "      <td>-0.081760</td>\n",
       "      <td>22</td>\n",
       "      <td>10</td>\n",
       "      <td>63</td>\n",
       "    </tr>\n",
       "    <tr>\n",
       "      <th>37</th>\n",
       "      <td>Joana Cotar</td>\n",
       "      <td>-0.066106</td>\n",
       "      <td>6</td>\n",
       "      <td>0</td>\n",
       "      <td>29</td>\n",
       "    </tr>\n",
       "    <tr>\n",
       "      <th>38</th>\n",
       "      <td>Stephan Brandner</td>\n",
       "      <td>-0.068387</td>\n",
       "      <td>36</td>\n",
       "      <td>38</td>\n",
       "      <td>91</td>\n",
       "    </tr>\n",
       "    <tr>\n",
       "      <th>39</th>\n",
       "      <td>Tino Chrupalla</td>\n",
       "      <td>-0.053244</td>\n",
       "      <td>12</td>\n",
       "      <td>0</td>\n",
       "      <td>28</td>\n",
       "    </tr>\n",
       "    <tr>\n",
       "      <th>40</th>\n",
       "      <td>Götz Frömming</td>\n",
       "      <td>-0.021752</td>\n",
       "      <td>39</td>\n",
       "      <td>7</td>\n",
       "      <td>55</td>\n",
       "    </tr>\n",
       "    <tr>\n",
       "      <th>41</th>\n",
       "      <td>Leif-Erik Holm</td>\n",
       "      <td>-0.043196</td>\n",
       "      <td>15</td>\n",
       "      <td>5</td>\n",
       "      <td>35</td>\n",
       "    </tr>\n",
       "  </tbody>\n",
       "</table>\n",
       "</div>"
      ],
      "text/plain": [
       "                             Name  Polarity_mean  Num_pos_tweets  \\\n",
       "0                 Ralph Brinkhaus      -0.022753              20   \n",
       "1                   Hermann Gröhe       0.004228              60   \n",
       "2                    Nadine Schön       0.015663              44   \n",
       "3                 Norbert Röttgen      -0.061556               5   \n",
       "4                  Peter Altmaier       0.004122             102   \n",
       "5                      Jens Spahn      -0.000652             146   \n",
       "6                  Matthias Hauer      -0.038118              11   \n",
       "7               Christian Lindner      -0.028265              11   \n",
       "8                 Marco Buschmann      -0.043712              14   \n",
       "9         Bettina Stark-Watzinger      -0.070444               4   \n",
       "10      Alexander Graf Lambsdorff      -0.037877              46   \n",
       "11                 Johannes Vogel      -0.003367              48   \n",
       "12               Konstantin Kuhle      -0.042240              32   \n",
       "13  Marie-Agnes Strack-Zimmermann      -0.019437              26   \n",
       "14                 Lars Klingbeil       0.012085              16   \n",
       "15                   Saskia Esken      -0.002209              38   \n",
       "16                  Hubertus Heil       0.019165             146   \n",
       "17                     Heiko Maas      -0.025070             149   \n",
       "18                  Martin Schulz      -0.021750               5   \n",
       "19                  Karamba Diaby       0.013570              38   \n",
       "20                Karl Lauterbach      -0.051354              21   \n",
       "21                   Steffi Lemke      -0.060622              29   \n",
       "22                    Cem Özdemir      -0.033899              16   \n",
       "23          Katrin Göring-Eckardt      -0.039240              31   \n",
       "24            Konstantin von Notz      -0.043474              20   \n",
       "25               Britta Haßelmann      -0.048897             118   \n",
       "26                   Sven Lehmann      -0.060378               8   \n",
       "27              Annalena Baerbock      -0.040459              55   \n",
       "28              Sahra Wagenknecht      -0.076854               3   \n",
       "29                Bernd Riexinger       0.005743               3   \n",
       "30                 Niema Movassat      -0.100751              26   \n",
       "31                      Jan Korte      -0.043082              19   \n",
       "32                Dietmar Bartsch      -0.067860               9   \n",
       "33                    Gregor Gysi      -0.093321              18   \n",
       "34                 Sevim Dağdelen      -0.096937               9   \n",
       "35                   Alice Weidel      -0.104186               0   \n",
       "36             Beatrix von Storch      -0.081760              22   \n",
       "37                    Joana Cotar      -0.066106               6   \n",
       "38               Stephan Brandner      -0.068387              36   \n",
       "39                 Tino Chrupalla      -0.053244              12   \n",
       "40                  Götz Frömming      -0.021752              39   \n",
       "41                 Leif-Erik Holm      -0.043196              15   \n",
       "\n",
       "    Num_neutral_tweets  Num_neg_tweets  \n",
       "0                    4              33  \n",
       "1                    4              35  \n",
       "2                    9              30  \n",
       "3                    4              24  \n",
       "4                   23              57  \n",
       "5                   36              84  \n",
       "6                    2              25  \n",
       "7                    1              38  \n",
       "8                    0              34  \n",
       "9                    3              21  \n",
       "10                   8              63  \n",
       "11                  11              47  \n",
       "12                   5              60  \n",
       "13                   4              42  \n",
       "14                  10              20  \n",
       "15                   5              19  \n",
       "16                  40              70  \n",
       "17                  43             176  \n",
       "18                   2               8  \n",
       "19                   3              22  \n",
       "20                  11              50  \n",
       "21                  22              61  \n",
       "22                   8              32  \n",
       "23                   8              86  \n",
       "24                   5              49  \n",
       "25                  51             164  \n",
       "26                   3              38  \n",
       "27                  16              69  \n",
       "28                   0              27  \n",
       "29                   1              11  \n",
       "30                   7             125  \n",
       "31                  13              56  \n",
       "32                   6              65  \n",
       "33                   6              53  \n",
       "34                   9              55  \n",
       "35                   3              27  \n",
       "36                  10              63  \n",
       "37                   0              29  \n",
       "38                  38              91  \n",
       "39                   0              28  \n",
       "40                   7              55  \n",
       "41                   5              35  "
      ]
     },
     "metadata": {},
     "output_type": "display_data"
    }
   ],
   "source": [
    "#set up dataframe with all values\n",
    "dataf = pd.DataFrame(data, columns=['Name','Polarity_mean','Num_pos_speeches','Num_neutral_speeches','Num_neg_speeches'])\n",
    "display(dataf)"
   ]
  },
  {
   "cell_type": "code",
   "execution_count": null,
   "metadata": {},
   "outputs": [],
   "source": []
  }
 ],
 "metadata": {
  "kernelspec": {
   "display_name": "Python 3 (ipykernel)",
   "language": "python",
   "name": "python3"
  },
  "language_info": {
   "codemirror_mode": {
    "name": "ipython",
    "version": 3
   },
   "file_extension": ".py",
   "mimetype": "text/x-python",
   "name": "python",
   "nbconvert_exporter": "python",
   "pygments_lexer": "ipython3",
   "version": "3.9.5"
  }
 },
 "nbformat": 4,
 "nbformat_minor": 1
}
