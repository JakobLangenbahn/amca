{
 "cells": [
  {
   "cell_type": "markdown",
   "id": "0da83f46",
   "metadata": {},
   "source": [
    "# Setup plenar protocols database and collect speech data"
   ]
  },
  {
   "cell_type": "markdown",
   "id": "280db0bb",
   "metadata": {},
   "source": [
    "### 1. Import packages"
   ]
  },
  {
   "cell_type": "code",
   "execution_count": null,
   "id": "3be99516",
   "metadata": {},
   "outputs": [],
   "source": [
    "import os\n",
    "import pandas as pd\n",
    "import psycopg2"
   ]
  },
  {
   "cell_type": "markdown",
   "id": "7489cb3d",
   "metadata": {},
   "source": [
    "### 2. Define variables and functions"
   ]
  },
  {
   "cell_type": "code",
   "execution_count": null,
   "id": "d3c48340",
   "metadata": {},
   "outputs": [],
   "source": [
    "con_details = {\n",
    "    \"host\": \"localhost\",\n",
    "    \"database\": \"next\",\n",
    "    \"user\": \"postgres\",\n",
    "    \"password\": \"postgres\",\n",
    "    \"port\": \"5432\"}"
   ]
  },
  {
   "cell_type": "code",
   "execution_count": null,
   "id": "ddd794eb",
   "metadata": {},
   "outputs": [],
   "source": [
    "query_all = \"\"\"SELECT * from open_discourse.speeches \n",
    "               WHERE electoral_term = 18 OR electoral_term = 19\"\"\""
   ]
  },
  {
   "cell_type": "markdown",
   "id": "75f120b6",
   "metadata": {},
   "source": [
    "### 3. Setup local database"
   ]
  },
  {
   "cell_type": "markdown",
   "id": "836c8c35",
   "metadata": {},
   "source": [
    "We are using the preprocessed data from [open discourse](https://github.com/open-discourse/open-discourse)."
   ]
  },
  {
   "cell_type": "markdown",
   "id": "3ed19ca0",
   "metadata": {},
   "source": [
    "The first step is to download and setup Docker from [here](https://www.docker.com/products/docker-desktop). Then you need to launch Docker."
   ]
  },
  {
   "cell_type": "code",
   "execution_count": null,
   "id": "733b632c",
   "metadata": {},
   "outputs": [],
   "source": [
    "# Navigate to package\n",
    "os.system(\"cd ..\")"
   ]
  },
  {
   "cell_type": "code",
   "execution_count": null,
   "id": "8b5e1139",
   "metadata": {},
   "outputs": [],
   "source": [
    "# Login to Github for Docker access\n",
    "os.system(\"docker login docker.pkg.github.com\")"
   ]
  },
  {
   "cell_type": "code",
   "execution_count": null,
   "id": "15271435",
   "metadata": {},
   "outputs": [],
   "source": [
    "# On the first run download the Docker container\n",
    "os.system(\"docker pull docker.pkg.github.com/open-discourse/open-discourse/database:latest\")"
   ]
  },
  {
   "cell_type": "code",
   "execution_count": null,
   "id": "b93e7c42",
   "metadata": {},
   "outputs": [],
   "source": [
    "# Start and run the database in the Docker container\n",
    "os.system(\"docker run --env POSTGRES_USER=postgres --env POSTGRES_DB=postgres --env POSTGRES_PASSWORD=postgres -p 5432:5432 -d docker.pkg.github.com/open-discourse/open-discourse/database\")"
   ]
  },
  {
   "cell_type": "markdown",
   "id": "eaea5697",
   "metadata": {},
   "source": [
    "### 4. Retrieve speeches data"
   ]
  },
  {
   "cell_type": "code",
   "execution_count": null,
   "id": "8d77f820",
   "metadata": {},
   "outputs": [],
   "source": [
    "con = psycopg2.connect(**con_details)"
   ]
  },
  {
   "cell_type": "code",
   "execution_count": null,
   "id": "4898e2ba",
   "metadata": {},
   "outputs": [],
   "source": [
    "cur = con.cursor()"
   ]
  },
  {
   "cell_type": "code",
   "execution_count": null,
   "id": "121f626e",
   "metadata": {},
   "outputs": [],
   "source": [
    "cur.execute(query_all)"
   ]
  },
  {
   "cell_type": "code",
   "execution_count": null,
   "id": "f1e057dc",
   "metadata": {},
   "outputs": [],
   "source": [
    "rows = cur.fetchall()"
   ]
  },
  {
   "cell_type": "code",
   "execution_count": null,
   "id": "f77de44a",
   "metadata": {},
   "outputs": [],
   "source": [
    "speeches_df = pd.DataFrame(rows)"
   ]
  },
  {
   "cell_type": "code",
   "execution_count": null,
   "id": "76e3e656",
   "metadata": {},
   "outputs": [],
   "source": [
    "column_names = [\"id\", \"session\", \"electoral_term\", \"first_name\", \"last_name\", \"politician_id\", \"text\",\n",
    "                \"fraction_id\", \"document_url\", \"position_short\", \"position_long\", \"date\", \"search_speech_content\"]"
   ]
  },
  {
   "cell_type": "code",
   "execution_count": null,
   "id": "656ff6ea",
   "metadata": {},
   "outputs": [],
   "source": [
    "speeches_df.columns = column_names"
   ]
  },
  {
   "cell_type": "code",
   "execution_count": null,
   "id": "c5b00259",
   "metadata": {},
   "outputs": [],
   "source": [
    "speeches_df.to_csv(\"../data/raw/speeches_retrieved.csv\", index=False)"
   ]
  }
 ],
 "metadata": {
  "kernelspec": {
   "display_name": "Python 3 (ipykernel)",
   "language": "python",
   "name": "python3"
  },
  "language_info": {
   "codemirror_mode": {
    "name": "ipython",
    "version": 3
   },
   "file_extension": ".py",
   "mimetype": "text/x-python",
   "name": "python",
   "nbconvert_exporter": "python",
   "pygments_lexer": "ipython3",
   "version": "3.8.12"
  }
 },
 "nbformat": 4,
 "nbformat_minor": 5
}