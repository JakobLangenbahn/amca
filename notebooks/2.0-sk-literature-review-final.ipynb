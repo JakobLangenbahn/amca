{
 "cells": [
  {
   "cell_type": "markdown",
   "id": "bc70429d",
   "metadata": {},
   "source": [
    "# 2. Literature Review"
   ]
  },
  {
   "cell_type": "markdown",
   "id": "2be728cb",
   "metadata": {},
   "source": [
    "In preparation for our research we first look at some similar projects and papers already published. As the field of automated media content analysis is starting to grow exponentially in recent years it is no wonder that there are many researches conducted in the field and new findings shared. For our specific task at hand we looked at some topic modeling and sentiment analysis work done on German texts especially in the context of politics and social media. "
   ]
  },
  {
   "cell_type": "markdown",
   "id": "6f6a6068",
   "metadata": {},
   "source": [
    "Like Fatema et a. (cite) have already dicussed in their paper that nowadays social media plays a important role for politicians when they want to communicate and get popular with citizens. Like with every marketing approach it is vital for the politicians to get range and a lot of exposure on their topics and opinions. Therefore platforms like Twitter serve the politicians as channels to talk to a very specific part of their voters in order to keep them informed and market for themselves and their parties. What is also desireable for them is to be able to communicate with the citizens in discussions and to have a platform to share views outside the boundaries of the Bundestag. For our research that means that we have to take a look at how and what the politicians present on their social medias and how it compares to their appearence in the Bundestag."
   ]
  },
  {
   "cell_type": "markdown",
   "id": "b2bf441b",
   "metadata": {},
   "source": [
    "For the first methodology used by us to analyze the politicians we want to apply topic modeling to the corpi. There exists a very promissing initiative in the form of Open Discourse (cite) that wants to analyse the texts from the speeches of the Bundestag and make the insights more available for the public. In their work they use data science methods in combination with political research to gain information for the vast amount of data avaiable in form of protocols. As the Bundestag is in the center of German politics and these information are available for everybody it is an initiative that is concerned with the political education and information of the German population. Especially topic modelling in form of LDA topic models can be found in their research. <br>\n",
    "In the paper by Heiberger and Koss (cite) we can also see the LDA model being applied to see the topics and trends in the German Bundestag. The goal of their analysis was get an automated method to identify topics and their use. They showed how this method can be applied to successfully gain insights over a vast corpus that cannot be coded by hand. Nevertheless, they stress the need for manual coding or a validation with human coding as the automated approach can't guarantee valid results on its own. Where this approach end we want to go even further and apply more models in form of NNFK models and BERT topic models to try different and new approaches for automated topic modeling. We also want to consider social media data as before mentioned it is getting more vital for politicians to address citizens over social media."
   ]
  },
  {
   "cell_type": "markdown",
   "id": "9bc39994",
   "metadata": {},
   "source": [
    "In a second part, we want to look at the sentiments of politicians in the German Bundestag. As Haselmayer and Jenny (cite) stress in their paper that sentiment for public opinion and political campaigns is eminent. Therefore, the analysis of sentiment and the exploration of important factors in determining sentiment are of great interest for us. As warned in their paper we will have to account for language biases and the limitations of the methods applied. A advantage of automated methods definitely lies in their scalability and and that they can be further adhanced with human coding. In their paper they created a dicitionary for negative sentiment with the help of crowdcoding a approach that we sadly could not apply in our project scope but which seems to be promissing. One takeaway is that we have to be cautious with general purpose dictionaries as they may not cover important topics of sentiment or are biased. <br>\n",
    "For the paper of Lommatzsch et a. (cite) we also see a approach to create better coverage in German sentiment analysis also using two corpora. They also stress the difficulty of the task at hand as sentiment is very context dependent. In their work the apply machine learning models to annotated corpora to create sentiment models. Furthermore, they are using a SentiWS based classifier in their work which we will apply as only the dictionary due to our unlabeled corpus. As the creation of new corpora for the German language was not our prime target we will focus on the application of dicitonary approaches to answer our research questions."
   ]
  },
  {
   "cell_type": "markdown",
   "id": "309c6e8f",
   "metadata": {},
   "source": [
    "Judging from the available research we have entered a field of many options which we can't possibly all try out. Nevertheless, we can profit from the experience and best practices suggested by those papers and hope to achieve some interesting results with our own approaches."
   ]
  }
 ],
 "metadata": {
  "kernelspec": {
   "display_name": "Python 3 (ipykernel)",
   "language": "python",
   "name": "python3"
  },
  "language_info": {
   "codemirror_mode": {
    "name": "ipython",
    "version": 3
   },
   "file_extension": ".py",
   "mimetype": "text/x-python",
   "name": "python",
   "nbconvert_exporter": "python",
   "pygments_lexer": "ipython3",
   "version": "3.9.7"
  }
 },
 "nbformat": 4,
 "nbformat_minor": 5
}
