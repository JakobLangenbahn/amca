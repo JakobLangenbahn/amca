{
 "cells": [
  {
   "cell_type": "markdown",
   "id": "2f8387f0",
   "metadata": {},
   "source": [
    "# Data Exploration"
   ]
  },
  {
   "cell_type": "markdown",
   "id": "c7bdd95c",
   "metadata": {},
   "source": [
    "### 1. Import packages"
   ]
  },
  {
   "cell_type": "code",
   "execution_count": 1,
   "id": "3aad6415",
   "metadata": {},
   "outputs": [],
   "source": [
    "import numpy as np\n",
    "import pandas as pd\n",
    "import matplotlib.pyplot as plt\n",
    "from wordcloud import WordCloud\n",
    "from collections import Counter\n",
    "from tqdm.notebook import tqdm\n",
    "\n",
    "tqdm.pandas()"
   ]
  },
  {
   "cell_type": "markdown",
   "id": "d488f703",
   "metadata": {},
   "source": [
    "### 2. Explore tweets of politicians"
   ]
  },
  {
   "cell_type": "markdown",
   "id": "4d91634f",
   "metadata": {},
   "source": [
    "#### Import data"
   ]
  },
  {
   "cell_type": "code",
   "execution_count": 2,
   "id": "dbbd3585",
   "metadata": {
    "scrolled": true
   },
   "outputs": [
    {
     "name": "stderr",
     "output_type": "stream",
     "text": [
      "/Users/jakob/opt/miniconda3/envs/amca/lib/python3.8/site-packages/IPython/core/interactiveshell.py:3251: DtypeWarning: Columns (1,6) have mixed types.Specify dtype option on import or set low_memory=False.\n",
      "  exec(code_obj, self.user_global_ns, self.user_ns)\n"
     ]
    }
   ],
   "source": [
    "tweets_scraped = pd.read_csv(\"../data/raw/tweets_scraped.csv\")"
   ]
  },
  {
   "cell_type": "markdown",
   "id": "91d8a2e7",
   "metadata": {},
   "source": [
    "#### Check data"
   ]
  },
  {
   "cell_type": "code",
   "execution_count": 3,
   "id": "6375b453",
   "metadata": {},
   "outputs": [
    {
     "data": {
      "text/html": [
       "<div>\n",
       "<style scoped>\n",
       "    .dataframe tbody tr th:only-of-type {\n",
       "        vertical-align: middle;\n",
       "    }\n",
       "\n",
       "    .dataframe tbody tr th {\n",
       "        vertical-align: top;\n",
       "    }\n",
       "\n",
       "    .dataframe thead th {\n",
       "        text-align: right;\n",
       "    }\n",
       "</style>\n",
       "<table border=\"1\" class=\"dataframe\">\n",
       "  <thead>\n",
       "    <tr style=\"text-align: right;\">\n",
       "      <th></th>\n",
       "      <th>datetime</th>\n",
       "      <th>tweet_id</th>\n",
       "      <th>text</th>\n",
       "      <th>username</th>\n",
       "      <th>name</th>\n",
       "      <th>reply_count</th>\n",
       "      <th>retweet_count</th>\n",
       "      <th>like_count</th>\n",
       "      <th>party</th>\n",
       "    </tr>\n",
       "  </thead>\n",
       "  <tbody>\n",
       "    <tr>\n",
       "      <th>0</th>\n",
       "      <td>2022-01-18 11:58:18+00:00</td>\n",
       "      <td>1483408404173500416</td>\n",
       "      <td>Der neuen Präsidentin des @Europarl_DE @Robert...</td>\n",
       "      <td>rbrinkhaus</td>\n",
       "      <td>Ralph Brinkhaus</td>\n",
       "      <td>3.0</td>\n",
       "      <td>3</td>\n",
       "      <td>41.0</td>\n",
       "      <td>CDU</td>\n",
       "    </tr>\n",
       "    <tr>\n",
       "      <th>1</th>\n",
       "      <td>2021-12-24 09:06:37+00:00</td>\n",
       "      <td>1474305500472922113</td>\n",
       "      <td>Ich wünsche Ihnen ein frohes und gesegnetes We...</td>\n",
       "      <td>rbrinkhaus</td>\n",
       "      <td>Ralph Brinkhaus</td>\n",
       "      <td>26.0</td>\n",
       "      <td>5</td>\n",
       "      <td>82.0</td>\n",
       "      <td>CDU</td>\n",
       "    </tr>\n",
       "    <tr>\n",
       "      <th>2</th>\n",
       "      <td>2021-12-17 13:41:57+00:00</td>\n",
       "      <td>1471838074413924356</td>\n",
       "      <td>Herzlichen Glückwunsch @_FriedrichMerz. Alles ...</td>\n",
       "      <td>rbrinkhaus</td>\n",
       "      <td>Ralph Brinkhaus</td>\n",
       "      <td>132.0</td>\n",
       "      <td>22</td>\n",
       "      <td>607.0</td>\n",
       "      <td>CDU</td>\n",
       "    </tr>\n",
       "    <tr>\n",
       "      <th>3</th>\n",
       "      <td>2021-12-15 12:34:54+00:00</td>\n",
       "      <td>1471096426381942791</td>\n",
       "      <td>@dieLinke Die Rede in voller Länge gibt es in ...</td>\n",
       "      <td>rbrinkhaus</td>\n",
       "      <td>Ralph Brinkhaus</td>\n",
       "      <td>7.0</td>\n",
       "      <td>2</td>\n",
       "      <td>13.0</td>\n",
       "      <td>CDU</td>\n",
       "    </tr>\n",
       "    <tr>\n",
       "      <th>4</th>\n",
       "      <td>2021-12-15 11:58:36+00:00</td>\n",
       "      <td>1471087291913449472</td>\n",
       "      <td>Eine Demokratie braucht eine starke #Oppositio...</td>\n",
       "      <td>rbrinkhaus</td>\n",
       "      <td>Ralph Brinkhaus</td>\n",
       "      <td>8.0</td>\n",
       "      <td>1</td>\n",
       "      <td>33.0</td>\n",
       "      <td>CDU</td>\n",
       "    </tr>\n",
       "  </tbody>\n",
       "</table>\n",
       "</div>"
      ],
      "text/plain": [
       "                    datetime             tweet_id  \\\n",
       "0  2022-01-18 11:58:18+00:00  1483408404173500416   \n",
       "1  2021-12-24 09:06:37+00:00  1474305500472922113   \n",
       "2  2021-12-17 13:41:57+00:00  1471838074413924356   \n",
       "3  2021-12-15 12:34:54+00:00  1471096426381942791   \n",
       "4  2021-12-15 11:58:36+00:00  1471087291913449472   \n",
       "\n",
       "                                                text    username  \\\n",
       "0  Der neuen Präsidentin des @Europarl_DE @Robert...  rbrinkhaus   \n",
       "1  Ich wünsche Ihnen ein frohes und gesegnetes We...  rbrinkhaus   \n",
       "2  Herzlichen Glückwunsch @_FriedrichMerz. Alles ...  rbrinkhaus   \n",
       "3  @dieLinke Die Rede in voller Länge gibt es in ...  rbrinkhaus   \n",
       "4  Eine Demokratie braucht eine starke #Oppositio...  rbrinkhaus   \n",
       "\n",
       "              name  reply_count retweet_count  like_count party  \n",
       "0  Ralph Brinkhaus          3.0             3        41.0   CDU  \n",
       "1  Ralph Brinkhaus         26.0             5        82.0   CDU  \n",
       "2  Ralph Brinkhaus        132.0            22       607.0   CDU  \n",
       "3  Ralph Brinkhaus          7.0             2        13.0   CDU  \n",
       "4  Ralph Brinkhaus          8.0             1        33.0   CDU  "
      ]
     },
     "execution_count": 3,
     "metadata": {},
     "output_type": "execute_result"
    }
   ],
   "source": [
    "tweets_scraped.head()"
   ]
  },
  {
   "cell_type": "code",
   "execution_count": 4,
   "id": "c6a2b213",
   "metadata": {},
   "outputs": [
    {
     "data": {
      "text/html": [
       "<div>\n",
       "<style scoped>\n",
       "    .dataframe tbody tr th:only-of-type {\n",
       "        vertical-align: middle;\n",
       "    }\n",
       "\n",
       "    .dataframe tbody tr th {\n",
       "        vertical-align: top;\n",
       "    }\n",
       "\n",
       "    .dataframe thead th {\n",
       "        text-align: right;\n",
       "    }\n",
       "</style>\n",
       "<table border=\"1\" class=\"dataframe\">\n",
       "  <thead>\n",
       "    <tr style=\"text-align: right;\">\n",
       "      <th></th>\n",
       "      <th>datetime</th>\n",
       "      <th>tweet_id</th>\n",
       "      <th>text</th>\n",
       "      <th>username</th>\n",
       "      <th>name</th>\n",
       "      <th>reply_count</th>\n",
       "      <th>retweet_count</th>\n",
       "      <th>like_count</th>\n",
       "      <th>party</th>\n",
       "    </tr>\n",
       "  </thead>\n",
       "  <tbody>\n",
       "    <tr>\n",
       "      <th>400275</th>\n",
       "      <td>2013-11-10 20:30:25+00:00</td>\n",
       "      <td>399635176701329408</td>\n",
       "      <td>@stefanb_ Die KandidatInnen haben die Unterstü...</td>\n",
       "      <td>ABaerbockArchiv</td>\n",
       "      <td>Annalena Baerbock (Archiv)</td>\n",
       "      <td>1.0</td>\n",
       "      <td>0</td>\n",
       "      <td>0.0</td>\n",
       "      <td>Grüne</td>\n",
       "    </tr>\n",
       "    <tr>\n",
       "      <th>400276</th>\n",
       "      <td>2013-11-10 11:12:28+00:00</td>\n",
       "      <td>399494763264872448</td>\n",
       "      <td>You decide Europe - Vote now on: greenprimary.eu</td>\n",
       "      <td>ABaerbockArchiv</td>\n",
       "      <td>Annalena Baerbock (Archiv)</td>\n",
       "      <td>1.0</td>\n",
       "      <td>0</td>\n",
       "      <td>1.0</td>\n",
       "      <td>Grüne</td>\n",
       "    </tr>\n",
       "    <tr>\n",
       "      <th>400277</th>\n",
       "      <td>2013-11-09 14:55:36+00:00</td>\n",
       "      <td>399188527256055809</td>\n",
       "      <td>Engagierte Diskussion zu europ. &amp;amp; globalen...</td>\n",
       "      <td>ABaerbockArchiv</td>\n",
       "      <td>Annalena Baerbock (Archiv)</td>\n",
       "      <td>0.0</td>\n",
       "      <td>0</td>\n",
       "      <td>1.0</td>\n",
       "      <td>Grüne</td>\n",
       "    </tr>\n",
       "    <tr>\n",
       "      <th>400278</th>\n",
       "      <td>2013-11-08 11:24:22+00:00</td>\n",
       "      <td>398772981528150016</td>\n",
       "      <td>Spannende Klausur der Europagruppe von @Die_Gr...</td>\n",
       "      <td>ABaerbockArchiv</td>\n",
       "      <td>Annalena Baerbock (Archiv)</td>\n",
       "      <td>0.0</td>\n",
       "      <td>0</td>\n",
       "      <td>3.0</td>\n",
       "      <td>Grüne</td>\n",
       "    </tr>\n",
       "    <tr>\n",
       "      <th>400279</th>\n",
       "      <td>2013-11-07 13:53:38+00:00</td>\n",
       "      <td>398448157262381057</td>\n",
       "      <td>Hoffe, die Kommission macht gut Druck gegen di...</td>\n",
       "      <td>ABaerbockArchiv</td>\n",
       "      <td>Annalena Baerbock (Archiv)</td>\n",
       "      <td>0.0</td>\n",
       "      <td>3</td>\n",
       "      <td>4.0</td>\n",
       "      <td>Grüne</td>\n",
       "    </tr>\n",
       "  </tbody>\n",
       "</table>\n",
       "</div>"
      ],
      "text/plain": [
       "                         datetime            tweet_id  \\\n",
       "400275  2013-11-10 20:30:25+00:00  399635176701329408   \n",
       "400276  2013-11-10 11:12:28+00:00  399494763264872448   \n",
       "400277  2013-11-09 14:55:36+00:00  399188527256055809   \n",
       "400278  2013-11-08 11:24:22+00:00  398772981528150016   \n",
       "400279  2013-11-07 13:53:38+00:00  398448157262381057   \n",
       "\n",
       "                                                     text         username  \\\n",
       "400275  @stefanb_ Die KandidatInnen haben die Unterstü...  ABaerbockArchiv   \n",
       "400276   You decide Europe - Vote now on: greenprimary.eu  ABaerbockArchiv   \n",
       "400277  Engagierte Diskussion zu europ. &amp; globalen...  ABaerbockArchiv   \n",
       "400278  Spannende Klausur der Europagruppe von @Die_Gr...  ABaerbockArchiv   \n",
       "400279  Hoffe, die Kommission macht gut Druck gegen di...  ABaerbockArchiv   \n",
       "\n",
       "                              name  reply_count retweet_count  like_count  \\\n",
       "400275  Annalena Baerbock (Archiv)          1.0             0         0.0   \n",
       "400276  Annalena Baerbock (Archiv)          1.0             0         1.0   \n",
       "400277  Annalena Baerbock (Archiv)          0.0             0         1.0   \n",
       "400278  Annalena Baerbock (Archiv)          0.0             0         3.0   \n",
       "400279  Annalena Baerbock (Archiv)          0.0             3         4.0   \n",
       "\n",
       "        party  \n",
       "400275  Grüne  \n",
       "400276  Grüne  \n",
       "400277  Grüne  \n",
       "400278  Grüne  \n",
       "400279  Grüne  "
      ]
     },
     "execution_count": 4,
     "metadata": {},
     "output_type": "execute_result"
    }
   ],
   "source": [
    "tweets_scraped.tail()"
   ]
  },
  {
   "cell_type": "code",
   "execution_count": 5,
   "id": "2202be29",
   "metadata": {},
   "outputs": [
    {
     "name": "stdout",
     "output_type": "stream",
     "text": [
      "<class 'pandas.core.frame.DataFrame'>\n",
      "RangeIndex: 400280 entries, 0 to 400279\n",
      "Data columns (total 9 columns):\n",
      " #   Column         Non-Null Count   Dtype  \n",
      "---  ------         --------------   -----  \n",
      " 0   datetime       400280 non-null  object \n",
      " 1   tweet_id       400278 non-null  object \n",
      " 2   text           400278 non-null  object \n",
      " 3   username       341102 non-null  object \n",
      " 4   name           341102 non-null  object \n",
      " 5   reply_count    341102 non-null  float64\n",
      " 6   retweet_count  341102 non-null  object \n",
      " 7   like_count     341100 non-null  float64\n",
      " 8   party          341100 non-null  object \n",
      "dtypes: float64(2), object(7)\n",
      "memory usage: 27.5+ MB\n"
     ]
    }
   ],
   "source": [
    "tweets_scraped.info()"
   ]
  },
  {
   "cell_type": "code",
   "execution_count": 6,
   "id": "6f4bb168",
   "metadata": {},
   "outputs": [
    {
     "data": {
      "text/html": [
       "<div>\n",
       "<style scoped>\n",
       "    .dataframe tbody tr th:only-of-type {\n",
       "        vertical-align: middle;\n",
       "    }\n",
       "\n",
       "    .dataframe tbody tr th {\n",
       "        vertical-align: top;\n",
       "    }\n",
       "\n",
       "    .dataframe thead th {\n",
       "        text-align: right;\n",
       "    }\n",
       "</style>\n",
       "<table border=\"1\" class=\"dataframe\">\n",
       "  <thead>\n",
       "    <tr style=\"text-align: right;\">\n",
       "      <th></th>\n",
       "      <th>reply_count</th>\n",
       "      <th>like_count</th>\n",
       "    </tr>\n",
       "  </thead>\n",
       "  <tbody>\n",
       "    <tr>\n",
       "      <th>count</th>\n",
       "      <td>341102.000000</td>\n",
       "      <td>341100.000000</td>\n",
       "    </tr>\n",
       "    <tr>\n",
       "      <th>mean</th>\n",
       "      <td>17.121946</td>\n",
       "      <td>135.328531</td>\n",
       "    </tr>\n",
       "    <tr>\n",
       "      <th>std</th>\n",
       "      <td>84.147600</td>\n",
       "      <td>732.384448</td>\n",
       "    </tr>\n",
       "    <tr>\n",
       "      <th>min</th>\n",
       "      <td>0.000000</td>\n",
       "      <td>0.000000</td>\n",
       "    </tr>\n",
       "    <tr>\n",
       "      <th>25%</th>\n",
       "      <td>0.000000</td>\n",
       "      <td>0.000000</td>\n",
       "    </tr>\n",
       "    <tr>\n",
       "      <th>50%</th>\n",
       "      <td>1.000000</td>\n",
       "      <td>5.000000</td>\n",
       "    </tr>\n",
       "    <tr>\n",
       "      <th>75%</th>\n",
       "      <td>6.000000</td>\n",
       "      <td>47.000000</td>\n",
       "    </tr>\n",
       "    <tr>\n",
       "      <th>max</th>\n",
       "      <td>9635.000000</td>\n",
       "      <td>106464.000000</td>\n",
       "    </tr>\n",
       "  </tbody>\n",
       "</table>\n",
       "</div>"
      ],
      "text/plain": [
       "         reply_count     like_count\n",
       "count  341102.000000  341100.000000\n",
       "mean       17.121946     135.328531\n",
       "std        84.147600     732.384448\n",
       "min         0.000000       0.000000\n",
       "25%         0.000000       0.000000\n",
       "50%         1.000000       5.000000\n",
       "75%         6.000000      47.000000\n",
       "max      9635.000000  106464.000000"
      ]
     },
     "execution_count": 6,
     "metadata": {},
     "output_type": "execute_result"
    }
   ],
   "source": [
    "tweets_scraped.describe()"
   ]
  },
  {
   "cell_type": "markdown",
   "id": "b8359260",
   "metadata": {},
   "source": [
    "#### Drop missing data"
   ]
  },
  {
   "cell_type": "markdown",
   "id": "9bb99dee",
   "metadata": {},
   "source": [
    "We drop all records with missing data, as we cannot use this data for our analysis."
   ]
  },
  {
   "cell_type": "code",
   "execution_count": 7,
   "id": "8336e732",
   "metadata": {},
   "outputs": [],
   "source": [
    "tweets_scraped.dropna(inplace = True)"
   ]
  },
  {
   "cell_type": "code",
   "execution_count": 8,
   "id": "566d602f",
   "metadata": {},
   "outputs": [
    {
     "name": "stdout",
     "output_type": "stream",
     "text": [
      "<class 'pandas.core.frame.DataFrame'>\n",
      "Int64Index: 341100 entries, 0 to 400279\n",
      "Data columns (total 9 columns):\n",
      " #   Column         Non-Null Count   Dtype  \n",
      "---  ------         --------------   -----  \n",
      " 0   datetime       341100 non-null  object \n",
      " 1   tweet_id       341100 non-null  object \n",
      " 2   text           341100 non-null  object \n",
      " 3   username       341100 non-null  object \n",
      " 4   name           341100 non-null  object \n",
      " 5   reply_count    341100 non-null  float64\n",
      " 6   retweet_count  341100 non-null  object \n",
      " 7   like_count     341100 non-null  float64\n",
      " 8   party          341100 non-null  object \n",
      "dtypes: float64(2), object(7)\n",
      "memory usage: 26.0+ MB\n"
     ]
    }
   ],
   "source": [
    "tweets_scraped.info()"
   ]
  },
  {
   "cell_type": "markdown",
   "id": "ac4dbb07",
   "metadata": {},
   "source": [
    "#### Clean names"
   ]
  },
  {
   "cell_type": "code",
   "execution_count": 9,
   "id": "c6c9d4f8",
   "metadata": {},
   "outputs": [],
   "source": [
    "usernames_to_fullname = {'rbrinkhaus': 'Ralph Brinkhaus', 'groehe': 'Hermann Gröhe', \n",
    "                         'NadineSchoen': 'Nadine Schön', 'n_roettgen': 'Norbert Röttgen',\n",
    "                         'peteraltmaier': 'Peter Altmaier', 'jensspahn': 'Jens Spahn', \n",
    "                         'MatthiasHauer': 'Matthias Hauer', 'c_lindner': 'Christian Lindner',\n",
    "                         'MarcoBuschmann': 'Marco Buschmann', 'starkwatzinger': 'Bettina Stark-Watzinger',\n",
    "                         'Lambsdorff': 'Alexander Graf Lambsdorff', 'johannesvogel': 'Johannes Vogel',\n",
    "                         'KonstantinKuhle': 'Konstantin Kuhle', 'MAStrackZi': 'Marie-Agnes Strack-Zimmermann',\n",
    "                         'larsklingbeil': 'Lars Klingbeil', 'EskenSaskia': 'Saskia Esken',\n",
    "                         'hubertus_heil': 'Hubertus Heil', 'HeikoMaas': 'Heiko Maas',\n",
    "                         'MartinSchulz': 'Martin Schulz', 'KarambaDiaby': 'Karamba Diaby',\n",
    "                         'Karl_Lauterbach': 'Karl Lauterbach', 'SteffiLemke': 'Steffi Lemke',\n",
    "                         'cem_oezdemir': 'Cem Özdemir', 'GoeringEckardt': 'Katrin Göring-Eckardt',\n",
    "                         'KonstantinNotz': 'Konstantin von Notz', '6': 'Konstantin von Notz',\n",
    "                         'BriHasselmann': 'Britta Haßelmann', 'svenlehmann': 'Sven Lehmann',\n",
    "                         'ABaerbock': 'Annalena Baerbock', 'ABaerbockArchiv': 'Annalena Baerbock',\n",
    "                         'SWagenknecht': 'Sahra Wagenknecht', 'b_riexinger': 'Bernd Riexinger',\n",
    "                         'NiemaMovassat': 'Niema Movassat', 'jankortemdb': 'Jan Korte',\n",
    "                         'DietmarBartsch': 'Dietmar Bartsch', 'GregorGysi': 'Gregor Gysi',\n",
    "                         'SevimDagdelen': 'Sevim Dağdelen', 'Alice_Weidel': 'Alice Weidel',\n",
    "                         'Beatrix_vStorch': 'Beatrix von Storch', 'JoanaCotar': 'Joana Cotar',\n",
    "                         'StBrandner': 'Stephan Brandner', 'Tino_Chrupalla': 'Tino Chrupalla',\n",
    "                         'GtzFrmming': 'Götz Frömming', '3': 'Götz Frömming', 'Leif_Erik_Holm': 'Leif-Erik Holm'}"
   ]
  },
  {
   "cell_type": "code",
   "execution_count": 10,
   "id": "4200ac45",
   "metadata": {},
   "outputs": [],
   "source": [
    "tweets_scraped[\"full_name\"] = tweets_scraped.username.replace(usernames_to_fullname)"
   ]
  },
  {
   "cell_type": "markdown",
   "id": "0b96d33c",
   "metadata": {},
   "source": [
    "#### Check date of tweets"
   ]
  },
  {
   "cell_type": "code",
   "execution_count": 11,
   "id": "1a91c6b4",
   "metadata": {},
   "outputs": [],
   "source": [
    "tweets_scraped[\"date\"] = pd.to_datetime(tweets_scraped[\"datetime\"], format = \"%Y-%m-%d\").dt.date"
   ]
  },
  {
   "cell_type": "code",
   "execution_count": 12,
   "id": "80ccab9e",
   "metadata": {},
   "outputs": [
    {
     "data": {
      "text/plain": [
       "datetime.date(2008, 8, 23)"
      ]
     },
     "execution_count": 12,
     "metadata": {},
     "output_type": "execute_result"
    }
   ],
   "source": [
    "tweets_scraped.date.min()"
   ]
  },
  {
   "cell_type": "code",
   "execution_count": 13,
   "id": "753bccb4",
   "metadata": {},
   "outputs": [
    {
     "data": {
      "text/plain": [
       "datetime.date(2022, 1, 20)"
      ]
     },
     "execution_count": 13,
     "metadata": {},
     "output_type": "execute_result"
    }
   ],
   "source": [
    "tweets_scraped.date.max()"
   ]
  },
  {
   "cell_type": "markdown",
   "id": "36300cff",
   "metadata": {},
   "source": [
    "As we do not need data for the whole timespan of the scraped tweets, we can drop tweeets after and before. "
   ]
  },
  {
   "cell_type": "code",
   "execution_count": 14,
   "id": "577cea24",
   "metadata": {},
   "outputs": [
    {
     "name": "stderr",
     "output_type": "stream",
     "text": [
      "/Users/jakob/opt/miniconda3/envs/amca/lib/python3.8/site-packages/pandas/core/ops/array_ops.py:73: FutureWarning: Comparison of Timestamp with datetime.date is deprecated in order to match the standard library behavior.  In a future version these will be considered non-comparable.Use 'ts == pd.Timestamp(date)' or 'ts.date() == date' instead.\n",
      "  result = libops.scalar_compare(x.ravel(), y, op)\n"
     ]
    }
   ],
   "source": [
    "tweets_subset = tweets_scraped[np.logical_and(tweets_scraped.date >= pd.Timestamp(\"24.10.2017\"), tweets_scraped.date <= pd.Timestamp(\"07.05.2021\"))]"
   ]
  },
  {
   "cell_type": "code",
   "execution_count": 15,
   "id": "860918a2",
   "metadata": {},
   "outputs": [
    {
     "data": {
      "text/plain": [
       "datetime.date(2017, 10, 24)"
      ]
     },
     "execution_count": 15,
     "metadata": {},
     "output_type": "execute_result"
    }
   ],
   "source": [
    "tweets_subset.date.min()"
   ]
  },
  {
   "cell_type": "code",
   "execution_count": 16,
   "id": "d21ff94a",
   "metadata": {},
   "outputs": [
    {
     "data": {
      "text/plain": [
       "datetime.date(2021, 7, 5)"
      ]
     },
     "execution_count": 16,
     "metadata": {},
     "output_type": "execute_result"
    }
   ],
   "source": [
    "tweets_subset.date.max()"
   ]
  },
  {
   "cell_type": "markdown",
   "id": "61f90f62",
   "metadata": {},
   "source": [
    "#### Checkt text"
   ]
  },
  {
   "cell_type": "code",
   "execution_count": 17,
   "id": "fff2ce9e",
   "metadata": {},
   "outputs": [
    {
     "data": {
      "application/vnd.jupyter.widget-view+json": {
       "model_id": "0ad87932ebf24f288c03820b412848b1",
       "version_major": 2,
       "version_minor": 0
      },
      "text/plain": [
       "  0%|          | 0/164460 [00:00<?, ?it/s]"
      ]
     },
     "metadata": {},
     "output_type": "display_data"
    },
    {
     "name": "stderr",
     "output_type": "stream",
     "text": [
      "/var/folders/zx/r0fw_tq95g13lvmt5x8bp_vr0000gn/T/ipykernel_62461/123666153.py:1: SettingWithCopyWarning: \n",
      "A value is trying to be set on a copy of a slice from a DataFrame.\n",
      "Try using .loc[row_indexer,col_indexer] = value instead\n",
      "\n",
      "See the caveats in the documentation: https://pandas.pydata.org/pandas-docs/stable/user_guide/indexing.html#returning-a-view-versus-a-copy\n",
      "  tweets_subset[\"tweet_length\"] = tweets_subset.text.progress_apply(len)\n"
     ]
    }
   ],
   "source": [
    "tweets_subset[\"tweet_length\"] = tweets_subset.text.progress_apply(len)"
   ]
  },
  {
   "cell_type": "markdown",
   "id": "8ee818db",
   "metadata": {},
   "source": [
    "We identified tweets with very few characters. They will be sorted in the preprocessing."
   ]
  },
  {
   "cell_type": "code",
   "execution_count": 18,
   "id": "2bb80f8b",
   "metadata": {},
   "outputs": [
    {
     "data": {
      "text/plain": [
       "1"
      ]
     },
     "execution_count": 18,
     "metadata": {},
     "output_type": "execute_result"
    }
   ],
   "source": [
    "tweets_subset.tweet_length.min()"
   ]
  },
  {
   "cell_type": "markdown",
   "id": "e79fdf94",
   "metadata": {},
   "source": [
    "#### Checkt text"
   ]
  },
  {
   "cell_type": "markdown",
   "id": "1449e7c4",
   "metadata": {},
   "source": [
    "When checking the distribution of tweets, we can see differences, but they are not heavily impeding our results."
   ]
  },
  {
   "cell_type": "code",
   "execution_count": 19,
   "id": "3221a84b",
   "metadata": {},
   "outputs": [
    {
     "data": {
      "text/plain": [
       "party\n",
       "AFD      32878\n",
       "CDU      16687\n",
       "FDP      41668\n",
       "Grüne    19314\n",
       "Linke    21582\n",
       "SPD      32331\n",
       "dtype: int64"
      ]
     },
     "execution_count": 19,
     "metadata": {},
     "output_type": "execute_result"
    }
   ],
   "source": [
    "tweets_subset.groupby(\"party\").size()"
   ]
  },
  {
   "cell_type": "markdown",
   "id": "d6bc4944",
   "metadata": {},
   "source": [
    "#### Check politicians"
   ]
  },
  {
   "cell_type": "markdown",
   "id": "6d4e5720",
   "metadata": {},
   "source": [
    "We see significant differences between the number of tweets per politician ranging from nearly 29665 to 658. This will be an aspect we have to consider in our work."
   ]
  },
  {
   "cell_type": "code",
   "execution_count": 20,
   "id": "31a581ad",
   "metadata": {},
   "outputs": [
    {
     "data": {
      "text/plain": [
       "<AxesSubplot:xlabel='full_name'>"
      ]
     },
     "execution_count": 20,
     "metadata": {},
     "output_type": "execute_result"
    },
    {
     "data": {
      "image/png": "[encoded data removed]",
      "text/plain": [
       "<Figure size 432x288 with 1 Axes>"
      ]
     },
     "metadata": {
      "needs_background": "light"
     },
     "output_type": "display_data"
    }
   ],
   "source": [
    "tweets_scraped.groupby('full_name')['tweet_id'].size().sort_values().plot(kind='bar')"
   ]
  },
  {
   "cell_type": "markdown",
   "id": "4b3f1315",
   "metadata": {},
   "source": [
    "#### Check date"
   ]
  },
  {
   "cell_type": "code",
   "execution_count": 21,
   "id": "0a24e84c",
   "metadata": {
    "scrolled": true
   },
   "outputs": [
    {
     "data": {
      "text/plain": [
       "<AxesSubplot:xlabel='date'>"
      ]
     },
     "execution_count": 21,
     "metadata": {},
     "output_type": "execute_result"
    },
    {
     "data": {
      "image/png": "[encoded data removed]",
      "text/plain": [
       "<Figure size 432x288 with 1 Axes>"
      ]
     },
     "metadata": {
      "needs_background": "light"
     },
     "output_type": "display_data"
    }
   ],
   "source": [
    "tweets_scraped.groupby('date')['tweet_id'].size().plot()"
   ]
  },
  {
   "cell_type": "markdown",
   "id": "8bceecb1",
   "metadata": {},
   "source": [
    "We see an strongly increasing trend of tweets per day. This is caused by two new parties entering the bundestag in 2017."
   ]
  },
  {
   "cell_type": "markdown",
   "id": "8e08a3c0",
   "metadata": {},
   "source": [
    "#### Check text"
   ]
  },
  {
   "cell_type": "code",
   "execution_count": 22,
   "id": "daf6f74e",
   "metadata": {},
   "outputs": [
    {
     "data": {
      "image/png": "[encoded data removed]",
      "text/plain": [
       "<PIL.Image.Image image mode=RGB size=400x200 at 0x7FEFBC7F8940>"
      ]
     },
     "execution_count": 22,
     "metadata": {},
     "output_type": "execute_result"
    }
   ],
   "source": [
    "long_string_tweets = ' '.join(tweets_scraped[\"text\"].tolist())\n",
    "wordcloud_tweets = WordCloud(background_color=\"white\", max_words=5000, contour_width=3, contour_color='steelblue')\n",
    "wordcloud_tweets.generate(long_string_tweets)\n",
    "wordcloud_tweets.to_image()"
   ]
  },
  {
   "cell_type": "code",
   "execution_count": 23,
   "id": "7b735122",
   "metadata": {},
   "outputs": [],
   "source": [
    "counter_tweets = Counter(long_string_tweets.split())"
   ]
  },
  {
   "cell_type": "code",
   "execution_count": 24,
   "id": "d9094c6e",
   "metadata": {},
   "outputs": [
    {
     "data": {
      "text/plain": [
       "[('die', 123222),\n",
       " ('der', 116779),\n",
       " ('und', 108207),\n",
       " ('in', 78726),\n",
       " ('ist', 62979),\n",
       " ('für', 56783),\n",
       " ('nicht', 53156),\n",
       " ('das', 49531),\n",
       " ('zu', 49503),\n",
       " ('den', 42515)]"
      ]
     },
     "execution_count": 24,
     "metadata": {},
     "output_type": "execute_result"
    }
   ],
   "source": [
    "counter_tweets.most_common(10)"
   ]
  },
  {
   "cell_type": "markdown",
   "id": "68a846d2",
   "metadata": {},
   "source": [
    "#### Drop unneeded data"
   ]
  },
  {
   "cell_type": "code",
   "execution_count": 25,
   "id": "b4eb7610",
   "metadata": {
    "scrolled": true
   },
   "outputs": [
    {
     "name": "stderr",
     "output_type": "stream",
     "text": [
      "/Users/jakob/opt/miniconda3/envs/amca/lib/python3.8/site-packages/pandas/core/frame.py:4906: SettingWithCopyWarning: \n",
      "A value is trying to be set on a copy of a slice from a DataFrame\n",
      "\n",
      "See the caveats in the documentation: https://pandas.pydata.org/pandas-docs/stable/user_guide/indexing.html#returning-a-view-versus-a-copy\n",
      "  return super().drop(\n"
     ]
    }
   ],
   "source": [
    "tweets_subset.drop(['datetime', 'tweet_id', 'username','name', 'reply_count',\n",
    "                    'tweet_length'], axis = 1, inplace = True)"
   ]
  },
  {
   "cell_type": "markdown",
   "id": "82f6cf99",
   "metadata": {},
   "source": [
    "#### Export data"
   ]
  },
  {
   "cell_type": "code",
   "execution_count": 26,
   "id": "f2388702",
   "metadata": {},
   "outputs": [],
   "source": [
    "tweets_subset.to_csv(\"../data/interim/tweets_explored.csv\", index = False)"
   ]
  },
  {
   "cell_type": "markdown",
   "id": "859f0785",
   "metadata": {},
   "source": [
    "### 3. Explore speeches of politicians"
   ]
  },
  {
   "cell_type": "markdown",
   "id": "5244125b",
   "metadata": {},
   "source": [
    "#### Import data"
   ]
  },
  {
   "cell_type": "code",
   "execution_count": 27,
   "id": "7afac0b3",
   "metadata": {},
   "outputs": [],
   "source": [
    "speeches_retrieved = pd.read_csv(\"../data/raw/speeches_retrieved.csv\")"
   ]
  },
  {
   "cell_type": "markdown",
   "id": "72994a41",
   "metadata": {},
   "source": [
    "#### Check data"
   ]
  },
  {
   "cell_type": "code",
   "execution_count": 28,
   "id": "c848e836",
   "metadata": {},
   "outputs": [
    {
     "data": {
      "text/html": [
       "<div>\n",
       "<style scoped>\n",
       "    .dataframe tbody tr th:only-of-type {\n",
       "        vertical-align: middle;\n",
       "    }\n",
       "\n",
       "    .dataframe tbody tr th {\n",
       "        vertical-align: top;\n",
       "    }\n",
       "\n",
       "    .dataframe thead th {\n",
       "        text-align: right;\n",
       "    }\n",
       "</style>\n",
       "<table border=\"1\" class=\"dataframe\">\n",
       "  <thead>\n",
       "    <tr style=\"text-align: right;\">\n",
       "      <th></th>\n",
       "      <th>id</th>\n",
       "      <th>session</th>\n",
       "      <th>electoral_term</th>\n",
       "      <th>first_name</th>\n",
       "      <th>last_name</th>\n",
       "      <th>politician_id</th>\n",
       "      <th>speech_content</th>\n",
       "      <th>fraction_id</th>\n",
       "      <th>document_url</th>\n",
       "      <th>position_short</th>\n",
       "      <th>position_long</th>\n",
       "      <th>date</th>\n",
       "      <th>search_speech_content</th>\n",
       "    </tr>\n",
       "  </thead>\n",
       "  <tbody>\n",
       "    <tr>\n",
       "      <th>0</th>\n",
       "      <td>794153</td>\n",
       "      <td>2</td>\n",
       "      <td>18</td>\n",
       "      <td>Petra</td>\n",
       "      <td>Sitte</td>\n",
       "      <td>11003848</td>\n",
       "      <td>Danke. - Ich möchte gerne etwas zu den Abstimm...</td>\n",
       "      <td>6</td>\n",
       "      <td>https://dip21.bundestag.de/dip21/btp/18/18002.pdf</td>\n",
       "      <td>Member of Parliament</td>\n",
       "      <td>NaN</td>\n",
       "      <td>2013-11-18</td>\n",
       "      <td>'0':16 '000':177 '1':87,176 '10':529 '11':554 ...</td>\n",
       "    </tr>\n",
       "    <tr>\n",
       "      <th>1</th>\n",
       "      <td>794071</td>\n",
       "      <td>2</td>\n",
       "      <td>18</td>\n",
       "      <td>Marieluise</td>\n",
       "      <td>Beck</td>\n",
       "      <td>11002624</td>\n",
       "      <td>\\nHerr Präsident! Liebe Kolleginnen und Kolleg...</td>\n",
       "      <td>3</td>\n",
       "      <td>https://dip21.bundestag.de/dip21/btp/18/18002.pdf</td>\n",
       "      <td>Member of Parliament</td>\n",
       "      <td>NaN</td>\n",
       "      <td>2013-11-18</td>\n",
       "      <td>'0':175 '1':212 '18':577 '2':325 '2009':185 '2...</td>\n",
       "    </tr>\n",
       "    <tr>\n",
       "      <th>2</th>\n",
       "      <td>794511</td>\n",
       "      <td>3</td>\n",
       "      <td>18</td>\n",
       "      <td>Karl</td>\n",
       "      <td>Schiewerling</td>\n",
       "      <td>11003839</td>\n",
       "      <td>Herr Präsident! Meine Damen und Herren! Liebe\\...</td>\n",
       "      <td>4</td>\n",
       "      <td>https://dip21.bundestag.de/dip21/btp/18/18003.pdf</td>\n",
       "      <td>Member of Parliament</td>\n",
       "      <td>NaN</td>\n",
       "      <td>2013-11-28</td>\n",
       "      <td>'0':28 '1':151 '10':435 '13':222 '1946':232 '2...</td>\n",
       "    </tr>\n",
       "    <tr>\n",
       "      <th>3</th>\n",
       "      <td>795916</td>\n",
       "      <td>11</td>\n",
       "      <td>18</td>\n",
       "      <td>Andrea</td>\n",
       "      <td>Nahles</td>\n",
       "      <td>11003196</td>\n",
       "      <td>\\nJa.\\n\\n</td>\n",
       "      <td>-1</td>\n",
       "      <td>https://dip21.bundestag.de/dip21/btp/18/18011.pdf</td>\n",
       "      <td>Minister</td>\n",
       "      <td>bundesministerin für arbeit und soziales</td>\n",
       "      <td>2014-01-30</td>\n",
       "      <td>'ja':1</td>\n",
       "    </tr>\n",
       "    <tr>\n",
       "      <th>4</th>\n",
       "      <td>795917</td>\n",
       "      <td>11</td>\n",
       "      <td>18</td>\n",
       "      <td>Peter</td>\n",
       "      <td>Hintze</td>\n",
       "      <td>11000907</td>\n",
       "      <td>Bitte.\\n\\n</td>\n",
       "      <td>-1</td>\n",
       "      <td>https://dip21.bundestag.de/dip21/btp/18/18011.pdf</td>\n",
       "      <td>Presidium of Parliament</td>\n",
       "      <td>vizepräsident</td>\n",
       "      <td>2014-01-30</td>\n",
       "      <td>'bitt':1</td>\n",
       "    </tr>\n",
       "  </tbody>\n",
       "</table>\n",
       "</div>"
      ],
      "text/plain": [
       "       id  session  electoral_term  first_name     last_name  politician_id  \\\n",
       "0  794153        2              18       Petra         Sitte       11003848   \n",
       "1  794071        2              18  Marieluise          Beck       11002624   \n",
       "2  794511        3              18        Karl  Schiewerling       11003839   \n",
       "3  795916       11              18      Andrea        Nahles       11003196   \n",
       "4  795917       11              18       Peter        Hintze       11000907   \n",
       "\n",
       "                                      speech_content  fraction_id  \\\n",
       "0  Danke. - Ich möchte gerne etwas zu den Abstimm...            6   \n",
       "1  \\nHerr Präsident! Liebe Kolleginnen und Kolleg...            3   \n",
       "2  Herr Präsident! Meine Damen und Herren! Liebe\\...            4   \n",
       "3                                          \\nJa.\\n\\n           -1   \n",
       "4                                         Bitte.\\n\\n           -1   \n",
       "\n",
       "                                        document_url           position_short  \\\n",
       "0  https://dip21.bundestag.de/dip21/btp/18/18002.pdf     Member of Parliament   \n",
       "1  https://dip21.bundestag.de/dip21/btp/18/18002.pdf     Member of Parliament   \n",
       "2  https://dip21.bundestag.de/dip21/btp/18/18003.pdf     Member of Parliament   \n",
       "3  https://dip21.bundestag.de/dip21/btp/18/18011.pdf                 Minister   \n",
       "4  https://dip21.bundestag.de/dip21/btp/18/18011.pdf  Presidium of Parliament   \n",
       "\n",
       "                              position_long        date  \\\n",
       "0                                       NaN  2013-11-18   \n",
       "1                                       NaN  2013-11-18   \n",
       "2                                       NaN  2013-11-28   \n",
       "3  bundesministerin für arbeit und soziales  2014-01-30   \n",
       "4                             vizepräsident  2014-01-30   \n",
       "\n",
       "                               search_speech_content  \n",
       "0  '0':16 '000':177 '1':87,176 '10':529 '11':554 ...  \n",
       "1  '0':175 '1':212 '18':577 '2':325 '2009':185 '2...  \n",
       "2  '0':28 '1':151 '10':435 '13':222 '1946':232 '2...  \n",
       "3                                             'ja':1  \n",
       "4                                           'bitt':1  "
      ]
     },
     "execution_count": 28,
     "metadata": {},
     "output_type": "execute_result"
    }
   ],
   "source": [
    "speeches_retrieved.head()"
   ]
  },
  {
   "cell_type": "code",
   "execution_count": 29,
   "id": "6ba0b798",
   "metadata": {},
   "outputs": [
    {
     "data": {
      "text/html": [
       "<div>\n",
       "<style scoped>\n",
       "    .dataframe tbody tr th:only-of-type {\n",
       "        vertical-align: middle;\n",
       "    }\n",
       "\n",
       "    .dataframe tbody tr th {\n",
       "        vertical-align: top;\n",
       "    }\n",
       "\n",
       "    .dataframe thead th {\n",
       "        text-align: right;\n",
       "    }\n",
       "</style>\n",
       "<table border=\"1\" class=\"dataframe\">\n",
       "  <thead>\n",
       "    <tr style=\"text-align: right;\">\n",
       "      <th></th>\n",
       "      <th>id</th>\n",
       "      <th>session</th>\n",
       "      <th>electoral_term</th>\n",
       "      <th>first_name</th>\n",
       "      <th>last_name</th>\n",
       "      <th>politician_id</th>\n",
       "      <th>speech_content</th>\n",
       "      <th>fraction_id</th>\n",
       "      <th>document_url</th>\n",
       "      <th>position_short</th>\n",
       "      <th>position_long</th>\n",
       "      <th>date</th>\n",
       "      <th>search_speech_content</th>\n",
       "    </tr>\n",
       "  </thead>\n",
       "  <tbody>\n",
       "    <tr>\n",
       "      <th>113613</th>\n",
       "      <td>1060953</td>\n",
       "      <td>228</td>\n",
       "      <td>19</td>\n",
       "      <td>Helge</td>\n",
       "      <td>Lindh</td>\n",
       "      <td>11004802</td>\n",
       "      <td>\\n\\nWie bitte?</td>\n",
       "      <td>23</td>\n",
       "      <td>https://dip21.bundestag.de/dip21/btp/19/19228.pdf</td>\n",
       "      <td>Member of Parliament</td>\n",
       "      <td>NaN</td>\n",
       "      <td>2021-05-07</td>\n",
       "      <td>'bitt':2</td>\n",
       "    </tr>\n",
       "    <tr>\n",
       "      <th>113614</th>\n",
       "      <td>1060954</td>\n",
       "      <td>228</td>\n",
       "      <td>19</td>\n",
       "      <td>Petra</td>\n",
       "      <td>Pau</td>\n",
       "      <td>11003206</td>\n",
       "      <td>\\n\\nSie müssen das jetzt verkürzen und zum Pun...</td>\n",
       "      <td>-1</td>\n",
       "      <td>https://dip21.bundestag.de/dip21/btp/19/19228.pdf</td>\n",
       "      <td>Presidium of Parliament</td>\n",
       "      <td>Vizepräsidentin</td>\n",
       "      <td>2021-05-07</td>\n",
       "      <td>'komm':9 'muss':2 'punkt':8 'verkurz':5</td>\n",
       "    </tr>\n",
       "    <tr>\n",
       "      <th>113615</th>\n",
       "      <td>1060955</td>\n",
       "      <td>228</td>\n",
       "      <td>19</td>\n",
       "      <td>Helge</td>\n",
       "      <td>Lindh</td>\n",
       "      <td>11004802</td>\n",
       "      <td>\\n\\nGut, ich beschränke mich auf einen Satz:\\n...</td>\n",
       "      <td>23</td>\n",
       "      <td>https://dip21.bundestag.de/dip21/btp/19/19228.pdf</td>\n",
       "      <td>Member of Parliament</td>\n",
       "      <td>NaN</td>\n",
       "      <td>2021-05-07</td>\n",
       "      <td>'0':79 '1':108 'ab':13 'abscheulich':33,63 'be...</td>\n",
       "    </tr>\n",
       "    <tr>\n",
       "      <th>113616</th>\n",
       "      <td>1060956</td>\n",
       "      <td>228</td>\n",
       "      <td>19</td>\n",
       "      <td>Petra</td>\n",
       "      <td>Pau</td>\n",
       "      <td>11003206</td>\n",
       "      <td>\\n\\nDas Wort hat der Kollege Tankred Schipansk...</td>\n",
       "      <td>-1</td>\n",
       "      <td>https://dip21.bundestag.de/dip21/btp/19/19228.pdf</td>\n",
       "      <td>Presidium of Parliament</td>\n",
       "      <td>Vizepräsidentin</td>\n",
       "      <td>2021-05-07</td>\n",
       "      <td>'0':11 'cdu/csu-fraktion':10 'kolleg':5 'schip...</td>\n",
       "    </tr>\n",
       "    <tr>\n",
       "      <th>113617</th>\n",
       "      <td>1060957</td>\n",
       "      <td>228</td>\n",
       "      <td>19</td>\n",
       "      <td>Tankred</td>\n",
       "      <td>Schipanski</td>\n",
       "      <td>11004143</td>\n",
       "      <td>\\n\\nVielen Dank. – Frau Präsidentin! Liebe Kol...</td>\n",
       "      <td>4</td>\n",
       "      <td>https://dip21.bundestag.de/dip21/btp/19/19228.pdf</td>\n",
       "      <td>Member of Parliament</td>\n",
       "      <td>NaN</td>\n",
       "      <td>2021-05-07</td>\n",
       "      <td>'0':63 '1':117 '1945':124 '1989':148 '2':282 '...</td>\n",
       "    </tr>\n",
       "  </tbody>\n",
       "</table>\n",
       "</div>"
      ],
      "text/plain": [
       "             id  session  electoral_term first_name   last_name  \\\n",
       "113613  1060953      228              19      Helge       Lindh   \n",
       "113614  1060954      228              19      Petra         Pau   \n",
       "113615  1060955      228              19      Helge       Lindh   \n",
       "113616  1060956      228              19      Petra         Pau   \n",
       "113617  1060957      228              19    Tankred  Schipanski   \n",
       "\n",
       "        politician_id                                     speech_content  \\\n",
       "113613       11004802                                     \\n\\nWie bitte?   \n",
       "113614       11003206  \\n\\nSie müssen das jetzt verkürzen und zum Pun...   \n",
       "113615       11004802  \\n\\nGut, ich beschränke mich auf einen Satz:\\n...   \n",
       "113616       11003206  \\n\\nDas Wort hat der Kollege Tankred Schipansk...   \n",
       "113617       11004143  \\n\\nVielen Dank. – Frau Präsidentin! Liebe Kol...   \n",
       "\n",
       "        fraction_id                                       document_url  \\\n",
       "113613           23  https://dip21.bundestag.de/dip21/btp/19/19228.pdf   \n",
       "113614           -1  https://dip21.bundestag.de/dip21/btp/19/19228.pdf   \n",
       "113615           23  https://dip21.bundestag.de/dip21/btp/19/19228.pdf   \n",
       "113616           -1  https://dip21.bundestag.de/dip21/btp/19/19228.pdf   \n",
       "113617            4  https://dip21.bundestag.de/dip21/btp/19/19228.pdf   \n",
       "\n",
       "                 position_short    position_long        date  \\\n",
       "113613     Member of Parliament              NaN  2021-05-07   \n",
       "113614  Presidium of Parliament  Vizepräsidentin  2021-05-07   \n",
       "113615     Member of Parliament              NaN  2021-05-07   \n",
       "113616  Presidium of Parliament  Vizepräsidentin  2021-05-07   \n",
       "113617     Member of Parliament              NaN  2021-05-07   \n",
       "\n",
       "                                    search_speech_content  \n",
       "113613                                           'bitt':2  \n",
       "113614            'komm':9 'muss':2 'punkt':8 'verkurz':5  \n",
       "113615  '0':79 '1':108 'ab':13 'abscheulich':33,63 'be...  \n",
       "113616  '0':11 'cdu/csu-fraktion':10 'kolleg':5 'schip...  \n",
       "113617  '0':63 '1':117 '1945':124 '1989':148 '2':282 '...  "
      ]
     },
     "execution_count": 29,
     "metadata": {},
     "output_type": "execute_result"
    }
   ],
   "source": [
    "speeches_retrieved.tail()"
   ]
  },
  {
   "cell_type": "code",
   "execution_count": 30,
   "id": "48f20b5c",
   "metadata": {},
   "outputs": [
    {
     "name": "stdout",
     "output_type": "stream",
     "text": [
      "<class 'pandas.core.frame.DataFrame'>\n",
      "RangeIndex: 113618 entries, 0 to 113617\n",
      "Data columns (total 13 columns):\n",
      " #   Column                 Non-Null Count   Dtype \n",
      "---  ------                 --------------   ----- \n",
      " 0   id                     113618 non-null  int64 \n",
      " 1   session                113618 non-null  int64 \n",
      " 2   electoral_term         113618 non-null  int64 \n",
      " 3   first_name             113609 non-null  object\n",
      " 4   last_name              113615 non-null  object\n",
      " 5   politician_id          113618 non-null  int64 \n",
      " 6   speech_content         113565 non-null  object\n",
      " 7   fraction_id            113618 non-null  int64 \n",
      " 8   document_url           113618 non-null  object\n",
      " 9   position_short         113618 non-null  object\n",
      " 10  position_long          61370 non-null   object\n",
      " 11  date                   113618 non-null  object\n",
      " 12  search_speech_content  113498 non-null  object\n",
      "dtypes: int64(5), object(8)\n",
      "memory usage: 11.3+ MB\n"
     ]
    }
   ],
   "source": [
    "speeches_retrieved.info()"
   ]
  },
  {
   "cell_type": "code",
   "execution_count": 31,
   "id": "33ca0c89",
   "metadata": {},
   "outputs": [
    {
     "data": {
      "text/html": [
       "<div>\n",
       "<style scoped>\n",
       "    .dataframe tbody tr th:only-of-type {\n",
       "        vertical-align: middle;\n",
       "    }\n",
       "\n",
       "    .dataframe tbody tr th {\n",
       "        vertical-align: top;\n",
       "    }\n",
       "\n",
       "    .dataframe thead th {\n",
       "        text-align: right;\n",
       "    }\n",
       "</style>\n",
       "<table border=\"1\" class=\"dataframe\">\n",
       "  <thead>\n",
       "    <tr style=\"text-align: right;\">\n",
       "      <th></th>\n",
       "      <th>id</th>\n",
       "      <th>session</th>\n",
       "      <th>electoral_term</th>\n",
       "      <th>politician_id</th>\n",
       "      <th>fraction_id</th>\n",
       "    </tr>\n",
       "  </thead>\n",
       "  <tbody>\n",
       "    <tr>\n",
       "      <th>count</th>\n",
       "      <td>1.136180e+05</td>\n",
       "      <td>113618.000000</td>\n",
       "      <td>113618.000000</td>\n",
       "      <td>1.136180e+05</td>\n",
       "      <td>113618.000000</td>\n",
       "    </tr>\n",
       "    <tr>\n",
       "      <th>mean</th>\n",
       "      <td>9.330901e+05</td>\n",
       "      <td>121.799706</td>\n",
       "      <td>18.536517</td>\n",
       "      <td>1.082260e+07</td>\n",
       "      <td>3.207265</td>\n",
       "    </tr>\n",
       "    <tr>\n",
       "      <th>std</th>\n",
       "      <td>1.060773e+05</td>\n",
       "      <td>67.970725</td>\n",
       "      <td>0.498667</td>\n",
       "      <td>1.398117e+06</td>\n",
       "      <td>7.036039</td>\n",
       "    </tr>\n",
       "    <tr>\n",
       "      <th>min</th>\n",
       "      <td>7.940260e+05</td>\n",
       "      <td>1.000000</td>\n",
       "      <td>18.000000</td>\n",
       "      <td>-1.000000e+00</td>\n",
       "      <td>-1.000000</td>\n",
       "    </tr>\n",
       "    <tr>\n",
       "      <th>25%</th>\n",
       "      <td>8.224302e+05</td>\n",
       "      <td>62.000000</td>\n",
       "      <td>18.000000</td>\n",
       "      <td>1.100202e+07</td>\n",
       "      <td>-1.000000</td>\n",
       "    </tr>\n",
       "    <tr>\n",
       "      <th>50%</th>\n",
       "      <td>1.004148e+06</td>\n",
       "      <td>123.000000</td>\n",
       "      <td>19.000000</td>\n",
       "      <td>1.100321e+07</td>\n",
       "      <td>-1.000000</td>\n",
       "    </tr>\n",
       "    <tr>\n",
       "      <th>75%</th>\n",
       "      <td>1.032553e+06</td>\n",
       "      <td>180.000000</td>\n",
       "      <td>19.000000</td>\n",
       "      <td>1.100418e+07</td>\n",
       "      <td>4.000000</td>\n",
       "    </tr>\n",
       "    <tr>\n",
       "      <th>max</th>\n",
       "      <td>1.060957e+06</td>\n",
       "      <td>245.000000</td>\n",
       "      <td>19.000000</td>\n",
       "      <td>1.100498e+07</td>\n",
       "      <td>23.000000</td>\n",
       "    </tr>\n",
       "  </tbody>\n",
       "</table>\n",
       "</div>"
      ],
      "text/plain": [
       "                 id        session  electoral_term  politician_id  \\\n",
       "count  1.136180e+05  113618.000000   113618.000000   1.136180e+05   \n",
       "mean   9.330901e+05     121.799706       18.536517   1.082260e+07   \n",
       "std    1.060773e+05      67.970725        0.498667   1.398117e+06   \n",
       "min    7.940260e+05       1.000000       18.000000  -1.000000e+00   \n",
       "25%    8.224302e+05      62.000000       18.000000   1.100202e+07   \n",
       "50%    1.004148e+06     123.000000       19.000000   1.100321e+07   \n",
       "75%    1.032553e+06     180.000000       19.000000   1.100418e+07   \n",
       "max    1.060957e+06     245.000000       19.000000   1.100498e+07   \n",
       "\n",
       "         fraction_id  \n",
       "count  113618.000000  \n",
       "mean        3.207265  \n",
       "std         7.036039  \n",
       "min        -1.000000  \n",
       "25%        -1.000000  \n",
       "50%        -1.000000  \n",
       "75%         4.000000  \n",
       "max        23.000000  "
      ]
     },
     "execution_count": 31,
     "metadata": {},
     "output_type": "execute_result"
    }
   ],
   "source": [
    "speeches_retrieved.describe()"
   ]
  },
  {
   "cell_type": "markdown",
   "id": "d0727fce",
   "metadata": {},
   "source": [
    "#### Check date"
   ]
  },
  {
   "cell_type": "code",
   "execution_count": 32,
   "id": "d964f441",
   "metadata": {},
   "outputs": [],
   "source": [
    "speeches_retrieved[\"date\"] = pd.to_datetime(speeches_retrieved[\"date\"], format = \"%Y-%m-%d\").dt.date"
   ]
  },
  {
   "cell_type": "markdown",
   "id": "d4a2f5c8",
   "metadata": {},
   "source": [
    "We do not cover the whole periods of the 19. bundestag based on the restrictions of the database."
   ]
  },
  {
   "cell_type": "code",
   "execution_count": 33,
   "id": "7b0cda19",
   "metadata": {},
   "outputs": [
    {
     "data": {
      "text/plain": [
       "datetime.date(2021, 5, 7)"
      ]
     },
     "execution_count": 33,
     "metadata": {},
     "output_type": "execute_result"
    }
   ],
   "source": [
    "speeches_retrieved.date.max()"
   ]
  },
  {
   "cell_type": "code",
   "execution_count": 34,
   "id": "c4cc407f",
   "metadata": {},
   "outputs": [
    {
     "data": {
      "text/plain": [
       "datetime.date(2013, 10, 22)"
      ]
     },
     "execution_count": 34,
     "metadata": {},
     "output_type": "execute_result"
    }
   ],
   "source": [
    "speeches_retrieved.date.min()"
   ]
  },
  {
   "cell_type": "markdown",
   "id": "890b0719",
   "metadata": {},
   "source": [
    "#### Missing values"
   ]
  },
  {
   "cell_type": "code",
   "execution_count": 35,
   "id": "035012b3",
   "metadata": {},
   "outputs": [],
   "source": [
    "speeches_retrieved.dropna(subset = [\"speech_content\"], inplace = True)"
   ]
  },
  {
   "cell_type": "markdown",
   "id": "2de8066d",
   "metadata": {},
   "source": [
    "#### Check politicians"
   ]
  },
  {
   "cell_type": "code",
   "execution_count": 36,
   "id": "b36ebcc7",
   "metadata": {},
   "outputs": [],
   "source": [
    "speeches_retrieved[\"full_name\"] = speeches_retrieved[\"first_name\"] + \" \" + speeches_retrieved[\"last_name\"]"
   ]
  },
  {
   "cell_type": "code",
   "execution_count": 37,
   "id": "f5b0a773",
   "metadata": {},
   "outputs": [
    {
     "data": {
      "text/plain": [
       "1760"
      ]
     },
     "execution_count": 37,
     "metadata": {},
     "output_type": "execute_result"
    }
   ],
   "source": [
    "len(speeches_retrieved[\"full_name\"].unique())"
   ]
  },
  {
   "cell_type": "code",
   "execution_count": 38,
   "id": "c5777e8b",
   "metadata": {},
   "outputs": [],
   "source": [
    "speeches_subset = speeches_retrieved[speeches_retrieved.full_name.isin(tweets_subset.full_name.unique())]"
   ]
  },
  {
   "cell_type": "code",
   "execution_count": 39,
   "id": "49dbeb69",
   "metadata": {},
   "outputs": [
    {
     "data": {
      "text/plain": [
       "42"
      ]
     },
     "execution_count": 39,
     "metadata": {},
     "output_type": "execute_result"
    }
   ],
   "source": [
    "len(speeches_subset[\"full_name\"].unique())"
   ]
  },
  {
   "cell_type": "code",
   "execution_count": 40,
   "id": "c14dd5d7",
   "metadata": {},
   "outputs": [
    {
     "data": {
      "text/plain": [
       "(4099, 14)"
      ]
     },
     "execution_count": 40,
     "metadata": {},
     "output_type": "execute_result"
    }
   ],
   "source": [
    "speeches_subset.shape"
   ]
  },
  {
   "cell_type": "markdown",
   "id": "efca16df",
   "metadata": {},
   "source": [
    "#### Add party"
   ]
  },
  {
   "cell_type": "code",
   "execution_count": 41,
   "id": "ae338430",
   "metadata": {},
   "outputs": [],
   "source": [
    "fullname_to_party = {'Ralph Brinkhaus': 'CDU', 'Hermann Gröhe': 'CDU', 'Nadine Schön': 'CDU', \n",
    "                     'Norbert Röttgen': 'CDU', 'Peter Altmaier': 'CDU', 'Jens Spahn': 'CDU', \n",
    "                     'Matthias Hauer': 'CDU', 'Christian Lindner': 'FDP', 'Marco Buschmann': 'FDP',\n",
    "                     'Bettina Stark-Watzinger': 'FDP', 'Alexander Graf Lambsdorff': 'FDP', 'Johannes Vogel': 'FDP',\n",
    "                     'Konstantin Kuhle': 'FDP', 'Marie-Agnes Strack-Zimmermann': 'FDP', 'Lars Klingbeil': 'SPD',\n",
    "                     'Saskia Esken': 'SPD', 'Hubertus Heil': 'SPD', 'Heiko Maas': 'SPD', 'Martin Schulz': 'SPD', \n",
    "                     'Karamba Diaby': 'SPD', 'Karl Lauterbach': 'SPD', 'Steffi Lemke': 'Grüne',\n",
    "                     'Cem Özdemir': 'Grüne', 'Katrin Göring-Eckardt': 'Grüne', 'Konstantin von Notz': 'Grüne',\n",
    "                     'Britta Haßelmann': 'Grüne', 'Sven Lehmann': 'Grüne', 'Annalena Baerbock': 'Grüne',\n",
    "                     'Sahra Wagenknecht': 'Linke', 'Bernd Riexinger': 'Linke', 'Niema Movassat': 'Linke', \n",
    "                     'Jan Korte': 'Linke', 'Dietmar Bartsch': 'Linke', 'Gregor Gysi': 'Linke', \n",
    "                     'Sevim Dağdelen': 'Linke', 'Alice Weidel': 'AFD', 'Beatrix von Storch': 'AFD', \n",
    "                     'Joana Cotar': 'AFD', 'Stephan Brandner': 'AFD', 'Tino Chrupalla': 'AFD',\n",
    "                     'Götz Frömming': 'AFD', 'Leif-Erik Holm': 'AFD'}"
   ]
  },
  {
   "cell_type": "code",
   "execution_count": 42,
   "id": "4da0955c",
   "metadata": {},
   "outputs": [
    {
     "name": "stderr",
     "output_type": "stream",
     "text": [
      "/var/folders/zx/r0fw_tq95g13lvmt5x8bp_vr0000gn/T/ipykernel_62461/3018675369.py:1: SettingWithCopyWarning: \n",
      "A value is trying to be set on a copy of a slice from a DataFrame.\n",
      "Try using .loc[row_indexer,col_indexer] = value instead\n",
      "\n",
      "See the caveats in the documentation: https://pandas.pydata.org/pandas-docs/stable/user_guide/indexing.html#returning-a-view-versus-a-copy\n",
      "  speeches_subset[\"party\"] = speeches_subset.full_name.replace(fullname_to_party)\n"
     ]
    }
   ],
   "source": [
    "speeches_subset[\"party\"] = speeches_subset.full_name.replace(fullname_to_party)"
   ]
  },
  {
   "cell_type": "markdown",
   "id": "642286c4",
   "metadata": {},
   "source": [
    "#### Check politicians"
   ]
  },
  {
   "cell_type": "markdown",
   "id": "b6594afd",
   "metadata": {},
   "source": [
    "We see significant differences between the number of tweets per politician ranging from nearly 29665 to 658. This will be an aspect we have to consider in our work."
   ]
  },
  {
   "cell_type": "code",
   "execution_count": 43,
   "id": "cc1926c1",
   "metadata": {},
   "outputs": [
    {
     "data": {
      "text/plain": [
       "<AxesSubplot:xlabel='full_name'>"
      ]
     },
     "execution_count": 43,
     "metadata": {},
     "output_type": "execute_result"
    },
    {
     "data": {
      "image/png": "[encoded data removed]",
      "text/plain": [
       "<Figure size 432x288 with 1 Axes>"
      ]
     },
     "metadata": {
      "needs_background": "light"
     },
     "output_type": "display_data"
    }
   ],
   "source": [
    "speeches_subset.groupby('full_name')['id'].size().sort_values().plot(kind='bar')"
   ]
  },
  {
   "cell_type": "markdown",
   "id": "b16fca3e",
   "metadata": {},
   "source": [
    "#### Check date"
   ]
  },
  {
   "cell_type": "code",
   "execution_count": 44,
   "id": "3a389951",
   "metadata": {
    "scrolled": true
   },
   "outputs": [
    {
     "data": {
      "text/plain": [
       "<AxesSubplot:xlabel='date'>"
      ]
     },
     "execution_count": 44,
     "metadata": {},
     "output_type": "execute_result"
    },
    {
     "data": {
      "image/png": "[encoded data removed]",
      "text/plain": [
       "<Figure size 432x288 with 1 Axes>"
      ]
     },
     "metadata": {
      "needs_background": "light"
     },
     "output_type": "display_data"
    }
   ],
   "source": [
    "speeches_subset.groupby('date')['id'].size().plot()"
   ]
  },
  {
   "cell_type": "markdown",
   "id": "21be89f7",
   "metadata": {},
   "source": [
    "We see an strongly increasing trend of tweets per day. This is caused by two new parties entering the bundestag in 2017."
   ]
  },
  {
   "cell_type": "markdown",
   "id": "137814e5",
   "metadata": {},
   "source": [
    "#### Check speech content"
   ]
  },
  {
   "cell_type": "code",
   "execution_count": 45,
   "id": "805e7ca3",
   "metadata": {},
   "outputs": [
    {
     "data": {
      "text/plain": [
       "party\n",
       "AFD      521\n",
       "CDU      758\n",
       "FDP      518\n",
       "Grüne    889\n",
       "Linke    521\n",
       "SPD      892\n",
       "dtype: int64"
      ]
     },
     "execution_count": 45,
     "metadata": {},
     "output_type": "execute_result"
    }
   ],
   "source": [
    "speeches_subset.groupby(\"party\").size()"
   ]
  },
  {
   "cell_type": "code",
   "execution_count": 46,
   "id": "c24177ac",
   "metadata": {},
   "outputs": [],
   "source": [
    "columns_drop_speeches = ['id', 'session', 'electoral_term', 'first_name', 'last_name', 'politician_id', \n",
    "                         'fraction_id', 'document_url', 'position_short', 'position_long', 'search_speech_content']"
   ]
  },
  {
   "cell_type": "code",
   "execution_count": 47,
   "id": "d470e8e4",
   "metadata": {},
   "outputs": [
    {
     "name": "stderr",
     "output_type": "stream",
     "text": [
      "/Users/jakob/opt/miniconda3/envs/amca/lib/python3.8/site-packages/pandas/core/frame.py:4906: SettingWithCopyWarning: \n",
      "A value is trying to be set on a copy of a slice from a DataFrame\n",
      "\n",
      "See the caveats in the documentation: https://pandas.pydata.org/pandas-docs/stable/user_guide/indexing.html#returning-a-view-versus-a-copy\n",
      "  return super().drop(\n"
     ]
    }
   ],
   "source": [
    "speeches_subset.drop(columns_drop_speeches, axis = 1, inplace = True)"
   ]
  },
  {
   "cell_type": "markdown",
   "id": "f0bb6e74",
   "metadata": {},
   "source": [
    "#### Text analyis"
   ]
  },
  {
   "cell_type": "code",
   "execution_count": 48,
   "id": "d143b3e8",
   "metadata": {},
   "outputs": [
    {
     "data": {
      "image/png": "[encoded data removed]",
      "text/plain": [
       "<PIL.Image.Image image mode=RGB size=400x200 at 0x7FEED91B5D90>"
      ]
     },
     "execution_count": 48,
     "metadata": {},
     "output_type": "execute_result"
    }
   ],
   "source": [
    "long_string_speeches = ' '.join(speeches_subset[\"speech_content\"].tolist())\n",
    "wordcloud_speeches = WordCloud(background_color=\"white\", max_words=5000, contour_width=3, contour_color='steelblue')\n",
    "wordcloud_speeches.generate(long_string_speeches)\n",
    "wordcloud_speeches.to_image()"
   ]
  },
  {
   "cell_type": "code",
   "execution_count": 49,
   "id": "6cf4482d",
   "metadata": {},
   "outputs": [],
   "source": [
    "counter_speeches = Counter(long_string_speeches.split())"
   ]
  },
  {
   "cell_type": "code",
   "execution_count": 50,
   "id": "29bcd17b",
   "metadata": {},
   "outputs": [
    {
     "data": {
      "text/plain": [
       "[('die', 54280),\n",
       " ('und', 47773),\n",
       " ('der', 43156),\n",
       " ('in', 31093),\n",
       " ('das', 24055),\n",
       " ('wir', 22639),\n",
       " ('ist', 21431),\n",
       " ('dass', 18914),\n",
       " ('nicht', 18793),\n",
       " ('zu', 18246)]"
      ]
     },
     "execution_count": 50,
     "metadata": {},
     "output_type": "execute_result"
    }
   ],
   "source": [
    "counter_speeches.most_common(10)"
   ]
  },
  {
   "cell_type": "markdown",
   "id": "e9fc269b",
   "metadata": {},
   "source": [
    "#### Export data"
   ]
  },
  {
   "cell_type": "code",
   "execution_count": 51,
   "id": "bcbe57ca",
   "metadata": {},
   "outputs": [],
   "source": [
    "speeches_subset.to_csv(\"../data/interim/speeches_explored.csv\", index = False)"
   ]
  }
 ],
 "metadata": {
  "kernelspec": {
   "display_name": "Python 3 (ipykernel)",
   "language": "python",
   "name": "python3"
  },
  "language_info": {
   "codemirror_mode": {
    "name": "ipython",
    "version": 3
   },
   "file_extension": ".py",
   "mimetype": "text/x-python",
   "name": "python",
   "nbconvert_exporter": "python",
   "pygments_lexer": "ipython3",
   "version": "3.8.12"
  }
 },
 "nbformat": 4,
 "nbformat_minor": 5
}
