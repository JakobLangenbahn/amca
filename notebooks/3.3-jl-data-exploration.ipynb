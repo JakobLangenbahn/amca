{
 "cells": [
  {
   "cell_type": "markdown",
   "id": "2f8387f0",
   "metadata": {},
   "source": [
    "## 3.3 Data Exploration"
   ]
  },
  {
   "cell_type": "markdown",
   "id": "190fda18",
   "metadata": {},
   "source": [
    "Based on the data retrieved in the last two sections, we explore the tweets and speeches of the politicians."
   ]
  },
  {
   "cell_type": "code",
   "execution_count": null,
   "id": "3aad6415",
   "metadata": {},
   "outputs": [],
   "source": [
    "import numpy as np\n",
    "import pandas as pd\n",
    "import matplotlib.pyplot as plt\n",
    "from wordcloud import WordCloud\n",
    "from collections import Counter\n",
    "from tqdm.notebook import tqdm\n",
    "\n",
    "pd.options.mode.chained_assignment = None  # default='warn'\n",
    "\n",
    "tqdm.pandas()"
   ]
  },
  {
   "cell_type": "markdown",
   "id": "d488f703",
   "metadata": {},
   "source": [
    "### 3.3.1 Tweets exploration"
   ]
  },
  {
   "cell_type": "markdown",
   "id": "4d91634f",
   "metadata": {},
   "source": [
    "#### Import data"
   ]
  },
  {
   "cell_type": "code",
   "execution_count": null,
   "id": "dbbd3585",
   "metadata": {
    "scrolled": true
   },
   "outputs": [],
   "source": [
    "# Load tweets data\n",
    "tweets_scraped = pd.read_csv(\"../data/raw/tweets_scraped.csv\", low_memory=False)"
   ]
  },
  {
   "cell_type": "markdown",
   "id": "91d8a2e7",
   "metadata": {},
   "source": [
    "#### Check data"
   ]
  },
  {
   "cell_type": "code",
   "execution_count": null,
   "id": "6375b453",
   "metadata": {},
   "outputs": [],
   "source": [
    "tweets_scraped.head()"
   ]
  },
  {
   "cell_type": "code",
   "execution_count": null,
   "id": "c6a2b213",
   "metadata": {},
   "outputs": [],
   "source": [
    "tweets_scraped.tail()"
   ]
  },
  {
   "cell_type": "code",
   "execution_count": null,
   "id": "2202be29",
   "metadata": {},
   "outputs": [],
   "source": [
    "tweets_scraped.info()"
   ]
  },
  {
   "cell_type": "code",
   "execution_count": null,
   "id": "6f4bb168",
   "metadata": {},
   "outputs": [],
   "source": [
    "tweets_scraped.describe()"
   ]
  },
  {
   "cell_type": "markdown",
   "id": "b8359260",
   "metadata": {},
   "source": [
    "#### Drop missing data"
   ]
  },
  {
   "cell_type": "markdown",
   "id": "9bb99dee",
   "metadata": {},
   "source": [
    "We can drop all records with missing data, as we cannot use these records for our analysis."
   ]
  },
  {
   "cell_type": "code",
   "execution_count": null,
   "id": "8336e732",
   "metadata": {},
   "outputs": [],
   "source": [
    "# Drop missing data\n",
    "tweets_scraped.dropna(inplace = True)"
   ]
  },
  {
   "cell_type": "markdown",
   "id": "ac4dbb07",
   "metadata": {},
   "source": [
    "#### Clean names"
   ]
  },
  {
   "cell_type": "markdown",
   "id": "1107d700",
   "metadata": {},
   "source": [
    "For better comparability, we harmonize the names in the tweets and speeches data."
   ]
  },
  {
   "cell_type": "code",
   "execution_count": null,
   "id": "c6c9d4f8",
   "metadata": {},
   "outputs": [],
   "source": [
    "# Create twitter username to real name dictionary\n",
    "usernames_to_fullname = {'rbrinkhaus': 'Ralph Brinkhaus', 'groehe': 'Hermann Gröhe', \n",
    "                         'NadineSchoen': 'Nadine Schön', 'n_roettgen': 'Norbert Röttgen',\n",
    "                         'peteraltmaier': 'Peter Altmaier', 'jensspahn': 'Jens Spahn', \n",
    "                         'MatthiasHauer': 'Matthias Hauer', 'c_lindner': 'Christian Lindner',\n",
    "                         'MarcoBuschmann': 'Marco Buschmann', 'starkwatzinger': 'Bettina Stark-Watzinger',\n",
    "                         'Lambsdorff': 'Alexander Graf Lambsdorff', 'johannesvogel': 'Johannes Vogel',\n",
    "                         'KonstantinKuhle': 'Konstantin Kuhle', 'MAStrackZi': 'Marie-Agnes Strack-Zimmermann',\n",
    "                         'larsklingbeil': 'Lars Klingbeil', 'EskenSaskia': 'Saskia Esken',\n",
    "                         'hubertus_heil': 'Hubertus Heil', 'HeikoMaas': 'Heiko Maas',\n",
    "                         'MartinSchulz': 'Martin Schulz', 'KarambaDiaby': 'Karamba Diaby',\n",
    "                         'Karl_Lauterbach': 'Karl Lauterbach', 'SteffiLemke': 'Steffi Lemke',\n",
    "                         'cem_oezdemir': 'Cem Özdemir', 'GoeringEckardt': 'Katrin Göring-Eckardt',\n",
    "                         'KonstantinNotz': 'Konstantin von Notz', '6': 'Konstantin von Notz',\n",
    "                         'BriHasselmann': 'Britta Haßelmann', 'svenlehmann': 'Sven Lehmann',\n",
    "                         'ABaerbock': 'Annalena Baerbock', 'ABaerbockArchiv': 'Annalena Baerbock',\n",
    "                         'SWagenknecht': 'Sahra Wagenknecht', 'b_riexinger': 'Bernd Riexinger',\n",
    "                         'NiemaMovassat': 'Niema Movassat', 'jankortemdb': 'Jan Korte',\n",
    "                         'DietmarBartsch': 'Dietmar Bartsch', 'GregorGysi': 'Gregor Gysi',\n",
    "                         'SevimDagdelen': 'Sevim Dağdelen', 'Alice_Weidel': 'Alice Weidel',\n",
    "                         'Beatrix_vStorch': 'Beatrix von Storch', 'JoanaCotar': 'Joana Cotar',\n",
    "                         'StBrandner': 'Stephan Brandner', 'Tino_Chrupalla': 'Tino Chrupalla',\n",
    "                         'GtzFrmming': 'Götz Frömming', '3': 'Götz Frömming', 'Leif_Erik_Holm': 'Leif-Erik Holm'}"
   ]
  },
  {
   "cell_type": "code",
   "execution_count": null,
   "id": "4200ac45",
   "metadata": {},
   "outputs": [],
   "source": [
    "# Add full name\n",
    "tweets_scraped[\"full_name\"] = tweets_scraped.username.replace(usernames_to_fullname)"
   ]
  },
  {
   "cell_type": "markdown",
   "id": "0b96d33c",
   "metadata": {},
   "source": [
    "#### Check time data"
   ]
  },
  {
   "cell_type": "code",
   "execution_count": null,
   "id": "1a91c6b4",
   "metadata": {},
   "outputs": [],
   "source": [
    "# Add normalized date\n",
    "tweets_scraped[\"date\"] = pd.to_datetime(tweets_scraped[\"datetime\"], format = \"%Y-%m-%d\").dt.date"
   ]
  },
  {
   "cell_type": "code",
   "execution_count": null,
   "id": "80ccab9e",
   "metadata": {},
   "outputs": [],
   "source": [
    "tweets_scraped.date.min()"
   ]
  },
  {
   "cell_type": "code",
   "execution_count": null,
   "id": "753bccb4",
   "metadata": {},
   "outputs": [],
   "source": [
    "tweets_scraped.date.max()"
   ]
  },
  {
   "cell_type": "code",
   "execution_count": null,
   "id": "0a24e84c",
   "metadata": {
    "scrolled": true
   },
   "outputs": [],
   "source": [
    "# Tweet number per time\n",
    "tweets_scraped.groupby('date')['tweet_id'].size().plot()"
   ]
  },
  {
   "cell_type": "markdown",
   "id": "36300cff",
   "metadata": {},
   "source": [
    "We now can drop all data that are not also represented in the speeches dataset."
   ]
  },
  {
   "cell_type": "code",
   "execution_count": null,
   "id": "577cea24",
   "metadata": {},
   "outputs": [],
   "source": [
    "# Drop unneded data\n",
    "tweets_subset = tweets_scraped[np.logical_and(tweets_scraped.date >= pd.Timestamp(\"24.10.2017\"), tweets_scraped.date <= pd.Timestamp(\"07.05.2021\"))]"
   ]
  },
  {
   "cell_type": "markdown",
   "id": "e79fdf94",
   "metadata": {},
   "source": [
    "#### Checkt party distribution"
   ]
  },
  {
   "cell_type": "markdown",
   "id": "1449e7c4",
   "metadata": {},
   "source": [
    "When checking the distribution of tweets per party, we can see differences, but they do not significantly alter our results."
   ]
  },
  {
   "cell_type": "code",
   "execution_count": null,
   "id": "3221a84b",
   "metadata": {},
   "outputs": [],
   "source": [
    "# Tweets per party\n",
    "tweets_subset.groupby(\"party\").size()"
   ]
  },
  {
   "cell_type": "markdown",
   "id": "d6bc4944",
   "metadata": {},
   "source": [
    "#### Check politician distribution"
   ]
  },
  {
   "cell_type": "markdown",
   "id": "6d4e5720",
   "metadata": {},
   "source": [
    "We see significant differences between the number of tweets per politician ranging from nearly 29665 to 658. We have to consider this in our work."
   ]
  },
  {
   "cell_type": "code",
   "execution_count": null,
   "id": "31a581ad",
   "metadata": {},
   "outputs": [],
   "source": [
    "# Tweets per politican\n",
    "tweets_scraped.groupby('full_name')['tweet_id'].size().sort_values().plot(kind='bar')"
   ]
  },
  {
   "cell_type": "markdown",
   "id": "8bceecb1",
   "metadata": {},
   "source": [
    "We see an strongly increasing trend of tweets per day. This is caused by two new parties entering the bundestag in 2017."
   ]
  },
  {
   "cell_type": "markdown",
   "id": "8e08a3c0",
   "metadata": {},
   "source": [
    "#### Check text"
   ]
  },
  {
   "cell_type": "markdown",
   "id": "7c58c8d2",
   "metadata": {},
   "source": [
    "We check the texts of the tweets with a word cloud. We can infer the need for data preprocessing from a first analysis of the visualisation. "
   ]
  },
  {
   "cell_type": "code",
   "execution_count": null,
   "id": "daf6f74e",
   "metadata": {},
   "outputs": [],
   "source": [
    "# Create a word cloud\n",
    "long_string_tweets = ' '.join(tweets_scraped[\"text\"].tolist())\n",
    "wordcloud_tweets = WordCloud(background_color=\"white\", max_words=5000, contour_width=3, contour_color='steelblue')\n",
    "wordcloud_tweets.generate(long_string_tweets)\n",
    "wordcloud_tweets.to_image()"
   ]
  },
  {
   "cell_type": "code",
   "execution_count": null,
   "id": "7b735122",
   "metadata": {},
   "outputs": [],
   "source": [
    "# Create a counter object\n",
    "counter_tweets = Counter(long_string_tweets.split())"
   ]
  },
  {
   "cell_type": "code",
   "execution_count": null,
   "id": "d9094c6e",
   "metadata": {
    "scrolled": true
   },
   "outputs": [],
   "source": [
    "# Check the most common words\n",
    "counter_tweets.most_common(10)"
   ]
  },
  {
   "cell_type": "markdown",
   "id": "d29e840d",
   "metadata": {},
   "source": [
    "We can identify the need for a stopword removal."
   ]
  },
  {
   "cell_type": "markdown",
   "id": "68a846d2",
   "metadata": {},
   "source": [
    "#### Drop unneeded columns"
   ]
  },
  {
   "cell_type": "code",
   "execution_count": null,
   "id": "b4eb7610",
   "metadata": {
    "scrolled": true
   },
   "outputs": [],
   "source": [
    "# Drop unneeded columns\n",
    "tweets_subset.drop(['datetime', 'tweet_id', 'username','name', 'reply_count'], axis = 1, inplace = True)"
   ]
  },
  {
   "cell_type": "markdown",
   "id": "82f6cf99",
   "metadata": {},
   "source": [
    "#### Export data"
   ]
  },
  {
   "cell_type": "code",
   "execution_count": null,
   "id": "f2388702",
   "metadata": {},
   "outputs": [],
   "source": [
    "tweets_subset.to_csv(\"../data/interim/tweets_explored.csv\", index = False)"
   ]
  },
  {
   "cell_type": "markdown",
   "id": "859f0785",
   "metadata": {},
   "source": [
    "### 3.3.2 Explore speeches of politicians"
   ]
  },
  {
   "cell_type": "markdown",
   "id": "5cd9db0b",
   "metadata": {},
   "source": [
    "#### Import data"
   ]
  },
  {
   "cell_type": "code",
   "execution_count": null,
   "id": "d2198986",
   "metadata": {
    "scrolled": true
   },
   "outputs": [],
   "source": [
    "# Load tweets data\n",
    "speeches_retrieved = pd.read_csv(\"../data/raw/speeches_retrieved.csv\", low_memory=False)"
   ]
  },
  {
   "cell_type": "markdown",
   "id": "700d60aa",
   "metadata": {},
   "source": [
    "#### Check data"
   ]
  },
  {
   "cell_type": "code",
   "execution_count": null,
   "id": "f4480535",
   "metadata": {},
   "outputs": [],
   "source": [
    "speeches_retrieved.head()"
   ]
  },
  {
   "cell_type": "code",
   "execution_count": null,
   "id": "31552a6d",
   "metadata": {},
   "outputs": [],
   "source": [
    "speeches_retrieved.tail()"
   ]
  },
  {
   "cell_type": "code",
   "execution_count": null,
   "id": "1b19c0c0",
   "metadata": {},
   "outputs": [],
   "source": [
    "speeches_retrieved.info()"
   ]
  },
  {
   "cell_type": "code",
   "execution_count": null,
   "id": "6532f156",
   "metadata": {},
   "outputs": [],
   "source": [
    "speeches_retrieved.describe()"
   ]
  },
  {
   "cell_type": "markdown",
   "id": "049695b2",
   "metadata": {},
   "source": [
    "#### Drop missing data"
   ]
  },
  {
   "cell_type": "markdown",
   "id": "1b3da83f",
   "metadata": {},
   "source": [
    "We can drop all records with missing speech content, as we cannot use these records for our analysis."
   ]
  },
  {
   "cell_type": "code",
   "execution_count": null,
   "id": "2aa4db0c",
   "metadata": {},
   "outputs": [],
   "source": [
    "# Drop missing data\n",
    "speeches_retrieved.dropna(subset = [\"text\"], inplace = True)"
   ]
  },
  {
   "cell_type": "markdown",
   "id": "980bc538",
   "metadata": {},
   "source": [
    "#### Clean names"
   ]
  },
  {
   "cell_type": "markdown",
   "id": "ad3df084",
   "metadata": {},
   "source": [
    "For better comparability, we harmonize the names in the tweets and speeches data."
   ]
  },
  {
   "cell_type": "code",
   "execution_count": null,
   "id": "b873d87a",
   "metadata": {},
   "outputs": [],
   "source": [
    "# Add full name of politicians\n",
    "speeches_retrieved[\"full_name\"] = speeches_retrieved[\"first_name\"] + \" \" + speeches_retrieved[\"last_name\"]"
   ]
  },
  {
   "cell_type": "code",
   "execution_count": null,
   "id": "13ebd1e2",
   "metadata": {},
   "outputs": [],
   "source": [
    "# Subset to the selected politicians\n",
    "speeches_subset = speeches_retrieved[speeches_retrieved.full_name.isin(tweets_subset.full_name.unique())]"
   ]
  },
  {
   "cell_type": "markdown",
   "id": "f8c47b94",
   "metadata": {},
   "source": [
    "#### Check time data"
   ]
  },
  {
   "cell_type": "code",
   "execution_count": null,
   "id": "7ec0f258",
   "metadata": {},
   "outputs": [],
   "source": [
    "# Add normalized date\n",
    "speeches_subset[\"date\"] = pd.to_datetime(speeches_subset[\"date\"], format = \"%Y-%m-%d\").dt.date"
   ]
  },
  {
   "cell_type": "code",
   "execution_count": null,
   "id": "4c21d4a1",
   "metadata": {},
   "outputs": [],
   "source": [
    "speeches_subset.date.min()"
   ]
  },
  {
   "cell_type": "code",
   "execution_count": null,
   "id": "7fde2bce",
   "metadata": {},
   "outputs": [],
   "source": [
    "speeches_subset.date.max()"
   ]
  },
  {
   "cell_type": "code",
   "execution_count": null,
   "id": "4c66145d",
   "metadata": {
    "scrolled": true
   },
   "outputs": [],
   "source": [
    "# Speech number per time\n",
    "speeches_subset.groupby('date')['id'].size().plot()"
   ]
  },
  {
   "cell_type": "markdown",
   "id": "7cdc0c9b",
   "metadata": {},
   "source": [
    "#### Checkt party distribution"
   ]
  },
  {
   "cell_type": "markdown",
   "id": "92dc5713",
   "metadata": {},
   "source": [
    "When checking the distribution of speeches per party, we can see differences, but they do not significantly alter our results."
   ]
  },
  {
   "cell_type": "code",
   "execution_count": null,
   "id": "ae338430",
   "metadata": {},
   "outputs": [],
   "source": [
    "fullname_to_party = {'Ralph Brinkhaus': 'CDU', 'Hermann Gröhe': 'CDU', 'Nadine Schön': 'CDU', \n",
    "                     'Norbert Röttgen': 'CDU', 'Peter Altmaier': 'CDU', 'Jens Spahn': 'CDU', \n",
    "                     'Matthias Hauer': 'CDU', 'Christian Lindner': 'FDP', 'Marco Buschmann': 'FDP',\n",
    "                     'Bettina Stark-Watzinger': 'FDP', 'Alexander Graf Lambsdorff': 'FDP', 'Johannes Vogel': 'FDP',\n",
    "                     'Konstantin Kuhle': 'FDP', 'Marie-Agnes Strack-Zimmermann': 'FDP', 'Lars Klingbeil': 'SPD',\n",
    "                     'Saskia Esken': 'SPD', 'Hubertus Heil': 'SPD', 'Heiko Maas': 'SPD', 'Martin Schulz': 'SPD', \n",
    "                     'Karamba Diaby': 'SPD', 'Karl Lauterbach': 'SPD', 'Steffi Lemke': 'Grüne',\n",
    "                     'Cem Özdemir': 'Grüne', 'Katrin Göring-Eckardt': 'Grüne', 'Konstantin von Notz': 'Grüne',\n",
    "                     'Britta Haßelmann': 'Grüne', 'Sven Lehmann': 'Grüne', 'Annalena Baerbock': 'Grüne',\n",
    "                     'Sahra Wagenknecht': 'Linke', 'Bernd Riexinger': 'Linke', 'Niema Movassat': 'Linke', \n",
    "                     'Jan Korte': 'Linke', 'Dietmar Bartsch': 'Linke', 'Gregor Gysi': 'Linke', \n",
    "                     'Sevim Dağdelen': 'Linke', 'Alice Weidel': 'AFD', 'Beatrix von Storch': 'AFD', \n",
    "                     'Joana Cotar': 'AFD', 'Stephan Brandner': 'AFD', 'Tino Chrupalla': 'AFD',\n",
    "                     'Götz Frömming': 'AFD', 'Leif-Erik Holm': 'AFD'}"
   ]
  },
  {
   "cell_type": "code",
   "execution_count": null,
   "id": "4da0955c",
   "metadata": {},
   "outputs": [],
   "source": [
    "speeches_subset[\"party\"] = speeches_subset.full_name.replace(fullname_to_party)"
   ]
  },
  {
   "cell_type": "code",
   "execution_count": null,
   "id": "5587806d",
   "metadata": {},
   "outputs": [],
   "source": [
    "# Speeches per party\n",
    "speeches_subset.groupby(\"party\").size()"
   ]
  },
  {
   "cell_type": "markdown",
   "id": "70c969d7",
   "metadata": {},
   "source": [
    "#### Check politician distribution"
   ]
  },
  {
   "cell_type": "markdown",
   "id": "0e90fa19",
   "metadata": {},
   "source": [
    "We see significant differences between the number of speeches per politician ranging from 368 to 15. We have to consider this in our work."
   ]
  },
  {
   "cell_type": "code",
   "execution_count": null,
   "id": "7e69f4f3",
   "metadata": {
    "scrolled": false
   },
   "outputs": [],
   "source": [
    "# Speeches per politican\n",
    "speeches_subset.groupby('full_name')['id'].size().sort_values().plot(kind='bar')"
   ]
  },
  {
   "cell_type": "markdown",
   "id": "b57897c5",
   "metadata": {},
   "source": [
    "#### Check text"
   ]
  },
  {
   "cell_type": "markdown",
   "id": "6f9448d4",
   "metadata": {},
   "source": [
    "We check the texts of the tweets with a word cloud. We can infer the need for data preprocessing from a first analysis of the visualisation. "
   ]
  },
  {
   "cell_type": "code",
   "execution_count": null,
   "id": "bc66169f",
   "metadata": {},
   "outputs": [],
   "source": [
    "# Create a word cloud\n",
    "long_string_speeches = ' '.join(speeches_subset[\"text\"].tolist())\n",
    "wordcloud_speeches = WordCloud(background_color=\"white\", max_words=5000, contour_width=3, \n",
    "                               contour_color='steelblue')\n",
    "wordcloud_speeches.generate(long_string_speeches)\n",
    "wordcloud_speeches.to_image()"
   ]
  },
  {
   "cell_type": "code",
   "execution_count": null,
   "id": "fb713935",
   "metadata": {},
   "outputs": [],
   "source": [
    "# Create a counter object\n",
    "speeches_counter = Counter(long_string_speeches.split())"
   ]
  },
  {
   "cell_type": "code",
   "execution_count": null,
   "id": "c8ad7507",
   "metadata": {
    "scrolled": true
   },
   "outputs": [],
   "source": [
    "# Check the most common words\n",
    "speeches_counter.most_common(10)"
   ]
  },
  {
   "cell_type": "markdown",
   "id": "e3aca27a",
   "metadata": {},
   "source": [
    "We can identify the need for a stopword removal."
   ]
  },
  {
   "cell_type": "markdown",
   "id": "fd6a9779",
   "metadata": {},
   "source": [
    "#### Drop unneeded columns"
   ]
  },
  {
   "cell_type": "code",
   "execution_count": null,
   "id": "b39e073b",
   "metadata": {
    "scrolled": true
   },
   "outputs": [],
   "source": [
    "# Drop unneeded columns\n",
    "speeches_subset.drop(['id', 'session', 'electoral_term', 'first_name', 'last_name', 'politician_id',\n",
    "                      'fraction_id', 'document_url', 'position_short', 'position_long', 'search_speech_content'],\n",
    "                     axis = 1, inplace = True)"
   ]
  },
  {
   "cell_type": "markdown",
   "id": "bfd875c5",
   "metadata": {},
   "source": [
    "#### Export data"
   ]
  },
  {
   "cell_type": "code",
   "execution_count": null,
   "id": "2cfba633",
   "metadata": {},
   "outputs": [],
   "source": [
    "speeches_subset.to_csv(\"../data/interim/speeches_explored.csv\", index = False)"
   ]
  }
 ],
 "metadata": {
  "kernelspec": {
   "display_name": "Python 3 (ipykernel)",
   "language": "python",
   "name": "python3"
  },
  "language_info": {
   "codemirror_mode": {
    "name": "ipython",
    "version": 3
   },
   "file_extension": ".py",
   "mimetype": "text/x-python",
   "name": "python",
   "nbconvert_exporter": "python",
   "pygments_lexer": "ipython3",
   "version": "3.8.12"
  }
 },
 "nbformat": 4,
 "nbformat_minor": 5
}
