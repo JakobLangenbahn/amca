{
 "cells": [
  {
   "cell_type": "code",
   "execution_count": 99,
   "id": "978adf00",
   "metadata": {},
   "outputs": [],
   "source": [
    "import ipywidgets as widgets\n",
    "import re\n",
    "from IPython.display import clear_output"
   ]
  },
  {
   "cell_type": "code",
   "execution_count": 67,
   "id": "802fe1a2",
   "metadata": {},
   "outputs": [],
   "source": [
    "dic = {\"high\": [\"1: aa\", \"2: ab\", \"3: ac\"],\n",
    "      \"medium\": [\"1: ba\", \"2: bb\", \"3: bc\"],\n",
    "       \"low\":[\"1: ca\", \"2: cb\", \"3: cc\"]}"
   ]
  },
  {
   "cell_type": "code",
   "execution_count": 121,
   "id": "f75f0062",
   "metadata": {},
   "outputs": [
    {
     "ename": "IndexError",
     "evalue": "list index out of range",
     "output_type": "error",
     "traceback": [
      "\u001b[0;31m---------------------------------------------------------------------------\u001b[0m",
      "\u001b[0;31mIndexError\u001b[0m                                Traceback (most recent call last)",
      "Input \u001b[0;32mIn [121]\u001b[0m, in \u001b[0;36mbtn_eventhandler\u001b[0;34m(obj)\u001b[0m\n\u001b[1;32m     18\u001b[0m i \u001b[38;5;241m=\u001b[39m [\u001b[38;5;28mint\u001b[39m(s) \u001b[38;5;28;01mfor\u001b[39;00m s \u001b[38;5;129;01min\u001b[39;00m re\u001b[38;5;241m.\u001b[39mfindall(\u001b[38;5;124mr\u001b[39m\u001b[38;5;124m'\u001b[39m\u001b[38;5;124m\\\u001b[39m\u001b[38;5;124md+\u001b[39m\u001b[38;5;124m'\u001b[39m,text)][\u001b[38;5;241m0\u001b[39m]\n\u001b[1;32m     19\u001b[0m clear_output(wait\u001b[38;5;241m=\u001b[39m\u001b[38;5;28;01mTrue\u001b[39;00m)\n\u001b[0;32m---> 20\u001b[0m high \u001b[38;5;241m=\u001b[39m widgets\u001b[38;5;241m.\u001b[39mButton(description\u001b[38;5;241m=\u001b[39m\u001b[43mdic\u001b[49m\u001b[43m[\u001b[49m\u001b[38;5;124;43m\"\u001b[39;49m\u001b[38;5;124;43mhigh\u001b[39;49m\u001b[38;5;124;43m\"\u001b[39;49m\u001b[43m]\u001b[49m\u001b[43m[\u001b[49m\u001b[43mi\u001b[49m\u001b[43m]\u001b[49m)\n\u001b[1;32m     21\u001b[0m medium \u001b[38;5;241m=\u001b[39m widgets\u001b[38;5;241m.\u001b[39mButton(description\u001b[38;5;241m=\u001b[39mdic[\u001b[38;5;124m\"\u001b[39m\u001b[38;5;124mmedium\u001b[39m\u001b[38;5;124m\"\u001b[39m][i])\n\u001b[1;32m     22\u001b[0m low \u001b[38;5;241m=\u001b[39m widgets\u001b[38;5;241m.\u001b[39mButton(description\u001b[38;5;241m=\u001b[39mdic[\u001b[38;5;124m\"\u001b[39m\u001b[38;5;124mlow\u001b[39m\u001b[38;5;124m\"\u001b[39m][i])\n",
      "\u001b[0;31mIndexError\u001b[0m: list index out of range"
     ]
    }
   ],
   "source": [
    "global i \n",
    "i = 0\n",
    "\n",
    "high = widgets.Button(description=dic[\"high\"][i])\n",
    "medium = widgets.Button(description=dic[\"medium\"][i])\n",
    "low = widgets.Button(description=dic[\"low\"][i])\n",
    "\n",
    "test_list = []\n",
    "\n",
    "display(\"Word Intrusion\")\n",
    "display(high)\n",
    "display(medium)\n",
    "display(low)\n",
    "\n",
    "def btn_eventhandler(obj):\n",
    "        text = obj.description\n",
    "        test_list.append(text)\n",
    "        i = [int(s) for s in re.findall(r'\\d+',text)][0]\n",
    "        clear_output(wait=True)\n",
    "        high = widgets.Button(description=dic[\"high\"][i])\n",
    "        medium = widgets.Button(description=dic[\"medium\"][i])\n",
    "        low = widgets.Button(description=dic[\"low\"][i])\n",
    "        display(\"Word Tes\")\n",
    "        display(high)\n",
    "        display(medium)\n",
    "        display(low)\n",
    "        print(\"Click\")\n",
    "        high.on_click(btn_eventhandler)\n",
    "        medium.on_click(btn_eventhandler)\n",
    "        low.on_click(btn_eventhandler)\n",
    "        \n",
    "high.on_click(btn_eventhandler)\n",
    "medium.on_click(btn_eventhandler)\n",
    "low.on_click(btn_eventhandler)"
   ]
  },
  {
   "cell_type": "code",
   "execution_count": 122,
   "id": "8a2215de",
   "metadata": {},
   "outputs": [
    {
     "data": {
      "text/plain": [
       "['1: aa', '2: bb', '3: cc']"
      ]
     },
     "execution_count": 122,
     "metadata": {},
     "output_type": "execute_result"
    }
   ],
   "source": [
    "test_list"
   ]
  },
  {
   "cell_type": "code",
   "execution_count": 97,
   "id": "6348b5bc",
   "metadata": {},
   "outputs": [
    {
     "data": {
      "text/plain": [
       "['1:', 'ba']"
      ]
     },
     "execution_count": 97,
     "metadata": {},
     "output_type": "execute_result"
    }
   ],
   "source": [
    "test_list[0].description.split()"
   ]
  },
  {
   "cell_type": "code",
   "execution_count": 101,
   "id": "b56e8b44",
   "metadata": {},
   "outputs": [
    {
     "data": {
      "text/plain": [
       "['1']"
      ]
     },
     "execution_count": 101,
     "metadata": {},
     "output_type": "execute_result"
    }
   ],
   "source": []
  },
  {
   "cell_type": "code",
   "execution_count": 59,
   "id": "26ef68e6",
   "metadata": {},
   "outputs": [
    {
     "data": {
      "application/vnd.jupyter.widget-view+json": {
       "model_id": "8ccd4b111d0d448daa65825f6255e0b0",
       "version_major": 2,
       "version_minor": 0
      },
      "text/plain": [
       "ToggleButtons(description='Intruder:', options=('A', 'B', 'C'), tooltips=('Description of slow', 'Description …"
      ]
     },
     "metadata": {},
     "output_type": "display_data"
    }
   ],
   "source": [
    "widgets.ToggleButtons(\n",
    "    options=['A', 'B', 'C'],\n",
    "    description='Intruder:',\n",
    "    disabled=False,\n",
    "    button_style='', # 'success', 'info', 'warning', 'danger' or ''\n",
    "    tooltips=['Description of slow', 'Description of regular', 'Description of fast'],\n",
    "#     icons=['check'] * 3\n",
    ")"
   ]
  },
  {
   "cell_type": "code",
   "execution_count": 38,
   "id": "24dabf60",
   "metadata": {},
   "outputs": [
    {
     "data": {
      "text/plain": [
       "[Button(description='aa', style=ButtonStyle())]"
      ]
     },
     "execution_count": 38,
     "metadata": {},
     "output_type": "execute_result"
    }
   ],
   "source": [
    "test_list"
   ]
  },
  {
   "cell_type": "code",
   "execution_count": 21,
   "id": "d48d7492",
   "metadata": {},
   "outputs": [
    {
     "data": {
      "application/vnd.jupyter.widget-view+json": {
       "model_id": "4bc9b3987efc41d9b5c22297087b7cce",
       "version_major": 2,
       "version_minor": 0
      },
      "text/plain": [
       "Button(description='Change Description', style=ButtonStyle())"
      ]
     },
     "metadata": {},
     "output_type": "display_data"
    },
    {
     "data": {
      "application/vnd.jupyter.widget-view+json": {
       "model_id": "894267d833854e6dad0f78904ba7ca8d",
       "version_major": 2,
       "version_minor": 0
      },
      "text/plain": [
       "Button(description='Medium', style=ButtonStyle())"
      ]
     },
     "metadata": {},
     "output_type": "display_data"
    },
    {
     "data": {
      "application/vnd.jupyter.widget-view+json": {
       "model_id": "e3db398e262945d5911b7602b00e6b83",
       "version_major": 2,
       "version_minor": 0
      },
      "text/plain": [
       "Button(description='Low', style=ButtonStyle())"
      ]
     },
     "metadata": {},
     "output_type": "display_data"
    }
   ],
   "source": [
    "high = widgets.Button(description='Change Description')\n",
    "medium = widgets.Button(description='Medium')\n",
    "low = widgets.Button(description='Low')\n",
    "display(high)\n",
    "display(medium)\n",
    "display(low)\n",
    "\n",
    "def btn_eventhandler(obj):\n",
    "    print('Hello from the {} button!'.format(obj.description))\n",
    "    \n",
    "high.on_click(btn_eventhandler)\n",
    "medium.on_click(btn_eventhandler)\n",
    "low.on_click(btn_eventhandler)"
   ]
  }
 ],
 "metadata": {
  "kernelspec": {
   "display_name": "Python 3 (ipykernel)",
   "language": "python",
   "name": "python3"
  },
  "language_info": {
   "codemirror_mode": {
    "name": "ipython",
    "version": 3
   },
   "file_extension": ".py",
   "mimetype": "text/x-python",
   "name": "python",
   "nbconvert_exporter": "python",
   "pygments_lexer": "ipython3",
   "version": "3.8.12"
  }
 },
 "nbformat": 4,
 "nbformat_minor": 5
}
