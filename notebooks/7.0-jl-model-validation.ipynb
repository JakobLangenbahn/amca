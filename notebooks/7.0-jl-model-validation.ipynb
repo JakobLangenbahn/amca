{
 "cells": [
  {
   "cell_type": "markdown",
   "id": "e378a9b3",
   "metadata": {},
   "source": [
    "# Validation"
   ]
  },
  {
   "cell_type": "markdown",
   "id": "620d82c1",
   "metadata": {},
   "source": [
    "In this part we will validate our topic models and sentiment analysis based on Reading Tea Leaves: How Humans Interpret Topic Models "
   ]
  },
  {
   "cell_type": "code",
   "execution_count": 6,
   "id": "ea1990f7",
   "metadata": {},
   "outputs": [],
   "source": [
    "from bertopic import BERTopic\n",
    "\n",
    "from sklearn.metrics import cohen_kappa_score\n",
    "\n",
    "from functools import partial\n",
    "\n",
    "import pandas as pd\n",
    "\n",
    "import ipywidgets as widgets\n",
    "from IPython.display import clear_output\n",
    "from ipywidgets import IntProgress\n",
    "\n",
    "from tqdm.notebook import tqdm\n",
    "tqdm.pandas()"
   ]
  },
  {
   "cell_type": "markdown",
   "id": "7d3521dc",
   "metadata": {},
   "source": [
    "* Einlesen des Output von gensim\n",
    "* Umformen in Struktur für Ausgabe\n",
    "* Darstellen des Outputs\n",
    "* Sammeln der Daten\n",
    "* Berechnen des Scores"
   ]
  },
  {
   "cell_type": "markdown",
   "id": "00b7ebe8",
   "metadata": {},
   "source": [
    "# 1. Load model"
   ]
  },
  {
   "cell_type": "code",
   "execution_count": 7,
   "id": "d1809702",
   "metadata": {},
   "outputs": [],
   "source": [
    "topic_model = BERTopic.load(\"../models/bertopic_tweets\")"
   ]
  },
  {
   "cell_type": "markdown",
   "id": "74647486",
   "metadata": {},
   "source": [
    "# 2. Import word intrusion"
   ]
  },
  {
   "cell_type": "markdown",
   "id": "f4b2c9de",
   "metadata": {},
   "source": [
    "# 3. Word intrusion test"
   ]
  },
  {
   "cell_type": "code",
   "execution_count": 3,
   "id": "5e27035f",
   "metadata": {},
   "outputs": [],
   "source": [
    "# Input DataFrame with positions and words"
   ]
  },
  {
   "cell_type": "code",
   "execution_count": 8,
   "id": "f34b9ef4",
   "metadata": {},
   "outputs": [],
   "source": [
    "test_dic = {\"word_0\": [\"essen\",\"deutschland\",\"europa\", \"year\"],\n",
    "            \"word_1\": [\"hunger\",\"außenpolitik\",\"europäer\", \"lol\"],\n",
    "            \"word_2\": [\"currywurst\",\"außenpolitisch\",\"gemeinsam\", \"nice\"],\n",
    "            \"word_3\": [\"kochen\",\"land\",\"handlungsfähig\", \"weak\"],\n",
    "            \"word_4\": [\"pizza\",\"brauchen\",\"handlungsfähig\", \"hehe\"],\n",
    "            \"word_5\": [\"salat\",\"veränderung\",\"handlungsfähig\", \"abcd\"],\n",
    "            \"intruder_word\": [\"essen\",\"deutschland\",\"europa\", \"abcd\"]}"
   ]
  },
  {
   "cell_type": "code",
   "execution_count": 9,
   "id": "8eafd057",
   "metadata": {},
   "outputs": [],
   "source": [
    "df = pd.DataFrame(test_dic)"
   ]
  },
  {
   "cell_type": "code",
   "execution_count": 11,
   "id": "93d690d1",
   "metadata": {},
   "outputs": [],
   "source": [
    "lenght = df.shape[0]"
   ]
  },
  {
   "cell_type": "code",
   "execution_count": 12,
   "id": "92e9f1b2",
   "metadata": {},
   "outputs": [],
   "source": [
    "def generate_annotator_set(df, number_label, number_iaa, name_1, name_2):\n",
    "    length = df.shape[0]\n",
    "    df_shuffeled = df.sample(frac=1).reset_index(drop=True)\n",
    "    df_shuffeled[name_1] = [1] * (number_label+number_iaa) + [0] * (length-number_label-number_iaa)\n",
    "    df_shuffeled[name_2] = [0] * (number_label) + [1] * (number_label+number_iaa) + [0] * (length-2*number_label-number_iaa)\n",
    "    df_shuffeled[\"iaa_flag\"] = [0] * number_label + [1] * number_iaa + [0] * (length-number_label-number_iaa)\n",
    "    df_shuffeled[\"wis_label\"] = [1] * number_label + [0] * number_iaa + [1] * (length-number_label-number_iaa)\n",
    "    return df_shuffeled"
   ]
  },
  {
   "cell_type": "code",
   "execution_count": 13,
   "id": "6df278ee",
   "metadata": {},
   "outputs": [],
   "source": [
    "word_df = generate_annotator_set(df, 1, 2, \"Jakob\", \"Stjepan\")"
   ]
  },
  {
   "cell_type": "code",
   "execution_count": 14,
   "id": "f23b455e",
   "metadata": {},
   "outputs": [
    {
     "data": {
      "text/html": [
       "<div>\n",
       "<style scoped>\n",
       "    .dataframe tbody tr th:only-of-type {\n",
       "        vertical-align: middle;\n",
       "    }\n",
       "\n",
       "    .dataframe tbody tr th {\n",
       "        vertical-align: top;\n",
       "    }\n",
       "\n",
       "    .dataframe thead th {\n",
       "        text-align: right;\n",
       "    }\n",
       "</style>\n",
       "<table border=\"1\" class=\"dataframe\">\n",
       "  <thead>\n",
       "    <tr style=\"text-align: right;\">\n",
       "      <th></th>\n",
       "      <th>word_0</th>\n",
       "      <th>word_1</th>\n",
       "      <th>word_2</th>\n",
       "      <th>word_3</th>\n",
       "      <th>word_4</th>\n",
       "      <th>word_5</th>\n",
       "      <th>intruder_word</th>\n",
       "      <th>Jakob</th>\n",
       "      <th>Stjepan</th>\n",
       "      <th>iaa_flag</th>\n",
       "      <th>wis_label</th>\n",
       "    </tr>\n",
       "  </thead>\n",
       "  <tbody>\n",
       "    <tr>\n",
       "      <th>0</th>\n",
       "      <td>essen</td>\n",
       "      <td>hunger</td>\n",
       "      <td>currywurst</td>\n",
       "      <td>kochen</td>\n",
       "      <td>pizza</td>\n",
       "      <td>salat</td>\n",
       "      <td>essen</td>\n",
       "      <td>1</td>\n",
       "      <td>0</td>\n",
       "      <td>0</td>\n",
       "      <td>1</td>\n",
       "    </tr>\n",
       "    <tr>\n",
       "      <th>1</th>\n",
       "      <td>year</td>\n",
       "      <td>lol</td>\n",
       "      <td>nice</td>\n",
       "      <td>weak</td>\n",
       "      <td>hehe</td>\n",
       "      <td>abcd</td>\n",
       "      <td>abcd</td>\n",
       "      <td>1</td>\n",
       "      <td>1</td>\n",
       "      <td>1</td>\n",
       "      <td>0</td>\n",
       "    </tr>\n",
       "    <tr>\n",
       "      <th>2</th>\n",
       "      <td>europa</td>\n",
       "      <td>europäer</td>\n",
       "      <td>gemeinsam</td>\n",
       "      <td>handlungsfähig</td>\n",
       "      <td>handlungsfähig</td>\n",
       "      <td>handlungsfähig</td>\n",
       "      <td>europa</td>\n",
       "      <td>1</td>\n",
       "      <td>1</td>\n",
       "      <td>1</td>\n",
       "      <td>0</td>\n",
       "    </tr>\n",
       "    <tr>\n",
       "      <th>3</th>\n",
       "      <td>deutschland</td>\n",
       "      <td>außenpolitik</td>\n",
       "      <td>außenpolitisch</td>\n",
       "      <td>land</td>\n",
       "      <td>brauchen</td>\n",
       "      <td>veränderung</td>\n",
       "      <td>deutschland</td>\n",
       "      <td>0</td>\n",
       "      <td>1</td>\n",
       "      <td>0</td>\n",
       "      <td>1</td>\n",
       "    </tr>\n",
       "  </tbody>\n",
       "</table>\n",
       "</div>"
      ],
      "text/plain": [
       "        word_0        word_1          word_2          word_3          word_4  \\\n",
       "0        essen        hunger      currywurst          kochen           pizza   \n",
       "1         year           lol            nice            weak            hehe   \n",
       "2       europa      europäer       gemeinsam  handlungsfähig  handlungsfähig   \n",
       "3  deutschland  außenpolitik  außenpolitisch            land        brauchen   \n",
       "\n",
       "           word_5 intruder_word  Jakob  Stjepan  iaa_flag  wis_label  \n",
       "0           salat         essen      1        0         0          1  \n",
       "1            abcd          abcd      1        1         1          0  \n",
       "2  handlungsfähig        europa      1        1         1          0  \n",
       "3     veränderung   deutschland      0        1         0          1  "
      ]
     },
     "execution_count": 14,
     "metadata": {},
     "output_type": "execute_result"
    }
   ],
   "source": [
    "word_df"
   ]
  },
  {
   "cell_type": "code",
   "execution_count": 15,
   "id": "086991a5",
   "metadata": {},
   "outputs": [],
   "source": [
    "def word_intrusion_test(word_df, name):\n",
    "    intrusion_df = word_df[word_df[name] == 1].reset_index(drop = True)\n",
    "    \n",
    "    max_count = intrusion_df.shape[0]\n",
    "    global i\n",
    "    i = 0\n",
    "    \n",
    "    button_0 = widgets.Button(description = intrusion_df.word_0[i])\n",
    "    button_1 = widgets.Button(description = intrusion_df.word_1[i])\n",
    "    button_2 = widgets.Button(description = intrusion_df.word_2[i])\n",
    "    button_3 = widgets.Button(description = intrusion_df.word_3[i])\n",
    "    button_4 = widgets.Button(description = intrusion_df.word_4[i])\n",
    "    button_5 = widgets.Button(description = intrusion_df.word_5[i])\n",
    "\n",
    "\n",
    "    chosen_words = []\n",
    "    chosen_positions= []\n",
    "\n",
    "    display(\"Word Intrusion Test\")\n",
    "\n",
    "    f = IntProgress(min=0, max=max_count)\n",
    "    display(f)\n",
    "\n",
    "    display(button_0)\n",
    "    display(button_1)\n",
    "    display(button_2)\n",
    "    display(button_3)\n",
    "    display(button_4)\n",
    "    display(button_5)\n",
    "\n",
    "\n",
    "    def btn_eventhandler(position, obj):\n",
    "        global i \n",
    "        i += 1\n",
    "        \n",
    "        \n",
    "        clear_output(wait=True)\n",
    "        \n",
    "        display(\"Word Intrusion Text\")\n",
    "        display(f)\n",
    "        f.value += 1\n",
    "        \n",
    "        choosen_text = obj.description\n",
    "        chosen_words.append(choosen_text)\n",
    "        \n",
    "        chosen_positions.append(position)\n",
    "        \n",
    "        if i < max_count:\n",
    "\n",
    "            button_0 = widgets.Button(description = intrusion_df.word_0[i])\n",
    "            button_1 = widgets.Button(description = intrusion_df.word_1[i])\n",
    "            button_2 = widgets.Button(description = intrusion_df.word_2[i])\n",
    "            button_3 = widgets.Button(description = intrusion_df.word_3[i])\n",
    "            button_4 = widgets.Button(description = intrusion_df.word_4[i])\n",
    "            button_5 = widgets.Button(description = intrusion_df.word_5[i])\n",
    "            \n",
    "            display(button_0)\n",
    "            display(button_1)\n",
    "            display(button_2)\n",
    "            display(button_3)\n",
    "            display(button_4)\n",
    "            display(button_5)\n",
    "            \n",
    "            button_0.on_click(partial(btn_eventhandler,0))\n",
    "            button_1.on_click(partial(btn_eventhandler,1))\n",
    "            button_2.on_click(partial(btn_eventhandler,2))\n",
    "            button_3.on_click(partial(btn_eventhandler,3))\n",
    "            button_4.on_click(partial(btn_eventhandler,4))\n",
    "            button_5.on_click(partial(btn_eventhandler,5))\n",
    "        else:\n",
    "            print (\"Thanks \" + name + \" you finished all the work!\")\n",
    "            intrusion_df[\"chosen_word\"] = chosen_words\n",
    "            intrusion_df[\"chosen_position\"] = chosen_positions\n",
    "            intrusion_df.to_csv(\"../data/processed/word_intrusion_test_\" + name + \".csv\", index = False)\n",
    "\n",
    "\n",
    "\n",
    "    button_0.on_click(partial(btn_eventhandler,0))\n",
    "    button_1.on_click(partial(btn_eventhandler,1))\n",
    "    button_2.on_click(partial(btn_eventhandler,2))\n",
    "    button_3.on_click(partial(btn_eventhandler,3))\n",
    "    button_4.on_click(partial(btn_eventhandler,4))\n",
    "    button_5.on_click(partial(btn_eventhandler,5))\n",
    "    \n",
    "    return intrusion_df"
   ]
  },
  {
   "cell_type": "code",
   "execution_count": 16,
   "id": "888860e3",
   "metadata": {
    "scrolled": true
   },
   "outputs": [
    {
     "data": {
      "text/plain": [
       "'Word Intrusion Text'"
      ]
     },
     "metadata": {},
     "output_type": "display_data"
    },
    {
     "data": {
      "application/vnd.jupyter.widget-view+json": {
       "model_id": "00d6628414384519a64df782eedb3c86",
       "version_major": 2,
       "version_minor": 0
      },
      "text/plain": [
       "IntProgress(value=2, max=3)"
      ]
     },
     "metadata": {},
     "output_type": "display_data"
    },
    {
     "name": "stdout",
     "output_type": "stream",
     "text": [
      "Thanks Jakob you finished all the work!\n"
     ]
    }
   ],
   "source": [
    "df_word_intrusion_jakob = word_intrusion_test(word_df, \"Jakob\")"
   ]
  },
  {
   "cell_type": "code",
   "execution_count": 17,
   "id": "0e8f6ffa",
   "metadata": {},
   "outputs": [
    {
     "data": {
      "text/plain": [
       "'Word Intrusion Text'"
      ]
     },
     "metadata": {},
     "output_type": "display_data"
    },
    {
     "data": {
      "application/vnd.jupyter.widget-view+json": {
       "model_id": "618c08a1fb3a429a8e81f66bb5c81af1",
       "version_major": 2,
       "version_minor": 0
      },
      "text/plain": [
       "IntProgress(value=2, max=3)"
      ]
     },
     "metadata": {},
     "output_type": "display_data"
    },
    {
     "name": "stdout",
     "output_type": "stream",
     "text": [
      "Thanks Stjepan you finished all the work!\n"
     ]
    }
   ],
   "source": [
    "df_word_intrusion_stjepan = word_intrusion_test(word_df, \"Stjepan\")"
   ]
  },
  {
   "cell_type": "code",
   "execution_count": 18,
   "id": "da8ffccf",
   "metadata": {},
   "outputs": [],
   "source": [
    "def calculate_word_intrusion(name_1, name_2):\n",
    "    df_word_intrusion_1 = pd.read_csv(\"../data/processed/word_intrusion_test_\" + name_1 + \".csv\")\n",
    "    df_word_intrusion_2 = pd.read_csv(\"../data/processed/word_intrusion_test_\" + name_2 + \".csv\")\n",
    "    iaa_values_1 = df_word_intrusion_1[df_word_intrusion_1.iaa_flag == 1].chosen_position.values\n",
    "    iaa_values_2 = df_word_intrusion_2[df_word_intrusion_2.iaa_flag == 1].chosen_position.values\n",
    "    kappa = cohen_kappa_score(iaa_values_1, iaa_values_2)\n",
    "    df_word_intrusion = df_word_intrusion_1.append(df_word_intrusion_2)\n",
    "    df_word = df_word_intrusion[df_word_intrusion[\"wis_label\"] == 1]\n",
    "    df_word[\"intruder_chosen\"] = df_word[\"intruder_word\"] == df_word[\"chosen_word\"]\n",
    "    return  df_word[\"intruder_chosen\"].mean(), kappa"
   ]
  },
  {
   "cell_type": "code",
   "execution_count": 19,
   "id": "86a70443",
   "metadata": {},
   "outputs": [],
   "source": [
    "intrusion_score, kappa = calculate_word_intrusion(\"Jakob\", \"Stjepan\")"
   ]
  },
  {
   "cell_type": "code",
   "execution_count": 20,
   "id": "bc62e285",
   "metadata": {},
   "outputs": [
    {
     "data": {
      "text/plain": [
       "0.5"
      ]
     },
     "execution_count": 20,
     "metadata": {},
     "output_type": "execute_result"
    }
   ],
   "source": [
    "intrusion_score"
   ]
  },
  {
   "cell_type": "code",
   "execution_count": 21,
   "id": "0f93b54a",
   "metadata": {},
   "outputs": [
    {
     "data": {
      "text/plain": [
       "-0.33333333333333326"
      ]
     },
     "execution_count": 21,
     "metadata": {},
     "output_type": "execute_result"
    }
   ],
   "source": [
    "kappa"
   ]
  },
  {
   "cell_type": "markdown",
   "id": "9a7025fe",
   "metadata": {},
   "source": [
    "# 4. Topic Intrusion"
   ]
  },
  {
   "cell_type": "code",
   "execution_count": null,
   "id": "1ac84d8a",
   "metadata": {},
   "outputs": [],
   "source": [
    "topic_dic = {\"topic_0\": [\"essen\",\"deutschland\",\"europa\"],\n",
    "            \"topic_1\": [\"hunger\",\"außenpolitik\",\"europäer\"],\n",
    "            \"topic_2\": [\"currywurst\",\"außenpolitisch\",\"gemeinsam\"],\n",
    "            \"topic_3\": [\"kochen\",\"land\",\"handlungsfähig\"],\n",
    "            \"topic_4\": [\"pizza\",\"brauchen\",\"handlungsfähig\"],\n",
    "            \"topic_5\": [\"salat\",\"veränderung\",\"handlungsfähig\"],\n",
    "            \"text\": [\"Text ist cool\", \"for school\", \"hello\"],\n",
    "            \"intruder_topic\": [\"essen\",\"deutschland\",\"europa\"]}"
   ]
  },
  {
   "cell_type": "code",
   "execution_count": null,
   "id": "97f4e59e",
   "metadata": {},
   "outputs": [],
   "source": [
    "topic_df = pd.DataFrame(topic_dic)"
   ]
  },
  {
   "cell_type": "code",
   "execution_count": null,
   "id": "f642499e",
   "metadata": {},
   "outputs": [],
   "source": [
    "topic_df"
   ]
  },
  {
   "cell_type": "code",
   "execution_count": null,
   "id": "f3fd1d33",
   "metadata": {},
   "outputs": [],
   "source": [
    "def topic_intrusion_test(topic_df, name):\n",
    "    max_count = df.shape[0]\n",
    "    global i\n",
    "    i = 0\n",
    "\n",
    "    button_0 = widgets.Button(description = topic_df.topic_0[i])\n",
    "    button_1 = widgets.Button(description = topic_df.topic_1[i])\n",
    "    button_2 = widgets.Button(description = topic_df.topic_2[i])\n",
    "    button_3 = widgets.Button(description = topic_df.topic_3[i])\n",
    "    button_4 = widgets.Button(description = topic_df.topic_4[i])\n",
    "    button_5 = widgets.Button(description = topic_df.topic_5[i])\n",
    "    \n",
    "    chosen_elements = []\n",
    "\n",
    "    display(\"Topic Intrusion Test\")\n",
    "\n",
    "    f = IntProgress(min=0, max=max_count)\n",
    "    display(f)\n",
    "    \n",
    "    display(topic_df.text[i])\n",
    "\n",
    "    display(button_0)\n",
    "    display(button_1)\n",
    "    display(button_2)\n",
    "    display(button_3)\n",
    "    display(button_4)\n",
    "    display(button_5)\n",
    "\n",
    "\n",
    "    def btn_eventhandler(obj):\n",
    "        global i \n",
    "        i += 1\n",
    "        \n",
    "        clear_output(wait=True)\n",
    "        \n",
    "        display(\"Topic Intrusion Text\")\n",
    "        display(f)\n",
    "        f.value += 1\n",
    "                \n",
    "        choosen_text = obj.description\n",
    "        chosen_elements.append(choosen_text)\n",
    "        \n",
    "        if i < max_count:\n",
    "\n",
    "            button_0 = widgets.Button(description = topic_df.topic_0[i])\n",
    "            button_1 = widgets.Button(description = topic_df.topic_1[i])\n",
    "            button_2 = widgets.Button(description = topic_df.topic_2[i])\n",
    "            button_3 = widgets.Button(description = topic_df.topic_3[i])\n",
    "            button_4 = widgets.Button(description = topic_df.topic_4[i])\n",
    "            button_5 = widgets.Button(description = topic_df.topic_5[i])\n",
    "            \n",
    "            display(topic_df.text[i])\n",
    "            \n",
    "            display(button_0)\n",
    "            display(button_1)\n",
    "            display(button_2)\n",
    "            display(button_3)\n",
    "            display(button_4)\n",
    "            display(button_5)\n",
    "            \n",
    "            button_0.on_click(btn_eventhandler)\n",
    "            button_1.on_click(btn_eventhandler)\n",
    "            button_2.on_click(btn_eventhandler)\n",
    "            button_3.on_click(btn_eventhandler)\n",
    "            button_4.on_click(btn_eventhandler)\n",
    "            button_5.on_click(btn_eventhandler)\n",
    "        else:\n",
    "            print (\"Thanks \" + name + \" you finished all the work!\")\n",
    "            topic_df[\"choosen_topic\"] = chosen_elements\n",
    "            topic_df.to_csv(\"../data/processed/topic_intrusion_test_\" + name + \".csv\", index = False)\n",
    "\n",
    "\n",
    "\n",
    "    button_0.on_click(btn_eventhandler)\n",
    "    button_1.on_click(btn_eventhandler)\n",
    "    button_2.on_click(btn_eventhandler)\n",
    "    button_3.on_click(btn_eventhandler)\n",
    "    button_4.on_click(btn_eventhandler)\n",
    "    button_5.on_click(btn_eventhandler)\n",
    "    \n",
    "    return topic_df"
   ]
  },
  {
   "cell_type": "code",
   "execution_count": null,
   "id": "4f9c4c3d",
   "metadata": {},
   "outputs": [],
   "source": [
    "topic_results = topic_intrusion_test(topic_df, \"Jakob\")"
   ]
  },
  {
   "cell_type": "code",
   "execution_count": null,
   "id": "28b525a4",
   "metadata": {},
   "outputs": [],
   "source": [
    "topic_results"
   ]
  },
  {
   "cell_type": "code",
   "execution_count": null,
   "id": "13ca04ae",
   "metadata": {},
   "outputs": [],
   "source": [
    "def calculate_topic_intrusion(df_topic_intrusion):\n",
    "    # We need to calculate the mean of the difference between the log likelihood of the true\n",
    "    # and the choosen intruder topic\n",
    "    return df_topic_intrusion"
   ]
  },
  {
   "cell_type": "markdown",
   "id": "4b991727",
   "metadata": {},
   "source": [
    "# 6. Sentiment Analyis Gold Standard"
   ]
  },
  {
   "cell_type": "code",
   "execution_count": null,
   "id": "5c0e5d9c",
   "metadata": {},
   "outputs": [],
   "source": [
    "def sentiment_gold_dictionary(sentiment_df, name):\n",
    "    max_count = df.shape[0]\n",
    "    global i\n",
    "    i = 0\n",
    "\n",
    "    button_0 = widgets.Button(description = \"Positive\")\n",
    "    button_1 = widgets.Button(description = \"Neutral\")\n",
    "    button_2 = widgets.Button(description = \"Negative\")\n",
    "    \n",
    "    chosen_elements = []\n",
    "\n",
    "    display(\"Sentiment Gold Standard\")\n",
    "\n",
    "    f = IntProgress(min=0, max=max_count)\n",
    "    display(f)\n",
    "    \n",
    "    display(sentiment_df.text[i])\n",
    "\n",
    "    display(button_0)\n",
    "    display(button_1)\n",
    "    display(button_2)\n",
    "\n",
    "\n",
    "    def btn_eventhandler(obj):\n",
    "        global i \n",
    "        i += 1\n",
    "        \n",
    "        clear_output(wait=True)\n",
    "        \n",
    "        display(\"Sentiment Gold Standard\")\n",
    "        display(f)\n",
    "        f.value += 1\n",
    "                \n",
    "        choosen_text = obj.description\n",
    "        chosen_elements.append(choosen_text)\n",
    "        \n",
    "        if i < max_count:\n",
    "            \n",
    "            display(sentiment_df.text[i])\n",
    "            \n",
    "            display(button_0)\n",
    "            display(button_1)\n",
    "            display(button_2)\n",
    "            \n",
    "            button_0.on_click(btn_eventhandler)\n",
    "            button_1.on_click(btn_eventhandler)\n",
    "            button_2.on_click(btn_eventhandler)\n",
    "            \n",
    "        else:\n",
    "            print (\"Thanks \" + name + \" you finished all the work!\")\n",
    "            sentiment_df[\"choosen_sentiment\"] = chosen_elements\n",
    "            sentiment_df.to_csv(\"../data/processed/sentiment_gold_standard_\" + name + \".csv\", index = False)\n",
    "\n",
    "    button_0.on_click(btn_eventhandler)\n",
    "    button_1.on_click(btn_eventhandler)\n",
    "    button_2.on_click(btn_eventhandler)\n",
    "    \n",
    "    return sentiment_df"
   ]
  },
  {
   "cell_type": "code",
   "execution_count": null,
   "id": "ed15d6d3",
   "metadata": {},
   "outputs": [],
   "source": [
    "sentiment_dic = {\"text\": [\"Ich liebe dich\", \"Ich hasse dich\", \"Ich neutrale dich\"]}"
   ]
  },
  {
   "cell_type": "code",
   "execution_count": null,
   "id": "6775291d",
   "metadata": {},
   "outputs": [],
   "source": [
    "sentiment_df = pd.DataFrame(sentiment_dic)"
   ]
  },
  {
   "cell_type": "code",
   "execution_count": null,
   "id": "1079681c",
   "metadata": {},
   "outputs": [],
   "source": [
    "sentiment_df = sentiment_gold_dictionary(sentiment_df, \"Jakob\")"
   ]
  },
  {
   "cell_type": "code",
   "execution_count": null,
   "id": "1453e34f",
   "metadata": {},
   "outputs": [],
   "source": [
    "sentiment_df"
   ]
  }
 ],
 "metadata": {
  "kernelspec": {
   "display_name": "Python 3 (ipykernel)",
   "language": "python",
   "name": "python3"
  },
  "language_info": {
   "codemirror_mode": {
    "name": "ipython",
    "version": 3
   },
   "file_extension": ".py",
   "mimetype": "text/x-python",
   "name": "python",
   "nbconvert_exporter": "python",
   "pygments_lexer": "ipython3",
   "version": "3.8.12"
  }
 },
 "nbformat": 4,
 "nbformat_minor": 5
}
