{
 "cells": [
  {
   "cell_type": "markdown",
   "id": "2f8387f0",
   "metadata": {},
   "source": [
    "# Data Exploration"
   ]
  },
  {
   "cell_type": "markdown",
   "id": "c7bdd95c",
   "metadata": {},
   "source": [
    "### 1. Import packages"
   ]
  },
  {
   "cell_type": "code",
   "execution_count": 1,
   "id": "3aad6415",
   "metadata": {},
   "outputs": [],
   "source": [
    "import numpy as np\n",
    "import pandas as pd\n",
    "import matplotlib.pyplot as plt\n",
    "from tqdm.notebook import tqdm\n",
    "\n",
    "tqdm.pandas()"
   ]
  },
  {
   "cell_type": "markdown",
   "id": "d488f703",
   "metadata": {},
   "source": [
    "### 2. Explore tweets of politicians"
   ]
  },
  {
   "cell_type": "markdown",
   "id": "4d91634f",
   "metadata": {},
   "source": [
    "#### Import data"
   ]
  },
  {
   "cell_type": "code",
   "execution_count": 2,
   "id": "dbbd3585",
   "metadata": {
    "scrolled": true
   },
   "outputs": [
    {
     "name": "stderr",
     "output_type": "stream",
     "text": [
      "/Users/stjepankusenic/PycharmProjects/amca/venv/lib/python3.9/site-packages/IPython/core/interactiveshell.py:3457: DtypeWarning: Columns (1,6) have mixed types.Specify dtype option on import or set low_memory=False.\n",
      "  exec(code_obj, self.user_global_ns, self.user_ns)\n"
     ]
    }
   ],
   "source": [
    "tweets_scraped = pd.read_csv(\"../data/raw/tweets_scraped.csv\")"
   ]
  },
  {
   "cell_type": "markdown",
   "id": "91d8a2e7",
   "metadata": {},
   "source": [
    "#### Check data"
   ]
  },
  {
   "cell_type": "code",
   "execution_count": 3,
   "id": "6375b453",
   "metadata": {},
   "outputs": [
    {
     "data": {
      "text/html": [
       "<div>\n",
       "<style scoped>\n",
       "    .dataframe tbody tr th:only-of-type {\n",
       "        vertical-align: middle;\n",
       "    }\n",
       "\n",
       "    .dataframe tbody tr th {\n",
       "        vertical-align: top;\n",
       "    }\n",
       "\n",
       "    .dataframe thead th {\n",
       "        text-align: right;\n",
       "    }\n",
       "</style>\n",
       "<table border=\"1\" class=\"dataframe\">\n",
       "  <thead>\n",
       "    <tr style=\"text-align: right;\">\n",
       "      <th></th>\n",
       "      <th>datetime</th>\n",
       "      <th>tweet_id</th>\n",
       "      <th>text</th>\n",
       "      <th>username</th>\n",
       "      <th>name</th>\n",
       "      <th>reply_count</th>\n",
       "      <th>retweet_count</th>\n",
       "      <th>like_count</th>\n",
       "      <th>party</th>\n",
       "    </tr>\n",
       "  </thead>\n",
       "  <tbody>\n",
       "    <tr>\n",
       "      <th>0</th>\n",
       "      <td>2022-01-18 11:58:18+00:00</td>\n",
       "      <td>1483408404173500416</td>\n",
       "      <td>Der neuen Präsidentin des @Europarl_DE @Robert...</td>\n",
       "      <td>rbrinkhaus</td>\n",
       "      <td>Ralph Brinkhaus</td>\n",
       "      <td>3.0</td>\n",
       "      <td>3</td>\n",
       "      <td>41.0</td>\n",
       "      <td>CDU</td>\n",
       "    </tr>\n",
       "    <tr>\n",
       "      <th>1</th>\n",
       "      <td>2021-12-24 09:06:37+00:00</td>\n",
       "      <td>1474305500472922113</td>\n",
       "      <td>Ich wünsche Ihnen ein frohes und gesegnetes We...</td>\n",
       "      <td>rbrinkhaus</td>\n",
       "      <td>Ralph Brinkhaus</td>\n",
       "      <td>26.0</td>\n",
       "      <td>5</td>\n",
       "      <td>82.0</td>\n",
       "      <td>CDU</td>\n",
       "    </tr>\n",
       "    <tr>\n",
       "      <th>2</th>\n",
       "      <td>2021-12-17 13:41:57+00:00</td>\n",
       "      <td>1471838074413924356</td>\n",
       "      <td>Herzlichen Glückwunsch @_FriedrichMerz. Alles ...</td>\n",
       "      <td>rbrinkhaus</td>\n",
       "      <td>Ralph Brinkhaus</td>\n",
       "      <td>132.0</td>\n",
       "      <td>22</td>\n",
       "      <td>607.0</td>\n",
       "      <td>CDU</td>\n",
       "    </tr>\n",
       "    <tr>\n",
       "      <th>3</th>\n",
       "      <td>2021-12-15 12:34:54+00:00</td>\n",
       "      <td>1471096426381942791</td>\n",
       "      <td>@dieLinke Die Rede in voller Länge gibt es in ...</td>\n",
       "      <td>rbrinkhaus</td>\n",
       "      <td>Ralph Brinkhaus</td>\n",
       "      <td>7.0</td>\n",
       "      <td>2</td>\n",
       "      <td>13.0</td>\n",
       "      <td>CDU</td>\n",
       "    </tr>\n",
       "    <tr>\n",
       "      <th>4</th>\n",
       "      <td>2021-12-15 11:58:36+00:00</td>\n",
       "      <td>1471087291913449472</td>\n",
       "      <td>Eine Demokratie braucht eine starke #Oppositio...</td>\n",
       "      <td>rbrinkhaus</td>\n",
       "      <td>Ralph Brinkhaus</td>\n",
       "      <td>8.0</td>\n",
       "      <td>1</td>\n",
       "      <td>33.0</td>\n",
       "      <td>CDU</td>\n",
       "    </tr>\n",
       "  </tbody>\n",
       "</table>\n",
       "</div>"
      ],
      "text/plain": [
       "                    datetime             tweet_id  \\\n",
       "0  2022-01-18 11:58:18+00:00  1483408404173500416   \n",
       "1  2021-12-24 09:06:37+00:00  1474305500472922113   \n",
       "2  2021-12-17 13:41:57+00:00  1471838074413924356   \n",
       "3  2021-12-15 12:34:54+00:00  1471096426381942791   \n",
       "4  2021-12-15 11:58:36+00:00  1471087291913449472   \n",
       "\n",
       "                                                text    username  \\\n",
       "0  Der neuen Präsidentin des @Europarl_DE @Robert...  rbrinkhaus   \n",
       "1  Ich wünsche Ihnen ein frohes und gesegnetes We...  rbrinkhaus   \n",
       "2  Herzlichen Glückwunsch @_FriedrichMerz. Alles ...  rbrinkhaus   \n",
       "3  @dieLinke Die Rede in voller Länge gibt es in ...  rbrinkhaus   \n",
       "4  Eine Demokratie braucht eine starke #Oppositio...  rbrinkhaus   \n",
       "\n",
       "              name  reply_count retweet_count  like_count party  \n",
       "0  Ralph Brinkhaus          3.0             3        41.0   CDU  \n",
       "1  Ralph Brinkhaus         26.0             5        82.0   CDU  \n",
       "2  Ralph Brinkhaus        132.0            22       607.0   CDU  \n",
       "3  Ralph Brinkhaus          7.0             2        13.0   CDU  \n",
       "4  Ralph Brinkhaus          8.0             1        33.0   CDU  "
      ]
     },
     "execution_count": 3,
     "metadata": {},
     "output_type": "execute_result"
    }
   ],
   "source": [
    "tweets_scraped.head()"
   ]
  },
  {
   "cell_type": "code",
   "execution_count": 4,
   "id": "c6a2b213",
   "metadata": {},
   "outputs": [
    {
     "data": {
      "text/html": [
       "<div>\n",
       "<style scoped>\n",
       "    .dataframe tbody tr th:only-of-type {\n",
       "        vertical-align: middle;\n",
       "    }\n",
       "\n",
       "    .dataframe tbody tr th {\n",
       "        vertical-align: top;\n",
       "    }\n",
       "\n",
       "    .dataframe thead th {\n",
       "        text-align: right;\n",
       "    }\n",
       "</style>\n",
       "<table border=\"1\" class=\"dataframe\">\n",
       "  <thead>\n",
       "    <tr style=\"text-align: right;\">\n",
       "      <th></th>\n",
       "      <th>datetime</th>\n",
       "      <th>tweet_id</th>\n",
       "      <th>text</th>\n",
       "      <th>username</th>\n",
       "      <th>name</th>\n",
       "      <th>reply_count</th>\n",
       "      <th>retweet_count</th>\n",
       "      <th>like_count</th>\n",
       "      <th>party</th>\n",
       "    </tr>\n",
       "  </thead>\n",
       "  <tbody>\n",
       "    <tr>\n",
       "      <th>400275</th>\n",
       "      <td>2013-11-10 20:30:25+00:00</td>\n",
       "      <td>399635176701329408</td>\n",
       "      <td>@stefanb_ Die KandidatInnen haben die Unterstü...</td>\n",
       "      <td>ABaerbockArchiv</td>\n",
       "      <td>Annalena Baerbock (Archiv)</td>\n",
       "      <td>1.0</td>\n",
       "      <td>0</td>\n",
       "      <td>0.0</td>\n",
       "      <td>Grüne</td>\n",
       "    </tr>\n",
       "    <tr>\n",
       "      <th>400276</th>\n",
       "      <td>2013-11-10 11:12:28+00:00</td>\n",
       "      <td>399494763264872448</td>\n",
       "      <td>You decide Europe - Vote now on: greenprimary.eu</td>\n",
       "      <td>ABaerbockArchiv</td>\n",
       "      <td>Annalena Baerbock (Archiv)</td>\n",
       "      <td>1.0</td>\n",
       "      <td>0</td>\n",
       "      <td>1.0</td>\n",
       "      <td>Grüne</td>\n",
       "    </tr>\n",
       "    <tr>\n",
       "      <th>400277</th>\n",
       "      <td>2013-11-09 14:55:36+00:00</td>\n",
       "      <td>399188527256055809</td>\n",
       "      <td>Engagierte Diskussion zu europ. &amp;amp; globalen...</td>\n",
       "      <td>ABaerbockArchiv</td>\n",
       "      <td>Annalena Baerbock (Archiv)</td>\n",
       "      <td>0.0</td>\n",
       "      <td>0</td>\n",
       "      <td>1.0</td>\n",
       "      <td>Grüne</td>\n",
       "    </tr>\n",
       "    <tr>\n",
       "      <th>400278</th>\n",
       "      <td>2013-11-08 11:24:22+00:00</td>\n",
       "      <td>398772981528150016</td>\n",
       "      <td>Spannende Klausur der Europagruppe von @Die_Gr...</td>\n",
       "      <td>ABaerbockArchiv</td>\n",
       "      <td>Annalena Baerbock (Archiv)</td>\n",
       "      <td>0.0</td>\n",
       "      <td>0</td>\n",
       "      <td>3.0</td>\n",
       "      <td>Grüne</td>\n",
       "    </tr>\n",
       "    <tr>\n",
       "      <th>400279</th>\n",
       "      <td>2013-11-07 13:53:38+00:00</td>\n",
       "      <td>398448157262381057</td>\n",
       "      <td>Hoffe, die Kommission macht gut Druck gegen di...</td>\n",
       "      <td>ABaerbockArchiv</td>\n",
       "      <td>Annalena Baerbock (Archiv)</td>\n",
       "      <td>0.0</td>\n",
       "      <td>3</td>\n",
       "      <td>4.0</td>\n",
       "      <td>Grüne</td>\n",
       "    </tr>\n",
       "  </tbody>\n",
       "</table>\n",
       "</div>"
      ],
      "text/plain": [
       "                         datetime            tweet_id  \\\n",
       "400275  2013-11-10 20:30:25+00:00  399635176701329408   \n",
       "400276  2013-11-10 11:12:28+00:00  399494763264872448   \n",
       "400277  2013-11-09 14:55:36+00:00  399188527256055809   \n",
       "400278  2013-11-08 11:24:22+00:00  398772981528150016   \n",
       "400279  2013-11-07 13:53:38+00:00  398448157262381057   \n",
       "\n",
       "                                                     text         username  \\\n",
       "400275  @stefanb_ Die KandidatInnen haben die Unterstü...  ABaerbockArchiv   \n",
       "400276   You decide Europe - Vote now on: greenprimary.eu  ABaerbockArchiv   \n",
       "400277  Engagierte Diskussion zu europ. &amp; globalen...  ABaerbockArchiv   \n",
       "400278  Spannende Klausur der Europagruppe von @Die_Gr...  ABaerbockArchiv   \n",
       "400279  Hoffe, die Kommission macht gut Druck gegen di...  ABaerbockArchiv   \n",
       "\n",
       "                              name  reply_count retweet_count  like_count  \\\n",
       "400275  Annalena Baerbock (Archiv)          1.0             0         0.0   \n",
       "400276  Annalena Baerbock (Archiv)          1.0             0         1.0   \n",
       "400277  Annalena Baerbock (Archiv)          0.0             0         1.0   \n",
       "400278  Annalena Baerbock (Archiv)          0.0             0         3.0   \n",
       "400279  Annalena Baerbock (Archiv)          0.0             3         4.0   \n",
       "\n",
       "        party  \n",
       "400275  Grüne  \n",
       "400276  Grüne  \n",
       "400277  Grüne  \n",
       "400278  Grüne  \n",
       "400279  Grüne  "
      ]
     },
     "execution_count": 4,
     "metadata": {},
     "output_type": "execute_result"
    }
   ],
   "source": [
    "tweets_scraped.tail()"
   ]
  },
  {
   "cell_type": "code",
   "execution_count": 5,
   "id": "2202be29",
   "metadata": {},
   "outputs": [
    {
     "name": "stdout",
     "output_type": "stream",
     "text": [
      "<class 'pandas.core.frame.DataFrame'>\n",
      "RangeIndex: 400280 entries, 0 to 400279\n",
      "Data columns (total 9 columns):\n",
      " #   Column         Non-Null Count   Dtype  \n",
      "---  ------         --------------   -----  \n",
      " 0   datetime       400280 non-null  object \n",
      " 1   tweet_id       400278 non-null  object \n",
      " 2   text           400278 non-null  object \n",
      " 3   username       341102 non-null  object \n",
      " 4   name           341102 non-null  object \n",
      " 5   reply_count    341102 non-null  float64\n",
      " 6   retweet_count  341102 non-null  object \n",
      " 7   like_count     341100 non-null  float64\n",
      " 8   party          341100 non-null  object \n",
      "dtypes: float64(2), object(7)\n",
      "memory usage: 27.5+ MB\n"
     ]
    }
   ],
   "source": [
    "tweets_scraped.info()"
   ]
  },
  {
   "cell_type": "code",
   "execution_count": 6,
   "id": "6f4bb168",
   "metadata": {},
   "outputs": [
    {
     "data": {
      "text/html": [
       "<div>\n",
       "<style scoped>\n",
       "    .dataframe tbody tr th:only-of-type {\n",
       "        vertical-align: middle;\n",
       "    }\n",
       "\n",
       "    .dataframe tbody tr th {\n",
       "        vertical-align: top;\n",
       "    }\n",
       "\n",
       "    .dataframe thead th {\n",
       "        text-align: right;\n",
       "    }\n",
       "</style>\n",
       "<table border=\"1\" class=\"dataframe\">\n",
       "  <thead>\n",
       "    <tr style=\"text-align: right;\">\n",
       "      <th></th>\n",
       "      <th>reply_count</th>\n",
       "      <th>like_count</th>\n",
       "    </tr>\n",
       "  </thead>\n",
       "  <tbody>\n",
       "    <tr>\n",
       "      <th>count</th>\n",
       "      <td>341102.000000</td>\n",
       "      <td>341100.000000</td>\n",
       "    </tr>\n",
       "    <tr>\n",
       "      <th>mean</th>\n",
       "      <td>17.121946</td>\n",
       "      <td>135.328531</td>\n",
       "    </tr>\n",
       "    <tr>\n",
       "      <th>std</th>\n",
       "      <td>84.147600</td>\n",
       "      <td>732.384448</td>\n",
       "    </tr>\n",
       "    <tr>\n",
       "      <th>min</th>\n",
       "      <td>0.000000</td>\n",
       "      <td>0.000000</td>\n",
       "    </tr>\n",
       "    <tr>\n",
       "      <th>25%</th>\n",
       "      <td>0.000000</td>\n",
       "      <td>0.000000</td>\n",
       "    </tr>\n",
       "    <tr>\n",
       "      <th>50%</th>\n",
       "      <td>1.000000</td>\n",
       "      <td>5.000000</td>\n",
       "    </tr>\n",
       "    <tr>\n",
       "      <th>75%</th>\n",
       "      <td>6.000000</td>\n",
       "      <td>47.000000</td>\n",
       "    </tr>\n",
       "    <tr>\n",
       "      <th>max</th>\n",
       "      <td>9635.000000</td>\n",
       "      <td>106464.000000</td>\n",
       "    </tr>\n",
       "  </tbody>\n",
       "</table>\n",
       "</div>"
      ],
      "text/plain": [
       "         reply_count     like_count\n",
       "count  341102.000000  341100.000000\n",
       "mean       17.121946     135.328531\n",
       "std        84.147600     732.384448\n",
       "min         0.000000       0.000000\n",
       "25%         0.000000       0.000000\n",
       "50%         1.000000       5.000000\n",
       "75%         6.000000      47.000000\n",
       "max      9635.000000  106464.000000"
      ]
     },
     "execution_count": 6,
     "metadata": {},
     "output_type": "execute_result"
    }
   ],
   "source": [
    "tweets_scraped.describe()"
   ]
  },
  {
   "cell_type": "markdown",
   "id": "b8359260",
   "metadata": {},
   "source": [
    "#### Drop missing data"
   ]
  },
  {
   "cell_type": "markdown",
   "id": "9bb99dee",
   "metadata": {},
   "source": [
    "We drop all records with missing data, as we cannot use this data for our analysis."
   ]
  },
  {
   "cell_type": "code",
   "execution_count": 7,
   "id": "8336e732",
   "metadata": {},
   "outputs": [],
   "source": [
    "tweets_scraped.dropna(inplace = True)"
   ]
  },
  {
   "cell_type": "code",
   "execution_count": 8,
   "id": "566d602f",
   "metadata": {},
   "outputs": [
    {
     "name": "stdout",
     "output_type": "stream",
     "text": [
      "<class 'pandas.core.frame.DataFrame'>\n",
      "Int64Index: 341100 entries, 0 to 400279\n",
      "Data columns (total 9 columns):\n",
      " #   Column         Non-Null Count   Dtype  \n",
      "---  ------         --------------   -----  \n",
      " 0   datetime       341100 non-null  object \n",
      " 1   tweet_id       341100 non-null  object \n",
      " 2   text           341100 non-null  object \n",
      " 3   username       341100 non-null  object \n",
      " 4   name           341100 non-null  object \n",
      " 5   reply_count    341100 non-null  float64\n",
      " 6   retweet_count  341100 non-null  object \n",
      " 7   like_count     341100 non-null  float64\n",
      " 8   party          341100 non-null  object \n",
      "dtypes: float64(2), object(7)\n",
      "memory usage: 26.0+ MB\n"
     ]
    }
   ],
   "source": [
    "tweets_scraped.info()"
   ]
  },
  {
   "cell_type": "markdown",
   "id": "ac4dbb07",
   "metadata": {},
   "source": [
    "#### Clean names"
   ]
  },
  {
   "cell_type": "code",
   "execution_count": 9,
   "id": "c6c9d4f8",
   "metadata": {},
   "outputs": [],
   "source": [
    "usernames_to_fullname = {'rbrinkhaus': 'Ralph Brinkhaus', 'groehe': 'Hermann Gröhe', \n",
    "                         'NadineSchoen': 'Nadine Schön', 'n_roettgen': 'Norbert Röttgen',\n",
    "                         'peteraltmaier': 'Peter Altmaier', 'jensspahn': 'Jens Spahn', \n",
    "                         'MatthiasHauer': 'Matthias Hauer', 'c_lindner': 'Christian Lindner',\n",
    "                         'MarcoBuschmann': 'Marco Buschmann', 'starkwatzinger': 'Bettina Stark-Watzinger',\n",
    "                         'Lambsdorff': 'Alexander Graf Lambsdorff', 'johannesvogel': 'Johannes Vogel',\n",
    "                         'KonstantinKuhle': 'Konstantin Kuhle', 'MAStrackZi': 'Marie-Agnes Strack-Zimmermann',\n",
    "                         'larsklingbeil': 'Lars Klingbeil', 'EskenSaskia': 'Saskia Esken',\n",
    "                         'hubertus_heil': 'Hubertus Heil', 'HeikoMaas': 'Heiko Maas',\n",
    "                         'MartinSchulz': 'Martin Schulz', 'KarambaDiaby': 'Karamba Diaby',\n",
    "                         'Karl_Lauterbach': 'Karl Lauterbach', 'SteffiLemke': 'Steffi Lemke',\n",
    "                         'cem_oezdemir': 'Cem Özdemir', 'GoeringEckardt': 'Katrin Göring-Eckardt',\n",
    "                         'KonstantinNotz': 'Konstantin von Notz', '6': 'Konstantin von Notz',\n",
    "                         'BriHasselmann': 'Britta Haßelmann', 'svenlehmann': 'Sven Lehmann',\n",
    "                         'ABaerbock': 'Annalena Baerbock', 'ABaerbockArchiv': 'Annalena Baerbock',\n",
    "                         'SWagenknecht': 'Sahra Wagenknecht', 'b_riexinger': 'Bernd Riexinger',\n",
    "                         'NiemaMovassat': 'Niema Movassat', 'jankortemdb': 'Jan Korte',\n",
    "                         'DietmarBartsch': 'Dietmar Bartsch', 'GregorGysi': 'Gregor Gysi',\n",
    "                         'SevimDagdelen': 'Sevim Dağdelen', 'Alice_Weidel': 'Alice Weidel',\n",
    "                         'Beatrix_vStorch': 'Beatrix von Storch', 'JoanaCotar': 'Joana Cotar',\n",
    "                         'StBrandner': 'Stephan Brandner', 'Tino_Chrupalla': 'Tino Chrupalla',\n",
    "                         'GtzFrmming': 'Götz Frömming', '3': 'Götz Frömming', 'Leif_Erik_Holm': 'Leif-Erik Holm'}"
   ]
  },
  {
   "cell_type": "code",
   "execution_count": 10,
   "id": "4200ac45",
   "metadata": {},
   "outputs": [],
   "source": [
    "tweets_scraped[\"full_name\"] = tweets_scraped.username.replace(usernames_to_fullname)"
   ]
  },
  {
   "cell_type": "markdown",
   "id": "0b96d33c",
   "metadata": {},
   "source": [
    "#### Check date of tweets"
   ]
  },
  {
   "cell_type": "code",
   "execution_count": 11,
   "id": "1a91c6b4",
   "metadata": {},
   "outputs": [],
   "source": [
    "tweets_scraped[\"date\"] = pd.to_datetime(tweets_scraped[\"datetime\"], format = \"%Y-%m-%d\").dt.date"
   ]
  },
  {
   "cell_type": "code",
   "execution_count": 12,
   "id": "80ccab9e",
   "metadata": {},
   "outputs": [
    {
     "data": {
      "text/plain": [
       "datetime.date(2008, 8, 23)"
      ]
     },
     "execution_count": 12,
     "metadata": {},
     "output_type": "execute_result"
    }
   ],
   "source": [
    "tweets_scraped.date.min()"
   ]
  },
  {
   "cell_type": "code",
   "execution_count": 13,
   "id": "753bccb4",
   "metadata": {},
   "outputs": [
    {
     "data": {
      "text/plain": [
       "datetime.date(2022, 1, 20)"
      ]
     },
     "execution_count": 13,
     "metadata": {},
     "output_type": "execute_result"
    }
   ],
   "source": [
    "tweets_scraped.date.max()"
   ]
  },
  {
   "cell_type": "markdown",
   "id": "36300cff",
   "metadata": {},
   "source": [
    "As we do not need data for the whole timespan of the scraped tweets, we can drop tweeets after and before. "
   ]
  },
  {
   "cell_type": "code",
   "execution_count": 14,
   "id": "577cea24",
   "metadata": {},
   "outputs": [
    {
     "name": "stderr",
     "output_type": "stream",
     "text": [
      "/Users/stjepankusenic/PycharmProjects/amca/venv/lib/python3.9/site-packages/pandas/core/ops/array_ops.py:73: FutureWarning: Comparison of Timestamp with datetime.date is deprecated in order to match the standard library behavior.  In a future version these will be considered non-comparable.Use 'ts == pd.Timestamp(date)' or 'ts.date() == date' instead.\n",
      "  result = libops.scalar_compare(x.ravel(), y, op)\n"
     ]
    }
   ],
   "source": [
    "tweets_subset = tweets_scraped[np.logical_and(tweets_scraped.date >= pd.Timestamp(\"24.10.2017\"), tweets_scraped.date <= pd.Timestamp(\"07.05.2021\"))]"
   ]
  },
  {
   "cell_type": "code",
   "execution_count": 15,
   "id": "860918a2",
   "metadata": {},
   "outputs": [
    {
     "data": {
      "text/plain": [
       "datetime.date(2017, 10, 24)"
      ]
     },
     "execution_count": 15,
     "metadata": {},
     "output_type": "execute_result"
    }
   ],
   "source": [
    "tweets_subset.date.min()"
   ]
  },
  {
   "cell_type": "code",
   "execution_count": 16,
   "id": "d21ff94a",
   "metadata": {},
   "outputs": [
    {
     "data": {
      "text/plain": [
       "datetime.date(2021, 7, 5)"
      ]
     },
     "execution_count": 16,
     "metadata": {},
     "output_type": "execute_result"
    }
   ],
   "source": [
    "tweets_subset.date.max()"
   ]
  },
  {
   "cell_type": "markdown",
   "id": "61f90f62",
   "metadata": {},
   "source": [
    "#### Checkt text"
   ]
  },
  {
   "cell_type": "code",
   "execution_count": 17,
   "id": "fff2ce9e",
   "metadata": {},
   "outputs": [
    {
     "data": {
      "application/vnd.jupyter.widget-view+json": {
       "model_id": "e2a5e3619be940eba49fec4d271fb942",
       "version_major": 2,
       "version_minor": 0
      },
      "text/plain": [
       "  0%|          | 0/164460 [00:00<?, ?it/s]"
      ]
     },
     "metadata": {},
     "output_type": "display_data"
    },
    {
     "name": "stderr",
     "output_type": "stream",
     "text": [
      "/var/folders/xy/yfm2dhtj3jvfy85hqy16wmk00000gn/T/ipykernel_12403/123666153.py:1: SettingWithCopyWarning: \n",
      "A value is trying to be set on a copy of a slice from a DataFrame.\n",
      "Try using .loc[row_indexer,col_indexer] = value instead\n",
      "\n",
      "See the caveats in the documentation: https://pandas.pydata.org/pandas-docs/stable/user_guide/indexing.html#returning-a-view-versus-a-copy\n",
      "  tweets_subset[\"tweet_length\"] = tweets_subset.text.progress_apply(len)\n"
     ]
    }
   ],
   "source": [
    "tweets_subset[\"tweet_length\"] = tweets_subset.text.progress_apply(len)"
   ]
  },
  {
   "cell_type": "markdown",
   "id": "8ee818db",
   "metadata": {},
   "source": [
    "We identified tweets with very few characters. They will be sorted in the preprocessing."
   ]
  },
  {
   "cell_type": "code",
   "execution_count": 18,
   "id": "2bb80f8b",
   "metadata": {},
   "outputs": [
    {
     "data": {
      "text/plain": [
       "1"
      ]
     },
     "execution_count": 18,
     "metadata": {},
     "output_type": "execute_result"
    }
   ],
   "source": [
    "tweets_subset.tweet_length.min()"
   ]
  },
  {
   "cell_type": "markdown",
   "id": "e79fdf94",
   "metadata": {},
   "source": [
    "#### Checkt text"
   ]
  },
  {
   "cell_type": "markdown",
   "id": "1449e7c4",
   "metadata": {},
   "source": [
    "When checking the distribution of tweets, we can see differences, but they are not heavily impeding our results."
   ]
  },
  {
   "cell_type": "code",
   "execution_count": 19,
   "id": "3221a84b",
   "metadata": {},
   "outputs": [
    {
     "data": {
      "text/plain": [
       "party\n",
       "AFD      32878\n",
       "CDU      16687\n",
       "FDP      41668\n",
       "Grüne    19314\n",
       "Linke    21582\n",
       "SPD      32331\n",
       "dtype: int64"
      ]
     },
     "execution_count": 19,
     "metadata": {},
     "output_type": "execute_result"
    }
   ],
   "source": [
    "tweets_subset.groupby(\"party\").size()"
   ]
  },
  {
   "cell_type": "markdown",
   "id": "d6bc4944",
   "metadata": {},
   "source": [
    "#### Check politicians"
   ]
  },
  {
   "cell_type": "markdown",
   "id": "6d4e5720",
   "metadata": {},
   "source": [
    "We see significant differences between the number of tweets per politician ranging from nearly 29665 to 658. This will be an aspect we have to consider in our work."
   ]
  },
  {
   "cell_type": "code",
   "execution_count": 20,
   "id": "31a581ad",
   "metadata": {},
   "outputs": [
    {
     "data": {
      "text/plain": [
       "<AxesSubplot:xlabel='full_name'>"
      ]
     },
     "execution_count": 20,
     "metadata": {},
     "output_type": "execute_result"
    },
    {
     "data": {
      "image/png": "[encoded data removed]",
      "text/plain": [
       "<Figure size 432x288 with 1 Axes>"
      ]
     },
     "metadata": {
      "needs_background": "light"
     },
     "output_type": "display_data"
    }
   ],
   "source": [
    "tweets_scraped.groupby('full_name')['tweet_id'].size().sort_values().plot(kind='bar')"
   ]
  },
  {
   "cell_type": "markdown",
   "id": "4b3f1315",
   "metadata": {},
   "source": [
    "#### Check date"
   ]
  },
  {
   "cell_type": "code",
   "execution_count": 21,
   "id": "0a24e84c",
   "metadata": {
    "scrolled": true
   },
   "outputs": [
    {
     "data": {
      "text/plain": [
       "<AxesSubplot:xlabel='date'>"
      ]
     },
     "execution_count": 21,
     "metadata": {},
     "output_type": "execute_result"
    },
    {
     "data": {
      "image/png": "[encoded data removed]",
      "text/plain": [
       "<Figure size 432x288 with 1 Axes>"
      ]
     },
     "metadata": {
      "needs_background": "light"
     },
     "output_type": "display_data"
    }
   ],
   "source": [
    "tweets_scraped.groupby('date')['tweet_id'].size().plot()"
   ]
  },
  {
   "cell_type": "markdown",
   "id": "8bceecb1",
   "metadata": {},
   "source": [
    "We see an strongly increasing trend of tweets per day. This is caused by two new parties entering the bundestag in 2017."
   ]
  },
  {
   "cell_type": "markdown",
   "id": "68a846d2",
   "metadata": {},
   "source": [
    "#### Drop unneeded data"
   ]
  },
  {
   "cell_type": "code",
   "execution_count": 22,
   "id": "b4eb7610",
   "metadata": {},
   "outputs": [
    {
     "name": "stderr",
     "output_type": "stream",
     "text": [
      "/Users/stjepankusenic/PycharmProjects/amca/venv/lib/python3.9/site-packages/pandas/core/frame.py:4906: SettingWithCopyWarning: \n",
      "A value is trying to be set on a copy of a slice from a DataFrame\n",
      "\n",
      "See the caveats in the documentation: https://pandas.pydata.org/pandas-docs/stable/user_guide/indexing.html#returning-a-view-versus-a-copy\n",
      "  return super().drop(\n"
     ]
    }
   ],
   "source": [
    "tweets_subset.drop(['datetime', 'tweet_id', 'username','name', 'reply_count', 'retweet_count',\n",
    "                    'tweet_length'], axis = 1, inplace = True)"
   ]
  },
  {
   "cell_type": "markdown",
   "id": "82f6cf99",
   "metadata": {},
   "source": [
    "#### Export data"
   ]
  },
  {
   "cell_type": "code",
   "execution_count": 23,
   "id": "f2388702",
   "metadata": {},
   "outputs": [],
   "source": [
    "tweets_subset.to_csv(\"../data/interim/tweets_explored.csv\", index = False)"
   ]
  },
  {
   "cell_type": "markdown",
   "id": "859f0785",
   "metadata": {},
   "source": [
    "### 3. Explore speeches of politicians"
   ]
  },
  {
   "cell_type": "markdown",
   "id": "5244125b",
   "metadata": {},
   "source": [
    "#### Import data"
   ]
  },
  {
   "cell_type": "code",
   "execution_count": 24,
   "id": "7afac0b3",
   "metadata": {},
   "outputs": [
    {
     "ename": "FileNotFoundError",
     "evalue": "[Errno 2] No such file or directory: '../data/raw/speeches_retrieved.csv'",
     "output_type": "error",
     "traceback": [
      "\u001b[0;31m---------------------------------------------------------------------------\u001b[0m",
      "\u001b[0;31mFileNotFoundError\u001b[0m                         Traceback (most recent call last)",
      "\u001b[0;32m/var/folders/xy/yfm2dhtj3jvfy85hqy16wmk00000gn/T/ipykernel_12403/2400105900.py\u001b[0m in \u001b[0;36m<module>\u001b[0;34m\u001b[0m\n\u001b[0;32m----> 1\u001b[0;31m \u001b[0mspeeches_retrieved\u001b[0m \u001b[0;34m=\u001b[0m \u001b[0mpd\u001b[0m\u001b[0;34m.\u001b[0m\u001b[0mread_csv\u001b[0m\u001b[0;34m(\u001b[0m\u001b[0;34m\"../data/raw/speeches_retrieved.csv\"\u001b[0m\u001b[0;34m)\u001b[0m\u001b[0;34m\u001b[0m\u001b[0;34m\u001b[0m\u001b[0m\n\u001b[0m",
      "\u001b[0;32m~/PycharmProjects/amca/venv/lib/python3.9/site-packages/pandas/util/_decorators.py\u001b[0m in \u001b[0;36mwrapper\u001b[0;34m(*args, **kwargs)\u001b[0m\n\u001b[1;32m    309\u001b[0m                     \u001b[0mstacklevel\u001b[0m\u001b[0;34m=\u001b[0m\u001b[0mstacklevel\u001b[0m\u001b[0;34m,\u001b[0m\u001b[0;34m\u001b[0m\u001b[0;34m\u001b[0m\u001b[0m\n\u001b[1;32m    310\u001b[0m                 )\n\u001b[0;32m--> 311\u001b[0;31m             \u001b[0;32mreturn\u001b[0m \u001b[0mfunc\u001b[0m\u001b[0;34m(\u001b[0m\u001b[0;34m*\u001b[0m\u001b[0margs\u001b[0m\u001b[0;34m,\u001b[0m \u001b[0;34m**\u001b[0m\u001b[0mkwargs\u001b[0m\u001b[0;34m)\u001b[0m\u001b[0;34m\u001b[0m\u001b[0;34m\u001b[0m\u001b[0m\n\u001b[0m\u001b[1;32m    312\u001b[0m \u001b[0;34m\u001b[0m\u001b[0m\n\u001b[1;32m    313\u001b[0m         \u001b[0;32mreturn\u001b[0m \u001b[0mwrapper\u001b[0m\u001b[0;34m\u001b[0m\u001b[0;34m\u001b[0m\u001b[0m\n",
      "\u001b[0;32m~/PycharmProjects/amca/venv/lib/python3.9/site-packages/pandas/io/parsers/readers.py\u001b[0m in \u001b[0;36mread_csv\u001b[0;34m(filepath_or_buffer, sep, delimiter, header, names, index_col, usecols, squeeze, prefix, mangle_dupe_cols, dtype, engine, converters, true_values, false_values, skipinitialspace, skiprows, skipfooter, nrows, na_values, keep_default_na, na_filter, verbose, skip_blank_lines, parse_dates, infer_datetime_format, keep_date_col, date_parser, dayfirst, cache_dates, iterator, chunksize, compression, thousands, decimal, lineterminator, quotechar, quoting, doublequote, escapechar, comment, encoding, encoding_errors, dialect, error_bad_lines, warn_bad_lines, on_bad_lines, delim_whitespace, low_memory, memory_map, float_precision, storage_options)\u001b[0m\n\u001b[1;32m    584\u001b[0m     \u001b[0mkwds\u001b[0m\u001b[0;34m.\u001b[0m\u001b[0mupdate\u001b[0m\u001b[0;34m(\u001b[0m\u001b[0mkwds_defaults\u001b[0m\u001b[0;34m)\u001b[0m\u001b[0;34m\u001b[0m\u001b[0;34m\u001b[0m\u001b[0m\n\u001b[1;32m    585\u001b[0m \u001b[0;34m\u001b[0m\u001b[0m\n\u001b[0;32m--> 586\u001b[0;31m     \u001b[0;32mreturn\u001b[0m \u001b[0m_read\u001b[0m\u001b[0;34m(\u001b[0m\u001b[0mfilepath_or_buffer\u001b[0m\u001b[0;34m,\u001b[0m \u001b[0mkwds\u001b[0m\u001b[0;34m)\u001b[0m\u001b[0;34m\u001b[0m\u001b[0;34m\u001b[0m\u001b[0m\n\u001b[0m\u001b[1;32m    587\u001b[0m \u001b[0;34m\u001b[0m\u001b[0m\n\u001b[1;32m    588\u001b[0m \u001b[0;34m\u001b[0m\u001b[0m\n",
      "\u001b[0;32m~/PycharmProjects/amca/venv/lib/python3.9/site-packages/pandas/io/parsers/readers.py\u001b[0m in \u001b[0;36m_read\u001b[0;34m(filepath_or_buffer, kwds)\u001b[0m\n\u001b[1;32m    480\u001b[0m \u001b[0;34m\u001b[0m\u001b[0m\n\u001b[1;32m    481\u001b[0m     \u001b[0;31m# Create the parser.\u001b[0m\u001b[0;34m\u001b[0m\u001b[0;34m\u001b[0m\u001b[0;34m\u001b[0m\u001b[0m\n\u001b[0;32m--> 482\u001b[0;31m     \u001b[0mparser\u001b[0m \u001b[0;34m=\u001b[0m \u001b[0mTextFileReader\u001b[0m\u001b[0;34m(\u001b[0m\u001b[0mfilepath_or_buffer\u001b[0m\u001b[0;34m,\u001b[0m \u001b[0;34m**\u001b[0m\u001b[0mkwds\u001b[0m\u001b[0;34m)\u001b[0m\u001b[0;34m\u001b[0m\u001b[0;34m\u001b[0m\u001b[0m\n\u001b[0m\u001b[1;32m    483\u001b[0m \u001b[0;34m\u001b[0m\u001b[0m\n\u001b[1;32m    484\u001b[0m     \u001b[0;32mif\u001b[0m \u001b[0mchunksize\u001b[0m \u001b[0;32mor\u001b[0m \u001b[0miterator\u001b[0m\u001b[0;34m:\u001b[0m\u001b[0;34m\u001b[0m\u001b[0;34m\u001b[0m\u001b[0m\n",
      "\u001b[0;32m~/PycharmProjects/amca/venv/lib/python3.9/site-packages/pandas/io/parsers/readers.py\u001b[0m in \u001b[0;36m__init__\u001b[0;34m(self, f, engine, **kwds)\u001b[0m\n\u001b[1;32m    809\u001b[0m             \u001b[0mself\u001b[0m\u001b[0;34m.\u001b[0m\u001b[0moptions\u001b[0m\u001b[0;34m[\u001b[0m\u001b[0;34m\"has_index_names\"\u001b[0m\u001b[0;34m]\u001b[0m \u001b[0;34m=\u001b[0m \u001b[0mkwds\u001b[0m\u001b[0;34m[\u001b[0m\u001b[0;34m\"has_index_names\"\u001b[0m\u001b[0;34m]\u001b[0m\u001b[0;34m\u001b[0m\u001b[0;34m\u001b[0m\u001b[0m\n\u001b[1;32m    810\u001b[0m \u001b[0;34m\u001b[0m\u001b[0m\n\u001b[0;32m--> 811\u001b[0;31m         \u001b[0mself\u001b[0m\u001b[0;34m.\u001b[0m\u001b[0m_engine\u001b[0m \u001b[0;34m=\u001b[0m \u001b[0mself\u001b[0m\u001b[0;34m.\u001b[0m\u001b[0m_make_engine\u001b[0m\u001b[0;34m(\u001b[0m\u001b[0mself\u001b[0m\u001b[0;34m.\u001b[0m\u001b[0mengine\u001b[0m\u001b[0;34m)\u001b[0m\u001b[0;34m\u001b[0m\u001b[0;34m\u001b[0m\u001b[0m\n\u001b[0m\u001b[1;32m    812\u001b[0m \u001b[0;34m\u001b[0m\u001b[0m\n\u001b[1;32m    813\u001b[0m     \u001b[0;32mdef\u001b[0m \u001b[0mclose\u001b[0m\u001b[0;34m(\u001b[0m\u001b[0mself\u001b[0m\u001b[0;34m)\u001b[0m\u001b[0;34m:\u001b[0m\u001b[0;34m\u001b[0m\u001b[0;34m\u001b[0m\u001b[0m\n",
      "\u001b[0;32m~/PycharmProjects/amca/venv/lib/python3.9/site-packages/pandas/io/parsers/readers.py\u001b[0m in \u001b[0;36m_make_engine\u001b[0;34m(self, engine)\u001b[0m\n\u001b[1;32m   1038\u001b[0m             )\n\u001b[1;32m   1039\u001b[0m         \u001b[0;31m# error: Too many arguments for \"ParserBase\"\u001b[0m\u001b[0;34m\u001b[0m\u001b[0;34m\u001b[0m\u001b[0;34m\u001b[0m\u001b[0m\n\u001b[0;32m-> 1040\u001b[0;31m         \u001b[0;32mreturn\u001b[0m \u001b[0mmapping\u001b[0m\u001b[0;34m[\u001b[0m\u001b[0mengine\u001b[0m\u001b[0;34m]\u001b[0m\u001b[0;34m(\u001b[0m\u001b[0mself\u001b[0m\u001b[0;34m.\u001b[0m\u001b[0mf\u001b[0m\u001b[0;34m,\u001b[0m \u001b[0;34m**\u001b[0m\u001b[0mself\u001b[0m\u001b[0;34m.\u001b[0m\u001b[0moptions\u001b[0m\u001b[0;34m)\u001b[0m  \u001b[0;31m# type: ignore[call-arg]\u001b[0m\u001b[0;34m\u001b[0m\u001b[0;34m\u001b[0m\u001b[0m\n\u001b[0m\u001b[1;32m   1041\u001b[0m \u001b[0;34m\u001b[0m\u001b[0m\n\u001b[1;32m   1042\u001b[0m     \u001b[0;32mdef\u001b[0m \u001b[0m_failover_to_python\u001b[0m\u001b[0;34m(\u001b[0m\u001b[0mself\u001b[0m\u001b[0;34m)\u001b[0m\u001b[0;34m:\u001b[0m\u001b[0;34m\u001b[0m\u001b[0;34m\u001b[0m\u001b[0m\n",
      "\u001b[0;32m~/PycharmProjects/amca/venv/lib/python3.9/site-packages/pandas/io/parsers/c_parser_wrapper.py\u001b[0m in \u001b[0;36m__init__\u001b[0;34m(self, src, **kwds)\u001b[0m\n\u001b[1;32m     49\u001b[0m \u001b[0;34m\u001b[0m\u001b[0m\n\u001b[1;32m     50\u001b[0m         \u001b[0;31m# open handles\u001b[0m\u001b[0;34m\u001b[0m\u001b[0;34m\u001b[0m\u001b[0;34m\u001b[0m\u001b[0m\n\u001b[0;32m---> 51\u001b[0;31m         \u001b[0mself\u001b[0m\u001b[0;34m.\u001b[0m\u001b[0m_open_handles\u001b[0m\u001b[0;34m(\u001b[0m\u001b[0msrc\u001b[0m\u001b[0;34m,\u001b[0m \u001b[0mkwds\u001b[0m\u001b[0;34m)\u001b[0m\u001b[0;34m\u001b[0m\u001b[0;34m\u001b[0m\u001b[0m\n\u001b[0m\u001b[1;32m     52\u001b[0m         \u001b[0;32massert\u001b[0m \u001b[0mself\u001b[0m\u001b[0;34m.\u001b[0m\u001b[0mhandles\u001b[0m \u001b[0;32mis\u001b[0m \u001b[0;32mnot\u001b[0m \u001b[0;32mNone\u001b[0m\u001b[0;34m\u001b[0m\u001b[0;34m\u001b[0m\u001b[0m\n\u001b[1;32m     53\u001b[0m \u001b[0;34m\u001b[0m\u001b[0m\n",
      "\u001b[0;32m~/PycharmProjects/amca/venv/lib/python3.9/site-packages/pandas/io/parsers/base_parser.py\u001b[0m in \u001b[0;36m_open_handles\u001b[0;34m(self, src, kwds)\u001b[0m\n\u001b[1;32m    220\u001b[0m         \u001b[0mLet\u001b[0m \u001b[0mthe\u001b[0m \u001b[0mreaders\u001b[0m \u001b[0mopen\u001b[0m \u001b[0mIOHandles\u001b[0m \u001b[0mafter\u001b[0m \u001b[0mthey\u001b[0m \u001b[0mare\u001b[0m \u001b[0mdone\u001b[0m \u001b[0;32mwith\u001b[0m \u001b[0mtheir\u001b[0m \u001b[0mpotential\u001b[0m \u001b[0mraises\u001b[0m\u001b[0;34m.\u001b[0m\u001b[0;34m\u001b[0m\u001b[0;34m\u001b[0m\u001b[0m\n\u001b[1;32m    221\u001b[0m         \"\"\"\n\u001b[0;32m--> 222\u001b[0;31m         self.handles = get_handle(\n\u001b[0m\u001b[1;32m    223\u001b[0m             \u001b[0msrc\u001b[0m\u001b[0;34m,\u001b[0m\u001b[0;34m\u001b[0m\u001b[0;34m\u001b[0m\u001b[0m\n\u001b[1;32m    224\u001b[0m             \u001b[0;34m\"r\"\u001b[0m\u001b[0;34m,\u001b[0m\u001b[0;34m\u001b[0m\u001b[0;34m\u001b[0m\u001b[0m\n",
      "\u001b[0;32m~/PycharmProjects/amca/venv/lib/python3.9/site-packages/pandas/io/common.py\u001b[0m in \u001b[0;36mget_handle\u001b[0;34m(path_or_buf, mode, encoding, compression, memory_map, is_text, errors, storage_options)\u001b[0m\n\u001b[1;32m    700\u001b[0m         \u001b[0;32mif\u001b[0m \u001b[0mioargs\u001b[0m\u001b[0;34m.\u001b[0m\u001b[0mencoding\u001b[0m \u001b[0;32mand\u001b[0m \u001b[0;34m\"b\"\u001b[0m \u001b[0;32mnot\u001b[0m \u001b[0;32min\u001b[0m \u001b[0mioargs\u001b[0m\u001b[0;34m.\u001b[0m\u001b[0mmode\u001b[0m\u001b[0;34m:\u001b[0m\u001b[0;34m\u001b[0m\u001b[0;34m\u001b[0m\u001b[0m\n\u001b[1;32m    701\u001b[0m             \u001b[0;31m# Encoding\u001b[0m\u001b[0;34m\u001b[0m\u001b[0;34m\u001b[0m\u001b[0;34m\u001b[0m\u001b[0m\n\u001b[0;32m--> 702\u001b[0;31m             handle = open(\n\u001b[0m\u001b[1;32m    703\u001b[0m                 \u001b[0mhandle\u001b[0m\u001b[0;34m,\u001b[0m\u001b[0;34m\u001b[0m\u001b[0;34m\u001b[0m\u001b[0m\n\u001b[1;32m    704\u001b[0m                 \u001b[0mioargs\u001b[0m\u001b[0;34m.\u001b[0m\u001b[0mmode\u001b[0m\u001b[0;34m,\u001b[0m\u001b[0;34m\u001b[0m\u001b[0;34m\u001b[0m\u001b[0m\n",
      "\u001b[0;31mFileNotFoundError\u001b[0m: [Errno 2] No such file or directory: '../data/raw/speeches_retrieved.csv'"
     ]
    }
   ],
   "source": [
    "speeches_retrieved = pd.read_csv(\"../data/raw/speeches_retrieved.csv\")"
   ]
  },
  {
   "cell_type": "markdown",
   "id": "72994a41",
   "metadata": {},
   "source": [
    "#### Check data"
   ]
  },
  {
   "cell_type": "code",
   "execution_count": null,
   "id": "c848e836",
   "metadata": {},
   "outputs": [],
   "source": [
    "speeches_retrieved.head()"
   ]
  },
  {
   "cell_type": "code",
   "execution_count": null,
   "id": "6ba0b798",
   "metadata": {},
   "outputs": [],
   "source": [
    "speeches_retrieved.tail()"
   ]
  },
  {
   "cell_type": "code",
   "execution_count": null,
   "id": "48f20b5c",
   "metadata": {},
   "outputs": [],
   "source": [
    "speeches_retrieved.info()"
   ]
  },
  {
   "cell_type": "code",
   "execution_count": null,
   "id": "33ca0c89",
   "metadata": {},
   "outputs": [],
   "source": [
    "speeches_retrieved.describe()"
   ]
  },
  {
   "cell_type": "markdown",
   "id": "d0727fce",
   "metadata": {},
   "source": [
    "#### Check date"
   ]
  },
  {
   "cell_type": "code",
   "execution_count": null,
   "id": "d964f441",
   "metadata": {},
   "outputs": [],
   "source": [
    "speeches_retrieved[\"date\"] = pd.to_datetime(speeches_retrieved[\"date\"], format = \"%Y-%m-%d\").dt.date"
   ]
  },
  {
   "cell_type": "markdown",
   "id": "d4a2f5c8",
   "metadata": {},
   "source": [
    "We do not cover the whole periods of the 19. bundestag based on the restrictions of the database."
   ]
  },
  {
   "cell_type": "code",
   "execution_count": null,
   "id": "7b0cda19",
   "metadata": {},
   "outputs": [],
   "source": [
    "speeches_retrieved.date.max()"
   ]
  },
  {
   "cell_type": "code",
   "execution_count": null,
   "id": "c4cc407f",
   "metadata": {},
   "outputs": [],
   "source": [
    "speeches_retrieved.date.min()"
   ]
  },
  {
   "cell_type": "markdown",
   "id": "890b0719",
   "metadata": {},
   "source": [
    "#### Missing values"
   ]
  },
  {
   "cell_type": "code",
   "execution_count": null,
   "id": "035012b3",
   "metadata": {},
   "outputs": [],
   "source": [
    "speeches_retrieved.dropna(subset = [\"speech_content\"], inplace = True)"
   ]
  },
  {
   "cell_type": "markdown",
   "id": "2de8066d",
   "metadata": {},
   "source": [
    "#### Check politicians"
   ]
  },
  {
   "cell_type": "code",
   "execution_count": null,
   "id": "b36ebcc7",
   "metadata": {},
   "outputs": [],
   "source": [
    "speeches_retrieved[\"full_name\"] = speeches_retrieved[\"first_name\"] + \" \" + speeches_retrieved[\"last_name\"]"
   ]
  },
  {
   "cell_type": "code",
   "execution_count": null,
   "id": "f5b0a773",
   "metadata": {},
   "outputs": [],
   "source": [
    "len(speeches_retrieved[\"full_name\"].unique())"
   ]
  },
  {
   "cell_type": "code",
   "execution_count": null,
   "id": "c5777e8b",
   "metadata": {},
   "outputs": [],
   "source": [
    "speeches_subset = speeches_retrieved[speeches_retrieved.full_name.isin(tweets_subset.full_name.unique())]"
   ]
  },
  {
   "cell_type": "code",
   "execution_count": null,
   "id": "49dbeb69",
   "metadata": {},
   "outputs": [],
   "source": [
    "len(speeches_subset[\"full_name\"].unique())"
   ]
  },
  {
   "cell_type": "code",
   "execution_count": null,
   "id": "c14dd5d7",
   "metadata": {},
   "outputs": [],
   "source": [
    "speeches_subset.shape"
   ]
  },
  {
   "cell_type": "markdown",
   "id": "efca16df",
   "metadata": {},
   "source": [
    "#### Add party"
   ]
  },
  {
   "cell_type": "code",
   "execution_count": null,
   "id": "ae338430",
   "metadata": {},
   "outputs": [],
   "source": [
    "fullname_to_party = {'Ralph Brinkhaus': 'CDU', 'Hermann Gröhe': 'CDU', 'Nadine Schön': 'CDU', \n",
    "                     'Norbert Röttgen': 'CDU', 'Peter Altmaier': 'CDU', 'Jens Spahn': 'CDU', \n",
    "                     'Matthias Hauer': 'CDU', 'Christian Lindner': 'FDP', 'Marco Buschmann': 'FDP',\n",
    "                     'Bettina Stark-Watzinger': 'FDP', 'Alexander Graf Lambsdorff': 'FDP', 'Johannes Vogel': 'FDP',\n",
    "                     'Konstantin Kuhle': 'FDP', 'Marie-Agnes Strack-Zimmermann': 'FDP', 'Lars Klingbeil': 'SPD',\n",
    "                     'Saskia Esken': 'SPD', 'Hubertus Heil': 'SPD', 'Heiko Maas': 'SPD', 'Martin Schulz': 'SPD', \n",
    "                     'Karamba Diaby': 'SPD', 'Karl Lauterbach': 'SPD', 'Steffi Lemke': 'Grüne',\n",
    "                     'Cem Özdemir': 'Grüne', 'Katrin Göring-Eckardt': 'Grüne', 'Konstantin von Notz': 'Grüne',\n",
    "                     'Britta Haßelmann': 'Grüne', 'Sven Lehmann': 'Grüne', 'Annalena Baerbock': 'Grüne',\n",
    "                     'Sahra Wagenknecht': 'Linke', 'Bernd Riexinger': 'Linke', 'Niema Movassat': 'Linke', \n",
    "                     'Jan Korte': 'Linke', 'Dietmar Bartsch': 'Linke', 'Gregor Gysi': 'Linke', \n",
    "                     'Sevim Dağdelen': 'Linke', 'Alice Weidel': 'AFD', 'Beatrix von Storch': 'AFD', \n",
    "                     'Joana Cotar': 'AFD', 'Stephan Brandner': 'AFD', 'Tino Chrupalla': 'AFD',\n",
    "                     'Götz Frömming': 'AFD', 'Leif-Erik Holm': 'AFD'}"
   ]
  },
  {
   "cell_type": "code",
   "execution_count": null,
   "id": "4da0955c",
   "metadata": {},
   "outputs": [],
   "source": [
    "speeches_subset[\"party\"] = speeches_subset.full_name.replace(fullname_to_party)"
   ]
  },
  {
   "cell_type": "markdown",
   "id": "642286c4",
   "metadata": {},
   "source": [
    "#### Check politicians"
   ]
  },
  {
   "cell_type": "markdown",
   "id": "b6594afd",
   "metadata": {},
   "source": [
    "We see significant differences between the number of tweets per politician ranging from nearly 29665 to 658. This will be an aspect we have to consider in our work."
   ]
  },
  {
   "cell_type": "code",
   "execution_count": null,
   "id": "cc1926c1",
   "metadata": {},
   "outputs": [],
   "source": [
    "speeches_subset.groupby('full_name')['id'].size().sort_values().plot(kind='bar')"
   ]
  },
  {
   "cell_type": "markdown",
   "id": "b16fca3e",
   "metadata": {},
   "source": [
    "#### Check date"
   ]
  },
  {
   "cell_type": "code",
   "execution_count": null,
   "id": "3a389951",
   "metadata": {
    "scrolled": true
   },
   "outputs": [],
   "source": [
    "speeches_subset.groupby('date')['id'].size().plot()"
   ]
  },
  {
   "cell_type": "markdown",
   "id": "21be89f7",
   "metadata": {},
   "source": [
    "We see an strongly increasing trend of tweets per day. This is caused by two new parties entering the bundestag in 2017."
   ]
  },
  {
   "cell_type": "markdown",
   "id": "137814e5",
   "metadata": {},
   "source": [
    "#### Check speech content"
   ]
  },
  {
   "cell_type": "code",
   "execution_count": null,
   "id": "805e7ca3",
   "metadata": {},
   "outputs": [],
   "source": [
    "speeches_subset.groupby(\"party\").size()"
   ]
  },
  {
   "cell_type": "code",
   "execution_count": null,
   "id": "c24177ac",
   "metadata": {},
   "outputs": [],
   "source": [
    "columns_drop_speeches = ['id', 'session', 'electoral_term', 'first_name', 'last_name', 'politician_id', \n",
    "                         'fraction_id', 'document_url', 'position_short', 'position_long', 'search_speech_content']"
   ]
  },
  {
   "cell_type": "code",
   "execution_count": null,
   "id": "d470e8e4",
   "metadata": {},
   "outputs": [],
   "source": [
    "speeches_subset.drop(columns_drop_speeches, axis = 1, inplace = True)"
   ]
  },
  {
   "cell_type": "markdown",
   "id": "e9fc269b",
   "metadata": {},
   "source": [
    "#### Export data"
   ]
  },
  {
   "cell_type": "code",
   "execution_count": null,
   "id": "bcbe57ca",
   "metadata": {},
   "outputs": [],
   "source": [
    "speeches_subset.to_csv(\"../data/interim/speeches_explored.csv\", index = False)"
   ]
  }
 ],
 "metadata": {
  "kernelspec": {
   "display_name": "Python 3 (ipykernel)",
   "language": "python",
   "name": "python3"
  },
  "language_info": {
   "codemirror_mode": {
    "name": "ipython",
    "version": 3
   },
   "file_extension": ".py",
   "mimetype": "text/x-python",
   "name": "python",
   "nbconvert_exporter": "python",
   "pygments_lexer": "ipython3",
   "version": "3.9.5"
  }
 },
 "nbformat": 4,
 "nbformat_minor": 5
}
