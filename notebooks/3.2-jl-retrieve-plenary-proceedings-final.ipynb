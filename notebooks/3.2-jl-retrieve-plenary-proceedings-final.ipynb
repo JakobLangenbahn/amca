{
 "cells": [
  {
   "cell_type": "markdown",
   "id": "0da83f46",
   "metadata": {},
   "source": [
    "## 3.2 Setup plenary proceedings protocols database and retrieve data"
   ]
  },
  {
   "cell_type": "markdown",
   "id": "3e161870",
   "metadata": {},
   "source": [
    "In this section we retrieve the plenar protocoll data from the 19. German Bundestag. As the data is publically available, they can be downloaded from the official [website](https://www.bundestag.de/services/opendata). Currently the format of the files is not very convenient for automatic analysis, this is why the researcher from [open discourse](https://opendiscourse.de) published a preprocessed version of the plenar protocolls. We use their data, as setting up an own preprocessing pipeline would be very time intensive and out of scope for this work. We use their provided [Docker container](https://github.com/open-discourse/open-discourse) to quickly setup the database for our use. We then query the needed data and export them to a csv file."
   ]
  },
  {
   "cell_type": "code",
   "execution_count": null,
   "id": "3be99516",
   "metadata": {},
   "outputs": [],
   "source": [
    "import os\n",
    "import pandas as pd\n",
    "import psycopg2"
   ]
  },
  {
   "cell_type": "markdown",
   "id": "7489cb3d",
   "metadata": {},
   "source": [
    "### 3.2.1 Setup local database"
   ]
  },
  {
   "cell_type": "markdown",
   "id": "26aa3b81",
   "metadata": {},
   "source": [
    "To use the database we setup the Docker container from [open discourse](https://open-discourse.github.io/open-discourse-documentation/1.0.0/run-the-database-locally.html#use-the-database). Before this we have to download and setup Docker according to these [instructions](https://www.docker.com/products/docker-desktop). After this step we can launch Docker and proceeed."
   ]
  },
  {
   "cell_type": "code",
   "execution_count": null,
   "id": "d3c48340",
   "metadata": {},
   "outputs": [],
   "source": [
    "# Define connection details\n",
    "con_details = {\n",
    "    \"host\": \"localhost\",\n",
    "    \"database\": \"next\",\n",
    "    \"user\": \"postgres\",\n",
    "    \"password\": \"postgres\",\n",
    "    \"port\": \"5432\"}"
   ]
  },
  {
   "cell_type": "code",
   "execution_count": null,
   "id": "733b632c",
   "metadata": {},
   "outputs": [],
   "source": [
    "# Navigate to Docker container\n",
    "# Uncomment if you want to set up the Docker container\n",
    "# os.system(\"cd ..\")"
   ]
  },
  {
   "cell_type": "code",
   "execution_count": null,
   "id": "8b5e1139",
   "metadata": {},
   "outputs": [],
   "source": [
    "# Login to Github for Docker access\n",
    "# Uncomment if you want to set up the Docker container\n",
    "# os.system(\"docker login docker.pkg.github.com\")"
   ]
  },
  {
   "cell_type": "code",
   "execution_count": null,
   "id": "15271435",
   "metadata": {},
   "outputs": [],
   "source": [
    "# (Only on the first run) download the Docker container\n",
    "# Uncomment if you want to set up the Docker container\n",
    "# os.system(\"docker pull docker.pkg.github.com/open-discourse/open-discourse/database:latest\")"
   ]
  },
  {
   "cell_type": "code",
   "execution_count": null,
   "id": "b93e7c42",
   "metadata": {},
   "outputs": [],
   "source": [
    "# Start and run the database in the Docker container\n",
    "# Uncomment if you want to set up the Docker container\n",
    "# os.system(\"docker run --env POSTGRES_USER=postgres --env POSTGRES_DB=postgres --env POSTGRES_PASSWORD=postgres -p 5432:5432 -d docker.pkg.github.com/open-discourse/open-discourse/database\")"
   ]
  },
  {
   "cell_type": "markdown",
   "id": "eaea5697",
   "metadata": {},
   "source": [
    "### 3.2.2 Retrieve plenary proceedings from database"
   ]
  },
  {
   "cell_type": "markdown",
   "id": "652d20b0",
   "metadata": {},
   "source": [
    "After we have setup the PostgreSQL database, we now can query the required data."
   ]
  },
  {
   "cell_type": "code",
   "execution_count": null,
   "id": "ddd794eb",
   "metadata": {},
   "outputs": [],
   "source": [
    "# Define query\n",
    "query = \"\"\"SELECT * from open_discourse.speeches WHERE electoral_term = 19\"\"\""
   ]
  },
  {
   "cell_type": "code",
   "execution_count": null,
   "id": "8d77f820",
   "metadata": {},
   "outputs": [],
   "source": [
    "# Create connection\n",
    "# Uncomment if you want to query the database\n",
    "# con = psycopg2.connect(**con_details) # If this fails, repeat execution of the cell.\n",
    "# cur = con.cursor()"
   ]
  },
  {
   "cell_type": "code",
   "execution_count": null,
   "id": "121f626e",
   "metadata": {},
   "outputs": [],
   "source": [
    "# Execute query\n",
    "# Uncomment if you want to query the database\n",
    "# cur.execute(query)\n",
    "# rows = cur.fetchall()"
   ]
  },
  {
   "cell_type": "code",
   "execution_count": null,
   "id": "f1e057dc",
   "metadata": {},
   "outputs": [],
   "source": [
    "# Transform results in dataframe\n",
    "# Uncomment if you made a new query to the database\n",
    "# speeches_df = pd.DataFrame(rows)\n",
    "# speeches_df.columns = [\"id\", \"session\", \"electoral_term\", \"first_name\", \"last_name\", \"politician_id\", \"text\",\n",
    "#                       \"fraction_id\", \"document_url\", \"position_short\", \"position_long\", \"date\", \n",
    "#                       \"search_speech_content\"]"
   ]
  },
  {
   "cell_type": "code",
   "execution_count": null,
   "id": "c5b00259",
   "metadata": {},
   "outputs": [],
   "source": [
    "# Export resullts to csv\n",
    "# Uncomment if you made a new query to the database\n",
    "# speeches_df.to_csv(\"../data/raw/speeches_retrieved.csv\", index=False)"
   ]
  },
  {
   "cell_type": "markdown",
   "id": "4ab8aaf5",
   "metadata": {},
   "source": [
    "We save the retrieved data as a CSV file and can use it now for further processing. "
   ]
  }
 ],
 "metadata": {
  "cite2c": {
   "citations": {
    "10626397/T4V7WQLP": {
     "URL": "https://github.com/open-discourse/open-discourse",
     "accessed": {
      "date-parts": [
       [
        2021,
        1,
        10
       ]
      ]
     },
     "author": [
      {
       "family": "Richter",
       "given": "Florian"
      },
      {
       "family": "Koch",
       "given": "Philipp"
      },
      {
       "family": "Franke",
       "given": "Oliver"
      },
      {
       "family": "Kraus",
       "given": "Jakob"
      },
      {
       "family": "Kuruc",
       "given": "Fabrizio"
      },
      {
       "family": "Thiem",
       "given": "Anja"
      },
      {
       "family": "Högerl",
       "given": "Judith"
      },
      {
       "family": "Heine",
       "given": "Stella"
      },
      {
       "family": "Schöps",
       "given": "Konstantin"
      }
     ],
     "title": "Open Discourse",
     "type": "webpage"
    }
   }
  },
  "kernelspec": {
   "display_name": "Python 3 (ipykernel)",
   "language": "python",
   "name": "python3"
  },
  "language_info": {
   "codemirror_mode": {
    "name": "ipython",
    "version": 3
   },
   "file_extension": ".py",
   "mimetype": "text/x-python",
   "name": "python",
   "nbconvert_exporter": "python",
   "pygments_lexer": "ipython3",
   "version": "3.8.12"
  }
 },
 "nbformat": 4,
 "nbformat_minor": 5
}
