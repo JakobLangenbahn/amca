{
 "cells": [
  {
   "cell_type": "markdown",
   "id": "5f372fe9",
   "metadata": {},
   "source": [
    "## 3.1 Scrape tweets from selected politicians"
   ]
  },
  {
   "cell_type": "markdown",
   "id": "75290b2f",
   "metadata": {},
   "source": [
    "### 1. Import packages"
   ]
  },
  {
   "cell_type": "code",
   "execution_count": null,
   "id": "be49374c",
   "metadata": {},
   "outputs": [],
   "source": [
    "import pandas as pd\n",
    "import snscrape.modules.twitter as sntwitter\n",
    "from tqdm.notebook import tqdm\n",
    "\n",
    "tqdm.pandas()"
   ]
  },
  {
   "cell_type": "markdown",
   "id": "795ab320",
   "metadata": {},
   "source": [
    "### 2. Define variables and functions"
   ]
  },
  {
   "cell_type": "code",
   "execution_count": null,
   "id": "e0467576",
   "metadata": {},
   "outputs": [],
   "source": [
    "twitter_name_party_dic = {'rbrinkhaus': 'CDU', 'groehe': 'CDU', 'NadineSchoen': 'CDU', 'n_roettgen': 'CDU',\n",
    "                          'peteraltmaier': 'CDU', 'jensspahn': 'CDU', 'MatthiasHauer': 'CDU', 'c_lindner': 'FDP',\n",
    "                          'MarcoBuschmann': 'FDP', 'starkwatzinger': 'FDP', 'Lambsdorff': 'FDP',\n",
    "                          'johannesvogel': 'FDP', 'KonstantinKuhle': 'FDP', 'MAStrackZi': 'FDP',\n",
    "                          'larsklingbeil': 'SPD', 'EskenSaskia': 'SPD', 'hubertus_heil': 'SPD', 'HeikoMaas': 'SPD',\n",
    "                          'MartinSchulz': 'SPD', 'KarambaDiaby': 'SPD', 'Karl_Lauterbach': 'SPD',\n",
    "                          'SteffiLemke': 'Grüne', 'cem_oezdemir': 'Grüne', 'GoeringEckardt': 'Grüne',\n",
    "                          'KonstantinNotz': 'Grüne', 'BriHasselmann': 'Grüne', 'svenlehmann': 'Grüne',\n",
    "                          'ABaerbock': 'Grüne', 'SWagenknecht': 'Linke', 'b_riexinger': 'Linke',\n",
    "                          'NiemaMovassat': 'Linke', 'jankortemdb': 'Linke', 'DietmarBartsch': 'Linke',\n",
    "                          'GregorGysi': 'Linke', 'SevimDagdelen': 'Linke', 'Alice_Weidel': 'AFD',\n",
    "                          'Beatrix_vStorch': 'AFD', 'JoanaCotar': 'AFD', 'StBrandner': 'AFD',\n",
    "                          'Tino_Chrupalla': 'AFD', 'GtzFrmming': 'AFD', 'Leif_Erik_Holm': 'AFD',\n",
    "                          'ABaerbockArchiv':\"Grüne\"\n",
    "                          }"
   ]
  },
  {
   "cell_type": "code",
   "execution_count": null,
   "id": "b3bcf79a",
   "metadata": {},
   "outputs": [],
   "source": [
    "def retrieve_user_tweets(twitter_name, party):\n",
    "    tweets_list = []\n",
    "    search_string = \"from:\" + twitter_name\n",
    "    for tweet in tqdm((sntwitter.TwitterSearchScraper(search_string).get_items())):\n",
    "        tweets_list.append([tweet.date, tweet.id, tweet.content, tweet.user.username, tweet.user.displayname,\n",
    "                                tweet.replyCount, tweet.retweetCount, tweet.likeCount])\n",
    "    tweets_df = pd.DataFrame(tweets_list, columns=['datetime', 'tweet_id', 'text', 'username', 'name',\n",
    "                                                   'reply_count', 'retweet_count', 'like_count'])\n",
    "    tweets_df[\"party\"] = party\n",
    "    return tweets_df"
   ]
  },
  {
   "cell_type": "markdown",
   "id": "11bd71bc",
   "metadata": {},
   "source": [
    "### 3. Scrape twitter data"
   ]
  },
  {
   "cell_type": "code",
   "execution_count": null,
   "id": "162dd97d",
   "metadata": {},
   "outputs": [],
   "source": [
    "twitter_name_tweets_list = []\n",
    "for key in twitter_name_party_dic:\n",
    "    print(key)\n",
    "    twitter_name_tweets_list.append(retrieve_user_tweets(key, twitter_name_party_dic[key]))\n",
    "tweets = pd.concat(twitter_name_tweets_list, ignore_index=True)\n",
    "tweets.to_csv(\"../data/raw/tweets_scraped.csv\", index = False)"
   ]
  }
 ],
 "metadata": {
  "kernelspec": {
   "display_name": "Python 3 (ipykernel)",
   "language": "python",
   "name": "python3"
  },
  "language_info": {
   "codemirror_mode": {
    "name": "ipython",
    "version": 3
   },
   "file_extension": ".py",
   "mimetype": "text/x-python",
   "name": "python",
   "nbconvert_exporter": "python",
   "pygments_lexer": "ipython3",
   "version": "3.8.12"
  }
 },
 "nbformat": 4,
 "nbformat_minor": 5
}
