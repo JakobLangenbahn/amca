{
 "cells": [
  {
   "cell_type": "markdown",
   "id": "e378a9b3",
   "metadata": {},
   "source": [
    "# Validation"
   ]
  },
  {
   "cell_type": "markdown",
   "id": "620d82c1",
   "metadata": {},
   "source": [
    "In this part we will validate our topic models and sentiment analysis based on Reading Tea Leaves: How Humans Interpret Topic Models "
   ]
  },
  {
   "cell_type": "code",
   "execution_count": 326,
   "id": "a5fb2a05",
   "metadata": {},
   "outputs": [],
   "source": [
    "from bertopic import BERTopic\n",
    "\n",
    "import pickle\n",
    "\n",
    "from sklearn.metrics import cohen_kappa_score\n",
    "\n",
    "from functools import partial\n",
    "\n",
    "import pandas as pd\n",
    "\n",
    "import ipywidgets as widgets\n",
    "from IPython.display import clear_output\n",
    "from ipywidgets import IntProgress\n",
    "\n",
    "import random\n",
    "import numpy as np\n",
    "\n",
    "from tqdm.notebook import tqdm\n",
    "tqdm.pandas()"
   ]
  },
  {
   "cell_type": "markdown",
   "id": "7d3521dc",
   "metadata": {},
   "source": [
    "* Einlesen des Output von gensim\n",
    "* Umformen in Struktur für Ausgabe\n",
    "* Darstellen des Outputs\n",
    "* Sammeln der Daten\n",
    "* Berechnen des Scores"
   ]
  },
  {
   "cell_type": "markdown",
   "id": "bc63d4ad",
   "metadata": {},
   "source": [
    "# 1. Load model"
   ]
  },
  {
   "cell_type": "code",
   "execution_count": 2,
   "id": "38e65b0e",
   "metadata": {},
   "outputs": [],
   "source": [
    "topic_model = BERTopic.load(\"../models/bertopic_tweets\")"
   ]
  },
  {
   "cell_type": "code",
   "execution_count": 151,
   "id": "543d8352",
   "metadata": {},
   "outputs": [],
   "source": [
    "speeches_processed = pickle.load(open( \"../data/processed/speeches_processed.p\", \"rb\" ))"
   ]
  },
  {
   "cell_type": "markdown",
   "id": "253f12f6",
   "metadata": {},
   "source": [
    "# 2. Word intrusion"
   ]
  },
  {
   "cell_type": "markdown",
   "id": "d64be2ce",
   "metadata": {},
   "source": [
    "## 2.1 Prepare word intrusion"
   ]
  },
  {
   "cell_type": "code",
   "execution_count": null,
   "id": "cc65d35b",
   "metadata": {},
   "outputs": [],
   "source": [
    "def choose_random_document(index):\n",
    "    rand_document = random.randrange(-1, 99)\n",
    "    if rand_document != index:\n",
    "        return rand_document \n",
    "    else:\n",
    "        return choose_random_document(index)"
   ]
  },
  {
   "cell_type": "code",
   "execution_count": null,
   "id": "272d5db8",
   "metadata": {},
   "outputs": [],
   "source": [
    "for i in range(100):\n",
    "    if choose_random_document(i) == None:\n",
    "        print(\"None value in index: \" + str(i))"
   ]
  },
  {
   "cell_type": "code",
   "execution_count": null,
   "id": "b6a16326",
   "metadata": {},
   "outputs": [],
   "source": [
    "records_list = []\n",
    "for i in range(100): \n",
    "    word_list = []\n",
    "    for j in range(5):\n",
    "        word_list.append(topic_model.get_topic(i)[j][0])\n",
    "    intruder_word = topic_model.get_topic(choose_random_document(i))[0][0]\n",
    "    intruder_position = random.randrange(4)\n",
    "    word_list.insert(intruder_position, intruder_word)\n",
    "    word_list.append(intruder_word)\n",
    "    word_list.append(intruder_position)\n",
    "    records_list.append(word_list)\n",
    "df = pd.DataFrame.from_records(records_list)\n",
    "df.columns = [\"word_0\", \"word_1\", \"word_2\", \"word_3\", \"word_4\", \"word_5\", \"intruder_word\", \"intruder_index\"]"
   ]
  },
  {
   "cell_type": "code",
   "execution_count": null,
   "id": "0cd00a7a",
   "metadata": {},
   "outputs": [],
   "source": [
    "def generate_annotator_set(df, number_label, number_iaa, name_1, name_2):\n",
    "    length = df.shape[0]\n",
    "    if 2*number_label + number_iaa > length:\n",
    "        print(\"Too many labels for the size of the dataframe\")\n",
    "    df_shuffeled = df.sample(frac=1).reset_index(drop=True)\n",
    "    df_shuffeled[name_1] = [1] * (number_label+number_iaa) + [0] * (length-number_label-number_iaa)\n",
    "    df_shuffeled[name_2] = [0] * (number_label) + [1] * (number_label+number_iaa) + [0] * (length-2*number_label-number_iaa)\n",
    "    df_shuffeled[\"iaa_flag\"] = [0] * number_label + [1] * number_iaa + [0] * (length-number_label-number_iaa)\n",
    "    df_shuffeled[\"wis_label\"] = [1] * number_label + [0] * number_iaa + [1] * (length-number_label-number_iaa)\n",
    "    return df_shuffeled"
   ]
  },
  {
   "cell_type": "code",
   "execution_count": null,
   "id": "a942353a",
   "metadata": {},
   "outputs": [],
   "source": [
    "word_df = generate_annotator_set(df, 10, 5, \"Jakob\", \"Stjepan\")"
   ]
  },
  {
   "cell_type": "code",
   "execution_count": null,
   "id": "b6d8700f",
   "metadata": {},
   "outputs": [],
   "source": [
    "def word_intrusion_test(word_df, name):\n",
    "    intrusion_df = word_df[word_df[name] == 1].reset_index(drop = True)\n",
    "    \n",
    "    max_count = intrusion_df.shape[0]\n",
    "    global i\n",
    "    i = 0\n",
    "    \n",
    "    button_0 = widgets.Button(description = intrusion_df.word_0[i])\n",
    "    button_1 = widgets.Button(description = intrusion_df.word_1[i])\n",
    "    button_2 = widgets.Button(description = intrusion_df.word_2[i])\n",
    "    button_3 = widgets.Button(description = intrusion_df.word_3[i])\n",
    "    button_4 = widgets.Button(description = intrusion_df.word_4[i])\n",
    "    button_5 = widgets.Button(description = intrusion_df.word_5[i])\n",
    "\n",
    "\n",
    "    chosen_words = []\n",
    "    chosen_positions= []\n",
    "\n",
    "    display(\"Word Intrusion Test\")\n",
    "\n",
    "    f = IntProgress(min=0, max=max_count)\n",
    "    display(f)\n",
    "\n",
    "    display(button_0)\n",
    "    display(button_1)\n",
    "    display(button_2)\n",
    "    display(button_3)\n",
    "    display(button_4)\n",
    "    display(button_5)\n",
    "\n",
    "\n",
    "    def btn_eventhandler(position, obj):\n",
    "        global i \n",
    "        i += 1\n",
    "        \n",
    "        \n",
    "        clear_output(wait=True)\n",
    "        \n",
    "        display(\"Word Intrusion Text\")\n",
    "        display(f)\n",
    "        f.value += 1\n",
    "        \n",
    "        choosen_text = obj.description\n",
    "        chosen_words.append(choosen_text)\n",
    "        \n",
    "        chosen_positions.append(position)\n",
    "        \n",
    "        if i < max_count:\n",
    "\n",
    "            button_0 = widgets.Button(description = intrusion_df.word_0[i])\n",
    "            button_1 = widgets.Button(description = intrusion_df.word_1[i])\n",
    "            button_2 = widgets.Button(description = intrusion_df.word_2[i])\n",
    "            button_3 = widgets.Button(description = intrusion_df.word_3[i])\n",
    "            button_4 = widgets.Button(description = intrusion_df.word_4[i])\n",
    "            button_5 = widgets.Button(description = intrusion_df.word_5[i])\n",
    "            \n",
    "            display(button_0)\n",
    "            display(button_1)\n",
    "            display(button_2)\n",
    "            display(button_3)\n",
    "            display(button_4)\n",
    "            display(button_5)\n",
    "            \n",
    "            button_0.on_click(partial(btn_eventhandler,0))\n",
    "            button_1.on_click(partial(btn_eventhandler,1))\n",
    "            button_2.on_click(partial(btn_eventhandler,2))\n",
    "            button_3.on_click(partial(btn_eventhandler,3))\n",
    "            button_4.on_click(partial(btn_eventhandler,4))\n",
    "            button_5.on_click(partial(btn_eventhandler,5))\n",
    "        else:\n",
    "            print (\"Thanks \" + name + \" you finished all the work!\")\n",
    "            intrusion_df[\"chosen_word\"] = chosen_words\n",
    "            intrusion_df[\"chosen_position\"] = chosen_positions\n",
    "            intrusion_df.to_csv(\"../data/processed/word_intrusion_test_\" + name + \".csv\", index = False)\n",
    "\n",
    "\n",
    "\n",
    "    button_0.on_click(partial(btn_eventhandler,0))\n",
    "    button_1.on_click(partial(btn_eventhandler,1))\n",
    "    button_2.on_click(partial(btn_eventhandler,2))\n",
    "    button_3.on_click(partial(btn_eventhandler,3))\n",
    "    button_4.on_click(partial(btn_eventhandler,4))\n",
    "    button_5.on_click(partial(btn_eventhandler,5))\n",
    "    \n",
    "    return intrusion_df"
   ]
  },
  {
   "cell_type": "markdown",
   "id": "87cb0655",
   "metadata": {},
   "source": [
    "## 2.2 Execute word intrusion"
   ]
  },
  {
   "cell_type": "code",
   "execution_count": null,
   "id": "c769caac",
   "metadata": {
    "scrolled": true
   },
   "outputs": [],
   "source": [
    "df_word_intrusion_jakob = word_intrusion_test(word_df, \"Jakob\")"
   ]
  },
  {
   "cell_type": "code",
   "execution_count": null,
   "id": "dd727a32",
   "metadata": {},
   "outputs": [],
   "source": [
    "df_word_intrusion_stjepan = word_intrusion_test(word_df, \"Stjepan\")"
   ]
  },
  {
   "cell_type": "markdown",
   "id": "2bc8591d",
   "metadata": {},
   "source": [
    "## 2.3 Evaluate word intrusion"
   ]
  },
  {
   "cell_type": "code",
   "execution_count": null,
   "id": "f6a63c02",
   "metadata": {},
   "outputs": [],
   "source": [
    "def calculate_word_intrusion(name_1, name_2):\n",
    "    df_word_intrusion_1 = pd.read_csv(\"../data/processed/word_intrusion_test_\" + name_1 + \".csv\")\n",
    "    df_word_intrusion_2 = pd.read_csv(\"../data/processed/word_intrusion_test_\" + name_2 + \".csv\")\n",
    "    iaa_values_1 = df_word_intrusion_1[df_word_intrusion_1.iaa_flag == 1].chosen_position.values\n",
    "    iaa_values_2 = df_word_intrusion_2[df_word_intrusion_2.iaa_flag == 1].chosen_position.values\n",
    "    kappa = cohen_kappa_score(iaa_values_1, iaa_values_2)\n",
    "    df_word_intrusion = df_word_intrusion_1.append(df_word_intrusion_2)\n",
    "    df_word = df_word_intrusion[df_word_intrusion[\"wis_label\"] == 1]\n",
    "    df_word[\"intruder_chosen\"] = df_word[\"intruder_word\"] == df_word[\"chosen_word\"]\n",
    "    return  df_word[\"intruder_chosen\"].mean(), kappa"
   ]
  },
  {
   "cell_type": "code",
   "execution_count": null,
   "id": "a23d12ef",
   "metadata": {},
   "outputs": [],
   "source": [
    "intrusion_score, kappa = calculate_word_intrusion(\"Jakob\", \"Stjepan\")"
   ]
  },
  {
   "cell_type": "code",
   "execution_count": null,
   "id": "f8a40785",
   "metadata": {},
   "outputs": [],
   "source": [
    "intrusion_score"
   ]
  },
  {
   "cell_type": "code",
   "execution_count": null,
   "id": "26a708ae",
   "metadata": {},
   "outputs": [],
   "source": [
    "kappa"
   ]
  },
  {
   "cell_type": "markdown",
   "id": "7921326c",
   "metadata": {},
   "source": [
    "# 3. Topic Intrusion"
   ]
  },
  {
   "cell_type": "markdown",
   "id": "02ad1f86",
   "metadata": {},
   "source": [
    "## 3.1 Prepare topic intrusion"
   ]
  },
  {
   "cell_type": "code",
   "execution_count": 15,
   "id": "d708a676",
   "metadata": {},
   "outputs": [],
   "source": [
    "with open('../data/processed/probabilities_speeches.pickle', 'rb') as handle:\n",
    "    probabilities_speeches = pickle.load(handle)"
   ]
  },
  {
   "cell_type": "code",
   "execution_count": 127,
   "id": "a59fe146",
   "metadata": {},
   "outputs": [],
   "source": [
    "def choose_random_topic(index):\n",
    "    rand_document = random.randrange(-1, 99)\n",
    "    if rand_document != index:\n",
    "        return rand_document \n",
    "    else:\n",
    "        return choose_random_document(index)"
   ]
  },
  {
   "cell_type": "code",
   "execution_count": 80,
   "id": "dfe225a8",
   "metadata": {},
   "outputs": [],
   "source": [
    "def create_topic_string(topic_info):\n",
    "    word_list = []\n",
    "    for i in range(8):\n",
    "        word_list.append(topic_info[i][0])\n",
    "    return \", \".join(word_list)"
   ]
  },
  {
   "cell_type": "code",
   "execution_count": 251,
   "id": "55f6a3b1",
   "metadata": {},
   "outputs": [],
   "source": [
    "records_list = []\n",
    "for i in range(100): \n",
    "    topic_list = []\n",
    "    high_probability_documents = sorted(zip(probabilities_speeches[i].tolist(), list(range(25))), reverse=True)[:3]\n",
    "    low_probability_documents = sorted(zip(probabilities_speeches[i].tolist(), list(range(25))), reverse=True)[3:]\n",
    "    for j in range(3):\n",
    "        topic_index = high_probability_documents[j][1]\n",
    "        topic_list.append(create_topic_string(topic_model.get_topic(topic_index)))\n",
    "    intruder_document = low_probability_documents[random.randrange(22)]\n",
    "    intruder_topic = create_topic_string(topic_model.get_topic(intruder_document[1]))\n",
    "    intruder_position = random.randrange(4)\n",
    "    topic_list.insert(intruder_position, intruder_topic)\n",
    "    for j in range(3):\n",
    "        topic_index = high_probability_documents[j][1]\n",
    "        topic_list.append(high_probability_documents[j][0])\n",
    "    topic_list.insert(intruder_position+4, intruder_document[0])\n",
    "    topic_list.append(intruder_topic)\n",
    "    topic_list.append(intruder_document[0])\n",
    "    topic_list.append(intruder_position)\n",
    "    topic_list.append(speeches_processed[\"text_preprocessed_sentence\"][i])\n",
    "    records_list.append(topic_list)\n",
    "df = pd.DataFrame.from_records(records_list)\n",
    "df.columns = [\"topic_0\", \"topic_1\", \"topic_2\", \"topic_3\",\"probability_topic_0\",\"probability_topic_1\",\n",
    "              \"probability_topic_2\",\"probability_topic_3\", \"intruder_topic\", \"intruder_topic_probability\",\n",
    "              \"intruder_index\", \"text\"]"
   ]
  },
  {
   "cell_type": "code",
   "execution_count": 253,
   "id": "63e1d54a",
   "metadata": {},
   "outputs": [],
   "source": [
    "def generate_annotator_set(df, number_label, number_iaa, name_1, name_2):\n",
    "    length = df.shape[0]\n",
    "    if 2*number_label + number_iaa > length:\n",
    "        print(\"Too many labels for the size of the dataframe\")\n",
    "    df_shuffeled = df.sample(frac=1).reset_index(drop=True)\n",
    "    df_shuffeled[name_1] = [1] * (number_label+number_iaa) + [0] * (length-number_label-number_iaa)\n",
    "    df_shuffeled[name_2] = [0] * (number_label) + [1] * (number_label+number_iaa) + [0] * (length-2*number_label-number_iaa)\n",
    "    df_shuffeled[\"iaa_flag\"] = [0] * number_label + [1] * number_iaa + [0] * (length-number_label-number_iaa)\n",
    "    df_shuffeled[\"wis_label\"] = [1] * number_label + [0] * number_iaa + [1] * (length-number_label-number_iaa)\n",
    "    return df_shuffeled"
   ]
  },
  {
   "cell_type": "code",
   "execution_count": 268,
   "id": "62b6549e",
   "metadata": {},
   "outputs": [],
   "source": [
    "topic_df = generate_annotator_set(df, 10, 5, \"Jakob\", \"Stjepan\")"
   ]
  },
  {
   "cell_type": "code",
   "execution_count": 269,
   "id": "91ea5c15",
   "metadata": {},
   "outputs": [
    {
     "data": {
      "text/html": [
       "<div>\n",
       "<style scoped>\n",
       "    .dataframe tbody tr th:only-of-type {\n",
       "        vertical-align: middle;\n",
       "    }\n",
       "\n",
       "    .dataframe tbody tr th {\n",
       "        vertical-align: top;\n",
       "    }\n",
       "\n",
       "    .dataframe thead th {\n",
       "        text-align: right;\n",
       "    }\n",
       "</style>\n",
       "<table border=\"1\" class=\"dataframe\">\n",
       "  <thead>\n",
       "    <tr style=\"text-align: right;\">\n",
       "      <th></th>\n",
       "      <th>topic_0</th>\n",
       "      <th>topic_1</th>\n",
       "      <th>topic_2</th>\n",
       "      <th>topic_3</th>\n",
       "      <th>probability_topic_0</th>\n",
       "      <th>probability_topic_1</th>\n",
       "      <th>probability_topic_2</th>\n",
       "      <th>probability_topic_3</th>\n",
       "      <th>intruder_topic</th>\n",
       "      <th>intruder_topic_probability</th>\n",
       "      <th>intruder_index</th>\n",
       "      <th>text</th>\n",
       "      <th>Jakob</th>\n",
       "      <th>Stjepan</th>\n",
       "      <th>iaa_flag</th>\n",
       "      <th>wis_label</th>\n",
       "    </tr>\n",
       "  </thead>\n",
       "  <tbody>\n",
       "    <tr>\n",
       "      <th>0</th>\n",
       "      <td>wahl, kandidat, glückwunsch, herzliche, wählen...</td>\n",
       "      <td>tweet, twitter, tweets, twittern, ironie, lese...</td>\n",
       "      <td>polizei, polizist, polizistin, bundespolizei, ...</td>\n",
       "      <td>deutschland, deutsch, außenpolitik, deutsche, ...</td>\n",
       "      <td>0.454786</td>\n",
       "      <td>0.145002</td>\n",
       "      <td>0.034918</td>\n",
       "      <td>0.022909</td>\n",
       "      <td>deutschland, deutsch, außenpolitik, deutsche, ...</td>\n",
       "      <td>0.022909</td>\n",
       "      <td>3</td>\n",
       "      <td>dame herr moment warten herzlich willkommen ge...</td>\n",
       "      <td>1</td>\n",
       "      <td>0</td>\n",
       "      <td>0</td>\n",
       "      <td>1</td>\n",
       "    </tr>\n",
       "    <tr>\n",
       "      <th>1</th>\n",
       "      <td>antisemitismus, israel, jude, jüdisch, antisem...</td>\n",
       "      <td>tweet, twitter, tweets, twittern, ironie, lese...</td>\n",
       "      <td>tb, hoffentlich, abwarten, warten, finden, war...</td>\n",
       "      <td>digitalisierung, digital, digitale, digitalpak...</td>\n",
       "      <td>0.197229</td>\n",
       "      <td>0.138609</td>\n",
       "      <td>0.004080</td>\n",
       "      <td>0.044783</td>\n",
       "      <td>tb, hoffentlich, abwarten, warten, finden, war...</td>\n",
       "      <td>0.004080</td>\n",
       "      <td>2</td>\n",
       "      <td>sorge netzwerke angst bußgeldern löschen könne...</td>\n",
       "      <td>1</td>\n",
       "      <td>0</td>\n",
       "      <td>0</td>\n",
       "      <td>1</td>\n",
       "    </tr>\n",
       "    <tr>\n",
       "      <th>2</th>\n",
       "      <td>tweet, twitter, tweets, twittern, ironie, lese...</td>\n",
       "      <td>steuer, einkommen, soli, steuerzahler, zahlen,...</td>\n",
       "      <td>migration, einwanderungsgesetz, migranten, ein...</td>\n",
       "      <td>antisemitismus, israel, jude, jüdisch, antisem...</td>\n",
       "      <td>0.086161</td>\n",
       "      <td>0.015146</td>\n",
       "      <td>0.012761</td>\n",
       "      <td>0.006689</td>\n",
       "      <td>antisemitismus, israel, jude, jüdisch, antisem...</td>\n",
       "      <td>0.006689</td>\n",
       "      <td>3</td>\n",
       "      <td>herr präsident herr minister lage nordostasien...</td>\n",
       "      <td>1</td>\n",
       "      <td>0</td>\n",
       "      <td>0</td>\n",
       "      <td>1</td>\n",
       "    </tr>\n",
       "    <tr>\n",
       "      <th>3</th>\n",
       "      <td>glückwunsch, herzliche, erfolg, zusammenarbeit...</td>\n",
       "      <td>tweet, twitter, tweets, twittern, ironie, lese...</td>\n",
       "      <td>verfassungsschutz, bundesverfassungsgericht, v...</td>\n",
       "      <td>kaffee, deutsch, tee, kommune, fein, fertigen,...</td>\n",
       "      <td>0.663484</td>\n",
       "      <td>0.059342</td>\n",
       "      <td>0.009290</td>\n",
       "      <td>0.018660</td>\n",
       "      <td>verfassungsschutz, bundesverfassungsgericht, v...</td>\n",
       "      <td>0.009290</td>\n",
       "      <td>2</td>\n",
       "      <td>glauben reden parlament reichen stelle ausdrüc...</td>\n",
       "      <td>1</td>\n",
       "      <td>0</td>\n",
       "      <td>0</td>\n",
       "      <td>1</td>\n",
       "    </tr>\n",
       "    <tr>\n",
       "      <th>4</th>\n",
       "      <td>polizei, polizist, polizistin, bundespolizei, ...</td>\n",
       "      <td>tweet, twitter, tweets, twittern, ironie, lese...</td>\n",
       "      <td>frage, beantworten, fragen, mail, antworten, v...</td>\n",
       "      <td>wahl, kandidat, glückwunsch, herzliche, wählen...</td>\n",
       "      <td>0.181578</td>\n",
       "      <td>0.175177</td>\n",
       "      <td>0.037731</td>\n",
       "      <td>0.025974</td>\n",
       "      <td>wahl, kandidat, glückwunsch, herzliche, wählen...</td>\n",
       "      <td>0.025974</td>\n",
       "      <td>3</td>\n",
       "      <td>geehrt frau präsidentin geehrt dame herr liebe...</td>\n",
       "      <td>1</td>\n",
       "      <td>0</td>\n",
       "      <td>0</td>\n",
       "      <td>1</td>\n",
       "    </tr>\n",
       "    <tr>\n",
       "      <th>...</th>\n",
       "      <td>...</td>\n",
       "      <td>...</td>\n",
       "      <td>...</td>\n",
       "      <td>...</td>\n",
       "      <td>...</td>\n",
       "      <td>...</td>\n",
       "      <td>...</td>\n",
       "      <td>...</td>\n",
       "      <td>...</td>\n",
       "      <td>...</td>\n",
       "      <td>...</td>\n",
       "      <td>...</td>\n",
       "      <td>...</td>\n",
       "      <td>...</td>\n",
       "      <td>...</td>\n",
       "      <td>...</td>\n",
       "    </tr>\n",
       "    <tr>\n",
       "      <th>95</th>\n",
       "      <td>tweet, twitter, tweets, twittern, ironie, lese...</td>\n",
       "      <td>rassismus, rassistisch, hanau, rassisten, biel...</td>\n",
       "      <td>deutschland, deutsch, außenpolitik, deutsche, ...</td>\n",
       "      <td>wahl, kandidat, glückwunsch, herzliche, wählen...</td>\n",
       "      <td>0.335955</td>\n",
       "      <td>0.000956</td>\n",
       "      <td>0.003171</td>\n",
       "      <td>0.002163</td>\n",
       "      <td>rassismus, rassistisch, hanau, rassisten, biel...</td>\n",
       "      <td>0.000956</td>\n",
       "      <td>1</td>\n",
       "      <td>bitte</td>\n",
       "      <td>0</td>\n",
       "      <td>0</td>\n",
       "      <td>0</td>\n",
       "      <td>1</td>\n",
       "    </tr>\n",
       "    <tr>\n",
       "      <th>96</th>\n",
       "      <td>tweet, twitter, tweets, twittern, ironie, lese...</td>\n",
       "      <td>digitalisierung, digital, digitale, digitalpak...</td>\n",
       "      <td>deutschland, deutsch, außenpolitik, deutsche, ...</td>\n",
       "      <td>polizei, polizist, polizistin, bundespolizei, ...</td>\n",
       "      <td>0.172338</td>\n",
       "      <td>0.021082</td>\n",
       "      <td>0.024131</td>\n",
       "      <td>0.023502</td>\n",
       "      <td>digitalisierung, digital, digitale, digitalpak...</td>\n",
       "      <td>0.021082</td>\n",
       "      <td>1</td>\n",
       "      <td>geehrt herr präsident lieben kollegin kollege ...</td>\n",
       "      <td>0</td>\n",
       "      <td>0</td>\n",
       "      <td>0</td>\n",
       "      <td>1</td>\n",
       "    </tr>\n",
       "    <tr>\n",
       "      <th>97</th>\n",
       "      <td>tweet, twitter, tweets, twittern, ironie, lese...</td>\n",
       "      <td>schule, lehrer, schüler, kind, unterricht, bil...</td>\n",
       "      <td>wahl, kandidat, glückwunsch, herzliche, wählen...</td>\n",
       "      <td>verfassungsschutz, bundesverfassungsgericht, v...</td>\n",
       "      <td>0.160264</td>\n",
       "      <td>0.091347</td>\n",
       "      <td>0.013546</td>\n",
       "      <td>0.046975</td>\n",
       "      <td>wahl, kandidat, glückwunsch, herzliche, wählen...</td>\n",
       "      <td>0.013546</td>\n",
       "      <td>2</td>\n",
       "      <td>verehrter herr präsident verehren dame herr vo...</td>\n",
       "      <td>0</td>\n",
       "      <td>0</td>\n",
       "      <td>0</td>\n",
       "      <td>1</td>\n",
       "    </tr>\n",
       "    <tr>\n",
       "      <th>98</th>\n",
       "      <td>europa, europawahl, europäisch, europäische, e...</td>\n",
       "      <td>tweet, twitter, tweets, twittern, ironie, lese...</td>\n",
       "      <td>deutschland, deutsch, außenpolitik, deutsche, ...</td>\n",
       "      <td>arbeit, homeoffice, job, arbeitsmarkt, arbeite...</td>\n",
       "      <td>0.197568</td>\n",
       "      <td>0.195617</td>\n",
       "      <td>0.087688</td>\n",
       "      <td>0.014569</td>\n",
       "      <td>arbeit, homeoffice, job, arbeitsmarkt, arbeite...</td>\n",
       "      <td>0.014569</td>\n",
       "      <td>3</td>\n",
       "      <td>frau präsidentin verehren dame herr gemeinsame...</td>\n",
       "      <td>0</td>\n",
       "      <td>0</td>\n",
       "      <td>0</td>\n",
       "      <td>1</td>\n",
       "    </tr>\n",
       "    <tr>\n",
       "      <th>99</th>\n",
       "      <td>parlament, parlamentarisch, parlamentarische, ...</td>\n",
       "      <td>tweet, twitter, tweets, twittern, ironie, lese...</td>\n",
       "      <td>glückwunsch, herzliche, erfolg, zusammenarbeit...</td>\n",
       "      <td>kaffee, deutsch, tee, kommune, fein, fertigen,...</td>\n",
       "      <td>0.013842</td>\n",
       "      <td>0.162275</td>\n",
       "      <td>0.051746</td>\n",
       "      <td>0.020867</td>\n",
       "      <td>parlament, parlamentarisch, parlamentarische, ...</td>\n",
       "      <td>0.013842</td>\n",
       "      <td>0</td>\n",
       "      <td>lieben frau präsidentin verehrt dame herr mali...</td>\n",
       "      <td>0</td>\n",
       "      <td>0</td>\n",
       "      <td>0</td>\n",
       "      <td>1</td>\n",
       "    </tr>\n",
       "  </tbody>\n",
       "</table>\n",
       "<p>100 rows × 16 columns</p>\n",
       "</div>"
      ],
      "text/plain": [
       "                                              topic_0  \\\n",
       "0   wahl, kandidat, glückwunsch, herzliche, wählen...   \n",
       "1   antisemitismus, israel, jude, jüdisch, antisem...   \n",
       "2   tweet, twitter, tweets, twittern, ironie, lese...   \n",
       "3   glückwunsch, herzliche, erfolg, zusammenarbeit...   \n",
       "4   polizei, polizist, polizistin, bundespolizei, ...   \n",
       "..                                                ...   \n",
       "95  tweet, twitter, tweets, twittern, ironie, lese...   \n",
       "96  tweet, twitter, tweets, twittern, ironie, lese...   \n",
       "97  tweet, twitter, tweets, twittern, ironie, lese...   \n",
       "98  europa, europawahl, europäisch, europäische, e...   \n",
       "99  parlament, parlamentarisch, parlamentarische, ...   \n",
       "\n",
       "                                              topic_1  \\\n",
       "0   tweet, twitter, tweets, twittern, ironie, lese...   \n",
       "1   tweet, twitter, tweets, twittern, ironie, lese...   \n",
       "2   steuer, einkommen, soli, steuerzahler, zahlen,...   \n",
       "3   tweet, twitter, tweets, twittern, ironie, lese...   \n",
       "4   tweet, twitter, tweets, twittern, ironie, lese...   \n",
       "..                                                ...   \n",
       "95  rassismus, rassistisch, hanau, rassisten, biel...   \n",
       "96  digitalisierung, digital, digitale, digitalpak...   \n",
       "97  schule, lehrer, schüler, kind, unterricht, bil...   \n",
       "98  tweet, twitter, tweets, twittern, ironie, lese...   \n",
       "99  tweet, twitter, tweets, twittern, ironie, lese...   \n",
       "\n",
       "                                              topic_2  \\\n",
       "0   polizei, polizist, polizistin, bundespolizei, ...   \n",
       "1   tb, hoffentlich, abwarten, warten, finden, war...   \n",
       "2   migration, einwanderungsgesetz, migranten, ein...   \n",
       "3   verfassungsschutz, bundesverfassungsgericht, v...   \n",
       "4   frage, beantworten, fragen, mail, antworten, v...   \n",
       "..                                                ...   \n",
       "95  deutschland, deutsch, außenpolitik, deutsche, ...   \n",
       "96  deutschland, deutsch, außenpolitik, deutsche, ...   \n",
       "97  wahl, kandidat, glückwunsch, herzliche, wählen...   \n",
       "98  deutschland, deutsch, außenpolitik, deutsche, ...   \n",
       "99  glückwunsch, herzliche, erfolg, zusammenarbeit...   \n",
       "\n",
       "                                              topic_3  probability_topic_0  \\\n",
       "0   deutschland, deutsch, außenpolitik, deutsche, ...             0.454786   \n",
       "1   digitalisierung, digital, digitale, digitalpak...             0.197229   \n",
       "2   antisemitismus, israel, jude, jüdisch, antisem...             0.086161   \n",
       "3   kaffee, deutsch, tee, kommune, fein, fertigen,...             0.663484   \n",
       "4   wahl, kandidat, glückwunsch, herzliche, wählen...             0.181578   \n",
       "..                                                ...                  ...   \n",
       "95  wahl, kandidat, glückwunsch, herzliche, wählen...             0.335955   \n",
       "96  polizei, polizist, polizistin, bundespolizei, ...             0.172338   \n",
       "97  verfassungsschutz, bundesverfassungsgericht, v...             0.160264   \n",
       "98  arbeit, homeoffice, job, arbeitsmarkt, arbeite...             0.197568   \n",
       "99  kaffee, deutsch, tee, kommune, fein, fertigen,...             0.013842   \n",
       "\n",
       "    probability_topic_1  probability_topic_2  probability_topic_3  \\\n",
       "0              0.145002             0.034918             0.022909   \n",
       "1              0.138609             0.004080             0.044783   \n",
       "2              0.015146             0.012761             0.006689   \n",
       "3              0.059342             0.009290             0.018660   \n",
       "4              0.175177             0.037731             0.025974   \n",
       "..                  ...                  ...                  ...   \n",
       "95             0.000956             0.003171             0.002163   \n",
       "96             0.021082             0.024131             0.023502   \n",
       "97             0.091347             0.013546             0.046975   \n",
       "98             0.195617             0.087688             0.014569   \n",
       "99             0.162275             0.051746             0.020867   \n",
       "\n",
       "                                       intruder_topic  \\\n",
       "0   deutschland, deutsch, außenpolitik, deutsche, ...   \n",
       "1   tb, hoffentlich, abwarten, warten, finden, war...   \n",
       "2   antisemitismus, israel, jude, jüdisch, antisem...   \n",
       "3   verfassungsschutz, bundesverfassungsgericht, v...   \n",
       "4   wahl, kandidat, glückwunsch, herzliche, wählen...   \n",
       "..                                                ...   \n",
       "95  rassismus, rassistisch, hanau, rassisten, biel...   \n",
       "96  digitalisierung, digital, digitale, digitalpak...   \n",
       "97  wahl, kandidat, glückwunsch, herzliche, wählen...   \n",
       "98  arbeit, homeoffice, job, arbeitsmarkt, arbeite...   \n",
       "99  parlament, parlamentarisch, parlamentarische, ...   \n",
       "\n",
       "    intruder_topic_probability  intruder_index  \\\n",
       "0                     0.022909               3   \n",
       "1                     0.004080               2   \n",
       "2                     0.006689               3   \n",
       "3                     0.009290               2   \n",
       "4                     0.025974               3   \n",
       "..                         ...             ...   \n",
       "95                    0.000956               1   \n",
       "96                    0.021082               1   \n",
       "97                    0.013546               2   \n",
       "98                    0.014569               3   \n",
       "99                    0.013842               0   \n",
       "\n",
       "                                                 text  Jakob  Stjepan  \\\n",
       "0   dame herr moment warten herzlich willkommen ge...      1        0   \n",
       "1   sorge netzwerke angst bußgeldern löschen könne...      1        0   \n",
       "2   herr präsident herr minister lage nordostasien...      1        0   \n",
       "3   glauben reden parlament reichen stelle ausdrüc...      1        0   \n",
       "4   geehrt frau präsidentin geehrt dame herr liebe...      1        0   \n",
       "..                                                ...    ...      ...   \n",
       "95                                              bitte      0        0   \n",
       "96  geehrt herr präsident lieben kollegin kollege ...      0        0   \n",
       "97  verehrter herr präsident verehren dame herr vo...      0        0   \n",
       "98  frau präsidentin verehren dame herr gemeinsame...      0        0   \n",
       "99  lieben frau präsidentin verehrt dame herr mali...      0        0   \n",
       "\n",
       "    iaa_flag  wis_label  \n",
       "0          0          1  \n",
       "1          0          1  \n",
       "2          0          1  \n",
       "3          0          1  \n",
       "4          0          1  \n",
       "..       ...        ...  \n",
       "95         0          1  \n",
       "96         0          1  \n",
       "97         0          1  \n",
       "98         0          1  \n",
       "99         0          1  \n",
       "\n",
       "[100 rows x 16 columns]"
      ]
     },
     "execution_count": 269,
     "metadata": {},
     "output_type": "execute_result"
    }
   ],
   "source": [
    "topic_df"
   ]
  },
  {
   "cell_type": "code",
   "execution_count": 332,
   "id": "d0a7e085",
   "metadata": {},
   "outputs": [],
   "source": [
    "def topic_intrusion_test(intrusion_df, name):\n",
    "    intrusion_df = intrusion_df[intrusion_df[name] == 1].reset_index(drop = True)\n",
    "    \n",
    "    max_count = intrusion_df.shape[0]\n",
    "    global i\n",
    "    i = 0\n",
    "\n",
    "    button_0 = widgets.Button(description = intrusion_df.topic_0[i])\n",
    "    button_1 = widgets.Button(description = intrusion_df.topic_1[i])\n",
    "    button_2 = widgets.Button(description = intrusion_df.topic_2[i])\n",
    "    button_3 = widgets.Button(description = intrusion_df.topic_3[i])\n",
    "    \n",
    "    chosen_elements = []\n",
    "    chosen_positions = []\n",
    "    chosen_probabilities = []\n",
    "\n",
    "    display(\"Topic Intrusion Test\")\n",
    "\n",
    "    f = IntProgress(min=0, max=max_count)\n",
    "    display(f)\n",
    "    \n",
    "    display(intrusion_df.text[i][0:1000])\n",
    "\n",
    "    display(button_0)\n",
    "    display(button_1)\n",
    "    display(button_2)\n",
    "    display(button_3)\n",
    "\n",
    "\n",
    "    def btn_eventhandler(position, column, obj):\n",
    "        \n",
    "        global i\n",
    "        \n",
    "        clear_output(wait=True)\n",
    "        \n",
    "        display(\"Topic Intrusion Text\")\n",
    "        display(f)\n",
    "        f.value += 1\n",
    "                \n",
    "        choosen_text = obj.description\n",
    "        chosen_elements.append(choosen_text)\n",
    "        chosen_positions.append(position)\n",
    "        chosen_probabilities.append(intrusion_df[column][i])\n",
    "        \n",
    "        i += 1\n",
    "        \n",
    "        if i < max_count:\n",
    "\n",
    "            button_0 = widgets.Button(description = intrusion_df.topic_0[i])\n",
    "            button_1 = widgets.Button(description = intrusion_df.topic_1[i])\n",
    "            button_2 = widgets.Button(description = intrusion_df.topic_2[i])\n",
    "            button_3 = widgets.Button(description = intrusion_df.topic_3[i])\n",
    "            \n",
    "            display(intrusion_df.text[i][0:1000])\n",
    "            \n",
    "            display(button_0)\n",
    "            display(button_1)\n",
    "            display(button_2)\n",
    "            display(button_3)\n",
    "            \n",
    "            button_0.on_click(partial(btn_eventhandler,0,\"probability_topic_0\"))\n",
    "            button_1.on_click(partial(btn_eventhandler,1,\"probability_topic_1\"))\n",
    "            button_2.on_click(partial(btn_eventhandler,2,\"probability_topic_2\"))\n",
    "            button_3.on_click(partial(btn_eventhandler,3,\"probability_topic_3\"))\n",
    "        else:\n",
    "            print (\"Thanks \" + name + \" you finished all the work!\")\n",
    "            intrusion_df[\"chosen_topic\"] = chosen_elements\n",
    "            intrusion_df[\"chosen_position\"] = chosen_positions\n",
    "            intrusion_df[\"chosen_topic_probability\"] = chosen_probabilities\n",
    "            intrusion_df.to_csv(\"../data/processed/topic_intrusion_test_\" + name + \".csv\", index = False)\n",
    "\n",
    "\n",
    "\n",
    "    button_0.on_click(partial(btn_eventhandler,0,\"probability_topic_0\"))\n",
    "    button_1.on_click(partial(btn_eventhandler,1,\"probability_topic_1\"))\n",
    "    button_2.on_click(partial(btn_eventhandler,2,\"probability_topic_2\"))\n",
    "    button_3.on_click(partial(btn_eventhandler,3,\"probability_topic_3\"))\n",
    "    \n",
    "    return intrusion_df"
   ]
  },
  {
   "cell_type": "markdown",
   "id": "b600595b",
   "metadata": {},
   "source": [
    "## 3.2 Execute topic intrusion"
   ]
  },
  {
   "cell_type": "code",
   "execution_count": 333,
   "id": "524a4942",
   "metadata": {},
   "outputs": [
    {
     "data": {
      "text/plain": [
       "'Topic Intrusion Text'"
      ]
     },
     "metadata": {},
     "output_type": "display_data"
    },
    {
     "data": {
      "application/vnd.jupyter.widget-view+json": {
       "model_id": "21f71645d6e7420cbe2562acf6d6d348",
       "version_major": 2,
       "version_minor": 0
      },
      "text/plain": [
       "IntProgress(value=14, max=15)"
      ]
     },
     "metadata": {},
     "output_type": "display_data"
    },
    {
     "name": "stdout",
     "output_type": "stream",
     "text": [
      "Thanks Jakob you finished all the work!\n"
     ]
    }
   ],
   "source": [
    "df_topic_intrusion_jakob = topic_intrusion_test(topic_df, \"Jakob\")"
   ]
  },
  {
   "cell_type": "code",
   "execution_count": 334,
   "id": "d0e7af53",
   "metadata": {},
   "outputs": [
    {
     "data": {
      "text/plain": [
       "'Topic Intrusion Text'"
      ]
     },
     "metadata": {},
     "output_type": "display_data"
    },
    {
     "data": {
      "application/vnd.jupyter.widget-view+json": {
       "model_id": "56f89ccd1ccb4942aca63e3bc1b51ac4",
       "version_major": 2,
       "version_minor": 0
      },
      "text/plain": [
       "IntProgress(value=14, max=15)"
      ]
     },
     "metadata": {},
     "output_type": "display_data"
    },
    {
     "name": "stdout",
     "output_type": "stream",
     "text": [
      "Thanks Stjepan you finished all the work!\n"
     ]
    }
   ],
   "source": [
    "df_topic_intrusion_stjepan = topic_intrusion_test(topic_df, \"Stjepan\")"
   ]
  },
  {
   "cell_type": "markdown",
   "id": "35e15c23",
   "metadata": {},
   "source": [
    "## 3.3 Calculate topic intrusion"
   ]
  },
  {
   "cell_type": "code",
   "execution_count": 335,
   "id": "ef76d84d",
   "metadata": {},
   "outputs": [],
   "source": [
    "def calculate_topic_intrusion(name_1, name_2):\n",
    "    df_topic_intrusion_1 = pd.read_csv(\"../data/processed/topic_intrusion_test_\" + name_1 + \".csv\")\n",
    "    df_topic_intrusion_2 = pd.read_csv(\"../data/processed/topic_intrusion_test_\" + name_2 + \".csv\")\n",
    "    iaa_values_1 = df_topic_intrusion_1[df_topic_intrusion_1.iaa_flag == 1].chosen_position.values\n",
    "    iaa_values_2 = df_topic_intrusion_2[df_topic_intrusion_2.iaa_flag == 1].chosen_position.values\n",
    "    kappa = cohen_kappa_score(iaa_values_1, iaa_values_2)\n",
    "    df_topic_intrusion = df_topic_intrusion_1.append(df_topic_intrusion_2)\n",
    "    df_topic = df_topic_intrusion[df_topic_intrusion[\"wis_label\"] == 1]\n",
    "    df_topic[\"intruder_score\"] = np.log(df_topic[\"intruder_topic_probability\"]) - np.log(df_topic[\"chosen_topic_probability\"])\n",
    "    return  df_topic[\"intruder_score\"].mean(), kappa"
   ]
  },
  {
   "cell_type": "code",
   "execution_count": 336,
   "id": "b04bb8e4",
   "metadata": {},
   "outputs": [
    {
     "data": {
      "text/plain": [
       "(-37.489787225464866, 1.0)"
      ]
     },
     "execution_count": 336,
     "metadata": {},
     "output_type": "execute_result"
    }
   ],
   "source": [
    "calculate_topic_intrusion(\"Jakob\", \"Stjepan\")"
   ]
  },
  {
   "cell_type": "markdown",
   "id": "991256f4",
   "metadata": {},
   "source": [
    "# 4. Sentiment Analyis Gold Standard"
   ]
  },
  {
   "cell_type": "code",
   "execution_count": null,
   "id": "2b0eec9d",
   "metadata": {},
   "outputs": [],
   "source": [
    "def sentiment_gold_dictionary(sentiment_df, name):\n",
    "    max_count = sentiment_df.shape[0]\n",
    "    global i\n",
    "    i = 0\n",
    "\n",
    "    button_0 = widgets.Button(description = \"Positive\")\n",
    "    button_1 = widgets.Button(description = \"Neutral\")\n",
    "    button_2 = widgets.Button(description = \"Negative\")\n",
    "    \n",
    "    chosen_elements = []\n",
    "\n",
    "    display(\"Sentiment Gold Standard\")\n",
    "\n",
    "    f = IntProgress(min=0, max=max_count)\n",
    "    display(f)\n",
    "    \n",
    "    display(sentiment_df.text[i])\n",
    "\n",
    "    display(button_0)\n",
    "    display(button_1)\n",
    "    display(button_2)\n",
    "\n",
    "\n",
    "    def btn_eventhandler(obj):\n",
    "        global i \n",
    "        i += 1\n",
    "        \n",
    "        clear_output(wait=True)\n",
    "        \n",
    "        display(\"Sentiment Gold Standard\")\n",
    "        display(f)\n",
    "        f.value += 1\n",
    "                \n",
    "        choosen_text = obj.description\n",
    "        chosen_elements.append(choosen_text)\n",
    "        \n",
    "        if i < max_count:\n",
    "            \n",
    "            display(sentiment_df.text[i])\n",
    "            \n",
    "            display(button_0)\n",
    "            display(button_1)\n",
    "            display(button_2)\n",
    "            \n",
    "            button_0.on_click(btn_eventhandler)\n",
    "            button_1.on_click(btn_eventhandler)\n",
    "            button_2.on_click(btn_eventhandler)\n",
    "            \n",
    "        else:\n",
    "            print (\"Thanks \" + name + \" you finished all the work!\")\n",
    "            sentiment_df[\"choosen_sentiment\"] = chosen_elements\n",
    "            sentiment_df.to_csv(\"../data/processed/sentiment_gold_standard_\" + name + \".csv\", index = False)\n",
    "\n",
    "    button_0.on_click(btn_eventhandler)\n",
    "    button_1.on_click(btn_eventhandler)\n",
    "    button_2.on_click(btn_eventhandler)\n",
    "    \n",
    "    return sentiment_df"
   ]
  },
  {
   "cell_type": "code",
   "execution_count": null,
   "id": "a695d92a",
   "metadata": {},
   "outputs": [],
   "source": [
    "sentiment_dic = {\"text\": [\"Ich liebe dich\", \"Ich hasse dich\", \"Ich neutrale dich\"]}"
   ]
  },
  {
   "cell_type": "code",
   "execution_count": null,
   "id": "fcccf283",
   "metadata": {},
   "outputs": [],
   "source": [
    "sentiment_df = pd.DataFrame(sentiment_dic)"
   ]
  },
  {
   "cell_type": "code",
   "execution_count": null,
   "id": "dfb837e4",
   "metadata": {},
   "outputs": [],
   "source": [
    "sentiment_df = sentiment_gold_dictionary(sentiment_df, \"Jakob\")"
   ]
  }
 ],
 "metadata": {
  "kernelspec": {
   "display_name": "Python 3 (ipykernel)",
   "language": "python",
   "name": "python3"
  },
  "language_info": {
   "codemirror_mode": {
    "name": "ipython",
    "version": 3
   },
   "file_extension": ".py",
   "mimetype": "text/x-python",
   "name": "python",
   "nbconvert_exporter": "python",
   "pygments_lexer": "ipython3",
   "version": "3.8.12"
  }
 },
 "nbformat": 4,
 "nbformat_minor": 5
}
