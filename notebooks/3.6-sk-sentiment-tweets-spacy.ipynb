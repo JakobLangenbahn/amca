{
 "cells": [
  {
   "cell_type": "markdown",
   "metadata": {},
   "source": [
    "# 3.6 Sentiment Analysis"
   ]
  },
  {
   "cell_type": "code",
   "execution_count": 1,
   "metadata": {
    "pycharm": {
     "name": "#%%\n"
    }
   },
   "outputs": [
    {
     "data": {
      "text/html": [
       "<div>\n",
       "<style scoped>\n",
       "    .dataframe tbody tr th:only-of-type {\n",
       "        vertical-align: middle;\n",
       "    }\n",
       "\n",
       "    .dataframe tbody tr th {\n",
       "        vertical-align: top;\n",
       "    }\n",
       "\n",
       "    .dataframe thead th {\n",
       "        text-align: right;\n",
       "    }\n",
       "</style>\n",
       "<table border=\"1\" class=\"dataframe\">\n",
       "  <thead>\n",
       "    <tr style=\"text-align: right;\">\n",
       "      <th></th>\n",
       "      <th>full_name</th>\n",
       "      <th>date</th>\n",
       "      <th>party</th>\n",
       "      <th>text_preprocessed</th>\n",
       "      <th>text_preprocessed_sentence</th>\n",
       "      <th>like_count</th>\n",
       "    </tr>\n",
       "  </thead>\n",
       "  <tbody>\n",
       "    <tr>\n",
       "      <th>0</th>\n",
       "      <td>Ralph Brinkhaus</td>\n",
       "      <td>2021-06-15</td>\n",
       "      <td>CDU</td>\n",
       "      <td>[fußballfans, freuen, spiel, nationalmannschaf...</td>\n",
       "      <td>fußballfans freuen spiel nationalmannschaft dr...</td>\n",
       "      <td>32.0</td>\n",
       "    </tr>\n",
       "    <tr>\n",
       "      <th>1</th>\n",
       "      <td>Ralph Brinkhaus</td>\n",
       "      <td>2021-06-11</td>\n",
       "      <td>CDU</td>\n",
       "      <td>[außenpolitik, wirtschaftlich, souveränität, d...</td>\n",
       "      <td>außenpolitik wirtschaftlich souveränität digit...</td>\n",
       "      <td>5.0</td>\n",
       "    </tr>\n",
       "    <tr>\n",
       "      <th>2</th>\n",
       "      <td>Ralph Brinkhaus</td>\n",
       "      <td>2021-06-11</td>\n",
       "      <td>CDU</td>\n",
       "      <td>[nachhaltig, klimawandel, kämpfen, brauchen, a...</td>\n",
       "      <td>nachhaltig klimawandel kämpfen brauchen akzept...</td>\n",
       "      <td>4.0</td>\n",
       "    </tr>\n",
       "    <tr>\n",
       "      <th>3</th>\n",
       "      <td>Ralph Brinkhaus</td>\n",
       "      <td>2021-06-11</td>\n",
       "      <td>CDU</td>\n",
       "      <td>[brauchen, pandemie, bezahlen, arbeitsplätze, ...</td>\n",
       "      <td>brauchen pandemie bezahlen arbeitsplätze digit...</td>\n",
       "      <td>2.0</td>\n",
       "    </tr>\n",
       "    <tr>\n",
       "      <th>4</th>\n",
       "      <td>Ralph Brinkhaus</td>\n",
       "      <td>2021-06-11</td>\n",
       "      <td>CDU</td>\n",
       "      <td>[wahldebatte, thema, zukunft, passieren, coron...</td>\n",
       "      <td>wahldebatte thema zukunft passieren corona sta...</td>\n",
       "      <td>24.0</td>\n",
       "    </tr>\n",
       "  </tbody>\n",
       "</table>\n",
       "</div>"
      ],
      "text/plain": [
       "         full_name        date party  \\\n",
       "0  Ralph Brinkhaus  2021-06-15   CDU   \n",
       "1  Ralph Brinkhaus  2021-06-11   CDU   \n",
       "2  Ralph Brinkhaus  2021-06-11   CDU   \n",
       "3  Ralph Brinkhaus  2021-06-11   CDU   \n",
       "4  Ralph Brinkhaus  2021-06-11   CDU   \n",
       "\n",
       "                                   text_preprocessed  \\\n",
       "0  [fußballfans, freuen, spiel, nationalmannschaf...   \n",
       "1  [außenpolitik, wirtschaftlich, souveränität, d...   \n",
       "2  [nachhaltig, klimawandel, kämpfen, brauchen, a...   \n",
       "3  [brauchen, pandemie, bezahlen, arbeitsplätze, ...   \n",
       "4  [wahldebatte, thema, zukunft, passieren, coron...   \n",
       "\n",
       "                          text_preprocessed_sentence  like_count  \n",
       "0  fußballfans freuen spiel nationalmannschaft dr...        32.0  \n",
       "1  außenpolitik wirtschaftlich souveränität digit...         5.0  \n",
       "2  nachhaltig klimawandel kämpfen brauchen akzept...         4.0  \n",
       "3  brauchen pandemie bezahlen arbeitsplätze digit...         2.0  \n",
       "4  wahldebatte thema zukunft passieren corona sta...        24.0  "
      ]
     },
     "execution_count": 1,
     "metadata": {},
     "output_type": "execute_result"
    }
   ],
   "source": [
    "#import packages\n",
    "\n",
    "import pandas as pd\n",
    "from textblob_de import TextBlobDE as TextBlob\n",
    "import numpy as np\n",
    "from tqdm.notebook import tqdm\n",
    "\n",
    "import re\n",
    "import pickle\n",
    "pd.options.mode.chained_assignment = None  # default='warn' based on false positives\n",
    "import spacy\n",
    "from spacy.language import Language\n",
    "from spacy_langdetect import LanguageDetector\n",
    "from spacy.tokens.doc import Doc\n",
    "from spacy.vocab import Vocab\n",
    "from spacy_sentiws import spaCySentiWS\n",
    "from spacy_sentiws import spaCySentiWS\n",
    "\n",
    "\n",
    "tqdm.pandas()\n",
    "\n",
    "#load in the preprocessed data\n",
    "\n",
    "pre_data_twitter= pickle.load(open('../data/processed/tweets_processed.p','rb'))[0:100]\n",
    "pre_data_speeches= pickle.load(open('../data/processed/speeches_processed.p','rb'))[0:100]\n",
    "pre_data_twitter.head()"
   ]
  },
  {
   "cell_type": "markdown",
   "metadata": {},
   "source": [
    "## 3.6.1 Sentiment Analysis with TextBlob"
   ]
  },
  {
   "cell_type": "markdown",
   "metadata": {},
   "source": [
    "### 3.6.1.1 Sentiment Analysis for Twitter Data"
   ]
  },
  {
   "cell_type": "code",
   "execution_count": 2,
   "metadata": {},
   "outputs": [
    {
     "data": {
      "application/vnd.jupyter.widget-view+json": {
       "model_id": "4e075e67a6c748bca037d9cce13eaa9f",
       "version_major": 2,
       "version_minor": 0
      },
      "text/plain": [
       "  0%|          | 0/42 [00:00<?, ?it/s]"
      ]
     },
     "metadata": {},
     "output_type": "display_data"
    },
    {
     "name": "stderr",
     "output_type": "stream",
     "text": [
      "/Users/stjepankusenic/.conda/envs/amca/lib/python3.9/site-packages/numpy/core/fromnumeric.py:3474: RuntimeWarning: Mean of empty slice.\n",
      "  return _methods._mean(a, axis=axis, dtype=dtype,\n",
      "/Users/stjepankusenic/.conda/envs/amca/lib/python3.9/site-packages/numpy/core/_methods.py:189: RuntimeWarning: invalid value encountered in double_scalars\n",
      "  ret = ret.dtype.type(ret / rcount)\n"
     ]
    }
   ],
   "source": [
    "#loop through all the politicians we want to analyze\n",
    "data=[]\n",
    "for name in tqdm(['Ralph Brinkhaus','Hermann Gröhe', 'Nadine Schön' ,'Norbert Röttgen' , 'Peter Altmaier' , 'Jens Spahn' , 'Matthias Hauer',\n",
    "            'Christian Lindner' , 'Marco Buschmann' , 'Bettina Stark-Watzinger', 'Alexander Graf Lambsdorff' , 'Johannes Vogel' , 'Konstantin Kuhle' , 'Marie-Agnes Strack-Zimmermann',\n",
    "            'Lars Klingbeil' , 'Saskia Esken' , 'Hubertus Heil' , 'Heiko Maas' , 'Martin Schulz' , 'Karamba Diaby' , 'Karl Lauterbach',\n",
    "            'Steffi Lemke' , 'Cem Özdemir' , 'Katrin Göring-Eckardt' , 'Konstantin von Notz' , 'Britta Haßelmann' , 'Sven Lehmann' , 'Annalena Baerbock',\n",
    "            'Sahra Wagenknecht' , 'Bernd Riexinger' , 'Niema Movassat' , 'Jan Korte' , 'Dietmar Bartsch' , 'Gregor Gysi' , 'Sevim Dağdelen',\n",
    "            'Alice Weidel' , 'Beatrix von Storch' , 'Joana Cotar' , 'Stephan Brandner' , 'Tino Chrupalla' , 'Götz Frömming' , 'Leif-Erik Holm']):\n",
    "    #get tweets from the specific politician \n",
    "    tweets_analyzing =pre_data_twitter.loc[pre_data_twitter['full_name']==name]\n",
    "    #create sentiment scores\n",
    "    blobs=tweets_analyzing['text_preprocessed_sentence'].apply(TextBlob)\n",
    "    sentiment=[]\n",
    "    for blob in blobs:\n",
    "        sentiment.append(blob.sentiment)\n",
    "    #get the polarity scores\n",
    "    polarity=[]\n",
    "    for egg in sentiment:\n",
    "        polarity.append(egg.polarity)\n",
    "    #get the mean of the scores \n",
    "    p_mean = np.mean(polarity)\n",
    "    #get the number of positive, neutral and negative tweets\n",
    "    positive_p=0\n",
    "    neutral_p=0\n",
    "    negative_p=0\n",
    "    for item_p in polarity:\n",
    "        if item_p>0:\n",
    "            positive_p += 1\n",
    "        elif item_p<0:\n",
    "            negative_p += 1\n",
    "        else:\n",
    "            neutral_p += 1\n",
    "    #set up list to secure the values generated\n",
    "    data.append([name,p_mean,positive_p,neutral_p,negative_p]) "
   ]
  },
  {
   "cell_type": "code",
   "execution_count": 3,
   "metadata": {},
   "outputs": [
    {
     "data": {
      "text/html": [
       "<div>\n",
       "<style scoped>\n",
       "    .dataframe tbody tr th:only-of-type {\n",
       "        vertical-align: middle;\n",
       "    }\n",
       "\n",
       "    .dataframe tbody tr th {\n",
       "        vertical-align: top;\n",
       "    }\n",
       "\n",
       "    .dataframe thead th {\n",
       "        text-align: right;\n",
       "    }\n",
       "</style>\n",
       "<table border=\"1\" class=\"dataframe\">\n",
       "  <thead>\n",
       "    <tr style=\"text-align: right;\">\n",
       "      <th></th>\n",
       "      <th>Name</th>\n",
       "      <th>Polarity_mean</th>\n",
       "      <th>Num_pos_tweets</th>\n",
       "      <th>Num_neutral_tweets</th>\n",
       "      <th>Num_neg_tweets</th>\n",
       "    </tr>\n",
       "  </thead>\n",
       "  <tbody>\n",
       "    <tr>\n",
       "      <th>0</th>\n",
       "      <td>Ralph Brinkhaus</td>\n",
       "      <td>0.265083</td>\n",
       "      <td>42</td>\n",
       "      <td>48</td>\n",
       "      <td>10</td>\n",
       "    </tr>\n",
       "    <tr>\n",
       "      <th>1</th>\n",
       "      <td>Hermann Gröhe</td>\n",
       "      <td>NaN</td>\n",
       "      <td>0</td>\n",
       "      <td>0</td>\n",
       "      <td>0</td>\n",
       "    </tr>\n",
       "    <tr>\n",
       "      <th>2</th>\n",
       "      <td>Nadine Schön</td>\n",
       "      <td>NaN</td>\n",
       "      <td>0</td>\n",
       "      <td>0</td>\n",
       "      <td>0</td>\n",
       "    </tr>\n",
       "    <tr>\n",
       "      <th>3</th>\n",
       "      <td>Norbert Röttgen</td>\n",
       "      <td>NaN</td>\n",
       "      <td>0</td>\n",
       "      <td>0</td>\n",
       "      <td>0</td>\n",
       "    </tr>\n",
       "    <tr>\n",
       "      <th>4</th>\n",
       "      <td>Peter Altmaier</td>\n",
       "      <td>NaN</td>\n",
       "      <td>0</td>\n",
       "      <td>0</td>\n",
       "      <td>0</td>\n",
       "    </tr>\n",
       "  </tbody>\n",
       "</table>\n",
       "</div>"
      ],
      "text/plain": [
       "              Name  Polarity_mean  Num_pos_tweets  Num_neutral_tweets  \\\n",
       "0  Ralph Brinkhaus       0.265083              42                  48   \n",
       "1    Hermann Gröhe            NaN               0                   0   \n",
       "2     Nadine Schön            NaN               0                   0   \n",
       "3  Norbert Röttgen            NaN               0                   0   \n",
       "4   Peter Altmaier            NaN               0                   0   \n",
       "\n",
       "   Num_neg_tweets  \n",
       "0              10  \n",
       "1               0  \n",
       "2               0  \n",
       "3               0  \n",
       "4               0  "
      ]
     },
     "execution_count": 3,
     "metadata": {},
     "output_type": "execute_result"
    }
   ],
   "source": [
    "#set up dataframe with all values and save it into a csv file\n",
    "dataf = pd.DataFrame(data, columns=['Name','Polarity_mean','Num_pos_tweets','Num_neutral_tweets','Num_neg_tweets'])\n",
    "dataf.to_csv('../data/processed/sentiment_scores_twitter_01.csv')\n",
    "dataf.head()"
   ]
  },
  {
   "cell_type": "code",
   "execution_count": 4,
   "metadata": {},
   "outputs": [
    {
     "data": {
      "application/vnd.jupyter.widget-view+json": {
       "model_id": "1bfc5274718f41f382cf94b9e7758894",
       "version_major": 2,
       "version_minor": 0
      },
      "text/plain": [
       "  0%|          | 0/100 [00:00<?, ?it/s]"
      ]
     },
     "metadata": {},
     "output_type": "display_data"
    }
   ],
   "source": [
    "#create a polarity column for our dataset\n",
    "blobs=pre_data_twitter['text_preprocessed_sentence'].progress_apply(TextBlob)\n",
    "sentiment=[]\n",
    "for blob in blobs:\n",
    "    sentiment.append(blob.sentiment)\n",
    "#get the scores\n",
    "polarity=[]\n",
    "for egg in sentiment:\n",
    "    polarity.append(egg.polarity)\n",
    "pre_data_twitter['polarity_textblob'] = polarity"
   ]
  },
  {
   "cell_type": "code",
   "execution_count": 5,
   "metadata": {
    "scrolled": true
   },
   "outputs": [
    {
     "data": {
      "text/html": [
       "<div>\n",
       "<style scoped>\n",
       "    .dataframe tbody tr th:only-of-type {\n",
       "        vertical-align: middle;\n",
       "    }\n",
       "\n",
       "    .dataframe tbody tr th {\n",
       "        vertical-align: top;\n",
       "    }\n",
       "\n",
       "    .dataframe thead th {\n",
       "        text-align: right;\n",
       "    }\n",
       "</style>\n",
       "<table border=\"1\" class=\"dataframe\">\n",
       "  <thead>\n",
       "    <tr style=\"text-align: right;\">\n",
       "      <th></th>\n",
       "      <th>full_name</th>\n",
       "      <th>date</th>\n",
       "      <th>party</th>\n",
       "      <th>text_preprocessed</th>\n",
       "      <th>text_preprocessed_sentence</th>\n",
       "      <th>like_count</th>\n",
       "      <th>polarity_textblob</th>\n",
       "    </tr>\n",
       "  </thead>\n",
       "  <tbody>\n",
       "    <tr>\n",
       "      <th>0</th>\n",
       "      <td>Ralph Brinkhaus</td>\n",
       "      <td>2021-06-15</td>\n",
       "      <td>CDU</td>\n",
       "      <td>[fußballfans, freuen, spiel, nationalmannschaf...</td>\n",
       "      <td>fußballfans freuen spiel nationalmannschaft dr...</td>\n",
       "      <td>32.0</td>\n",
       "      <td>0.0</td>\n",
       "    </tr>\n",
       "    <tr>\n",
       "      <th>1</th>\n",
       "      <td>Ralph Brinkhaus</td>\n",
       "      <td>2021-06-11</td>\n",
       "      <td>CDU</td>\n",
       "      <td>[außenpolitik, wirtschaftlich, souveränität, d...</td>\n",
       "      <td>außenpolitik wirtschaftlich souveränität digit...</td>\n",
       "      <td>5.0</td>\n",
       "      <td>0.0</td>\n",
       "    </tr>\n",
       "    <tr>\n",
       "      <th>2</th>\n",
       "      <td>Ralph Brinkhaus</td>\n",
       "      <td>2021-06-11</td>\n",
       "      <td>CDU</td>\n",
       "      <td>[nachhaltig, klimawandel, kämpfen, brauchen, a...</td>\n",
       "      <td>nachhaltig klimawandel kämpfen brauchen akzept...</td>\n",
       "      <td>4.0</td>\n",
       "      <td>1.0</td>\n",
       "    </tr>\n",
       "    <tr>\n",
       "      <th>3</th>\n",
       "      <td>Ralph Brinkhaus</td>\n",
       "      <td>2021-06-11</td>\n",
       "      <td>CDU</td>\n",
       "      <td>[brauchen, pandemie, bezahlen, arbeitsplätze, ...</td>\n",
       "      <td>brauchen pandemie bezahlen arbeitsplätze digit...</td>\n",
       "      <td>2.0</td>\n",
       "      <td>-1.0</td>\n",
       "    </tr>\n",
       "    <tr>\n",
       "      <th>4</th>\n",
       "      <td>Ralph Brinkhaus</td>\n",
       "      <td>2021-06-11</td>\n",
       "      <td>CDU</td>\n",
       "      <td>[wahldebatte, thema, zukunft, passieren, coron...</td>\n",
       "      <td>wahldebatte thema zukunft passieren corona sta...</td>\n",
       "      <td>24.0</td>\n",
       "      <td>0.0</td>\n",
       "    </tr>\n",
       "    <tr>\n",
       "      <th>...</th>\n",
       "      <td>...</td>\n",
       "      <td>...</td>\n",
       "      <td>...</td>\n",
       "      <td>...</td>\n",
       "      <td>...</td>\n",
       "      <td>...</td>\n",
       "      <td>...</td>\n",
       "    </tr>\n",
       "    <tr>\n",
       "      <th>95</th>\n",
       "      <td>Ralph Brinkhaus</td>\n",
       "      <td>2020-10-31</td>\n",
       "      <td>CDU</td>\n",
       "      <td>[vorfreude, jörg, jakob, gast, live, dopa]</td>\n",
       "      <td>vorfreude jörg jakob gast live dopa</td>\n",
       "      <td>33.0</td>\n",
       "      <td>0.0</td>\n",
       "    </tr>\n",
       "    <tr>\n",
       "      <th>96</th>\n",
       "      <td>Ralph Brinkhaus</td>\n",
       "      <td>2020-10-30</td>\n",
       "      <td>CDU</td>\n",
       "      <td>[einschalten, gemeinsam, gründer, markus, luka...</td>\n",
       "      <td>einschalten gemeinsam gründer markus lukasson ...</td>\n",
       "      <td>24.0</td>\n",
       "      <td>0.0</td>\n",
       "    </tr>\n",
       "    <tr>\n",
       "      <th>97</th>\n",
       "      <td>Ralph Brinkhaus</td>\n",
       "      <td>2020-10-29</td>\n",
       "      <td>CDU</td>\n",
       "      <td>[maßnahme, eindämmung, pandemie, sprechen, maß...</td>\n",
       "      <td>maßnahme eindämmung pandemie sprechen maßnahme...</td>\n",
       "      <td>33.0</td>\n",
       "      <td>0.0</td>\n",
       "    </tr>\n",
       "    <tr>\n",
       "      <th>98</th>\n",
       "      <td>Ralph Brinkhaus</td>\n",
       "      <td>2020-10-29</td>\n",
       "      <td>CDU</td>\n",
       "      <td>[virus, warten, unterhalten, leistungsfähig, s...</td>\n",
       "      <td>virus warten unterhalten leistungsfähig sagen ...</td>\n",
       "      <td>132.0</td>\n",
       "      <td>0.9</td>\n",
       "    </tr>\n",
       "    <tr>\n",
       "      <th>99</th>\n",
       "      <td>Ralph Brinkhaus</td>\n",
       "      <td>2020-10-29</td>\n",
       "      <td>CDU</td>\n",
       "      <td>[letzt, woche, monat, debatte, gesetzgebungsve...</td>\n",
       "      <td>letzt woche monat debatte gesetzgebungsverfahr...</td>\n",
       "      <td>128.0</td>\n",
       "      <td>0.0</td>\n",
       "    </tr>\n",
       "  </tbody>\n",
       "</table>\n",
       "<p>100 rows × 7 columns</p>\n",
       "</div>"
      ],
      "text/plain": [
       "          full_name        date party  \\\n",
       "0   Ralph Brinkhaus  2021-06-15   CDU   \n",
       "1   Ralph Brinkhaus  2021-06-11   CDU   \n",
       "2   Ralph Brinkhaus  2021-06-11   CDU   \n",
       "3   Ralph Brinkhaus  2021-06-11   CDU   \n",
       "4   Ralph Brinkhaus  2021-06-11   CDU   \n",
       "..              ...         ...   ...   \n",
       "95  Ralph Brinkhaus  2020-10-31   CDU   \n",
       "96  Ralph Brinkhaus  2020-10-30   CDU   \n",
       "97  Ralph Brinkhaus  2020-10-29   CDU   \n",
       "98  Ralph Brinkhaus  2020-10-29   CDU   \n",
       "99  Ralph Brinkhaus  2020-10-29   CDU   \n",
       "\n",
       "                                    text_preprocessed  \\\n",
       "0   [fußballfans, freuen, spiel, nationalmannschaf...   \n",
       "1   [außenpolitik, wirtschaftlich, souveränität, d...   \n",
       "2   [nachhaltig, klimawandel, kämpfen, brauchen, a...   \n",
       "3   [brauchen, pandemie, bezahlen, arbeitsplätze, ...   \n",
       "4   [wahldebatte, thema, zukunft, passieren, coron...   \n",
       "..                                                ...   \n",
       "95         [vorfreude, jörg, jakob, gast, live, dopa]   \n",
       "96  [einschalten, gemeinsam, gründer, markus, luka...   \n",
       "97  [maßnahme, eindämmung, pandemie, sprechen, maß...   \n",
       "98  [virus, warten, unterhalten, leistungsfähig, s...   \n",
       "99  [letzt, woche, monat, debatte, gesetzgebungsve...   \n",
       "\n",
       "                           text_preprocessed_sentence  like_count  \\\n",
       "0   fußballfans freuen spiel nationalmannschaft dr...        32.0   \n",
       "1   außenpolitik wirtschaftlich souveränität digit...         5.0   \n",
       "2   nachhaltig klimawandel kämpfen brauchen akzept...         4.0   \n",
       "3   brauchen pandemie bezahlen arbeitsplätze digit...         2.0   \n",
       "4   wahldebatte thema zukunft passieren corona sta...        24.0   \n",
       "..                                                ...         ...   \n",
       "95                vorfreude jörg jakob gast live dopa        33.0   \n",
       "96  einschalten gemeinsam gründer markus lukasson ...        24.0   \n",
       "97  maßnahme eindämmung pandemie sprechen maßnahme...        33.0   \n",
       "98  virus warten unterhalten leistungsfähig sagen ...       132.0   \n",
       "99  letzt woche monat debatte gesetzgebungsverfahr...       128.0   \n",
       "\n",
       "    polarity_textblob  \n",
       "0                 0.0  \n",
       "1                 0.0  \n",
       "2                 1.0  \n",
       "3                -1.0  \n",
       "4                 0.0  \n",
       "..                ...  \n",
       "95                0.0  \n",
       "96                0.0  \n",
       "97                0.0  \n",
       "98                0.9  \n",
       "99                0.0  \n",
       "\n",
       "[100 rows x 7 columns]"
      ]
     },
     "metadata": {},
     "output_type": "display_data"
    }
   ],
   "source": [
    "display(pre_data_twitter)\n",
    "    "
   ]
  },
  {
   "cell_type": "markdown",
   "metadata": {},
   "source": [
    "### 3.6.1.2 Sentiment Analysis Bundestag Speeches"
   ]
  },
  {
   "cell_type": "code",
   "execution_count": 6,
   "metadata": {},
   "outputs": [
    {
     "data": {
      "application/vnd.jupyter.widget-view+json": {
       "model_id": "5bf1d4d98896440d83ca8a51edd27f7c",
       "version_major": 2,
       "version_minor": 0
      },
      "text/plain": [
       "  0%|          | 0/42 [00:00<?, ?it/s]"
      ]
     },
     "metadata": {},
     "output_type": "display_data"
    },
    {
     "name": "stderr",
     "output_type": "stream",
     "text": [
      "/Users/stjepankusenic/.conda/envs/amca/lib/python3.9/site-packages/numpy/core/fromnumeric.py:3474: RuntimeWarning: Mean of empty slice.\n",
      "  return _methods._mean(a, axis=axis, dtype=dtype,\n",
      "/Users/stjepankusenic/.conda/envs/amca/lib/python3.9/site-packages/numpy/core/_methods.py:189: RuntimeWarning: invalid value encountered in double_scalars\n",
      "  ret = ret.dtype.type(ret / rcount)\n"
     ]
    }
   ],
   "source": [
    "#loop through all the politicians we want to analyze\n",
    "data=[]\n",
    "for name in tqdm(['Ralph Brinkhaus','Hermann Gröhe', 'Nadine Schön' ,'Norbert Röttgen' , 'Peter Altmaier' , 'Jens Spahn' , 'Matthias Hauer',\n",
    "            'Christian Lindner' , 'Marco Buschmann' , 'Bettina Stark-Watzinger', 'Alexander Graf Lambsdorff' , 'Johannes Vogel' , 'Konstantin Kuhle' , 'Marie-Agnes Strack-Zimmermann',\n",
    "            'Lars Klingbeil' , 'Saskia Esken' , 'Hubertus Heil' , 'Heiko Maas' , 'Martin Schulz' , 'Karamba Diaby' , 'Karl Lauterbach',\n",
    "            'Steffi Lemke' , 'Cem Özdemir' , 'Katrin Göring-Eckardt' , 'Konstantin von Notz' , 'Britta Haßelmann' , 'Sven Lehmann' , 'Annalena Baerbock',\n",
    "            'Sahra Wagenknecht' , 'Bernd Riexinger' , 'Niema Movassat' , 'Jan Korte' , 'Dietmar Bartsch' , 'Gregor Gysi' , 'Sevim Dağdelen',\n",
    "            'Alice Weidel' , 'Beatrix von Storch' , 'Joana Cotar' , 'Stephan Brandner' , 'Tino Chrupalla' , 'Götz Frömming' , 'Leif-Erik Holm']):\n",
    "    #get speeches from the specific politician\n",
    "    speeches_analyzing =pre_data_speeches.loc[pre_data_speeches['full_name']==name]\n",
    "    #create sentiment scores\n",
    "    blobs=speeches_analyzing['text_preprocessed_sentence'].apply(TextBlob)\n",
    "    sentiment=[]\n",
    "    for blob in blobs:\n",
    "        sentiment.append(blob.sentiment)\n",
    "    #get the polarity scores\n",
    "    polarity=[]\n",
    "    for egg in sentiment:\n",
    "        polarity.append(egg.polarity)\n",
    "    #get the mean and of the polarity values \n",
    "    p_mean = np.mean(polarity)\n",
    "    #get the number of positive, neutral and negative tweets\n",
    "    positive_p=0\n",
    "    neutral_p=0\n",
    "    negative_p=0\n",
    "    for item_p in polarity:\n",
    "        if item_p>0:\n",
    "            positive_p += 1\n",
    "        elif item_p<0:\n",
    "            negative_p += 1\n",
    "        else:\n",
    "            neutral_p += 1\n",
    "    #set up list to secure the values generated\n",
    "    data.append([name,p_mean,positive_p,neutral_p,negative_p]) "
   ]
  },
  {
   "cell_type": "code",
   "execution_count": 7,
   "metadata": {},
   "outputs": [
    {
     "data": {
      "text/html": [
       "<div>\n",
       "<style scoped>\n",
       "    .dataframe tbody tr th:only-of-type {\n",
       "        vertical-align: middle;\n",
       "    }\n",
       "\n",
       "    .dataframe tbody tr th {\n",
       "        vertical-align: top;\n",
       "    }\n",
       "\n",
       "    .dataframe thead th {\n",
       "        text-align: right;\n",
       "    }\n",
       "</style>\n",
       "<table border=\"1\" class=\"dataframe\">\n",
       "  <thead>\n",
       "    <tr style=\"text-align: right;\">\n",
       "      <th></th>\n",
       "      <th>Name</th>\n",
       "      <th>Polarity_mean</th>\n",
       "      <th>Num_pos_speeches</th>\n",
       "      <th>Num_neutral_speeches</th>\n",
       "      <th>Num_neg_speeches</th>\n",
       "    </tr>\n",
       "  </thead>\n",
       "  <tbody>\n",
       "    <tr>\n",
       "      <th>0</th>\n",
       "      <td>Ralph Brinkhaus</td>\n",
       "      <td>0.435714</td>\n",
       "      <td>1</td>\n",
       "      <td>0</td>\n",
       "      <td>0</td>\n",
       "    </tr>\n",
       "    <tr>\n",
       "      <th>1</th>\n",
       "      <td>Hermann Gröhe</td>\n",
       "      <td>NaN</td>\n",
       "      <td>0</td>\n",
       "      <td>0</td>\n",
       "      <td>0</td>\n",
       "    </tr>\n",
       "    <tr>\n",
       "      <th>2</th>\n",
       "      <td>Nadine Schön</td>\n",
       "      <td>0.207771</td>\n",
       "      <td>3</td>\n",
       "      <td>1</td>\n",
       "      <td>1</td>\n",
       "    </tr>\n",
       "    <tr>\n",
       "      <th>3</th>\n",
       "      <td>Norbert Röttgen</td>\n",
       "      <td>-0.421739</td>\n",
       "      <td>0</td>\n",
       "      <td>1</td>\n",
       "      <td>2</td>\n",
       "    </tr>\n",
       "    <tr>\n",
       "      <th>4</th>\n",
       "      <td>Peter Altmaier</td>\n",
       "      <td>0.532353</td>\n",
       "      <td>1</td>\n",
       "      <td>0</td>\n",
       "      <td>0</td>\n",
       "    </tr>\n",
       "  </tbody>\n",
       "</table>\n",
       "</div>"
      ],
      "text/plain": [
       "              Name  Polarity_mean  Num_pos_speeches  Num_neutral_speeches  \\\n",
       "0  Ralph Brinkhaus       0.435714                 1                     0   \n",
       "1    Hermann Gröhe            NaN                 0                     0   \n",
       "2     Nadine Schön       0.207771                 3                     1   \n",
       "3  Norbert Röttgen      -0.421739                 0                     1   \n",
       "4   Peter Altmaier       0.532353                 1                     0   \n",
       "\n",
       "   Num_neg_speeches  \n",
       "0                 0  \n",
       "1                 0  \n",
       "2                 1  \n",
       "3                 2  \n",
       "4                 0  "
      ]
     },
     "execution_count": 7,
     "metadata": {},
     "output_type": "execute_result"
    }
   ],
   "source": [
    "#set up dataframe with all values\n",
    "dataf = pd.DataFrame(data, columns=['Name','Polarity_mean','Num_pos_speeches','Num_neutral_speeches','Num_neg_speeches'])\n",
    "dataf.to_csv('../data/processed/sentiment_scores_speeches_01.csv')\n",
    "dataf.head()"
   ]
  },
  {
   "cell_type": "code",
   "execution_count": 8,
   "metadata": {},
   "outputs": [],
   "source": [
    "blobs=pre_data_speeches['text_preprocessed_sentence'].apply(TextBlob)\n",
    "sentiment=[]\n",
    "for blob in blobs:\n",
    "    sentiment.append(blob.sentiment)\n",
    "#get the scores\n",
    "polarity=[]\n",
    "for egg in sentiment:\n",
    "    polarity.append(egg.polarity)\n",
    "pre_data_speeches['polarity_textblob'] = polarity"
   ]
  },
  {
   "cell_type": "code",
   "execution_count": 9,
   "metadata": {},
   "outputs": [
    {
     "data": {
      "text/html": [
       "<div>\n",
       "<style scoped>\n",
       "    .dataframe tbody tr th:only-of-type {\n",
       "        vertical-align: middle;\n",
       "    }\n",
       "\n",
       "    .dataframe tbody tr th {\n",
       "        vertical-align: top;\n",
       "    }\n",
       "\n",
       "    .dataframe thead th {\n",
       "        text-align: right;\n",
       "    }\n",
       "</style>\n",
       "<table border=\"1\" class=\"dataframe\">\n",
       "  <thead>\n",
       "    <tr style=\"text-align: right;\">\n",
       "      <th></th>\n",
       "      <th>full_name</th>\n",
       "      <th>date</th>\n",
       "      <th>party</th>\n",
       "      <th>text_preprocessed</th>\n",
       "      <th>text_preprocessed_sentence</th>\n",
       "      <th>polarity_textblob</th>\n",
       "    </tr>\n",
       "  </thead>\n",
       "  <tbody>\n",
       "    <tr>\n",
       "      <th>1114</th>\n",
       "      <td>Jan Korte</td>\n",
       "      <td>2017-10-24</td>\n",
       "      <td>Linke</td>\n",
       "      <td>[herr, präsident, lieben, kollegin, kollege, g...</td>\n",
       "      <td>herr präsident lieben kollegin kollege geehrt ...</td>\n",
       "      <td>0.512121</td>\n",
       "    </tr>\n",
       "    <tr>\n",
       "      <th>1115</th>\n",
       "      <td>Marco Buschmann</td>\n",
       "      <td>2017-10-24</td>\n",
       "      <td>FDP</td>\n",
       "      <td>[herr, präsident, lieb, kollegin, kollege, kon...</td>\n",
       "      <td>herr präsident lieb kollegin kollege konstitui...</td>\n",
       "      <td>0.061111</td>\n",
       "    </tr>\n",
       "    <tr>\n",
       "      <th>1116</th>\n",
       "      <td>Britta Haßelmann</td>\n",
       "      <td>2017-10-24</td>\n",
       "      <td>Grüne</td>\n",
       "      <td>[geehrt, herr, präsident, dame, herr, kern, de...</td>\n",
       "      <td>geehrt herr präsident dame herr kern debatte t...</td>\n",
       "      <td>0.231579</td>\n",
       "    </tr>\n",
       "    <tr>\n",
       "      <th>1117</th>\n",
       "      <td>Marco Buschmann</td>\n",
       "      <td>2017-11-21</td>\n",
       "      <td>FDP</td>\n",
       "      <td>[herr, präsident, geehrt, kollegin, kollege, f...</td>\n",
       "      <td>herr präsident geehrt kollegin kollege fraktio...</td>\n",
       "      <td>0.750000</td>\n",
       "    </tr>\n",
       "    <tr>\n",
       "      <th>1118</th>\n",
       "      <td>Jan Korte</td>\n",
       "      <td>2017-11-21</td>\n",
       "      <td>Linke</td>\n",
       "      <td>[geehrt, herr, präsident, dame, herr, ernst, z...</td>\n",
       "      <td>geehrt herr präsident dame herr ernst zeit hum...</td>\n",
       "      <td>0.293333</td>\n",
       "    </tr>\n",
       "    <tr>\n",
       "      <th>...</th>\n",
       "      <td>...</td>\n",
       "      <td>...</td>\n",
       "      <td>...</td>\n",
       "      <td>...</td>\n",
       "      <td>...</td>\n",
       "      <td>...</td>\n",
       "    </tr>\n",
       "    <tr>\n",
       "      <th>1210</th>\n",
       "      <td>Tino Chrupalla</td>\n",
       "      <td>2018-01-31</td>\n",
       "      <td>AFD</td>\n",
       "      <td>[frau, ministerin, laut, jahresgutachten, jung...</td>\n",
       "      <td>frau ministerin laut jahresgutachten junge men...</td>\n",
       "      <td>0.850000</td>\n",
       "    </tr>\n",
       "    <tr>\n",
       "      <th>1211</th>\n",
       "      <td>Leif-Erik Holm</td>\n",
       "      <td>2018-02-02</td>\n",
       "      <td>AFD</td>\n",
       "      <td>[lieben, bürger, herr, präsident, dame, herr, ...</td>\n",
       "      <td>lieben bürger herr präsident dame herr freuen ...</td>\n",
       "      <td>0.097059</td>\n",
       "    </tr>\n",
       "    <tr>\n",
       "      <th>1212</th>\n",
       "      <td>Leif-Erik Holm</td>\n",
       "      <td>2018-01-31</td>\n",
       "      <td>AFD</td>\n",
       "      <td>[frau, präsidentin, frage, frau, wirtschaftsmi...</td>\n",
       "      <td>frau präsidentin frage frau wirtschaftsministe...</td>\n",
       "      <td>0.000000</td>\n",
       "    </tr>\n",
       "    <tr>\n",
       "      <th>1213</th>\n",
       "      <td>Bettina Stark-Watzinger</td>\n",
       "      <td>2018-01-31</td>\n",
       "      <td>FDP</td>\n",
       "      <td>[sondierungspapier, erinnern, satz, mark, twai...</td>\n",
       "      <td>sondierungspapier erinnern satz mark twain ric...</td>\n",
       "      <td>-0.700000</td>\n",
       "    </tr>\n",
       "    <tr>\n",
       "      <th>1214</th>\n",
       "      <td>Götz Frömming</td>\n",
       "      <td>2018-01-31</td>\n",
       "      <td>AFD</td>\n",
       "      <td>[geehrt, frau, präsidentin, geehrt, frau, mini...</td>\n",
       "      <td>geehrt frau präsidentin geehrt frau ministerin...</td>\n",
       "      <td>0.333333</td>\n",
       "    </tr>\n",
       "  </tbody>\n",
       "</table>\n",
       "<p>100 rows × 6 columns</p>\n",
       "</div>"
      ],
      "text/plain": [
       "                    full_name        date  party  \\\n",
       "1114                Jan Korte  2017-10-24  Linke   \n",
       "1115          Marco Buschmann  2017-10-24    FDP   \n",
       "1116         Britta Haßelmann  2017-10-24  Grüne   \n",
       "1117          Marco Buschmann  2017-11-21    FDP   \n",
       "1118                Jan Korte  2017-11-21  Linke   \n",
       "...                       ...         ...    ...   \n",
       "1210           Tino Chrupalla  2018-01-31    AFD   \n",
       "1211           Leif-Erik Holm  2018-02-02    AFD   \n",
       "1212           Leif-Erik Holm  2018-01-31    AFD   \n",
       "1213  Bettina Stark-Watzinger  2018-01-31    FDP   \n",
       "1214            Götz Frömming  2018-01-31    AFD   \n",
       "\n",
       "                                      text_preprocessed  \\\n",
       "1114  [herr, präsident, lieben, kollegin, kollege, g...   \n",
       "1115  [herr, präsident, lieb, kollegin, kollege, kon...   \n",
       "1116  [geehrt, herr, präsident, dame, herr, kern, de...   \n",
       "1117  [herr, präsident, geehrt, kollegin, kollege, f...   \n",
       "1118  [geehrt, herr, präsident, dame, herr, ernst, z...   \n",
       "...                                                 ...   \n",
       "1210  [frau, ministerin, laut, jahresgutachten, jung...   \n",
       "1211  [lieben, bürger, herr, präsident, dame, herr, ...   \n",
       "1212  [frau, präsidentin, frage, frau, wirtschaftsmi...   \n",
       "1213  [sondierungspapier, erinnern, satz, mark, twai...   \n",
       "1214  [geehrt, frau, präsidentin, geehrt, frau, mini...   \n",
       "\n",
       "                             text_preprocessed_sentence  polarity_textblob  \n",
       "1114  herr präsident lieben kollegin kollege geehrt ...           0.512121  \n",
       "1115  herr präsident lieb kollegin kollege konstitui...           0.061111  \n",
       "1116  geehrt herr präsident dame herr kern debatte t...           0.231579  \n",
       "1117  herr präsident geehrt kollegin kollege fraktio...           0.750000  \n",
       "1118  geehrt herr präsident dame herr ernst zeit hum...           0.293333  \n",
       "...                                                 ...                ...  \n",
       "1210  frau ministerin laut jahresgutachten junge men...           0.850000  \n",
       "1211  lieben bürger herr präsident dame herr freuen ...           0.097059  \n",
       "1212  frau präsidentin frage frau wirtschaftsministe...           0.000000  \n",
       "1213  sondierungspapier erinnern satz mark twain ric...          -0.700000  \n",
       "1214  geehrt frau präsidentin geehrt frau ministerin...           0.333333  \n",
       "\n",
       "[100 rows x 6 columns]"
      ]
     },
     "metadata": {},
     "output_type": "display_data"
    }
   ],
   "source": [
    "display(pre_data_speeches)"
   ]
  },
  {
   "cell_type": "markdown",
   "metadata": {},
   "source": [
    "## 3.6.2 Sentiment Analysis with SentiWS"
   ]
  },
  {
   "cell_type": "code",
   "execution_count": 14,
   "metadata": {},
   "outputs": [],
   "source": [
    "#insert pipeline to add sentiws preprocessing"
   ]
  },
  {
   "cell_type": "code",
   "execution_count": 15,
   "metadata": {},
   "outputs": [],
   "source": [
    "pre_data_twitter= pd.read_csv(\"../data/raw/tweets_explored.csv\")[0:100]\n",
    "pre_data_speeches= pd.read_csv(\"../data/raw/speeches_explored.csv\")[0:100]"
   ]
  },
  {
   "cell_type": "code",
   "execution_count": 16,
   "metadata": {},
   "outputs": [],
   "source": [
    "@Language.component(\"Remove non alphabetic words\")\n",
    "def remove_non_alpha(doc):\n",
    "    return [token for token in doc if token.is_alpha]"
   ]
  },
  {
   "cell_type": "code",
   "execution_count": 17,
   "metadata": {},
   "outputs": [],
   "source": [
    "@Language.factory(\"Detect languages\")\n",
    "def create_language_detector(nlp, name):\n",
    "    return LanguageDetector(language_detection_function=None)"
   ]
  },
  {
   "cell_type": "code",
   "execution_count": 18,
   "metadata": {},
   "outputs": [],
   "source": [
    "@Language.factory(\"Sentiment Appplication\")\n",
    "def create_sentiment_dictionary(nlp, name):\n",
    "    return spaCySentiWS(sentiws_path = \"../data/raw/Sentiment/\")"
   ]
  },
  {
   "cell_type": "code",
   "execution_count": 19,
   "metadata": {},
   "outputs": [],
   "source": [
    "@Language.component(\"Keep only German documents\")\n",
    "def remove_non_german(doc):\n",
    "    res = [sent for sent in doc.sents if sent._.language[\"language\"] == \"de\"]\n",
    "    if res:\n",
    "        return [token for sent in res for token in sent]\n",
    "    else:\n",
    "        return Doc(Vocab([]), words=[], spaces=[])"
   ]
  },
  {
   "cell_type": "code",
   "execution_count": 20,
   "metadata": {},
   "outputs": [],
   "source": [
    "@Language.component(\"Remove stopwords\")\n",
    "def remove_stopwords(doc): \n",
    "    return [token for token in doc if not token.is_stop]"
   ]
  },
  {
   "cell_type": "code",
   "execution_count": 21,
   "metadata": {},
   "outputs": [],
   "source": [
    "@Language.component(\"Lemmatize text\")\n",
    "def lemmatize_text(doc):\n",
    "    return [token.lemma_ for token in doc]"
   ]
  },
  {
   "cell_type": "code",
   "execution_count": 22,
   "metadata": {},
   "outputs": [],
   "source": [
    "@Language.component(\"Lowercase Text\")\n",
    "def lowercase(doc):\n",
    "    return [token.lower() for token in doc]"
   ]
  },
  {
   "cell_type": "code",
   "execution_count": 23,
   "metadata": {},
   "outputs": [],
   "source": [
    "emoji_codes = re.compile(\"[\"\n",
    "                         u\"\\U0001F600-\\U0001F64F\"\n",
    "                         u\"\\U0001F300-\\U0001F5FF\"\n",
    "                         u\"\\U0001F680-\\U0001F6FF\"\n",
    "                         u\"\\U0001F1E0-\\U0001F1FF\"\n",
    "                         u\"\\U00002500-\\U00002BEF\"\n",
    "                         u\"\\U00002702-\\U000027B0\"\n",
    "                         u\"\\U00002702-\\U000027B0\"\n",
    "                         u\"\\U000024C2-\\U0001F251\"\n",
    "                         u\"\\U0001f926-\\U0001f937\"\n",
    "                         u\"\\U00010000-\\U0010ffff\"\n",
    "                         u\"\\u2640-\\u2642\"\n",
    "                         u\"\\u2600-\\u2B55\"\n",
    "                         u\"\\u200d\"\n",
    "                         u\"\\u23cf\"\n",
    "                         u\"\\u23e9\"\n",
    "                         u\"\\u231a\"\n",
    "                         u\"\\ufe0f\"\n",
    "                         u\"\\u3030\"\n",
    "                         \"]+\", re.UNICODE)\n",
    "\n",
    "@Language.component(\"Remove emojis\")\n",
    "def remove_emojis(doc):\n",
    "    doc = [token.text for token in doc if not re.match(emoji, token.text)]\n",
    "    doc = ' '.join(doc)\n",
    "    return nlp_twitter.make_doc(doc)"
   ]
  },
  {
   "cell_type": "code",
   "execution_count": 24,
   "metadata": {},
   "outputs": [],
   "source": [
    "@Language.component(\"Remove URLs\")\n",
    "def remove_urls(doc):\n",
    "    doc = [token.text for token in doc if not token.like_url]\n",
    "    doc = ' '.join(doc)\n",
    "    return nlp_twitter.make_doc(doc)"
   ]
  },
  {
   "cell_type": "code",
   "execution_count": 25,
   "metadata": {},
   "outputs": [],
   "source": [
    "@Language.component(\"Remove mentions\")\n",
    "def remove_mentions(doc):\n",
    "    doc = [token.text for token in doc if not re.match(\"@.*\", token.text)]\n",
    "    doc = ' '.join(doc)\n",
    "    return nlp_twitter.make_doc(doc)"
   ]
  },
  {
   "cell_type": "code",
   "execution_count": 26,
   "metadata": {},
   "outputs": [],
   "source": [
    "@Language.component(\"Remove stopwords and punctuation\")\n",
    "def remove_stopwords(doc):\n",
    "    doc = [token.text for token in doc if not token.is_stop and not token.is_punct]\n",
    "    return doc"
   ]
  },
  {
   "cell_type": "code",
   "execution_count": 27,
   "metadata": {},
   "outputs": [],
   "source": [
    "#pipeline_exclude = ['tok2vec', 'tagger', 'parser', 'attribute_ruler', 'ner', 'morphologizer']"
   ]
  },
  {
   "cell_type": "code",
   "execution_count": 28,
   "metadata": {},
   "outputs": [
    {
     "data": {
      "text/plain": [
       "<spacy_sentiws.spaCySentiWS at 0x7fa92856d2b0>"
      ]
     },
     "execution_count": 28,
     "metadata": {},
     "output_type": "execute_result"
    }
   ],
   "source": [
    "# Create spacy pipeline\n",
    "nlp_tweets_sentiws = spacy.load('de_core_news_sm')\n",
    "nlp_tweets_sentiws.Defaults.stop_words |= {\"amp\", \"rt\"}\n",
    "\n",
    "# The add_pipe function appends our functions to the default pipeline.\n",
    "nlp_tweets_sentiws.add_pipe(\"sentencizer\", last=True)\n",
    "nlp_tweets_sentiws.add_pipe(\"Detect languages\", name='Detect languages', last=True)\n",
    "nlp_tweets_sentiws.add_pipe(\"Keep only German documents\", name='Keep only German documents', last=True)\n",
    "nlp_tweets_sentiws.add_pipe(\"Remove non alphabetic words\", name=\"Remove non alphabetic words\", last=True)\n",
    "nlp_tweets_sentiws.add_pipe(\"Remove stopwords\", name=\"Remove stopwords\", last=True)\n",
    "# nlp_tweets.add_pipe(\"Lemmatize text\", name=\"Lemmatize text\", last=True)\n",
    "# nlp_tweets.add_pipe(\"Lowercase Text\", name=\"Lowercase Text\", last=True)\n",
    "nlp_tweets_sentiws.add_pipe(\"Sentiment Appplication\", name=\"Sentiment Appplication\", last=True)"
   ]
  },
  {
   "cell_type": "markdown",
   "metadata": {},
   "source": [
    "### 3.6.2.1 Sentiment Analysis for Twitter Data"
   ]
  },
  {
   "cell_type": "code",
   "execution_count": 29,
   "metadata": {},
   "outputs": [
    {
     "data": {
      "application/vnd.jupyter.widget-view+json": {
       "model_id": "fb1537f32a294de5b925df2a260a6b8f",
       "version_major": 2,
       "version_minor": 0
      },
      "text/plain": [
       "  0%|          | 0/42 [00:00<?, ?it/s]"
      ]
     },
     "metadata": {},
     "output_type": "display_data"
    },
    {
     "data": {
      "application/vnd.jupyter.widget-view+json": {
       "model_id": "b7506167f7b94ee9a583805347bab159",
       "version_major": 2,
       "version_minor": 0
      },
      "text/plain": [
       "  0%|          | 0/100 [00:00<?, ?it/s]"
      ]
     },
     "metadata": {},
     "output_type": "display_data"
    },
    {
     "name": "stderr",
     "output_type": "stream",
     "text": [
      "/var/folders/xy/yfm2dhtj3jvfy85hqy16wmk00000gn/T/ipykernel_19030/393194382.py:23: RuntimeWarning: Mean of empty slice\n",
      "  sentence_score=np.nanmean(sentence_sum)\n"
     ]
    },
    {
     "data": {
      "application/vnd.jupyter.widget-view+json": {
       "model_id": "8c8f368069ee4f43863caa239ef9b29c",
       "version_major": 2,
       "version_minor": 0
      },
      "text/plain": [
       "0it [00:00, ?it/s]"
      ]
     },
     "metadata": {},
     "output_type": "display_data"
    },
    {
     "name": "stderr",
     "output_type": "stream",
     "text": [
      "/var/folders/xy/yfm2dhtj3jvfy85hqy16wmk00000gn/T/ipykernel_19030/393194382.py:25: RuntimeWarning: Mean of empty slice\n",
      "  politician_score=np.nanmean(politician_sum)\n"
     ]
    },
    {
     "data": {
      "application/vnd.jupyter.widget-view+json": {
       "model_id": "dd00eed67fab45cb840f41765c443206",
       "version_major": 2,
       "version_minor": 0
      },
      "text/plain": [
       "0it [00:00, ?it/s]"
      ]
     },
     "metadata": {},
     "output_type": "display_data"
    },
    {
     "data": {
      "application/vnd.jupyter.widget-view+json": {
       "model_id": "4fe136850c924b8080ab35b2cd8b4ca7",
       "version_major": 2,
       "version_minor": 0
      },
      "text/plain": [
       "0it [00:00, ?it/s]"
      ]
     },
     "metadata": {},
     "output_type": "display_data"
    },
    {
     "data": {
      "application/vnd.jupyter.widget-view+json": {
       "model_id": "2394b50000184bd5a5ee93ee9296effa",
       "version_major": 2,
       "version_minor": 0
      },
      "text/plain": [
       "0it [00:00, ?it/s]"
      ]
     },
     "metadata": {},
     "output_type": "display_data"
    },
    {
     "data": {
      "application/vnd.jupyter.widget-view+json": {
       "model_id": "55afeaaa1a824245ac2a2f18e2be4883",
       "version_major": 2,
       "version_minor": 0
      },
      "text/plain": [
       "0it [00:00, ?it/s]"
      ]
     },
     "metadata": {},
     "output_type": "display_data"
    },
    {
     "data": {
      "application/vnd.jupyter.widget-view+json": {
       "model_id": "45f5a83b037948ba85ed7078a0632f22",
       "version_major": 2,
       "version_minor": 0
      },
      "text/plain": [
       "0it [00:00, ?it/s]"
      ]
     },
     "metadata": {},
     "output_type": "display_data"
    },
    {
     "data": {
      "application/vnd.jupyter.widget-view+json": {
       "model_id": "3581b9c1d1c641c381463db0f33a45a5",
       "version_major": 2,
       "version_minor": 0
      },
      "text/plain": [
       "0it [00:00, ?it/s]"
      ]
     },
     "metadata": {},
     "output_type": "display_data"
    },
    {
     "data": {
      "application/vnd.jupyter.widget-view+json": {
       "model_id": "05f4769800ec4e77947d2decd08c2b51",
       "version_major": 2,
       "version_minor": 0
      },
      "text/plain": [
       "0it [00:00, ?it/s]"
      ]
     },
     "metadata": {},
     "output_type": "display_data"
    },
    {
     "data": {
      "application/vnd.jupyter.widget-view+json": {
       "model_id": "f538b98c886c47cbb2a6080f25a53404",
       "version_major": 2,
       "version_minor": 0
      },
      "text/plain": [
       "0it [00:00, ?it/s]"
      ]
     },
     "metadata": {},
     "output_type": "display_data"
    },
    {
     "data": {
      "application/vnd.jupyter.widget-view+json": {
       "model_id": "c79fbcb90db543a7ae9fb7e3160c8297",
       "version_major": 2,
       "version_minor": 0
      },
      "text/plain": [
       "0it [00:00, ?it/s]"
      ]
     },
     "metadata": {},
     "output_type": "display_data"
    },
    {
     "data": {
      "application/vnd.jupyter.widget-view+json": {
       "model_id": "051d633172ef460e9ebe00e703f2e6b5",
       "version_major": 2,
       "version_minor": 0
      },
      "text/plain": [
       "0it [00:00, ?it/s]"
      ]
     },
     "metadata": {},
     "output_type": "display_data"
    },
    {
     "data": {
      "application/vnd.jupyter.widget-view+json": {
       "model_id": "6decacfb4f1c404a9dc3e12eb9f4b8a6",
       "version_major": 2,
       "version_minor": 0
      },
      "text/plain": [
       "0it [00:00, ?it/s]"
      ]
     },
     "metadata": {},
     "output_type": "display_data"
    },
    {
     "data": {
      "application/vnd.jupyter.widget-view+json": {
       "model_id": "c7fde756502d4060b674b5feb8e28eb8",
       "version_major": 2,
       "version_minor": 0
      },
      "text/plain": [
       "0it [00:00, ?it/s]"
      ]
     },
     "metadata": {},
     "output_type": "display_data"
    },
    {
     "data": {
      "application/vnd.jupyter.widget-view+json": {
       "model_id": "12e08a2e6786487a9663b182f105dd26",
       "version_major": 2,
       "version_minor": 0
      },
      "text/plain": [
       "0it [00:00, ?it/s]"
      ]
     },
     "metadata": {},
     "output_type": "display_data"
    },
    {
     "data": {
      "application/vnd.jupyter.widget-view+json": {
       "model_id": "2841aaebe67f42b1a88d0923b2203117",
       "version_major": 2,
       "version_minor": 0
      },
      "text/plain": [
       "0it [00:00, ?it/s]"
      ]
     },
     "metadata": {},
     "output_type": "display_data"
    },
    {
     "data": {
      "application/vnd.jupyter.widget-view+json": {
       "model_id": "f6e0be8974a4452fb5949c559faa4ac8",
       "version_major": 2,
       "version_minor": 0
      },
      "text/plain": [
       "0it [00:00, ?it/s]"
      ]
     },
     "metadata": {},
     "output_type": "display_data"
    },
    {
     "data": {
      "application/vnd.jupyter.widget-view+json": {
       "model_id": "2191490d2fa94dfea8f18f38458dcf75",
       "version_major": 2,
       "version_minor": 0
      },
      "text/plain": [
       "0it [00:00, ?it/s]"
      ]
     },
     "metadata": {},
     "output_type": "display_data"
    },
    {
     "data": {
      "application/vnd.jupyter.widget-view+json": {
       "model_id": "a4048f04590e499e9117a181fb44f65d",
       "version_major": 2,
       "version_minor": 0
      },
      "text/plain": [
       "0it [00:00, ?it/s]"
      ]
     },
     "metadata": {},
     "output_type": "display_data"
    },
    {
     "data": {
      "application/vnd.jupyter.widget-view+json": {
       "model_id": "3993f35bc2784eefa9e36dce3c195984",
       "version_major": 2,
       "version_minor": 0
      },
      "text/plain": [
       "0it [00:00, ?it/s]"
      ]
     },
     "metadata": {},
     "output_type": "display_data"
    },
    {
     "data": {
      "application/vnd.jupyter.widget-view+json": {
       "model_id": "fb372e11ba0d4a4fa08c0393ab973ba1",
       "version_major": 2,
       "version_minor": 0
      },
      "text/plain": [
       "0it [00:00, ?it/s]"
      ]
     },
     "metadata": {},
     "output_type": "display_data"
    },
    {
     "data": {
      "application/vnd.jupyter.widget-view+json": {
       "model_id": "b4f08879bea041b99840f9461cf4af4b",
       "version_major": 2,
       "version_minor": 0
      },
      "text/plain": [
       "0it [00:00, ?it/s]"
      ]
     },
     "metadata": {},
     "output_type": "display_data"
    },
    {
     "data": {
      "application/vnd.jupyter.widget-view+json": {
       "model_id": "f6a435b60c3a4fdb93fdd12ba04813c9",
       "version_major": 2,
       "version_minor": 0
      },
      "text/plain": [
       "0it [00:00, ?it/s]"
      ]
     },
     "metadata": {},
     "output_type": "display_data"
    },
    {
     "data": {
      "application/vnd.jupyter.widget-view+json": {
       "model_id": "dec12646ef8b4d19b55570a121432233",
       "version_major": 2,
       "version_minor": 0
      },
      "text/plain": [
       "0it [00:00, ?it/s]"
      ]
     },
     "metadata": {},
     "output_type": "display_data"
    },
    {
     "data": {
      "application/vnd.jupyter.widget-view+json": {
       "model_id": "5c3a10d63d4d49a28250c59cf53f8956",
       "version_major": 2,
       "version_minor": 0
      },
      "text/plain": [
       "0it [00:00, ?it/s]"
      ]
     },
     "metadata": {},
     "output_type": "display_data"
    },
    {
     "data": {
      "application/vnd.jupyter.widget-view+json": {
       "model_id": "886f837a84f0432dad8fe78bca538149",
       "version_major": 2,
       "version_minor": 0
      },
      "text/plain": [
       "0it [00:00, ?it/s]"
      ]
     },
     "metadata": {},
     "output_type": "display_data"
    },
    {
     "data": {
      "application/vnd.jupyter.widget-view+json": {
       "model_id": "bf9f0d80500d4cb58bb417764990bd81",
       "version_major": 2,
       "version_minor": 0
      },
      "text/plain": [
       "0it [00:00, ?it/s]"
      ]
     },
     "metadata": {},
     "output_type": "display_data"
    },
    {
     "data": {
      "application/vnd.jupyter.widget-view+json": {
       "model_id": "1f5e56f27f8e4ba6ae8c5eeb2e4da6f3",
       "version_major": 2,
       "version_minor": 0
      },
      "text/plain": [
       "0it [00:00, ?it/s]"
      ]
     },
     "metadata": {},
     "output_type": "display_data"
    },
    {
     "data": {
      "application/vnd.jupyter.widget-view+json": {
       "model_id": "c100cabd71c74bba9cc734659680b8ab",
       "version_major": 2,
       "version_minor": 0
      },
      "text/plain": [
       "0it [00:00, ?it/s]"
      ]
     },
     "metadata": {},
     "output_type": "display_data"
    },
    {
     "data": {
      "application/vnd.jupyter.widget-view+json": {
       "model_id": "5fcd06d18e2c4c65a99cf7a084bd1bcb",
       "version_major": 2,
       "version_minor": 0
      },
      "text/plain": [
       "0it [00:00, ?it/s]"
      ]
     },
     "metadata": {},
     "output_type": "display_data"
    },
    {
     "data": {
      "application/vnd.jupyter.widget-view+json": {
       "model_id": "60a92eaf7fc74c07a89251c1351b87f6",
       "version_major": 2,
       "version_minor": 0
      },
      "text/plain": [
       "0it [00:00, ?it/s]"
      ]
     },
     "metadata": {},
     "output_type": "display_data"
    },
    {
     "data": {
      "application/vnd.jupyter.widget-view+json": {
       "model_id": "276ea1a358c24fa4a4e8b88252632c71",
       "version_major": 2,
       "version_minor": 0
      },
      "text/plain": [
       "0it [00:00, ?it/s]"
      ]
     },
     "metadata": {},
     "output_type": "display_data"
    },
    {
     "data": {
      "application/vnd.jupyter.widget-view+json": {
       "model_id": "795c34b78c2d42cda7d87a77bc367df1",
       "version_major": 2,
       "version_minor": 0
      },
      "text/plain": [
       "0it [00:00, ?it/s]"
      ]
     },
     "metadata": {},
     "output_type": "display_data"
    },
    {
     "data": {
      "application/vnd.jupyter.widget-view+json": {
       "model_id": "c7eae872a314484e8b509ae9e1e00053",
       "version_major": 2,
       "version_minor": 0
      },
      "text/plain": [
       "0it [00:00, ?it/s]"
      ]
     },
     "metadata": {},
     "output_type": "display_data"
    },
    {
     "data": {
      "application/vnd.jupyter.widget-view+json": {
       "model_id": "24cea320eaf6477aa16e835223e8cb7b",
       "version_major": 2,
       "version_minor": 0
      },
      "text/plain": [
       "0it [00:00, ?it/s]"
      ]
     },
     "metadata": {},
     "output_type": "display_data"
    },
    {
     "data": {
      "application/vnd.jupyter.widget-view+json": {
       "model_id": "767d6856854d4fd697395d11c499ae9e",
       "version_major": 2,
       "version_minor": 0
      },
      "text/plain": [
       "0it [00:00, ?it/s]"
      ]
     },
     "metadata": {},
     "output_type": "display_data"
    },
    {
     "data": {
      "application/vnd.jupyter.widget-view+json": {
       "model_id": "466a3369af3942d7b0dcee9b7873c137",
       "version_major": 2,
       "version_minor": 0
      },
      "text/plain": [
       "0it [00:00, ?it/s]"
      ]
     },
     "metadata": {},
     "output_type": "display_data"
    },
    {
     "data": {
      "application/vnd.jupyter.widget-view+json": {
       "model_id": "33d237e2c85c4ab9989508eae339a412",
       "version_major": 2,
       "version_minor": 0
      },
      "text/plain": [
       "0it [00:00, ?it/s]"
      ]
     },
     "metadata": {},
     "output_type": "display_data"
    },
    {
     "data": {
      "application/vnd.jupyter.widget-view+json": {
       "model_id": "3c2e7bda580f4b01b88a59ad0331021e",
       "version_major": 2,
       "version_minor": 0
      },
      "text/plain": [
       "0it [00:00, ?it/s]"
      ]
     },
     "metadata": {},
     "output_type": "display_data"
    },
    {
     "data": {
      "application/vnd.jupyter.widget-view+json": {
       "model_id": "656b5f99882b41da93fc4ebf11c0037e",
       "version_major": 2,
       "version_minor": 0
      },
      "text/plain": [
       "0it [00:00, ?it/s]"
      ]
     },
     "metadata": {},
     "output_type": "display_data"
    },
    {
     "data": {
      "application/vnd.jupyter.widget-view+json": {
       "model_id": "5fb373d643ef49368170c1d803f560c1",
       "version_major": 2,
       "version_minor": 0
      },
      "text/plain": [
       "0it [00:00, ?it/s]"
      ]
     },
     "metadata": {},
     "output_type": "display_data"
    },
    {
     "data": {
      "application/vnd.jupyter.widget-view+json": {
       "model_id": "318ce0a7192c442ba995e61abe4d63b0",
       "version_major": 2,
       "version_minor": 0
      },
      "text/plain": [
       "0it [00:00, ?it/s]"
      ]
     },
     "metadata": {},
     "output_type": "display_data"
    }
   ],
   "source": [
    "#Apply the sentiment anaylsis to the Twitter accounts of the politicians\n",
    "data=[]\n",
    "for name in tqdm(['Ralph Brinkhaus','Hermann Gröhe', 'Nadine Schön' ,'Norbert Röttgen' , 'Peter Altmaier' , 'Jens Spahn' , 'Matthias Hauer',\n",
    "            'Christian Lindner' , 'Marco Buschmann' , 'Bettina Stark-Watzinger', 'Alexander Graf Lambsdorff' , 'Johannes Vogel' , 'Konstantin Kuhle' , 'Marie-Agnes Strack-Zimmermann',\n",
    "            'Lars Klingbeil' , 'Saskia Esken' , 'Hubertus Heil' , 'Heiko Maas' , 'Martin Schulz' , 'Karamba Diaby' , 'Karl Lauterbach',\n",
    "            'Steffi Lemke' , 'Cem Özdemir' , 'Katrin Göring-Eckardt' , 'Konstantin von Notz' , 'Britta Haßelmann' , 'Sven Lehmann' , 'Annalena Baerbock',\n",
    "            'Sahra Wagenknecht' , 'Bernd Riexinger' , 'Niema Movassat' , 'Jan Korte' , 'Dietmar Bartsch' , 'Gregor Gysi' , 'Sevim Dağdelen',\n",
    "            'Alice Weidel' , 'Beatrix von Storch' , 'Joana Cotar' , 'Stephan Brandner' , 'Tino Chrupalla' , 'Götz Frömming' , 'Leif-Erik Holm']):\n",
    "    #get tweets from the specific politician\n",
    "    tweets_analyzing = pre_data_twitter.loc[pre_data_twitter['full_name']==name]\n",
    "    tweets_analyzing1 = tweets_analyzing.text.progress_apply(nlp_tweets_sentiws)\n",
    "    #get the sentiment of the tweets\n",
    "    politician_sum=[]\n",
    "    for sentence in tweets_analyzing1:\n",
    "        sentence_sum=[]\n",
    "        for token in sentence:\n",
    "            if token._.sentiws == None:\n",
    "                a=0\n",
    "            elif token._.sentiws == 'nan':\n",
    "                a=0\n",
    "            else:\n",
    "                sentence_sum.append(token._.sentiws)\n",
    "        sentence_score=np.nanmean(sentence_sum)\n",
    "        politician_sum.append(sentence_score)\n",
    "    politician_score=np.nanmean(politician_sum)\n",
    "    #get the number of positive, neutral and negative tweets\n",
    "    positive_p=0\n",
    "    neutral_p=0\n",
    "    negative_p=0\n",
    "    for item_p in politician_sum:\n",
    "        if item_p>0:\n",
    "            positive_p += 1\n",
    "        elif item_p<0:\n",
    "            negative_p += 1\n",
    "        elif item_p == 'nan':\n",
    "            neutral_p += 1\n",
    "        else:\n",
    "            neutral_p += 1\n",
    "    #set up list to secure the values generated\n",
    "    data.append([name,politician_score,positive_p,neutral_p,negative_p])"
   ]
  },
  {
   "cell_type": "code",
   "execution_count": 30,
   "metadata": {},
   "outputs": [
    {
     "data": {
      "text/html": [
       "<div>\n",
       "<style scoped>\n",
       "    .dataframe tbody tr th:only-of-type {\n",
       "        vertical-align: middle;\n",
       "    }\n",
       "\n",
       "    .dataframe tbody tr th {\n",
       "        vertical-align: top;\n",
       "    }\n",
       "\n",
       "    .dataframe thead th {\n",
       "        text-align: right;\n",
       "    }\n",
       "</style>\n",
       "<table border=\"1\" class=\"dataframe\">\n",
       "  <thead>\n",
       "    <tr style=\"text-align: right;\">\n",
       "      <th></th>\n",
       "      <th>Name</th>\n",
       "      <th>Polarity_mean</th>\n",
       "      <th>Num_pos_tweets</th>\n",
       "      <th>Num_neutral_tweets</th>\n",
       "      <th>Num_neg_tweets</th>\n",
       "    </tr>\n",
       "  </thead>\n",
       "  <tbody>\n",
       "    <tr>\n",
       "      <th>0</th>\n",
       "      <td>Ralph Brinkhaus</td>\n",
       "      <td>0.02611</td>\n",
       "      <td>48</td>\n",
       "      <td>27</td>\n",
       "      <td>25</td>\n",
       "    </tr>\n",
       "    <tr>\n",
       "      <th>1</th>\n",
       "      <td>Hermann Gröhe</td>\n",
       "      <td>NaN</td>\n",
       "      <td>0</td>\n",
       "      <td>0</td>\n",
       "      <td>0</td>\n",
       "    </tr>\n",
       "    <tr>\n",
       "      <th>2</th>\n",
       "      <td>Nadine Schön</td>\n",
       "      <td>NaN</td>\n",
       "      <td>0</td>\n",
       "      <td>0</td>\n",
       "      <td>0</td>\n",
       "    </tr>\n",
       "    <tr>\n",
       "      <th>3</th>\n",
       "      <td>Norbert Röttgen</td>\n",
       "      <td>NaN</td>\n",
       "      <td>0</td>\n",
       "      <td>0</td>\n",
       "      <td>0</td>\n",
       "    </tr>\n",
       "    <tr>\n",
       "      <th>4</th>\n",
       "      <td>Peter Altmaier</td>\n",
       "      <td>NaN</td>\n",
       "      <td>0</td>\n",
       "      <td>0</td>\n",
       "      <td>0</td>\n",
       "    </tr>\n",
       "  </tbody>\n",
       "</table>\n",
       "</div>"
      ],
      "text/plain": [
       "              Name  Polarity_mean  Num_pos_tweets  Num_neutral_tweets  \\\n",
       "0  Ralph Brinkhaus        0.02611              48                  27   \n",
       "1    Hermann Gröhe            NaN               0                   0   \n",
       "2     Nadine Schön            NaN               0                   0   \n",
       "3  Norbert Röttgen            NaN               0                   0   \n",
       "4   Peter Altmaier            NaN               0                   0   \n",
       "\n",
       "   Num_neg_tweets  \n",
       "0              25  \n",
       "1               0  \n",
       "2               0  \n",
       "3               0  \n",
       "4               0  "
      ]
     },
     "execution_count": 30,
     "metadata": {},
     "output_type": "execute_result"
    }
   ],
   "source": [
    "#set up dataframe with all values\n",
    "dataf = pd.DataFrame(data, columns=['Name','Polarity_mean','Num_pos_tweets','Num_neutral_tweets','Num_neg_tweets'])\n",
    "dataf.to_csv('../data/processed/sentiment_scores_tweets_sentiws_01.csv')\n",
    "dataf.head()"
   ]
  },
  {
   "cell_type": "markdown",
   "metadata": {},
   "source": [
    "### 3.6.2.2 Sentiment Analysis for Bundestag Speeches"
   ]
  },
  {
   "cell_type": "code",
   "execution_count": 31,
   "metadata": {},
   "outputs": [
    {
     "data": {
      "application/vnd.jupyter.widget-view+json": {
       "model_id": "962eaa070a134019bf04014434037c8c",
       "version_major": 2,
       "version_minor": 0
      },
      "text/plain": [
       "  0%|          | 0/42 [00:00<?, ?it/s]"
      ]
     },
     "metadata": {},
     "output_type": "display_data"
    },
    {
     "data": {
      "application/vnd.jupyter.widget-view+json": {
       "model_id": "7b10305e6d79437795322ff5bf6c982e",
       "version_major": 2,
       "version_minor": 0
      },
      "text/plain": [
       "  0%|          | 0/2 [00:00<?, ?it/s]"
      ]
     },
     "metadata": {},
     "output_type": "display_data"
    },
    {
     "data": {
      "application/vnd.jupyter.widget-view+json": {
       "model_id": "3a6c60b5a8124c09a111342d0751ffa5",
       "version_major": 2,
       "version_minor": 0
      },
      "text/plain": [
       "  0%|          | 0/4 [00:00<?, ?it/s]"
      ]
     },
     "metadata": {},
     "output_type": "display_data"
    },
    {
     "data": {
      "application/vnd.jupyter.widget-view+json": {
       "model_id": "a631b0ad7672435e84c45f64386f8d20",
       "version_major": 2,
       "version_minor": 0
      },
      "text/plain": [
       "  0%|          | 0/2 [00:00<?, ?it/s]"
      ]
     },
     "metadata": {},
     "output_type": "display_data"
    },
    {
     "data": {
      "application/vnd.jupyter.widget-view+json": {
       "model_id": "b71e19bf7c13454ba0df1e4ee0fb6421",
       "version_major": 2,
       "version_minor": 0
      },
      "text/plain": [
       "  0%|          | 0/3 [00:00<?, ?it/s]"
      ]
     },
     "metadata": {},
     "output_type": "display_data"
    },
    {
     "name": "stderr",
     "output_type": "stream",
     "text": [
      "/var/folders/xy/yfm2dhtj3jvfy85hqy16wmk00000gn/T/ipykernel_19030/1413779232.py:23: RuntimeWarning: Mean of empty slice\n",
      "  sentence_score=np.nanmean(sentence_sum)\n"
     ]
    },
    {
     "data": {
      "application/vnd.jupyter.widget-view+json": {
       "model_id": "75758952b307438a81d497c03ebb945f",
       "version_major": 2,
       "version_minor": 0
      },
      "text/plain": [
       "  0%|          | 0/5 [00:00<?, ?it/s]"
      ]
     },
     "metadata": {},
     "output_type": "display_data"
    },
    {
     "data": {
      "application/vnd.jupyter.widget-view+json": {
       "model_id": "bbae7f7dd3e54500a7738eeaa8570941",
       "version_major": 2,
       "version_minor": 0
      },
      "text/plain": [
       "  0%|          | 0/6 [00:00<?, ?it/s]"
      ]
     },
     "metadata": {},
     "output_type": "display_data"
    },
    {
     "data": {
      "application/vnd.jupyter.widget-view+json": {
       "model_id": "3bf2825d3edf4abc8655bdd4a9c861a5",
       "version_major": 2,
       "version_minor": 0
      },
      "text/plain": [
       "0it [00:00, ?it/s]"
      ]
     },
     "metadata": {},
     "output_type": "display_data"
    },
    {
     "name": "stderr",
     "output_type": "stream",
     "text": [
      "/var/folders/xy/yfm2dhtj3jvfy85hqy16wmk00000gn/T/ipykernel_19030/1413779232.py:25: RuntimeWarning: Mean of empty slice\n",
      "  politician_score=np.nanmean(politician_sum)\n"
     ]
    },
    {
     "data": {
      "application/vnd.jupyter.widget-view+json": {
       "model_id": "f922625a43a347409fbe507c10210c2a",
       "version_major": 2,
       "version_minor": 0
      },
      "text/plain": [
       "0it [00:00, ?it/s]"
      ]
     },
     "metadata": {},
     "output_type": "display_data"
    },
    {
     "data": {
      "application/vnd.jupyter.widget-view+json": {
       "model_id": "a39240e88a0f47aa97b233a5a522cb9c",
       "version_major": 2,
       "version_minor": 0
      },
      "text/plain": [
       "0it [00:00, ?it/s]"
      ]
     },
     "metadata": {},
     "output_type": "display_data"
    },
    {
     "data": {
      "application/vnd.jupyter.widget-view+json": {
       "model_id": "c6a80dbc7ab543f2b20646a2d6e50ea5",
       "version_major": 2,
       "version_minor": 0
      },
      "text/plain": [
       "0it [00:00, ?it/s]"
      ]
     },
     "metadata": {},
     "output_type": "display_data"
    },
    {
     "data": {
      "application/vnd.jupyter.widget-view+json": {
       "model_id": "bb592ad43d5d4e23a4bd5a4ae3c07531",
       "version_major": 2,
       "version_minor": 0
      },
      "text/plain": [
       "0it [00:00, ?it/s]"
      ]
     },
     "metadata": {},
     "output_type": "display_data"
    },
    {
     "data": {
      "application/vnd.jupyter.widget-view+json": {
       "model_id": "c174754c1a6546adb9538ecb5b32d343",
       "version_major": 2,
       "version_minor": 0
      },
      "text/plain": [
       "0it [00:00, ?it/s]"
      ]
     },
     "metadata": {},
     "output_type": "display_data"
    },
    {
     "data": {
      "application/vnd.jupyter.widget-view+json": {
       "model_id": "16eb9ef0cb55497ca4eb6169124018b0",
       "version_major": 2,
       "version_minor": 0
      },
      "text/plain": [
       "0it [00:00, ?it/s]"
      ]
     },
     "metadata": {},
     "output_type": "display_data"
    },
    {
     "data": {
      "application/vnd.jupyter.widget-view+json": {
       "model_id": "1461df69c1e74c28aeb7fa0fb205c633",
       "version_major": 2,
       "version_minor": 0
      },
      "text/plain": [
       "0it [00:00, ?it/s]"
      ]
     },
     "metadata": {},
     "output_type": "display_data"
    },
    {
     "data": {
      "application/vnd.jupyter.widget-view+json": {
       "model_id": "4a5be56aa16c499daad3401bedeaf9d5",
       "version_major": 2,
       "version_minor": 0
      },
      "text/plain": [
       "  0%|          | 0/3 [00:00<?, ?it/s]"
      ]
     },
     "metadata": {},
     "output_type": "display_data"
    },
    {
     "data": {
      "application/vnd.jupyter.widget-view+json": {
       "model_id": "7b7552c0f060487b826a824618a2a2aa",
       "version_major": 2,
       "version_minor": 0
      },
      "text/plain": [
       "0it [00:00, ?it/s]"
      ]
     },
     "metadata": {},
     "output_type": "display_data"
    },
    {
     "data": {
      "application/vnd.jupyter.widget-view+json": {
       "model_id": "05f9877c4781453bb33b8ce40a6478c1",
       "version_major": 2,
       "version_minor": 0
      },
      "text/plain": [
       "  0%|          | 0/8 [00:00<?, ?it/s]"
      ]
     },
     "metadata": {},
     "output_type": "display_data"
    },
    {
     "data": {
      "application/vnd.jupyter.widget-view+json": {
       "model_id": "170819808a4047d08e16784c03d79cbf",
       "version_major": 2,
       "version_minor": 0
      },
      "text/plain": [
       "  0%|          | 0/4 [00:00<?, ?it/s]"
      ]
     },
     "metadata": {},
     "output_type": "display_data"
    },
    {
     "data": {
      "application/vnd.jupyter.widget-view+json": {
       "model_id": "0950be3628bc4a6fb6710a6ea5c3adce",
       "version_major": 2,
       "version_minor": 0
      },
      "text/plain": [
       "0it [00:00, ?it/s]"
      ]
     },
     "metadata": {},
     "output_type": "display_data"
    },
    {
     "data": {
      "application/vnd.jupyter.widget-view+json": {
       "model_id": "e40beeb6f17646d5bd6a750e9f6ce562",
       "version_major": 2,
       "version_minor": 0
      },
      "text/plain": [
       "  0%|          | 0/4 [00:00<?, ?it/s]"
      ]
     },
     "metadata": {},
     "output_type": "display_data"
    },
    {
     "data": {
      "application/vnd.jupyter.widget-view+json": {
       "model_id": "4381fe797ebd4dcb85f65f0a5bf76b50",
       "version_major": 2,
       "version_minor": 0
      },
      "text/plain": [
       "  0%|          | 0/3 [00:00<?, ?it/s]"
      ]
     },
     "metadata": {},
     "output_type": "display_data"
    },
    {
     "data": {
      "application/vnd.jupyter.widget-view+json": {
       "model_id": "1146385df28d439d810614eafdea57d7",
       "version_major": 2,
       "version_minor": 0
      },
      "text/plain": [
       "0it [00:00, ?it/s]"
      ]
     },
     "metadata": {},
     "output_type": "display_data"
    },
    {
     "data": {
      "application/vnd.jupyter.widget-view+json": {
       "model_id": "f205450eaa55494baa3bec9ea12df7e1",
       "version_major": 2,
       "version_minor": 0
      },
      "text/plain": [
       "  0%|          | 0/1 [00:00<?, ?it/s]"
      ]
     },
     "metadata": {},
     "output_type": "display_data"
    },
    {
     "data": {
      "application/vnd.jupyter.widget-view+json": {
       "model_id": "6ae11e3b40024c6ebd46af22866f5163",
       "version_major": 2,
       "version_minor": 0
      },
      "text/plain": [
       "  0%|          | 0/5 [00:00<?, ?it/s]"
      ]
     },
     "metadata": {},
     "output_type": "display_data"
    },
    {
     "data": {
      "application/vnd.jupyter.widget-view+json": {
       "model_id": "560fa03732514a27b7b3727ad92dcaa1",
       "version_major": 2,
       "version_minor": 0
      },
      "text/plain": [
       "0it [00:00, ?it/s]"
      ]
     },
     "metadata": {},
     "output_type": "display_data"
    },
    {
     "data": {
      "application/vnd.jupyter.widget-view+json": {
       "model_id": "f1cc4ea81f7040fb99c035d6069fc24b",
       "version_major": 2,
       "version_minor": 0
      },
      "text/plain": [
       "  0%|          | 0/13 [00:00<?, ?it/s]"
      ]
     },
     "metadata": {},
     "output_type": "display_data"
    },
    {
     "data": {
      "application/vnd.jupyter.widget-view+json": {
       "model_id": "f443c0f9a9b047b8ad4e5e79c8c779e2",
       "version_major": 2,
       "version_minor": 0
      },
      "text/plain": [
       "0it [00:00, ?it/s]"
      ]
     },
     "metadata": {},
     "output_type": "display_data"
    },
    {
     "data": {
      "application/vnd.jupyter.widget-view+json": {
       "model_id": "45eb40d58f3d48a0beb913e01805ff83",
       "version_major": 2,
       "version_minor": 0
      },
      "text/plain": [
       "  0%|          | 0/20 [00:00<?, ?it/s]"
      ]
     },
     "metadata": {},
     "output_type": "display_data"
    },
    {
     "data": {
      "application/vnd.jupyter.widget-view+json": {
       "model_id": "c0da8dc49eb940b18c24c51683087c93",
       "version_major": 2,
       "version_minor": 0
      },
      "text/plain": [
       "0it [00:00, ?it/s]"
      ]
     },
     "metadata": {},
     "output_type": "display_data"
    },
    {
     "data": {
      "application/vnd.jupyter.widget-view+json": {
       "model_id": "c385300edd604126ba59b1352d8dd90d",
       "version_major": 2,
       "version_minor": 0
      },
      "text/plain": [
       "0it [00:00, ?it/s]"
      ]
     },
     "metadata": {},
     "output_type": "display_data"
    },
    {
     "data": {
      "application/vnd.jupyter.widget-view+json": {
       "model_id": "fd724c932e0145ecb3447df6dc9b7e21",
       "version_major": 2,
       "version_minor": 0
      },
      "text/plain": [
       "  0%|          | 0/3 [00:00<?, ?it/s]"
      ]
     },
     "metadata": {},
     "output_type": "display_data"
    },
    {
     "data": {
      "application/vnd.jupyter.widget-view+json": {
       "model_id": "ed44a716900041da9fd121e163eee7f1",
       "version_major": 2,
       "version_minor": 0
      },
      "text/plain": [
       "  0%|          | 0/4 [00:00<?, ?it/s]"
      ]
     },
     "metadata": {},
     "output_type": "display_data"
    },
    {
     "data": {
      "application/vnd.jupyter.widget-view+json": {
       "model_id": "e7170a37477a472282411b54d7352110",
       "version_major": 2,
       "version_minor": 0
      },
      "text/plain": [
       "  0%|          | 0/4 [00:00<?, ?it/s]"
      ]
     },
     "metadata": {},
     "output_type": "display_data"
    },
    {
     "data": {
      "application/vnd.jupyter.widget-view+json": {
       "model_id": "40d12f7f430042e39de5b3037241fd53",
       "version_major": 2,
       "version_minor": 0
      },
      "text/plain": [
       "  0%|          | 0/6 [00:00<?, ?it/s]"
      ]
     },
     "metadata": {},
     "output_type": "display_data"
    },
    {
     "data": {
      "application/vnd.jupyter.widget-view+json": {
       "model_id": "cb90eaf759e542cc972b7b83e07bee26",
       "version_major": 2,
       "version_minor": 0
      },
      "text/plain": [
       "0it [00:00, ?it/s]"
      ]
     },
     "metadata": {},
     "output_type": "display_data"
    },
    {
     "data": {
      "application/vnd.jupyter.widget-view+json": {
       "model_id": "3e368495fdb4442dbc740836159231bd",
       "version_major": 2,
       "version_minor": 0
      },
      "text/plain": [
       "0it [00:00, ?it/s]"
      ]
     },
     "metadata": {},
     "output_type": "display_data"
    },
    {
     "data": {
      "application/vnd.jupyter.widget-view+json": {
       "model_id": "d19d5663e569475e93e41a0e10dcd900",
       "version_major": 2,
       "version_minor": 0
      },
      "text/plain": [
       "0it [00:00, ?it/s]"
      ]
     },
     "metadata": {},
     "output_type": "display_data"
    },
    {
     "data": {
      "application/vnd.jupyter.widget-view+json": {
       "model_id": "f1e9417819944e4bb47d977050a8b147",
       "version_major": 2,
       "version_minor": 0
      },
      "text/plain": [
       "0it [00:00, ?it/s]"
      ]
     },
     "metadata": {},
     "output_type": "display_data"
    },
    {
     "data": {
      "application/vnd.jupyter.widget-view+json": {
       "model_id": "15f5ddc9a38442d4910e47eefaba6692",
       "version_major": 2,
       "version_minor": 0
      },
      "text/plain": [
       "0it [00:00, ?it/s]"
      ]
     },
     "metadata": {},
     "output_type": "display_data"
    },
    {
     "data": {
      "application/vnd.jupyter.widget-view+json": {
       "model_id": "c0ecedb051904caa89f574a0437dccc0",
       "version_major": 2,
       "version_minor": 0
      },
      "text/plain": [
       "0it [00:00, ?it/s]"
      ]
     },
     "metadata": {},
     "output_type": "display_data"
    },
    {
     "data": {
      "application/vnd.jupyter.widget-view+json": {
       "model_id": "e1f6b6e2416f4dcbb75adccb1ca7d6cc",
       "version_major": 2,
       "version_minor": 0
      },
      "text/plain": [
       "0it [00:00, ?it/s]"
      ]
     },
     "metadata": {},
     "output_type": "display_data"
    },
    {
     "data": {
      "application/vnd.jupyter.widget-view+json": {
       "model_id": "43b2a0f275e14a9284a5310a04eb2908",
       "version_major": 2,
       "version_minor": 0
      },
      "text/plain": [
       "0it [00:00, ?it/s]"
      ]
     },
     "metadata": {},
     "output_type": "display_data"
    }
   ],
   "source": [
    "#Apply the sentiment analysis to the speeches accounts of the politicians\n",
    "data=[]\n",
    "for name in tqdm(['Ralph Brinkhaus','Hermann Gröhe', 'Nadine Schön' ,'Norbert Röttgen' , 'Peter Altmaier' , 'Jens Spahn' , 'Matthias Hauer',\n",
    "            'Christian Lindner' , 'Marco Buschmann' , 'Bettina Stark-Watzinger', 'Alexander Graf Lambsdorff' , 'Johannes Vogel' , 'Konstantin Kuhle' , 'Marie-Agnes Strack-Zimmermann',\n",
    "            'Lars Klingbeil' , 'Saskia Esken' , 'Hubertus Heil' , 'Heiko Maas' , 'Martin Schulz' , 'Karamba Diaby' , 'Karl Lauterbach',\n",
    "            'Steffi Lemke' , 'Cem Özdemir' , 'Katrin Göring-Eckardt' , 'Konstantin von Notz' , 'Britta Haßelmann' , 'Sven Lehmann' , 'Annalena Baerbock',\n",
    "            'Sahra Wagenknecht' , 'Bernd Riexinger' , 'Niema Movassat' , 'Jan Korte' , 'Dietmar Bartsch' , 'Gregor Gysi' , 'Sevim Dağdelen',\n",
    "            'Alice Weidel' , 'Beatrix von Storch' , 'Joana Cotar' , 'Stephan Brandner' , 'Tino Chrupalla' , 'Götz Frömming' , 'Leif-Erik Holm']):\n",
    "    #get speeches from the specific politician\n",
    "    speeches_analyzing = pre_data_speeches.loc[pre_data_speeches['full_name']==name]\n",
    "    speeches_analyzing1 = speeches_analyzing.text.progress_apply(nlp_tweets_sentiws)\n",
    "    #get the sentiment of the tweets\n",
    "    politician_sum=[]\n",
    "    for sentence in speeches_analyzing1:\n",
    "        sentence_sum=[]\n",
    "        for token in sentence:\n",
    "            if token._.sentiws == None:\n",
    "                a=0\n",
    "            elif token._.sentiws == 'nan':\n",
    "                a=0\n",
    "            else:\n",
    "                sentence_sum.append(token._.sentiws)\n",
    "        sentence_score=np.nanmean(sentence_sum)\n",
    "        politician_sum.append(sentence_score)\n",
    "    politician_score=np.nanmean(politician_sum)\n",
    "    #get the number of positive, neutral and negative tweets\n",
    "    positive_p=0\n",
    "    neutral_p=0\n",
    "    negative_p=0\n",
    "    for item_p in politician_sum:\n",
    "        if item_p>0:\n",
    "            positive_p += 1\n",
    "        elif item_p<0:\n",
    "            negative_p += 1\n",
    "        elif item_p == 'nan':\n",
    "            neutral_p += 1\n",
    "        else:\n",
    "            neutral_p += 1\n",
    "    #set up list to secure the values generated\n",
    "    data.append([name,politician_score,positive_p,neutral_p,negative_p])"
   ]
  },
  {
   "cell_type": "code",
   "execution_count": 32,
   "metadata": {},
   "outputs": [
    {
     "data": {
      "text/html": [
       "<div>\n",
       "<style scoped>\n",
       "    .dataframe tbody tr th:only-of-type {\n",
       "        vertical-align: middle;\n",
       "    }\n",
       "\n",
       "    .dataframe tbody tr th {\n",
       "        vertical-align: top;\n",
       "    }\n",
       "\n",
       "    .dataframe thead th {\n",
       "        text-align: right;\n",
       "    }\n",
       "</style>\n",
       "<table border=\"1\" class=\"dataframe\">\n",
       "  <thead>\n",
       "    <tr style=\"text-align: right;\">\n",
       "      <th></th>\n",
       "      <th>Name</th>\n",
       "      <th>Polarity_mean</th>\n",
       "      <th>Num_pos_speeches</th>\n",
       "      <th>Num_neutral_speeches</th>\n",
       "      <th>Num_neg_speeches</th>\n",
       "    </tr>\n",
       "  </thead>\n",
       "  <tbody>\n",
       "    <tr>\n",
       "      <th>0</th>\n",
       "      <td>Ralph Brinkhaus</td>\n",
       "      <td>-0.024537</td>\n",
       "      <td>0</td>\n",
       "      <td>0</td>\n",
       "      <td>2</td>\n",
       "    </tr>\n",
       "    <tr>\n",
       "      <th>1</th>\n",
       "      <td>Hermann Gröhe</td>\n",
       "      <td>0.082749</td>\n",
       "      <td>3</td>\n",
       "      <td>0</td>\n",
       "      <td>1</td>\n",
       "    </tr>\n",
       "    <tr>\n",
       "      <th>2</th>\n",
       "      <td>Nadine Schön</td>\n",
       "      <td>-0.042718</td>\n",
       "      <td>1</td>\n",
       "      <td>0</td>\n",
       "      <td>1</td>\n",
       "    </tr>\n",
       "    <tr>\n",
       "      <th>3</th>\n",
       "      <td>Norbert Röttgen</td>\n",
       "      <td>-0.099983</td>\n",
       "      <td>0</td>\n",
       "      <td>1</td>\n",
       "      <td>2</td>\n",
       "    </tr>\n",
       "    <tr>\n",
       "      <th>4</th>\n",
       "      <td>Peter Altmaier</td>\n",
       "      <td>0.140338</td>\n",
       "      <td>3</td>\n",
       "      <td>2</td>\n",
       "      <td>0</td>\n",
       "    </tr>\n",
       "  </tbody>\n",
       "</table>\n",
       "</div>"
      ],
      "text/plain": [
       "              Name  Polarity_mean  Num_pos_speeches  Num_neutral_speeches  \\\n",
       "0  Ralph Brinkhaus      -0.024537                 0                     0   \n",
       "1    Hermann Gröhe       0.082749                 3                     0   \n",
       "2     Nadine Schön      -0.042718                 1                     0   \n",
       "3  Norbert Röttgen      -0.099983                 0                     1   \n",
       "4   Peter Altmaier       0.140338                 3                     2   \n",
       "\n",
       "   Num_neg_speeches  \n",
       "0                 2  \n",
       "1                 1  \n",
       "2                 1  \n",
       "3                 2  \n",
       "4                 0  "
      ]
     },
     "execution_count": 32,
     "metadata": {},
     "output_type": "execute_result"
    }
   ],
   "source": [
    "#set up dataframe with all values\n",
    "dataf = pd.DataFrame(data, columns=['Name','Polarity_mean','Num_pos_speeches','Num_neutral_speeches','Num_neg_speeches'])\n",
    "dataf.to_csv('../data/processed/sentiment_scores_speeches_sentiws_01.csv')\n",
    "dataf.head()"
   ]
  }
 ],
 "metadata": {
  "kernelspec": {
   "display_name": "Python 3 (ipykernel)",
   "language": "python",
   "name": "python3"
  },
  "language_info": {
   "codemirror_mode": {
    "name": "ipython",
    "version": 3
   },
   "file_extension": ".py",
   "mimetype": "text/x-python",
   "name": "python",
   "nbconvert_exporter": "python",
   "pygments_lexer": "ipython3",
   "version": "3.9.7"
  }
 },
 "nbformat": 4,
 "nbformat_minor": 1
}
